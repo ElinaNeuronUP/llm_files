{
 "cells": [
  {
   "cell_type": "code",
   "execution_count": 3,
   "id": "6dd4b16f",
   "metadata": {},
   "outputs": [],
   "source": [
    "import bs4 as bs\n",
    "import urllib.request\n",
    "import re\n",
    "from sklearn.manifold import TSNE\n",
    "import nltk\n",
    "from nltk.corpus import stopwords\n",
    "from gensim.models import Word2Vec\n",
    "import pandas as pd\n",
    "import make_datasets as src\n",
    "from sentence_transformers import SentenceTransformer, util\n",
    "from sklearn.feature_extraction.text import TfidfVectorizer\n",
    "from sklearn.feature_extraction.text import CountVectorizer\n",
    "from sklearn.decomposition import LatentDirichletAllocation\n",
    "from sklearn.decomposition import NMF\n",
    "import matplotlib.pyplot as plt\n",
    "import numpy as np"
   ]
  },
  {
   "cell_type": "code",
   "execution_count": 4,
   "id": "8decd637",
   "metadata": {},
   "outputs": [],
   "source": [
    "def tsne_plot(model, figsize = (16, 16)):\n",
    "    labels = []\n",
    "    tokens = []\n",
    "    \n",
    "    for word in model.wv.index_to_key:\n",
    "        tokens.append(model.wv[word])\n",
    "        labels.append(word)\n",
    "    tokens = np.array(tokens)\n",
    "    print(len(tokens))\n",
    "    \n",
    "    \n",
    "    tsne_model = TSNE(perplexity=9, n_components=2, init='pca', n_iter=2500, random_state=23)\n",
    "    new_values = tsne_model.fit_transform(tokens)\n",
    "    x = []\n",
    "    y = []\n",
    "    \n",
    "    for value in new_values:\n",
    "        x.append(value[0])\n",
    "        y.append(value[1])\n",
    "        \n",
    "    plt.figure(figsize=figsize) \n",
    "    for i in range(len(x)):\n",
    "        plt.scatter(x[i],y[i])\n",
    "        plt.annotate(labels[i],\n",
    "                     xy=(x[i], y[i]),\n",
    "                     xytext=(5, 2),\n",
    "                     textcoords='offset points',\n",
    "                     ha='right',\n",
    "                     va='bottom')\n",
    "        plt.xlabel(\"dimension 1\")\n",
    "        plt.ylabel(\"dimension 2\")\n",
    "    plt.show()"
   ]
  },
  {
   "cell_type": "code",
   "execution_count": null,
   "id": "0a98bbc0",
   "metadata": {},
   "outputs": [],
   "source": [
    "def classify_semantic(activity:str, topic_vectors, model, threshold = 0.4):\n",
    "    act_vec = model.encode(activity)\n",
    "    matched = []\n",
    "    for topic, vec in topic_vectors.items():\n",
    "        sim = util.cos_sim(act_vec, vec).item()\n",
    "        if sim > threshold:\n",
    "            matched.append((topic, round(sim, 2)))\n",
    "    return sorted(matched, key=lambda x: -x[1])\n",
    "\n",
    "def classify_activities_df(df, text_column, topic_vectors,model, threshold=0.4):\n",
    "    results = []\n",
    "    for i, row in df.iterrows():\n",
    "        topics_with_sim = classify_semantic(row[text_column], topic_vectors, model, threshold)\n",
    "        matched_topics = [t[0] for t in topics_with_sim]\n",
    "        sims = [t[1] for t in topics_with_sim]\n",
    "        results.append({\n",
    "            \"activity_id\": row[\"activity_id\"],\n",
    "            \"name\": row[\"name\"],\n",
    "            \"code\": row[\"code\"],\n",
    "            \"text\": row[text_column],\n",
    "            \"temas\": matched_topics if matched_topics else \"not found\",\n",
    "            \"similitud\": sims if sims else 0\n",
    "        })\n",
    "    return pd.DataFrame(results)\n",
    "\n",
    "\n",
    "def explode_topics_df(df_with_topics):\n",
    "    rows = []\n",
    "\n",
    "    for _, row in df_with_topics.iterrows():\n",
    "        temas = row[\"temas\"]\n",
    "        sims = row[\"similitud\"]\n",
    "\n",
    "        if temas == \"not found\":\n",
    "            rows.append({\n",
    "                \"activity_id\": row[\"activity_id\"],\n",
    "                \"name\": row[\"name\"],\n",
    "                \"code\": row[\"code\"],\n",
    "                \"text\": row[\"text\"],\n",
    "                \"tema\": \"not found\",\n",
    "                \"similitud\": 0\n",
    "            })\n",
    "        else:\n",
    "            for tema, sim in zip(temas, sims):\n",
    "                rows.append({\n",
    "                    \"activity_id\": row[\"activity_id\"],\n",
    "                    \"name\": row[\"name\"],\n",
    "                    \"code\": row[\"code\"],\n",
    "                    \"text\": row[\"text\"],\n",
    "                    \"tema\": tema,\n",
    "                    \"similitud\": sim\n",
    "                })\n",
    "\n",
    "    return pd.DataFrame(rows)\n",
    "\n",
    "def classify(x):\n",
    "    themes = [\"money\", \"people\", \"sport\", \"vida diaria\", \"transport\", \"animals\", \"formas\"]\n",
    "    logic = [\"logica\", \"Calculo\", \"Numbers\"]\n",
    "\n",
    "    if x in themes:\n",
    "        return \"themes\"\n",
    "    elif x in logic:\n",
    "        return \"logic\"\n",
    "    else:\n",
    "        return x"
   ]
  },
  {
   "cell_type": "code",
   "execution_count": 24,
   "id": "f2c881d7",
   "metadata": {},
   "outputs": [],
   "source": [
    "topics = {\n",
    "    'transport':  [\n",
    "    \"metro\", \"parada\", \"paradas\", \"estación\", \"tráfico\", \"vuelo\", \"aeropuerto\", \"velocidad\",\n",
    "    \"tren\", \"tranvía\", \"autobús\", \"intercambiador\",\"evitar multa\",\n",
    "    \"carretera\", \"autopista\", \"avenida\", \"conducción\",  \"atasco\",\n",
    "    \"señal de tráfico\", \"vehículo\", \"auto\", \"coche\",\n",
    "    \"avión\", \"piloto\", \"despegue\", \"puerta de embarque\", \"billete de avión\",\n",
    "    \"barco\", \"ferry\", \"puerto\", \"crucero\", \"lancha\", \"navegación\",\n",
    "    \"ruta\", \"trayecto\", \"recorrido\", \"destino\", \"transporte urbano\",\"frecuencia\", \"maletas\", \"estación\", \"vuelo\", \"aeropuerto\"],\n",
    "    \n",
    "    \"people\": [\n",
    "        \"imagen\", \"foto\", \"personas\", \"caras\", \"nombre\",\"vístete (mujer)\",\n",
    "        \"rostro\", \"gente\", \"individuo\", \"figura\", \"silueta\",\n",
    "        \"retrato\", \"selfie\", \"usuario\", \"identidad\", \"modelo\",\n",
    "        \"niño\", \"niña\", \"hombre\", \"mujer\", \"persona\",\n",
    "        \"grupo\", \"multitud\", \"asistencia\", \"presencia\", \"semblante\",\n",
    "        \"expresión\", \"mirada\", \"perfil\", \"nombre completo\", \"apellido\"\n",
    "    ],\n",
    "    \n",
    "        'animals': [\"animales\", \"perro\", \"gatos\", \"bichos\", \"aleteo\", \"mariposa\",\n",
    "        \"mascotas\", \"gatito\", \"perrito\", \"animalito\", \"fauna\",\n",
    "        \"criatura\", \"insecto\", \"pájaro\",\n",
    "        \"pez\", \"caballo\", \"vaca\", \"oveja\", \"cerdo\",\n",
    "        \"conejo\", \"hamster\", \"reptil\", \"anfibio\", \"zoológico\",\"separa los bichos\",\n",
    "    ],\n",
    "    'money': [\n",
    "        \"billetes\", \"monedas\", \"cantidad\", \"dinero\",\n",
    "        \"efectivo\", \"pago\", \"precio\", \"cuenta\", \"tarjeta\",\n",
    "        \"saldo\", \"cobro\", \"gasto\", \"ahorro\", \"ingreso\",\n",
    "        \"transferencia\", \"cheque\", \"banco\", \"cartera\", \"fortuna\",\n",
    "        \"riqueza\", \"valor\", \"presupuesto\", \"divisa\", \"capital\",\n",
    "        \"interés\", \"deuda\", \"crédito\", \"retiro\", \"depósito\"\n",
    "    ],\n",
    "    \n",
    "    \"sport\": [\n",
    "        \"football\", \"balón\", \"pelota\", \"golpe\", \"basketball\",\n",
    "        \"deporte\", \"entrenamiento\", \"partido\", \"jugador\", \"equipo\",\n",
    "        \"gol\", \"pase\", \"tiro\", \"marcador\", \"victoria\",\n",
    "        \"derrota\", \"carrera\", \"salto\", \"natación\", \"ciclismo\",\n",
    "        \"boxeo\", \"tenis\", \"voley\", \"surf\", \"esquí\",\n",
    "        \"pesas\", \"gimnasio\", \"fitness\",  \"fuerza\"\n",
    "    ],\n",
    "    \"sequence\": [\"secuencia\", \"order\", ],\n",
    "    \"formas\": [\"formas\", \"dibujo\", \"figuras\", \"color\"],\n",
    "\n",
    "    \"vida diaria\": [\n",
    "        \"reciclar la basura\", \"hogar\", \"recoger la habitación\", \"ir de compras\", \"vida diaria\", \"conducir\",\n",
    "        \"comida\", \"platos\", \"cocina\", \"agua\", \"vístete (mujer)\", \n",
    "        \"lavar la ropa\", \"hacer la cama\", \"barrer\", \"fregar\", \"poner la mesa\",\n",
    "        \"quitar la mesa\", \"sacar la basura\", \"ducharse\", \"lavarse los dientes\",\n",
    "        \"despertarse\", \"desayunar\", \"almorzar\", \"cenar\", \"ir al trabajo\",\n",
    "        \"hacer la compra\", \"pagar facturas\", \"cuidar a los niños\", \"descansar\", \"organizar\",\n",
    "        \"limpiar\", \"preparar la comida\", \"planchar\", \"tiempo libre\", \"tareas domésticas\"\n",
    "    ],\n",
    "    \n",
    "    \"logica\": [\n",
    "        \"puzzle\", \"rompecabezas\", \"lógica\", \"razonamiento\", \"deducción\", \"laberinto\"\n",
    "        \"estrategia\", \"acertijo\", \"enigma\", \"problema\", \"solución\",\n",
    "        \"patrón\", \"símbolos\", \"reglas\", \"análisis\", \"inferencias\",\n",
    "        \"pensamiento crítico\", \"argumento\", \"conclusión\", \"secuencia lógica\", \"decisión\"\n",
    "    ],\n",
    "\n",
    "    \"Lingüístico\": [ \"lenguaje\", \"palabras\", \"letras\", \"sílabas\", \"phrases\", \"lingüístico\",\n",
    "        \"texto\", \"frases\", \"lectura\", \"escritura\", \"significado\",\n",
    "        \"vocabulario\", \"gramática\", \"comunicación\", \"narración\", \"cuentos\",\n",
    "        \"diálogo\", \"pronunciación\", \"discurso\", \"oración\", \"poesía\",\n",
    "        \"idioma\", \"conjugación\", \"verbo\", \"adjetivo\", \"sustantivo\", \"escrita\", \"preguntas\", \"responder\"\n",
    "    ], \n",
    "    \n",
    "    'Calculo': [ \"calcular\", \"cálculo\", \"sumar\",\"cantidad\", \"matemáticas\",\n",
    "        \"restar\", \"multiplicar\", \"dividir\", \"porcentaje\", \"ecuación\", \"medida\", \"cifra\", \"estimación\", \"valor\",\n",
    "        \"operación\", \"fracción\", \"decimal\", \"estadística\"\n",
    "    ],\n",
    "    'Auditivos': [ \"señal\", \"señales\", \"sonidos\", \"música\", \"audio\",\n",
    "        \"ruido\", \"voz\", \"melodía\", \"ritmo\", \"tono\",\n",
    "        \"volumen\", \"eco\", \"vibración\", \"frecuencia\", \"acústica\",\n",
    "        \"altavoz\", \"auriculares\", \"micrófono\", \"grabación\", \"podcast\",\n",
    "        \"susurro\", \"estruendo\", \"aplausos\", \"canción\", \"banda sonora\",\n",
    "        \"radio\", \"diálogo\", \"armonía\", \"timbre\", \"reverberación\"\n",
    "    ], #\n",
    "       \"Numbers\": [\"números\",],\n",
    "    }\n",
    "\n",
    "model = SentenceTransformer('paraphrase-multilingual-MiniLM-L12-v2')\n",
    "topic_vectors = {topic: model.encode(\" \".join(keywords)) for topic, keywords in topics.items()}"
   ]
  },
  {
   "cell_type": "code",
   "execution_count": 28,
   "id": "624fd1c7",
   "metadata": {},
   "outputs": [
    {
     "data": {
      "text/plain": [
       "array([ 1.35932937e-01, -9.11982581e-02,  1.56577319e-01, -1.14474863e-01,\n",
       "       -6.99657649e-02,  6.00422993e-02,  1.75260827e-01, -1.36514083e-01,\n",
       "        1.71792179e-01,  1.45495385e-01,  8.70819762e-02, -1.85810756e-02,\n",
       "        5.41880950e-02, -2.68794775e-01,  2.04876930e-01,  2.72815466e-01,\n",
       "        3.29247355e-01,  2.66921043e-01, -9.66873839e-02,  3.90763395e-02,\n",
       "        4.68044430e-02,  2.69179523e-01, -1.61309198e-01,  2.15441547e-03,\n",
       "       -3.05105865e-01,  1.39789293e-02, -2.26747945e-01, -2.45203990e-02,\n",
       "        3.82319801e-02,  6.13140762e-02, -7.84768898e-04,  2.04701141e-01,\n",
       "        2.25517273e-01, -1.88070238e-01, -1.75927028e-01,  1.01339817e-01,\n",
       "       -7.22081587e-02, -5.39404601e-02, -5.48745275e-01,  1.96670592e-01,\n",
       "       -3.01548988e-02, -1.52714908e-01, -8.29946920e-02, -3.00134033e-01,\n",
       "       -3.29955608e-01, -3.49934876e-01, -1.35816246e-01, -6.89565018e-02,\n",
       "       -9.50958133e-02,  1.82517394e-02, -1.16844267e-01,  2.55580489e-02,\n",
       "       -3.33298440e-03,  1.33408159e-01, -1.02267958e-01, -2.74994373e-01,\n",
       "        3.27196449e-01,  4.72193003e-01, -2.23051578e-01,  6.13241456e-02,\n",
       "        8.11939090e-02, -2.07897276e-02, -3.95774633e-01, -7.91184139e-03,\n",
       "        3.05835214e-02,  1.29627690e-01,  1.67439714e-01,  3.13427709e-02,\n",
       "        1.37588382e-03, -8.14762432e-03, -6.29081726e-02, -6.96707740e-02,\n",
       "        1.40110806e-01, -2.07877219e-01,  1.70734897e-01,  1.92395881e-01,\n",
       "       -3.17954943e-02, -2.41902545e-01, -7.56290779e-02, -1.92753613e-01,\n",
       "        2.50652116e-02, -3.96801561e-01, -2.76683271e-01, -3.64491105e-01,\n",
       "        5.99753931e-02, -8.47392017e-04, -4.60691229e-02,  9.50862244e-02,\n",
       "       -4.64954935e-02, -2.65987068e-02, -4.41995412e-01, -2.23093502e-06,\n",
       "       -5.87234385e-02,  3.84851582e-02,  1.81442291e-01,  1.31731614e-01,\n",
       "        8.18855986e-02,  8.94067287e-02,  2.79826552e-01,  1.72337562e-01,\n",
       "        1.24136478e-01,  7.23357201e-02, -2.52405345e-01,  1.27079979e-01,\n",
       "       -1.21966228e-02, -2.02441573e-01, -9.47856009e-02, -1.64054800e-02,\n",
       "       -8.61530527e-02, -7.69512681e-03,  5.27024046e-02, -1.87019378e-01,\n",
       "        8.65407139e-02,  9.48362648e-02,  7.03160614e-02, -1.72260758e-02,\n",
       "       -5.25993817e-02,  2.13007748e-01, -3.00386976e-02,  6.71962425e-02,\n",
       "        9.87692922e-02, -2.14983925e-01, -6.57203607e-03, -3.33521701e-02,\n",
       "        1.08567782e-01, -7.48674199e-02, -3.96157429e-02,  5.25273867e-02,\n",
       "        1.64787397e-01, -8.40490218e-03,  1.89944774e-01, -2.64511883e-01,\n",
       "        4.10743088e-01,  9.21416506e-02, -1.62463561e-01, -2.30605546e-02,\n",
       "        3.94970596e-01,  1.77488223e-01,  2.95127332e-01,  2.48030230e-01,\n",
       "        5.39356172e-02, -1.06682315e-01, -2.07119007e-02, -2.32377172e-01,\n",
       "       -2.25396946e-01,  4.71576005e-02, -1.99708343e-01, -3.69069688e-02,\n",
       "       -4.93582152e-02,  2.98561584e-02,  1.00008294e-01, -9.17825103e-02,\n",
       "        3.61693710e-01, -8.62441286e-02,  1.31315559e-01,  2.40848050e-01,\n",
       "        2.12637380e-01,  1.27612844e-01,  1.52458930e-02,  4.73930947e-02,\n",
       "        5.25485724e-02, -1.31745532e-01, -2.22920358e-01,  1.02039345e-01,\n",
       "       -1.53147399e-01,  2.70533949e-01, -3.60047780e-02, -7.39581138e-02,\n",
       "        5.63713256e-03, -1.83672309e-01, -1.84795976e-01, -7.13520125e-02,\n",
       "        1.17961384e-01, -9.10696313e-02, -2.03124504e-03, -1.01763112e-02,\n",
       "        1.16613455e-01,  6.36970252e-02, -3.44654322e-02,  2.00253613e-02,\n",
       "        1.22920118e-01,  1.55128390e-01,  3.09270546e-02, -7.62693435e-02,\n",
       "       -1.92367017e-01,  9.18037146e-02, -1.06872126e-01,  3.99263203e-02,\n",
       "        2.10238080e-02,  2.30149105e-01,  3.98596317e-01, -2.43222237e-01,\n",
       "        1.10661700e-01,  8.99256095e-02, -1.94535226e-01, -3.32612634e-01,\n",
       "        1.68713108e-01, -2.09950596e-01,  9.81169641e-02,  2.88386107e-03,\n",
       "       -1.04716286e-01,  7.63750076e-02, -3.64099964e-02,  2.68473893e-01,\n",
       "       -1.39258906e-01,  5.00569679e-02,  4.15979102e-02,  2.43861333e-01,\n",
       "       -1.00621954e-01,  1.28048301e-01, -1.35891482e-01,  8.26397240e-02,\n",
       "        1.20702669e-01, -1.32989883e-02, -9.80751961e-02, -4.09361660e-01,\n",
       "       -4.04198527e-01, -3.59709784e-02, -2.11208880e-01,  1.88675836e-01,\n",
       "        1.05650231e-01, -2.67200977e-01,  1.88159585e-01, -1.58680394e-01,\n",
       "       -7.62989372e-02,  3.95281255e-01, -2.09347159e-01,  1.52409434e-01,\n",
       "       -2.36031443e-01,  1.90676227e-01,  1.50653869e-01,  3.30297559e-01,\n",
       "       -1.52055413e-01, -2.01403331e-02,  2.72724181e-01, -1.70979291e-01,\n",
       "       -2.69557327e-01,  3.39902878e-01, -1.93730220e-01, -2.04526737e-01,\n",
       "        2.15577856e-01,  2.27393955e-01,  2.76892394e-01,  1.18359186e-01,\n",
       "       -6.48716390e-02, -2.35399619e-01,  9.75480080e-02,  2.69451946e-01,\n",
       "       -3.27833407e-02, -3.27470332e-01,  6.65962771e-02,  7.21747577e-02,\n",
       "        1.46924071e-02,  1.10339597e-01,  2.85266459e-01,  9.43762343e-03,\n",
       "       -7.32748806e-02,  3.54672112e-02,  2.18760327e-01,  2.26308927e-02,\n",
       "        2.40334079e-01, -2.12957859e-02,  6.60443380e-02, -7.43922591e-02,\n",
       "        4.38254774e-02,  7.97709450e-02,  9.43282247e-02, -7.81044215e-02,\n",
       "       -4.92390692e-02, -5.94225654e-04, -2.94169068e-01,  8.71853679e-02,\n",
       "       -4.81113970e-01, -2.61583477e-01,  2.85951316e-01, -2.31918797e-01,\n",
       "        1.67134404e-01, -2.70674020e-01, -1.62974715e-01,  3.06059629e-01,\n",
       "       -1.42425597e-01, -4.72091362e-02,  8.97780508e-02,  2.87192881e-01,\n",
       "        1.85912788e-01,  6.79326952e-02, -1.72678784e-01, -3.61868560e-01,\n",
       "        1.67715669e-01,  2.12081626e-01, -1.16113340e-02,  1.65055022e-02,\n",
       "        1.48097306e-01,  2.24567041e-01,  5.73673397e-02,  8.09333101e-02,\n",
       "        1.89269707e-02,  1.01851121e-01, -9.20494720e-02,  1.56836376e-01,\n",
       "       -2.26365939e-01, -1.75560296e-01, -1.71737507e-01, -2.21916527e-01,\n",
       "       -6.95947036e-02, -2.01821208e-01,  5.61091267e-02, -5.63152656e-02,\n",
       "       -1.26549885e-01, -6.16404191e-02,  4.30826209e-02,  1.79315001e-01,\n",
       "        1.31750494e-01,  2.49568939e-01,  1.68886065e-01,  2.20137820e-01,\n",
       "        5.25703840e-02, -2.79859640e-02,  2.97607481e-01, -8.59855041e-02,\n",
       "       -7.50816464e-02, -1.08421154e-01, -1.33280948e-01, -4.14515734e-01,\n",
       "        2.15173692e-01, -3.06644607e-02,  1.48598388e-01, -5.99605381e-01,\n",
       "       -3.30450833e-01, -3.29946101e-01, -1.49852067e-01, -3.18694413e-02,\n",
       "       -3.95101011e-01,  1.46167561e-01,  3.54143560e-01,  2.51868099e-01,\n",
       "       -2.33114630e-01,  2.36475125e-01, -2.80040741e-01, -2.19955239e-02,\n",
       "        1.54396906e-01,  2.63723079e-02,  7.48245493e-02, -1.65371731e-01,\n",
       "       -1.25316277e-01, -7.12953508e-02,  5.11990003e-02,  1.67241432e-02,\n",
       "       -2.88614184e-01, -4.20482635e-01, -6.96387887e-02,  2.60323048e-01,\n",
       "       -9.89840254e-02, -2.70846277e-01, -1.22146115e-01, -2.75662751e-03,\n",
       "       -1.03268726e-02, -2.26424083e-01, -1.52641892e-01,  3.40623885e-01,\n",
       "        2.69258767e-01,  2.96723098e-02, -4.82361428e-02,  2.02685028e-01,\n",
       "       -9.02746618e-02, -6.64501488e-02,  1.68192208e-01,  5.90444878e-02,\n",
       "       -8.21873918e-02,  2.02668197e-02, -4.16616984e-02, -5.39517812e-02,\n",
       "        6.27431497e-02, -7.40641132e-02,  1.10822767e-01, -4.10979912e-02,\n",
       "        6.72263280e-02,  2.53361315e-01,  1.42286077e-01,  1.11212119e-01,\n",
       "       -1.31051287e-01,  4.93157059e-01,  9.29879546e-02, -2.41760891e-02],\n",
       "      dtype=float32)"
      ]
     },
     "execution_count": 28,
     "metadata": {},
     "output_type": "execute_result"
    }
   ],
   "source": [
    "topic_vectors[\"Auditivos\"]"
   ]
  },
  {
   "cell_type": "code",
   "execution_count": 8,
   "id": "76f37f6c",
   "metadata": {},
   "outputs": [],
   "source": [
    "query = \"\"\"\n",
    "\tselect c.activity_id, a.code, act.name, act.description, coalesce(cg.instructions, cc.instructions, cgen.instructions) as instructions, \n",
    "\tact.keywords\n",
    "\tfrom nup_configuration c\n",
    "\tjoin nup_activity_translation act on c.activity_id = act.translatable_id and c.locale = act.locale\n",
    "\tleft join nup_activity a on a.id = c.activity_id \n",
    "\tleft join nup_configuration_option co on co.id = c.id\n",
    "\tleft join nup_configuration_game cg on cg.configuration_id = c.id\n",
    "\tleft join nup_configuration_card cc on cc.configuration_id = c.id\n",
    "\tleft join nup_configuration_generator cgen on cgen.configuration_id = c.id\n",
    "\tleft join nup_type t on t.id = c.type_id\n",
    "\twhere act.locale = 'es_ES' \n",
    "\tand c.enabled = 1 and c.kind = 1 and (c.format_id = 1 or c.format_id is null) \n",
    "\tand c.activity_id not in (select id from excluded_activities)\n",
    "\tand a.enabled = 1\n",
    "\"\"\"\n",
    "conn = src.connect_maria_db(\"empty_neuronup\")\n",
    "data = pd.read_sql(query, conn).drop_duplicates()\n",
    "data_clf_neuros = pd.read_csv(\"data_clf_neuros.csv\")"
   ]
  },
  {
   "cell_type": "code",
   "execution_count": 10,
   "id": "fe180be3",
   "metadata": {},
   "outputs": [],
   "source": [
    "stop_words = [\n",
    "    'esta', 'actividad', 'consiste', 'en', 'la', 'el', 'los', 'las', 'con', 'sobre',\n",
    "    'de', 'una', 'para', 'que', 'y', 'se', 'un', 'lo', 'al', 'del','hasta', 'dos', 'une', 'elementos', 'cartas',\n",
    "    'más', 'posible', 'manera', 'encontrar', 'su', 'vez', 'cada', 'dónde', 'sonidos', 'están', 'donde', 'estaban', 'ni', 'todos', 'fíjate' \n",
    "]\n",
    "\n",
    "df = data[[\"activity_id\", \"code\", \"name\", \"description\", \"instructions\", \"keywords\"]].drop_duplicates()\n",
    "selected_cols = [\"Código\",  \"Recomendaciones\", \"Contenido\", \"Temáticas\", \"Educativas\"] # \"Adaptabilidad e interacción\",\n",
    "merged_df = df.merge(data_clf_neuros[selected_cols], how = \"left\", left_on = \"code\", right_on = \"Código\").fillna(\"/\")\n",
    "\n",
    "final_cols_to_select =[x for x in [\"name\", \"description\", \"instructions\"] + selected_cols if x != \"Código\"]\n",
    "merged_df[\"text\"] = \"\"\n",
    "for col in final_cols_to_select:\n",
    "    merged_df[\"text\"] += merged_df[col].astype(str) + ' '\n",
    "    \n",
    "merged_df[\"text\"] = merged_df[\"text\"].apply(lambda x:  re.sub(r'[\\s/.,*%]+', ' ', x))\n",
    "merged_df[\"text\"] = merged_df[\"text\"].apply(lambda x: x.lower())"
   ]
  },
  {
   "cell_type": "code",
   "execution_count": 14,
   "id": "72032b9b",
   "metadata": {},
   "outputs": [],
   "source": [
    "result_df = classify_activities_df(merged_df, \"text\", topic_vectors, model, threshold=0.2)\n",
    "clf_df = explode_topics_df(result_df)"
   ]
  },
  {
   "cell_type": "code",
   "execution_count": 33,
   "id": "fc142978",
   "metadata": {},
   "outputs": [
    {
     "data": {
      "text/html": [
       "<div>\n",
       "<style scoped>\n",
       "    .dataframe tbody tr th:only-of-type {\n",
       "        vertical-align: middle;\n",
       "    }\n",
       "\n",
       "    .dataframe tbody tr th {\n",
       "        vertical-align: top;\n",
       "    }\n",
       "\n",
       "    .dataframe thead th {\n",
       "        text-align: right;\n",
       "    }\n",
       "</style>\n",
       "<table border=\"1\" class=\"dataframe\">\n",
       "  <thead>\n",
       "    <tr style=\"text-align: right;\">\n",
       "      <th></th>\n",
       "      <th>activity_id</th>\n",
       "      <th>name</th>\n",
       "      <th>code</th>\n",
       "      <th>text</th>\n",
       "      <th>tema</th>\n",
       "      <th>similitud</th>\n",
       "    </tr>\n",
       "  </thead>\n",
       "  <tbody>\n",
       "    <tr>\n",
       "      <th>0</th>\n",
       "      <td>351</td>\n",
       "      <td>Consecuencias</td>\n",
       "      <td>ER1</td>\n",
       "      <td>consecuencias determinar las consecuencias pos...</td>\n",
       "      <td>Lingüístico</td>\n",
       "      <td>0.44</td>\n",
       "    </tr>\n",
       "    <tr>\n",
       "      <th>1</th>\n",
       "      <td>351</td>\n",
       "      <td>Consecuencias</td>\n",
       "      <td>ER1</td>\n",
       "      <td>consecuencias determinar las consecuencias pos...</td>\n",
       "      <td>logica</td>\n",
       "      <td>0.32</td>\n",
       "    </tr>\n",
       "    <tr>\n",
       "      <th>2</th>\n",
       "      <td>351</td>\n",
       "      <td>Consecuencias</td>\n",
       "      <td>ER1</td>\n",
       "      <td>consecuencias determinar las consecuencias pos...</td>\n",
       "      <td>people</td>\n",
       "      <td>0.26</td>\n",
       "    </tr>\n",
       "    <tr>\n",
       "      <th>3</th>\n",
       "      <td>351</td>\n",
       "      <td>Consecuencias</td>\n",
       "      <td>ER1</td>\n",
       "      <td>consecuencias determinar las consecuencias pos...</td>\n",
       "      <td>Auditivos</td>\n",
       "      <td>0.26</td>\n",
       "    </tr>\n",
       "    <tr>\n",
       "      <th>4</th>\n",
       "      <td>351</td>\n",
       "      <td>Consecuencias</td>\n",
       "      <td>ER1</td>\n",
       "      <td>consecuencias determinar las consecuencias pos...</td>\n",
       "      <td>Calculo</td>\n",
       "      <td>0.21</td>\n",
       "    </tr>\n",
       "    <tr>\n",
       "      <th>...</th>\n",
       "      <td>...</td>\n",
       "      <td>...</td>\n",
       "      <td>...</td>\n",
       "      <td>...</td>\n",
       "      <td>...</td>\n",
       "      <td>...</td>\n",
       "    </tr>\n",
       "    <tr>\n",
       "      <th>1624</th>\n",
       "      <td>1869</td>\n",
       "      <td>Programa el robot</td>\n",
       "      <td>SG-ASU32-K</td>\n",
       "      <td>programa el robot copiar en espejo la posición...</td>\n",
       "      <td>people</td>\n",
       "      <td>0.29</td>\n",
       "    </tr>\n",
       "    <tr>\n",
       "      <th>1625</th>\n",
       "      <td>1872</td>\n",
       "      <td>Ordena la estantería</td>\n",
       "      <td>SG-ASU32-A</td>\n",
       "      <td>ordena la estantería copiar en espejo la posic...</td>\n",
       "      <td>formas</td>\n",
       "      <td>0.45</td>\n",
       "    </tr>\n",
       "    <tr>\n",
       "      <th>1626</th>\n",
       "      <td>1872</td>\n",
       "      <td>Ordena la estantería</td>\n",
       "      <td>SG-ASU32-A</td>\n",
       "      <td>ordena la estantería copiar en espejo la posic...</td>\n",
       "      <td>people</td>\n",
       "      <td>0.32</td>\n",
       "    </tr>\n",
       "    <tr>\n",
       "      <th>1627</th>\n",
       "      <td>1872</td>\n",
       "      <td>Ordena la estantería</td>\n",
       "      <td>SG-ASU32-A</td>\n",
       "      <td>ordena la estantería copiar en espejo la posic...</td>\n",
       "      <td>logica</td>\n",
       "      <td>0.23</td>\n",
       "    </tr>\n",
       "    <tr>\n",
       "      <th>1628</th>\n",
       "      <td>1872</td>\n",
       "      <td>Ordena la estantería</td>\n",
       "      <td>SG-ASU32-A</td>\n",
       "      <td>ordena la estantería copiar en espejo la posic...</td>\n",
       "      <td>vida diaria</td>\n",
       "      <td>0.20</td>\n",
       "    </tr>\n",
       "  </tbody>\n",
       "</table>\n",
       "<p>1629 rows × 6 columns</p>\n",
       "</div>"
      ],
      "text/plain": [
       "      activity_id                  name        code  \\\n",
       "0             351         Consecuencias         ER1   \n",
       "1             351         Consecuencias         ER1   \n",
       "2             351         Consecuencias         ER1   \n",
       "3             351         Consecuencias         ER1   \n",
       "4             351         Consecuencias         ER1   \n",
       "...           ...                   ...         ...   \n",
       "1624         1869     Programa el robot  SG-ASU32-K   \n",
       "1625         1872  Ordena la estantería  SG-ASU32-A   \n",
       "1626         1872  Ordena la estantería  SG-ASU32-A   \n",
       "1627         1872  Ordena la estantería  SG-ASU32-A   \n",
       "1628         1872  Ordena la estantería  SG-ASU32-A   \n",
       "\n",
       "                                                   text         tema  \\\n",
       "0     consecuencias determinar las consecuencias pos...  Lingüístico   \n",
       "1     consecuencias determinar las consecuencias pos...       logica   \n",
       "2     consecuencias determinar las consecuencias pos...       people   \n",
       "3     consecuencias determinar las consecuencias pos...    Auditivos   \n",
       "4     consecuencias determinar las consecuencias pos...      Calculo   \n",
       "...                                                 ...          ...   \n",
       "1624  programa el robot copiar en espejo la posición...       people   \n",
       "1625  ordena la estantería copiar en espejo la posic...       formas   \n",
       "1626  ordena la estantería copiar en espejo la posic...       people   \n",
       "1627  ordena la estantería copiar en espejo la posic...       logica   \n",
       "1628  ordena la estantería copiar en espejo la posic...  vida diaria   \n",
       "\n",
       "      similitud  \n",
       "0          0.44  \n",
       "1          0.32  \n",
       "2          0.26  \n",
       "3          0.26  \n",
       "4          0.21  \n",
       "...         ...  \n",
       "1624       0.29  \n",
       "1625       0.45  \n",
       "1626       0.32  \n",
       "1627       0.23  \n",
       "1628       0.20  \n",
       "\n",
       "[1629 rows x 6 columns]"
      ]
     },
     "execution_count": 33,
     "metadata": {},
     "output_type": "execute_result"
    }
   ],
   "source": [
    "clf_df"
   ]
  },
  {
   "cell_type": "code",
   "execution_count": 8,
   "id": "06cec2d7",
   "metadata": {},
   "outputs": [
    {
     "data": {
      "application/vnd.plotly.v1+json": {
       "config": {
        "plotlyServerURL": "https://plot.ly"
       },
       "data": [
        {
         "alignmentgroup": "True",
         "hovertemplate": "tema=Auditivos<br>main_groups=%{x}<br>num_act=%{y}<extra></extra>",
         "legendgroup": "Auditivos",
         "marker": {
          "color": "#636efa",
          "pattern": {
           "shape": ""
          }
         },
         "name": "Auditivos",
         "offsetgroup": "Auditivos",
         "orientation": "v",
         "showlegend": true,
         "textposition": "auto",
         "type": "bar",
         "x": [
          "Auditivos"
         ],
         "xaxis": "x",
         "y": {
          "bdata": "FQ==",
          "dtype": "i1"
         },
         "yaxis": "y"
        },
        {
         "alignmentgroup": "True",
         "hovertemplate": "tema=Lingüístico<br>main_groups=%{x}<br>num_act=%{y}<extra></extra>",
         "legendgroup": "Lingüístico",
         "marker": {
          "color": "#EF553B",
          "pattern": {
           "shape": ""
          }
         },
         "name": "Lingüístico",
         "offsetgroup": "Lingüístico",
         "orientation": "v",
         "showlegend": true,
         "textposition": "auto",
         "type": "bar",
         "x": [
          "Lingüístico"
         ],
         "xaxis": "x",
         "y": {
          "bdata": "Vw==",
          "dtype": "i1"
         },
         "yaxis": "y"
        },
        {
         "alignmentgroup": "True",
         "hovertemplate": "tema=Calculo<br>main_groups=%{x}<br>num_act=%{y}<extra></extra>",
         "legendgroup": "Calculo",
         "marker": {
          "color": "#00cc96",
          "pattern": {
           "shape": ""
          }
         },
         "name": "Calculo",
         "offsetgroup": "Calculo",
         "orientation": "v",
         "showlegend": true,
         "textposition": "auto",
         "type": "bar",
         "x": [
          "logic"
         ],
         "xaxis": "x",
         "y": {
          "bdata": "SA==",
          "dtype": "i1"
         },
         "yaxis": "y"
        },
        {
         "alignmentgroup": "True",
         "hovertemplate": "tema=Numbers<br>main_groups=%{x}<br>num_act=%{y}<extra></extra>",
         "legendgroup": "Numbers",
         "marker": {
          "color": "#ab63fa",
          "pattern": {
           "shape": ""
          }
         },
         "name": "Numbers",
         "offsetgroup": "Numbers",
         "orientation": "v",
         "showlegend": true,
         "textposition": "auto",
         "type": "bar",
         "x": [
          "logic"
         ],
         "xaxis": "x",
         "y": {
          "bdata": "Mg==",
          "dtype": "i1"
         },
         "yaxis": "y"
        },
        {
         "alignmentgroup": "True",
         "hovertemplate": "tema=logica<br>main_groups=%{x}<br>num_act=%{y}<extra></extra>",
         "legendgroup": "logica",
         "marker": {
          "color": "#FFA15A",
          "pattern": {
           "shape": ""
          }
         },
         "name": "logica",
         "offsetgroup": "logica",
         "orientation": "v",
         "showlegend": true,
         "textposition": "auto",
         "type": "bar",
         "x": [
          "logic"
         ],
         "xaxis": "x",
         "y": {
          "bdata": "Mw==",
          "dtype": "i1"
         },
         "yaxis": "y"
        },
        {
         "alignmentgroup": "True",
         "hovertemplate": "tema=not found<br>main_groups=%{x}<br>num_act=%{y}<extra></extra>",
         "legendgroup": "not found",
         "marker": {
          "color": "#19d3f3",
          "pattern": {
           "shape": ""
          }
         },
         "name": "not found",
         "offsetgroup": "not found",
         "orientation": "v",
         "showlegend": true,
         "textposition": "auto",
         "type": "bar",
         "x": [
          "not found"
         ],
         "xaxis": "x",
         "y": {
          "bdata": "IQ==",
          "dtype": "i1"
         },
         "yaxis": "y"
        },
        {
         "alignmentgroup": "True",
         "hovertemplate": "tema=sequence<br>main_groups=%{x}<br>num_act=%{y}<extra></extra>",
         "legendgroup": "sequence",
         "marker": {
          "color": "#FF6692",
          "pattern": {
           "shape": ""
          }
         },
         "name": "sequence",
         "offsetgroup": "sequence",
         "orientation": "v",
         "showlegend": true,
         "textposition": "auto",
         "type": "bar",
         "x": [
          "sequence"
         ],
         "xaxis": "x",
         "y": {
          "bdata": "PA==",
          "dtype": "i1"
         },
         "yaxis": "y"
        },
        {
         "alignmentgroup": "True",
         "hovertemplate": "tema=animals<br>main_groups=%{x}<br>num_act=%{y}<extra></extra>",
         "legendgroup": "animals",
         "marker": {
          "color": "#B6E880",
          "pattern": {
           "shape": ""
          }
         },
         "name": "animals",
         "offsetgroup": "animals",
         "orientation": "v",
         "showlegend": true,
         "textposition": "auto",
         "type": "bar",
         "x": [
          "themes"
         ],
         "xaxis": "x",
         "y": {
          "bdata": "Kw==",
          "dtype": "i1"
         },
         "yaxis": "y"
        },
        {
         "alignmentgroup": "True",
         "hovertemplate": "tema=formas<br>main_groups=%{x}<br>num_act=%{y}<extra></extra>",
         "legendgroup": "formas",
         "marker": {
          "color": "#FF97FF",
          "pattern": {
           "shape": ""
          }
         },
         "name": "formas",
         "offsetgroup": "formas",
         "orientation": "v",
         "showlegend": true,
         "textposition": "auto",
         "type": "bar",
         "x": [
          "themes"
         ],
         "xaxis": "x",
         "y": {
          "bdata": "LQ==",
          "dtype": "i1"
         },
         "yaxis": "y"
        },
        {
         "alignmentgroup": "True",
         "hovertemplate": "tema=money<br>main_groups=%{x}<br>num_act=%{y}<extra></extra>",
         "legendgroup": "money",
         "marker": {
          "color": "#FECB52",
          "pattern": {
           "shape": ""
          }
         },
         "name": "money",
         "offsetgroup": "money",
         "orientation": "v",
         "showlegend": true,
         "textposition": "auto",
         "type": "bar",
         "x": [
          "themes"
         ],
         "xaxis": "x",
         "y": {
          "bdata": "Dg==",
          "dtype": "i1"
         },
         "yaxis": "y"
        },
        {
         "alignmentgroup": "True",
         "hovertemplate": "tema=people<br>main_groups=%{x}<br>num_act=%{y}<extra></extra>",
         "legendgroup": "people",
         "marker": {
          "color": "#636efa",
          "pattern": {
           "shape": ""
          }
         },
         "name": "people",
         "offsetgroup": "people",
         "orientation": "v",
         "showlegend": true,
         "textposition": "auto",
         "type": "bar",
         "x": [
          "themes"
         ],
         "xaxis": "x",
         "y": {
          "bdata": "NQ==",
          "dtype": "i1"
         },
         "yaxis": "y"
        },
        {
         "alignmentgroup": "True",
         "hovertemplate": "tema=sport<br>main_groups=%{x}<br>num_act=%{y}<extra></extra>",
         "legendgroup": "sport",
         "marker": {
          "color": "#EF553B",
          "pattern": {
           "shape": ""
          }
         },
         "name": "sport",
         "offsetgroup": "sport",
         "orientation": "v",
         "showlegend": true,
         "textposition": "auto",
         "type": "bar",
         "x": [
          "themes"
         ],
         "xaxis": "x",
         "y": {
          "bdata": "Dg==",
          "dtype": "i1"
         },
         "yaxis": "y"
        },
        {
         "alignmentgroup": "True",
         "hovertemplate": "tema=transport<br>main_groups=%{x}<br>num_act=%{y}<extra></extra>",
         "legendgroup": "transport",
         "marker": {
          "color": "#00cc96",
          "pattern": {
           "shape": ""
          }
         },
         "name": "transport",
         "offsetgroup": "transport",
         "orientation": "v",
         "showlegend": true,
         "textposition": "auto",
         "type": "bar",
         "x": [
          "themes"
         ],
         "xaxis": "x",
         "y": {
          "bdata": "CA==",
          "dtype": "i1"
         },
         "yaxis": "y"
        },
        {
         "alignmentgroup": "True",
         "hovertemplate": "tema=vida diaria<br>main_groups=%{x}<br>num_act=%{y}<extra></extra>",
         "legendgroup": "vida diaria",
         "marker": {
          "color": "#ab63fa",
          "pattern": {
           "shape": ""
          }
         },
         "name": "vida diaria",
         "offsetgroup": "vida diaria",
         "orientation": "v",
         "showlegend": true,
         "textposition": "auto",
         "type": "bar",
         "x": [
          "themes"
         ],
         "xaxis": "x",
         "y": {
          "bdata": "Gw==",
          "dtype": "i1"
         },
         "yaxis": "y"
        }
       ],
       "layout": {
        "barmode": "group",
        "legend": {
         "title": {
          "text": "tema"
         },
         "tracegroupgap": 0
        },
        "margin": {
         "t": 60
        },
        "template": {
         "data": {
          "bar": [
           {
            "error_x": {
             "color": "#2a3f5f"
            },
            "error_y": {
             "color": "#2a3f5f"
            },
            "marker": {
             "line": {
              "color": "#E5ECF6",
              "width": 0.5
             },
             "pattern": {
              "fillmode": "overlay",
              "size": 10,
              "solidity": 0.2
             }
            },
            "type": "bar"
           }
          ],
          "barpolar": [
           {
            "marker": {
             "line": {
              "color": "#E5ECF6",
              "width": 0.5
             },
             "pattern": {
              "fillmode": "overlay",
              "size": 10,
              "solidity": 0.2
             }
            },
            "type": "barpolar"
           }
          ],
          "carpet": [
           {
            "aaxis": {
             "endlinecolor": "#2a3f5f",
             "gridcolor": "white",
             "linecolor": "white",
             "minorgridcolor": "white",
             "startlinecolor": "#2a3f5f"
            },
            "baxis": {
             "endlinecolor": "#2a3f5f",
             "gridcolor": "white",
             "linecolor": "white",
             "minorgridcolor": "white",
             "startlinecolor": "#2a3f5f"
            },
            "type": "carpet"
           }
          ],
          "choropleth": [
           {
            "colorbar": {
             "outlinewidth": 0,
             "ticks": ""
            },
            "type": "choropleth"
           }
          ],
          "contour": [
           {
            "colorbar": {
             "outlinewidth": 0,
             "ticks": ""
            },
            "colorscale": [
             [
              0,
              "#0d0887"
             ],
             [
              0.1111111111111111,
              "#46039f"
             ],
             [
              0.2222222222222222,
              "#7201a8"
             ],
             [
              0.3333333333333333,
              "#9c179e"
             ],
             [
              0.4444444444444444,
              "#bd3786"
             ],
             [
              0.5555555555555556,
              "#d8576b"
             ],
             [
              0.6666666666666666,
              "#ed7953"
             ],
             [
              0.7777777777777778,
              "#fb9f3a"
             ],
             [
              0.8888888888888888,
              "#fdca26"
             ],
             [
              1,
              "#f0f921"
             ]
            ],
            "type": "contour"
           }
          ],
          "contourcarpet": [
           {
            "colorbar": {
             "outlinewidth": 0,
             "ticks": ""
            },
            "type": "contourcarpet"
           }
          ],
          "heatmap": [
           {
            "colorbar": {
             "outlinewidth": 0,
             "ticks": ""
            },
            "colorscale": [
             [
              0,
              "#0d0887"
             ],
             [
              0.1111111111111111,
              "#46039f"
             ],
             [
              0.2222222222222222,
              "#7201a8"
             ],
             [
              0.3333333333333333,
              "#9c179e"
             ],
             [
              0.4444444444444444,
              "#bd3786"
             ],
             [
              0.5555555555555556,
              "#d8576b"
             ],
             [
              0.6666666666666666,
              "#ed7953"
             ],
             [
              0.7777777777777778,
              "#fb9f3a"
             ],
             [
              0.8888888888888888,
              "#fdca26"
             ],
             [
              1,
              "#f0f921"
             ]
            ],
            "type": "heatmap"
           }
          ],
          "histogram": [
           {
            "marker": {
             "pattern": {
              "fillmode": "overlay",
              "size": 10,
              "solidity": 0.2
             }
            },
            "type": "histogram"
           }
          ],
          "histogram2d": [
           {
            "colorbar": {
             "outlinewidth": 0,
             "ticks": ""
            },
            "colorscale": [
             [
              0,
              "#0d0887"
             ],
             [
              0.1111111111111111,
              "#46039f"
             ],
             [
              0.2222222222222222,
              "#7201a8"
             ],
             [
              0.3333333333333333,
              "#9c179e"
             ],
             [
              0.4444444444444444,
              "#bd3786"
             ],
             [
              0.5555555555555556,
              "#d8576b"
             ],
             [
              0.6666666666666666,
              "#ed7953"
             ],
             [
              0.7777777777777778,
              "#fb9f3a"
             ],
             [
              0.8888888888888888,
              "#fdca26"
             ],
             [
              1,
              "#f0f921"
             ]
            ],
            "type": "histogram2d"
           }
          ],
          "histogram2dcontour": [
           {
            "colorbar": {
             "outlinewidth": 0,
             "ticks": ""
            },
            "colorscale": [
             [
              0,
              "#0d0887"
             ],
             [
              0.1111111111111111,
              "#46039f"
             ],
             [
              0.2222222222222222,
              "#7201a8"
             ],
             [
              0.3333333333333333,
              "#9c179e"
             ],
             [
              0.4444444444444444,
              "#bd3786"
             ],
             [
              0.5555555555555556,
              "#d8576b"
             ],
             [
              0.6666666666666666,
              "#ed7953"
             ],
             [
              0.7777777777777778,
              "#fb9f3a"
             ],
             [
              0.8888888888888888,
              "#fdca26"
             ],
             [
              1,
              "#f0f921"
             ]
            ],
            "type": "histogram2dcontour"
           }
          ],
          "mesh3d": [
           {
            "colorbar": {
             "outlinewidth": 0,
             "ticks": ""
            },
            "type": "mesh3d"
           }
          ],
          "parcoords": [
           {
            "line": {
             "colorbar": {
              "outlinewidth": 0,
              "ticks": ""
             }
            },
            "type": "parcoords"
           }
          ],
          "pie": [
           {
            "automargin": true,
            "type": "pie"
           }
          ],
          "scatter": [
           {
            "fillpattern": {
             "fillmode": "overlay",
             "size": 10,
             "solidity": 0.2
            },
            "type": "scatter"
           }
          ],
          "scatter3d": [
           {
            "line": {
             "colorbar": {
              "outlinewidth": 0,
              "ticks": ""
             }
            },
            "marker": {
             "colorbar": {
              "outlinewidth": 0,
              "ticks": ""
             }
            },
            "type": "scatter3d"
           }
          ],
          "scattercarpet": [
           {
            "marker": {
             "colorbar": {
              "outlinewidth": 0,
              "ticks": ""
             }
            },
            "type": "scattercarpet"
           }
          ],
          "scattergeo": [
           {
            "marker": {
             "colorbar": {
              "outlinewidth": 0,
              "ticks": ""
             }
            },
            "type": "scattergeo"
           }
          ],
          "scattergl": [
           {
            "marker": {
             "colorbar": {
              "outlinewidth": 0,
              "ticks": ""
             }
            },
            "type": "scattergl"
           }
          ],
          "scattermap": [
           {
            "marker": {
             "colorbar": {
              "outlinewidth": 0,
              "ticks": ""
             }
            },
            "type": "scattermap"
           }
          ],
          "scattermapbox": [
           {
            "marker": {
             "colorbar": {
              "outlinewidth": 0,
              "ticks": ""
             }
            },
            "type": "scattermapbox"
           }
          ],
          "scatterpolar": [
           {
            "marker": {
             "colorbar": {
              "outlinewidth": 0,
              "ticks": ""
             }
            },
            "type": "scatterpolar"
           }
          ],
          "scatterpolargl": [
           {
            "marker": {
             "colorbar": {
              "outlinewidth": 0,
              "ticks": ""
             }
            },
            "type": "scatterpolargl"
           }
          ],
          "scatterternary": [
           {
            "marker": {
             "colorbar": {
              "outlinewidth": 0,
              "ticks": ""
             }
            },
            "type": "scatterternary"
           }
          ],
          "surface": [
           {
            "colorbar": {
             "outlinewidth": 0,
             "ticks": ""
            },
            "colorscale": [
             [
              0,
              "#0d0887"
             ],
             [
              0.1111111111111111,
              "#46039f"
             ],
             [
              0.2222222222222222,
              "#7201a8"
             ],
             [
              0.3333333333333333,
              "#9c179e"
             ],
             [
              0.4444444444444444,
              "#bd3786"
             ],
             [
              0.5555555555555556,
              "#d8576b"
             ],
             [
              0.6666666666666666,
              "#ed7953"
             ],
             [
              0.7777777777777778,
              "#fb9f3a"
             ],
             [
              0.8888888888888888,
              "#fdca26"
             ],
             [
              1,
              "#f0f921"
             ]
            ],
            "type": "surface"
           }
          ],
          "table": [
           {
            "cells": {
             "fill": {
              "color": "#EBF0F8"
             },
             "line": {
              "color": "white"
             }
            },
            "header": {
             "fill": {
              "color": "#C8D4E3"
             },
             "line": {
              "color": "white"
             }
            },
            "type": "table"
           }
          ]
         },
         "layout": {
          "annotationdefaults": {
           "arrowcolor": "#2a3f5f",
           "arrowhead": 0,
           "arrowwidth": 1
          },
          "autotypenumbers": "strict",
          "coloraxis": {
           "colorbar": {
            "outlinewidth": 0,
            "ticks": ""
           }
          },
          "colorscale": {
           "diverging": [
            [
             0,
             "#8e0152"
            ],
            [
             0.1,
             "#c51b7d"
            ],
            [
             0.2,
             "#de77ae"
            ],
            [
             0.3,
             "#f1b6da"
            ],
            [
             0.4,
             "#fde0ef"
            ],
            [
             0.5,
             "#f7f7f7"
            ],
            [
             0.6,
             "#e6f5d0"
            ],
            [
             0.7,
             "#b8e186"
            ],
            [
             0.8,
             "#7fbc41"
            ],
            [
             0.9,
             "#4d9221"
            ],
            [
             1,
             "#276419"
            ]
           ],
           "sequential": [
            [
             0,
             "#0d0887"
            ],
            [
             0.1111111111111111,
             "#46039f"
            ],
            [
             0.2222222222222222,
             "#7201a8"
            ],
            [
             0.3333333333333333,
             "#9c179e"
            ],
            [
             0.4444444444444444,
             "#bd3786"
            ],
            [
             0.5555555555555556,
             "#d8576b"
            ],
            [
             0.6666666666666666,
             "#ed7953"
            ],
            [
             0.7777777777777778,
             "#fb9f3a"
            ],
            [
             0.8888888888888888,
             "#fdca26"
            ],
            [
             1,
             "#f0f921"
            ]
           ],
           "sequentialminus": [
            [
             0,
             "#0d0887"
            ],
            [
             0.1111111111111111,
             "#46039f"
            ],
            [
             0.2222222222222222,
             "#7201a8"
            ],
            [
             0.3333333333333333,
             "#9c179e"
            ],
            [
             0.4444444444444444,
             "#bd3786"
            ],
            [
             0.5555555555555556,
             "#d8576b"
            ],
            [
             0.6666666666666666,
             "#ed7953"
            ],
            [
             0.7777777777777778,
             "#fb9f3a"
            ],
            [
             0.8888888888888888,
             "#fdca26"
            ],
            [
             1,
             "#f0f921"
            ]
           ]
          },
          "colorway": [
           "#636efa",
           "#EF553B",
           "#00cc96",
           "#ab63fa",
           "#FFA15A",
           "#19d3f3",
           "#FF6692",
           "#B6E880",
           "#FF97FF",
           "#FECB52"
          ],
          "font": {
           "color": "#2a3f5f"
          },
          "geo": {
           "bgcolor": "white",
           "lakecolor": "white",
           "landcolor": "#E5ECF6",
           "showlakes": true,
           "showland": true,
           "subunitcolor": "white"
          },
          "hoverlabel": {
           "align": "left"
          },
          "hovermode": "closest",
          "mapbox": {
           "style": "light"
          },
          "paper_bgcolor": "white",
          "plot_bgcolor": "#E5ECF6",
          "polar": {
           "angularaxis": {
            "gridcolor": "white",
            "linecolor": "white",
            "ticks": ""
           },
           "bgcolor": "#E5ECF6",
           "radialaxis": {
            "gridcolor": "white",
            "linecolor": "white",
            "ticks": ""
           }
          },
          "scene": {
           "xaxis": {
            "backgroundcolor": "#E5ECF6",
            "gridcolor": "white",
            "gridwidth": 2,
            "linecolor": "white",
            "showbackground": true,
            "ticks": "",
            "zerolinecolor": "white"
           },
           "yaxis": {
            "backgroundcolor": "#E5ECF6",
            "gridcolor": "white",
            "gridwidth": 2,
            "linecolor": "white",
            "showbackground": true,
            "ticks": "",
            "zerolinecolor": "white"
           },
           "zaxis": {
            "backgroundcolor": "#E5ECF6",
            "gridcolor": "white",
            "gridwidth": 2,
            "linecolor": "white",
            "showbackground": true,
            "ticks": "",
            "zerolinecolor": "white"
           }
          },
          "shapedefaults": {
           "line": {
            "color": "#2a3f5f"
           }
          },
          "ternary": {
           "aaxis": {
            "gridcolor": "white",
            "linecolor": "white",
            "ticks": ""
           },
           "baxis": {
            "gridcolor": "white",
            "linecolor": "white",
            "ticks": ""
           },
           "bgcolor": "#E5ECF6",
           "caxis": {
            "gridcolor": "white",
            "linecolor": "white",
            "ticks": ""
           }
          },
          "title": {
           "x": 0.05
          },
          "xaxis": {
           "automargin": true,
           "gridcolor": "white",
           "linecolor": "white",
           "ticks": "",
           "title": {
            "standoff": 15
           },
           "zerolinecolor": "white",
           "zerolinewidth": 2
          },
          "yaxis": {
           "automargin": true,
           "gridcolor": "white",
           "linecolor": "white",
           "ticks": "",
           "title": {
            "standoff": 15
           },
           "zerolinecolor": "white",
           "zerolinewidth": 2
          }
         }
        },
        "xaxis": {
         "anchor": "y",
         "domain": [
          0,
          1
         ],
         "title": {
          "text": "main_groups"
         }
        },
        "yaxis": {
         "anchor": "x",
         "domain": [
          0,
          1
         ],
         "title": {
          "text": "num_act"
         }
        }
       }
      }
     },
     "metadata": {},
     "output_type": "display_data"
    }
   ],
   "source": [
    "import plotly.express as px\n",
    "clf_df[\"main_groups\"] = clf_df[\"tema\"].apply(classify)\n",
    "px.bar(\n",
    "    data_frame = clf_df.groupby([\"main_groups\", \"tema\"])[\"activity_id\"].nunique().reset_index(name = \"num_act\"),\n",
    "    x = \"main_groups\",\n",
    "    y = \"num_act\",\n",
    "    color = \"tema\",\n",
    "    barmode = \"group\",\n",
    ")"
   ]
  },
  {
   "cell_type": "code",
   "execution_count": 9,
   "id": "f1a10615",
   "metadata": {},
   "outputs": [
    {
     "name": "stdout",
     "output_type": "stream",
     "text": [
      "23\n"
     ]
    },
    {
     "name": "stderr",
     "output_type": "stream",
     "text": [
      "c:\\Users\\elina.filatova_neuro\\Desktop\\smart_search\\.venv\\Lib\\site-packages\\sklearn\\manifold\\_t_sne.py:1164: FutureWarning:\n",
      "\n",
      "'n_iter' was renamed to 'max_iter' in version 1.5 and will be removed in 1.7.\n",
      "\n",
      "c:\\Users\\elina.filatova_neuro\\Desktop\\smart_search\\.venv\\Lib\\site-packages\\joblib\\externals\\loky\\backend\\context.py:136: UserWarning:\n",
      "\n",
      "Could not find the number of physical cores for the following reason:\n",
      "[WinError 2] El sistema no puede encontrar el archivo especificado\n",
      "Returning the number of logical cores instead. You can silence this warning by setting LOKY_MAX_CPU_COUNT to the number of cores you want to use.\n",
      "\n",
      "  File \"c:\\Users\\elina.filatova_neuro\\Desktop\\smart_search\\.venv\\Lib\\site-packages\\joblib\\externals\\loky\\backend\\context.py\", line 257, in _count_physical_cores\n",
      "    cpu_info = subprocess.run(\n",
      "               ^^^^^^^^^^^^^^^\n",
      "  File \"C:\\Users\\elina.filatova_neuro\\AppData\\Local\\Programs\\Python\\Python312\\Lib\\subprocess.py\", line 548, in run\n",
      "    with Popen(*popenargs, **kwargs) as process:\n",
      "         ^^^^^^^^^^^^^^^^^^^^^^^^^^^\n",
      "  File \"C:\\Users\\elina.filatova_neuro\\AppData\\Local\\Programs\\Python\\Python312\\Lib\\subprocess.py\", line 1026, in __init__\n",
      "    self._execute_child(args, executable, preexec_fn, close_fds,\n",
      "  File \"C:\\Users\\elina.filatova_neuro\\AppData\\Local\\Programs\\Python\\Python312\\Lib\\subprocess.py\", line 1538, in _execute_child\n",
      "    hp, ht, pid, tid = _winapi.CreateProcess(executable, args,\n",
      "                       ^^^^^^^^^^^^^^^^^^^^^^^^^^^^^^^^^^^^^^^\n"
     ]
    },
    {
     "data": {
      "image/png": "[encoded data removed]",
      "text/plain": [
       "<Figure size 600x600 with 1 Axes>"
      ]
     },
     "metadata": {},
     "output_type": "display_data"
    }
   ],
   "source": [
    "import numpy as np\n",
    "import matplotlib.pyplot as plt\n",
    "\n",
    "cleaned_text = ''\n",
    "# cleaned_text = []\n",
    "text = [row for row in clf_df[clf_df[\"tema\"] == \"not found\"][\"text\"]]\n",
    "for row in text:\n",
    "    new_row = ''\n",
    "    for word in row.split(' '):\n",
    "        if word.lower() not in stop_words and word.lower() not in stopwords.words('spanish'):\n",
    "            \n",
    "            new_row += word.lower() + ' ' \n",
    "    cleaned_text += re.sub(r'[\\s+,*/?!)()]', ' ', new_row) + ' '\n",
    "    # cleaned_text.append(re.sub(r'\\s+', ' ', new_row))\n",
    "all_sentences = nltk.sent_tokenize(cleaned_text)\n",
    "all_words = [nltk.word_tokenize(sent) for sent in all_sentences]\n",
    "word2vec = Word2Vec(all_words, min_count=5, workers=4)\n",
    "tsne_plot(word2vec, (6,6))"
   ]
  },
  {
   "cell_type": "code",
   "execution_count": 10,
   "id": "0c749b82",
   "metadata": {},
   "outputs": [
    {
     "data": {
      "text/plain": [
       "'copia de planos esta actividad consiste en copiar la posición de las casillas de la figura modelo coloca todas las casillas igual que en el modelo mapas planos actividad con elementos dibujados (ilustraciones) actividad de conducir '"
      ]
     },
     "execution_count": 10,
     "metadata": {},
     "output_type": "execute_result"
    }
   ],
   "source": [
    "clf_df[clf_df[\"tema\"] == \"not found\"][\"text\"][543]"
   ]
  },
  {
   "cell_type": "code",
   "execution_count": 11,
   "id": "e961510f",
   "metadata": {},
   "outputs": [
    {
     "data": {
      "text/html": [
       "<div>\n",
       "<style scoped>\n",
       "    .dataframe tbody tr th:only-of-type {\n",
       "        vertical-align: middle;\n",
       "    }\n",
       "\n",
       "    .dataframe tbody tr th {\n",
       "        vertical-align: top;\n",
       "    }\n",
       "\n",
       "    .dataframe thead th {\n",
       "        text-align: right;\n",
       "    }\n",
       "</style>\n",
       "<table border=\"1\" class=\"dataframe\">\n",
       "  <thead>\n",
       "    <tr style=\"text-align: right;\">\n",
       "      <th></th>\n",
       "      <th>activity_id</th>\n",
       "      <th>name</th>\n",
       "      <th>code</th>\n",
       "      <th>text</th>\n",
       "      <th>tema</th>\n",
       "      <th>similitud</th>\n",
       "      <th>main_groups</th>\n",
       "    </tr>\n",
       "  </thead>\n",
       "  <tbody>\n",
       "    <tr>\n",
       "      <th>45</th>\n",
       "      <td>389</td>\n",
       "      <td>Objetos, establecimientos y profesionales</td>\n",
       "      <td>OP2</td>\n",
       "      <td>objetos establecimientos y profesionales relac...</td>\n",
       "      <td>not found</td>\n",
       "      <td>0.0</td>\n",
       "      <td>not found</td>\n",
       "    </tr>\n",
       "    <tr>\n",
       "      <th>79</th>\n",
       "      <td>492</td>\n",
       "      <td>Objetos tapados</td>\n",
       "      <td>GV12</td>\n",
       "      <td>objetos tapados reconocer objetos tapados parc...</td>\n",
       "      <td>not found</td>\n",
       "      <td>0.0</td>\n",
       "      <td>not found</td>\n",
       "    </tr>\n",
       "    <tr>\n",
       "      <th>145</th>\n",
       "      <td>743</td>\n",
       "      <td>Última ventana iluminada</td>\n",
       "      <td>J_ultVent</td>\n",
       "      <td>última ventana iluminada esta actividad consis...</td>\n",
       "      <td>not found</td>\n",
       "      <td>0.0</td>\n",
       "      <td>not found</td>\n",
       "    </tr>\n",
       "    <tr>\n",
       "      <th>150</th>\n",
       "      <td>748</td>\n",
       "      <td>Primer aleteo</td>\n",
       "      <td>J_aleteo</td>\n",
       "      <td>primer aleteo esta actividad consiste en memor...</td>\n",
       "      <td>not found</td>\n",
       "      <td>0.0</td>\n",
       "      <td>not found</td>\n",
       "    </tr>\n",
       "    <tr>\n",
       "      <th>151</th>\n",
       "      <td>749</td>\n",
       "      <td>Localización espacial</td>\n",
       "      <td>J_ubiE</td>\n",
       "      <td>localización espacial esta actividad consiste ...</td>\n",
       "      <td>not found</td>\n",
       "      <td>0.0</td>\n",
       "      <td>not found</td>\n",
       "    </tr>\n",
       "    <tr>\n",
       "      <th>156</th>\n",
       "      <td>752</td>\n",
       "      <td>Separa los bichos</td>\n",
       "      <td>J_bichos</td>\n",
       "      <td>separa los bichos esta actividad consiste en r...</td>\n",
       "      <td>not found</td>\n",
       "      <td>0.0</td>\n",
       "      <td>not found</td>\n",
       "    </tr>\n",
       "    <tr>\n",
       "      <th>179</th>\n",
       "      <td>767</td>\n",
       "      <td>Copia de planos</td>\n",
       "      <td>J_plazas</td>\n",
       "      <td>copia de planos esta actividad consiste en cop...</td>\n",
       "      <td>not found</td>\n",
       "      <td>0.0</td>\n",
       "      <td>not found</td>\n",
       "    </tr>\n",
       "    <tr>\n",
       "      <th>181</th>\n",
       "      <td>769</td>\n",
       "      <td>Pirámide de cartas</td>\n",
       "      <td>J_piramide</td>\n",
       "      <td>pirámide de cartas esta actividad consiste en ...</td>\n",
       "      <td>not found</td>\n",
       "      <td>0.0</td>\n",
       "      <td>not found</td>\n",
       "    </tr>\n",
       "    <tr>\n",
       "      <th>193</th>\n",
       "      <td>779</td>\n",
       "      <td>Pirámide de cartas de póquer</td>\n",
       "      <td>J_piramide_poker</td>\n",
       "      <td>pirámide de cartas de póquer esta actividad co...</td>\n",
       "      <td>not found</td>\n",
       "      <td>0.0</td>\n",
       "      <td>not found</td>\n",
       "    </tr>\n",
       "    <tr>\n",
       "      <th>217</th>\n",
       "      <td>802</td>\n",
       "      <td>Dibujos en movimiento</td>\n",
       "      <td>EWM64</td>\n",
       "      <td>dibujos en movimiento memorizar el lugar donde...</td>\n",
       "      <td>not found</td>\n",
       "      <td>0.0</td>\n",
       "      <td>not found</td>\n",
       "    </tr>\n",
       "    <tr>\n",
       "      <th>237</th>\n",
       "      <td>810</td>\n",
       "      <td>Elementos comunes</td>\n",
       "      <td>ASE65</td>\n",
       "      <td>elementos comunes seleccionar una serie de ele...</td>\n",
       "      <td>not found</td>\n",
       "      <td>0.0</td>\n",
       "      <td>not found</td>\n",
       "    </tr>\n",
       "    <tr>\n",
       "      <th>241</th>\n",
       "      <td>814</td>\n",
       "      <td>Imágenes revueltas</td>\n",
       "      <td>J_puzzleRota</td>\n",
       "      <td>imágenes revueltas mover bloques de una manera...</td>\n",
       "      <td>not found</td>\n",
       "      <td>0.0</td>\n",
       "      <td>not found</td>\n",
       "    </tr>\n",
       "    <tr>\n",
       "      <th>246</th>\n",
       "      <td>817</td>\n",
       "      <td>¿Único o repetido?</td>\n",
       "      <td>J_repetidas</td>\n",
       "      <td>¿único o repetido? recordar las imágenes que s...</td>\n",
       "      <td>not found</td>\n",
       "      <td>0.0</td>\n",
       "      <td>not found</td>\n",
       "    </tr>\n",
       "    <tr>\n",
       "      <th>249</th>\n",
       "      <td>820</td>\n",
       "      <td>Seleccionar elementos de una categoría</td>\n",
       "      <td>ASE5</td>\n",
       "      <td>seleccionar elementos de una categoría selecci...</td>\n",
       "      <td>not found</td>\n",
       "      <td>0.0</td>\n",
       "      <td>not found</td>\n",
       "    </tr>\n",
       "    <tr>\n",
       "      <th>255</th>\n",
       "      <td>825</td>\n",
       "      <td>Encuentra el monumento</td>\n",
       "      <td>J_tesoro_adult</td>\n",
       "      <td>encuentra el monumento seguir las indicaciones...</td>\n",
       "      <td>not found</td>\n",
       "      <td>0.0</td>\n",
       "      <td>not found</td>\n",
       "    </tr>\n",
       "    <tr>\n",
       "      <th>275</th>\n",
       "      <td>838</td>\n",
       "      <td>El jardín misterioso</td>\n",
       "      <td>J_copia</td>\n",
       "      <td>el jardín misterioso determinar la corresponde...</td>\n",
       "      <td>not found</td>\n",
       "      <td>0.0</td>\n",
       "      <td>not found</td>\n",
       "    </tr>\n",
       "    <tr>\n",
       "      <th>283</th>\n",
       "      <td>842</td>\n",
       "      <td>Programa el robot</td>\n",
       "      <td>J_robot_children</td>\n",
       "      <td>programa el robot esta actividad consiste en c...</td>\n",
       "      <td>not found</td>\n",
       "      <td>0.0</td>\n",
       "      <td>not found</td>\n",
       "    </tr>\n",
       "    <tr>\n",
       "      <th>302</th>\n",
       "      <td>866</td>\n",
       "      <td>¡Escapa del monstruo!</td>\n",
       "      <td>J_coco</td>\n",
       "      <td>¡escapa del monstruo! seleccionar lo más rápid...</td>\n",
       "      <td>not found</td>\n",
       "      <td>0.0</td>\n",
       "      <td>not found</td>\n",
       "    </tr>\n",
       "    <tr>\n",
       "      <th>314</th>\n",
       "      <td>885</td>\n",
       "      <td>El constructor</td>\n",
       "      <td>J_dispara</td>\n",
       "      <td>el constructor completar huecos lo más rápidam...</td>\n",
       "      <td>not found</td>\n",
       "      <td>0.0</td>\n",
       "      <td>not found</td>\n",
       "    </tr>\n",
       "    <tr>\n",
       "      <th>319</th>\n",
       "      <td>900</td>\n",
       "      <td>El clon</td>\n",
       "      <td>J_dobble2_adult</td>\n",
       "      <td>el clon encontrar lo más rápidamente posible e...</td>\n",
       "      <td>not found</td>\n",
       "      <td>0.0</td>\n",
       "      <td>not found</td>\n",
       "    </tr>\n",
       "    <tr>\n",
       "      <th>322</th>\n",
       "      <td>975</td>\n",
       "      <td>Déjà vu</td>\n",
       "      <td>J_repetidas_adult</td>\n",
       "      <td>déjà vu recordar las imágenes que se han prese...</td>\n",
       "      <td>not found</td>\n",
       "      <td>0.0</td>\n",
       "      <td>not found</td>\n",
       "    </tr>\n",
       "    <tr>\n",
       "      <th>324</th>\n",
       "      <td>989</td>\n",
       "      <td>El huerto del vecino</td>\n",
       "      <td>J_copia_adult</td>\n",
       "      <td>el huerto del vecino determinar la corresponde...</td>\n",
       "      <td>not found</td>\n",
       "      <td>0.0</td>\n",
       "      <td>not found</td>\n",
       "    </tr>\n",
       "    <tr>\n",
       "      <th>411</th>\n",
       "      <td>1427</td>\n",
       "      <td>¿Hacia qué lado van?</td>\n",
       "      <td>GGBS66</td>\n",
       "      <td>¿hacia qué lado van? identificar hacia qué lad...</td>\n",
       "      <td>not found</td>\n",
       "      <td>0.0</td>\n",
       "      <td>not found</td>\n",
       "    </tr>\n",
       "    <tr>\n",
       "      <th>416</th>\n",
       "      <td>1444</td>\n",
       "      <td>Escapa del laberinto</td>\n",
       "      <td>GEP68</td>\n",
       "      <td>escapa del laberinto llegar de un punto a otro...</td>\n",
       "      <td>not found</td>\n",
       "      <td>0.0</td>\n",
       "      <td>not found</td>\n",
       "    </tr>\n",
       "    <tr>\n",
       "      <th>423</th>\n",
       "      <td>1456</td>\n",
       "      <td>¿Quién ha levantado la mano?</td>\n",
       "      <td>J_entrevista_child</td>\n",
       "      <td>¿quién ha levantado la mano? esta actividad co...</td>\n",
       "      <td>not found</td>\n",
       "      <td>0.0</td>\n",
       "      <td>not found</td>\n",
       "    </tr>\n",
       "    <tr>\n",
       "      <th>466</th>\n",
       "      <td>1552</td>\n",
       "      <td>Emparejamientos veloces</td>\n",
       "      <td>J_digitSymbol_adult</td>\n",
       "      <td>emparejamientos veloces asociar los elementos ...</td>\n",
       "      <td>not found</td>\n",
       "      <td>0.0</td>\n",
       "      <td>not found</td>\n",
       "    </tr>\n",
       "    <tr>\n",
       "      <th>473</th>\n",
       "      <td>1564</td>\n",
       "      <td>Objetos medio ocultos</td>\n",
       "      <td>GV72</td>\n",
       "      <td>objetos medio ocultos reconocer objetos tapado...</td>\n",
       "      <td>not found</td>\n",
       "      <td>0.0</td>\n",
       "      <td>not found</td>\n",
       "    </tr>\n",
       "    <tr>\n",
       "      <th>484</th>\n",
       "      <td>1592</td>\n",
       "      <td>Cambio de posición</td>\n",
       "      <td>EWM4-A</td>\n",
       "      <td>cambio de posición memorizar el lugar donde es...</td>\n",
       "      <td>not found</td>\n",
       "      <td>0.0</td>\n",
       "      <td>not found</td>\n",
       "    </tr>\n",
       "    <tr>\n",
       "      <th>503</th>\n",
       "      <td>1654</td>\n",
       "      <td>El constructor</td>\n",
       "      <td>SG-EP33-K</td>\n",
       "      <td>el constructor completar huecos lo más rápidam...</td>\n",
       "      <td>not found</td>\n",
       "      <td>0.0</td>\n",
       "      <td>not found</td>\n",
       "    </tr>\n",
       "    <tr>\n",
       "      <th>542</th>\n",
       "      <td>1743</td>\n",
       "      <td>El jardín misterioso</td>\n",
       "      <td>SG-VSR33-K</td>\n",
       "      <td>el jardín misterioso determinar la corresponde...</td>\n",
       "      <td>not found</td>\n",
       "      <td>0.0</td>\n",
       "      <td>not found</td>\n",
       "    </tr>\n",
       "    <tr>\n",
       "      <th>543</th>\n",
       "      <td>1746</td>\n",
       "      <td>Copia de planos</td>\n",
       "      <td>SG-ASU31-A</td>\n",
       "      <td>copia de planos esta actividad consiste en cop...</td>\n",
       "      <td>not found</td>\n",
       "      <td>0.0</td>\n",
       "      <td>not found</td>\n",
       "    </tr>\n",
       "    <tr>\n",
       "      <th>586</th>\n",
       "      <td>1863</td>\n",
       "      <td>Emparejamientos veloces</td>\n",
       "      <td>SG-APS34-A</td>\n",
       "      <td>emparejamientos veloces asociar los elementos ...</td>\n",
       "      <td>not found</td>\n",
       "      <td>0.0</td>\n",
       "      <td>not found</td>\n",
       "    </tr>\n",
       "    <tr>\n",
       "      <th>588</th>\n",
       "      <td>1869</td>\n",
       "      <td>Programa el robot</td>\n",
       "      <td>SG-ASU32-K</td>\n",
       "      <td>programa el robot copiar en espejo la posición...</td>\n",
       "      <td>not found</td>\n",
       "      <td>0.0</td>\n",
       "      <td>not found</td>\n",
       "    </tr>\n",
       "  </tbody>\n",
       "</table>\n",
       "</div>"
      ],
      "text/plain": [
       "     activity_id                                       name  \\\n",
       "45           389  Objetos, establecimientos y profesionales   \n",
       "79           492                            Objetos tapados   \n",
       "145          743                   Última ventana iluminada   \n",
       "150          748                              Primer aleteo   \n",
       "151          749                      Localización espacial   \n",
       "156          752                          Separa los bichos   \n",
       "179          767                            Copia de planos   \n",
       "181          769                         Pirámide de cartas   \n",
       "193          779               Pirámide de cartas de póquer   \n",
       "217          802                      Dibujos en movimiento   \n",
       "237          810                          Elementos comunes   \n",
       "241          814                         Imágenes revueltas   \n",
       "246          817                         ¿Único o repetido?   \n",
       "249          820     Seleccionar elementos de una categoría   \n",
       "255          825                     Encuentra el monumento   \n",
       "275          838                       El jardín misterioso   \n",
       "283          842                          Programa el robot   \n",
       "302          866                      ¡Escapa del monstruo!   \n",
       "314          885                             El constructor   \n",
       "319          900                                    El clon   \n",
       "322          975                                    Déjà vu   \n",
       "324          989                       El huerto del vecino   \n",
       "411         1427                       ¿Hacia qué lado van?   \n",
       "416         1444                       Escapa del laberinto   \n",
       "423         1456               ¿Quién ha levantado la mano?   \n",
       "466         1552                    Emparejamientos veloces   \n",
       "473         1564                      Objetos medio ocultos   \n",
       "484         1592                         Cambio de posición   \n",
       "503         1654                             El constructor   \n",
       "542         1743                       El jardín misterioso   \n",
       "543         1746                            Copia de planos   \n",
       "586         1863                    Emparejamientos veloces   \n",
       "588         1869                          Programa el robot   \n",
       "\n",
       "                    code                                               text  \\\n",
       "45                   OP2  objetos establecimientos y profesionales relac...   \n",
       "79                  GV12  objetos tapados reconocer objetos tapados parc...   \n",
       "145            J_ultVent  última ventana iluminada esta actividad consis...   \n",
       "150             J_aleteo  primer aleteo esta actividad consiste en memor...   \n",
       "151               J_ubiE  localización espacial esta actividad consiste ...   \n",
       "156             J_bichos  separa los bichos esta actividad consiste en r...   \n",
       "179             J_plazas  copia de planos esta actividad consiste en cop...   \n",
       "181           J_piramide  pirámide de cartas esta actividad consiste en ...   \n",
       "193     J_piramide_poker  pirámide de cartas de póquer esta actividad co...   \n",
       "217                EWM64  dibujos en movimiento memorizar el lugar donde...   \n",
       "237                ASE65  elementos comunes seleccionar una serie de ele...   \n",
       "241         J_puzzleRota  imágenes revueltas mover bloques de una manera...   \n",
       "246          J_repetidas  ¿único o repetido? recordar las imágenes que s...   \n",
       "249                 ASE5  seleccionar elementos de una categoría selecci...   \n",
       "255       J_tesoro_adult  encuentra el monumento seguir las indicaciones...   \n",
       "275              J_copia  el jardín misterioso determinar la corresponde...   \n",
       "283     J_robot_children  programa el robot esta actividad consiste en c...   \n",
       "302               J_coco  ¡escapa del monstruo! seleccionar lo más rápid...   \n",
       "314            J_dispara  el constructor completar huecos lo más rápidam...   \n",
       "319      J_dobble2_adult  el clon encontrar lo más rápidamente posible e...   \n",
       "322    J_repetidas_adult  déjà vu recordar las imágenes que se han prese...   \n",
       "324        J_copia_adult  el huerto del vecino determinar la corresponde...   \n",
       "411               GGBS66  ¿hacia qué lado van? identificar hacia qué lad...   \n",
       "416                GEP68  escapa del laberinto llegar de un punto a otro...   \n",
       "423   J_entrevista_child  ¿quién ha levantado la mano? esta actividad co...   \n",
       "466  J_digitSymbol_adult  emparejamientos veloces asociar los elementos ...   \n",
       "473                 GV72  objetos medio ocultos reconocer objetos tapado...   \n",
       "484               EWM4-A  cambio de posición memorizar el lugar donde es...   \n",
       "503            SG-EP33-K  el constructor completar huecos lo más rápidam...   \n",
       "542           SG-VSR33-K  el jardín misterioso determinar la corresponde...   \n",
       "543           SG-ASU31-A  copia de planos esta actividad consiste en cop...   \n",
       "586           SG-APS34-A  emparejamientos veloces asociar los elementos ...   \n",
       "588           SG-ASU32-K  programa el robot copiar en espejo la posición...   \n",
       "\n",
       "          tema  similitud main_groups  \n",
       "45   not found        0.0   not found  \n",
       "79   not found        0.0   not found  \n",
       "145  not found        0.0   not found  \n",
       "150  not found        0.0   not found  \n",
       "151  not found        0.0   not found  \n",
       "156  not found        0.0   not found  \n",
       "179  not found        0.0   not found  \n",
       "181  not found        0.0   not found  \n",
       "193  not found        0.0   not found  \n",
       "217  not found        0.0   not found  \n",
       "237  not found        0.0   not found  \n",
       "241  not found        0.0   not found  \n",
       "246  not found        0.0   not found  \n",
       "249  not found        0.0   not found  \n",
       "255  not found        0.0   not found  \n",
       "275  not found        0.0   not found  \n",
       "283  not found        0.0   not found  \n",
       "302  not found        0.0   not found  \n",
       "314  not found        0.0   not found  \n",
       "319  not found        0.0   not found  \n",
       "322  not found        0.0   not found  \n",
       "324  not found        0.0   not found  \n",
       "411  not found        0.0   not found  \n",
       "416  not found        0.0   not found  \n",
       "423  not found        0.0   not found  \n",
       "466  not found        0.0   not found  \n",
       "473  not found        0.0   not found  \n",
       "484  not found        0.0   not found  \n",
       "503  not found        0.0   not found  \n",
       "542  not found        0.0   not found  \n",
       "543  not found        0.0   not found  \n",
       "586  not found        0.0   not found  \n",
       "588  not found        0.0   not found  "
      ]
     },
     "execution_count": 11,
     "metadata": {},
     "output_type": "execute_result"
    }
   ],
   "source": [
    "clf_df[clf_df[\"tema\"] == \"not found\"]"
   ]
  },
  {
   "cell_type": "code",
   "execution_count": 12,
   "id": "1bf60a59",
   "metadata": {},
   "outputs": [],
   "source": [
    "topics = {\n",
    "    # tematics\n",
    "    'transport':  [\n",
    "        \"equipaje\",\n",
    "        \"metro\", \"parada\", \"paradas\", \"estación\", \"tráfico\", \"vuelo\", \"aeropuerto\", \"velocidad\",\n",
    "        \"tren\", \"tranvía\", \"autobús\", \"intercambiador\",\"evitar multa\",\n",
    "        \"carretera\", \"autopista\", \"avenida\", \"conducción\",  \"atasco\",\n",
    "        \"señal de tráfico\", \"vehículo\", \"auto\", \"coche\",\n",
    "        \"avión\", \"piloto\", \"despegue\", \"puerta de embarque\", \"billete de avión\",\n",
    "        \"barco\", \"ferry\", \"puerto\", \"crucero\", \"lancha\", \"navegación\",\n",
    "        \"ruta\", \"trayecto\", \"recorrido\", \"destino\", \"transporte urbano\",\"frecuencia\", \"maletas\", \"estación\", \"vuelo\", \"aeropuerto\"\n",
    "    ],\n",
    "    \n",
    "    \"people\": [\n",
    "     \"foto de persona\", \"personas\", \"caras\", \"nombre\",\"vístete (mujer)\",\n",
    "        \"rostro\", \"gente\", \"individuo\",\n",
    "        \"niño\", \"niña\", \"hombre\", \"mujer\", \"persona\",\n",
    "    ],\n",
    "    \n",
    "    # 'food': [\"comida\", \"platos\", \"cocina\", \"agua\"],\n",
    "    'animals': [\n",
    "        \"encuentra a toby\",\"encuentra los peces\",\n",
    "        \"animales\", \"perro\", \"gatos\", \"bichos\", \"aleteo\", \"mariposa\",\n",
    "        \"mascotas\", \"gatito\", \"perrito\", \"animalito\", \"fauna\",\n",
    "        \"criatura\", \"insecto\", \"pájaro\",\n",
    "        \"pez\", \"caballo\", \"vaca\", \"oveja\", \"cerdo\",\n",
    "        \"conejo\", \"hamster\", \"reptil\", \"anfibio\", \"zoológico\",\"separa los bichos\",\n",
    "    ],\n",
    "    'money': [\n",
    "        \"billetes\", \"monedas\", \"cantidad\", \"dinero\",\n",
    "        \"efectivo\", \"pago\", \"precio\", \"cuenta\", \"tarjeta\",\n",
    "        \"saldo\", \"cobro\", \"gasto\", \"ahorro\", \"ingreso\",\n",
    "        \"transferencia\", \"cheque\", \"banco\", \"cartera\", \"fortuna\",\n",
    "        \"riqueza\", \"valor\", \"presupuesto\", \"divisa\", \"capital\",\n",
    "        \"interés\", \"deuda\", \"crédito\", \"retiro\", \"depósito\"\n",
    "    ],\n",
    "    \n",
    "    \"sport\": [\n",
    "        \"football\", \"balón\", \"pelota\", \"golpe\", \"basketball\",\n",
    "        \"deporte\", \"entrenamiento\", \"partido\", \"jugador\", \"equipo\",\n",
    "        \"gol\", \"pase\", \"tiro\", \"marcador\", \"victoria\",\n",
    "        \"derrota\", \"carrera\", \"salto\", \"natación\", \"ciclismo\",\n",
    "        \"boxeo\", \"tenis\", \"voley\", \"surf\", \"esquí\",\n",
    "        \"pesas\", \"gimnasio\", \"fitness\",  \"fuerza\"\n",
    "    ],\n",
    "    \n",
    "    \"sequence\": [\"secuencia\", \"order\",],\n",
    "    # \"emotions\": [\"emotions\", \"sad\", \"angry\", \"social\"],\n",
    "\n",
    "    \"vida diaria\": [\n",
    "        \"reciclar la basura\", \"hogar\", \"recoger la habitación\",\"evitar multa\", \"ir de compras\", \"vida diaria\", \"conducir\",\n",
    "        \"comida\", \"platos\", \"cocina\", \"agua\", \"vístete (mujer)\", \n",
    "        \"lavar la ropa\", \"hacer la cama\", \"barrer\", \"fregar\", \"poner la mesa\",\n",
    "        \"quitar la mesa\", \"sacar la basura\", \"ducharse\", \"lavarse los dientes\",\n",
    "        \"despertarse\", \"desayunar\", \"almorzar\", \"cenar\", \"ir al trabajo\",\n",
    "        \"hacer la compra\", \"pagar facturas\", \"cuidar a los niños\", \"descansar\", \"organizar\",\n",
    "        \"limpiar\", \"preparar la comida\", \"planchar\", \"tiempo libre\", \"tareas domésticas\"\n",
    "    ],\n",
    "    \n",
    "    \"logica\": [\n",
    "        \"puzzle\", \"rompecabezas\", \"laberinto\", \"laberintos\", \"laberinto\", \"combinaciones\"\n",
    "    ],\n",
    "    \"ilustrations\": [\"dibujos\", \"illustraciones\"],\n",
    "    \"formas\" : [\"formas\", \"figuras\", \"colores\"],\n",
    "    \n",
    "    # \"Computer\" : [\"teclado\",\"Teclado físico\", \"with computer mouse\"], # etc\n",
    "    # \"Tablet\": [\"Pulsar\", \"Recomendadas para tablet\", \"tablet\", \"pantalla táctil\", \"Arrastrar\", \"Pulsar\"],\n",
    "    # \"groups\": [\"Recomendado para sesiones en grupo\", \"grupos\", \"grupo\"],\n",
    "    \n",
    "    # actions\n",
    "    \"Lingüístico\": [ \"lenguaje\", \"palabras\", \"letras\", \"sílabas\", \"phrases\", \"lingüístico\",\n",
    "        \"texto\", \"frases\", \"lectura\", \"escritura\", \"significado\",\n",
    "        \"vocabulario\", \"gramática\", \"comunicación\", \"narración\", \"cuentos\",\n",
    "        \"diálogo\", \"pronunciación\", \"discurso\", \"oración\", \"poesía\",\n",
    "        \"idioma\", \"conjugación\", \"verbo\", \"adjetivo\", \"sustantivo\", \"escrita\", \"preguntas\", \"responder\"\n",
    "    ], # linguistic / read or all related to words letters frases etc\n",
    "    \n",
    "    \"Numbers\": [\"números\",],\n",
    "    \n",
    "    'Calculo': [ \"calcular\", \"cálculo\", \"sumar\",\"cantidad\", \"matemáticas\",\n",
    "        \"restar\", \"multiplicar\", \"dividir\", \"porcentaje\", \"ecuación\", \"medida\", \"cifra\", \"estimación\", \"valor\",\n",
    "        \"operación\", \"fracción\", \"decimal\", \"estadística\"\n",
    "    ],\n",
    "    'Auditivos': [ \"señal\", \"señales\", \"sonidos\", \"música\", \"audio\",\n",
    "        \"ruido\", \"voz\", \"melodía\", \"ritmo\", \"tono\",\n",
    "        \"volumen\", \"eco\", \"vibración\", \"acústica\",\n",
    "        \"altavoz\", \"auriculares\", \"micrófono\", \"grabación\", \"podcast\",\n",
    "        \"aplausos\", \"canción\",\"radio\", \"diálogo\", \n",
    "    ], #\n",
    "    \n",
    "    \"reflection\": [\"casillas\", \"igual\", \"copiar\", \"posición\", \"espejo\"],\n",
    "    \n",
    "    \"clock\" : [\"hora\", \"reloj\", \"tiempo\", \"relojes\", \"horas\", \"interpretar la hora\"],\n",
    "    \n",
    "    }\n",
    "\n",
    "model = SentenceTransformer('distiluse-base-multilingual-cased-v1')\n",
    "topic_vectors = {topic: model.encode(\" \".join(keywords)) for topic, keywords in topics.items()}"
   ]
  },
  {
   "cell_type": "code",
   "execution_count": 13,
   "id": "6fc3ecfc",
   "metadata": {},
   "outputs": [],
   "source": [
    "result_df = classify_activities_df(merged_df, \"text\", topic_vectors, model, threshold=0.25)\n",
    "clf_df = explode_topics_df(result_df)"
   ]
  },
  {
   "cell_type": "code",
   "execution_count": 14,
   "id": "b96c95d0",
   "metadata": {},
   "outputs": [
    {
     "data": {
      "application/vnd.plotly.v1+json": {
       "config": {
        "plotlyServerURL": "https://plot.ly"
       },
       "data": [
        {
         "alignmentgroup": "True",
         "hovertemplate": "tema=Auditivos<br>main_groups=%{x}<br>num_act=%{y}<extra></extra>",
         "legendgroup": "Auditivos",
         "marker": {
          "color": "#636efa",
          "pattern": {
           "shape": ""
          }
         },
         "name": "Auditivos",
         "offsetgroup": "Auditivos",
         "orientation": "v",
         "showlegend": true,
         "textposition": "auto",
         "type": "bar",
         "x": [
          "Auditivos"
         ],
         "xaxis": "x",
         "y": {
          "bdata": "Dw==",
          "dtype": "i1"
         },
         "yaxis": "y"
        },
        {
         "alignmentgroup": "True",
         "hovertemplate": "tema=Lingüístico<br>main_groups=%{x}<br>num_act=%{y}<extra></extra>",
         "legendgroup": "Lingüístico",
         "marker": {
          "color": "#EF553B",
          "pattern": {
           "shape": ""
          }
         },
         "name": "Lingüístico",
         "offsetgroup": "Lingüístico",
         "orientation": "v",
         "showlegend": true,
         "textposition": "auto",
         "type": "bar",
         "x": [
          "Lingüístico"
         ],
         "xaxis": "x",
         "y": {
          "bdata": "Qg==",
          "dtype": "i1"
         },
         "yaxis": "y"
        },
        {
         "alignmentgroup": "True",
         "hovertemplate": "tema=clock<br>main_groups=%{x}<br>num_act=%{y}<extra></extra>",
         "legendgroup": "clock",
         "marker": {
          "color": "#00cc96",
          "pattern": {
           "shape": ""
          }
         },
         "name": "clock",
         "offsetgroup": "clock",
         "orientation": "v",
         "showlegend": true,
         "textposition": "auto",
         "type": "bar",
         "x": [
          "clock"
         ],
         "xaxis": "x",
         "y": {
          "bdata": "CQ==",
          "dtype": "i1"
         },
         "yaxis": "y"
        },
        {
         "alignmentgroup": "True",
         "hovertemplate": "tema=ilustrations<br>main_groups=%{x}<br>num_act=%{y}<extra></extra>",
         "legendgroup": "ilustrations",
         "marker": {
          "color": "#ab63fa",
          "pattern": {
           "shape": ""
          }
         },
         "name": "ilustrations",
         "offsetgroup": "ilustrations",
         "orientation": "v",
         "showlegend": true,
         "textposition": "auto",
         "type": "bar",
         "x": [
          "ilustrations"
         ],
         "xaxis": "x",
         "y": {
          "bdata": "DQ==",
          "dtype": "i1"
         },
         "yaxis": "y"
        },
        {
         "alignmentgroup": "True",
         "hovertemplate": "tema=Calculo<br>main_groups=%{x}<br>num_act=%{y}<extra></extra>",
         "legendgroup": "Calculo",
         "marker": {
          "color": "#FFA15A",
          "pattern": {
           "shape": ""
          }
         },
         "name": "Calculo",
         "offsetgroup": "Calculo",
         "orientation": "v",
         "showlegend": true,
         "textposition": "auto",
         "type": "bar",
         "x": [
          "logic"
         ],
         "xaxis": "x",
         "y": {
          "bdata": "Ng==",
          "dtype": "i1"
         },
         "yaxis": "y"
        },
        {
         "alignmentgroup": "True",
         "hovertemplate": "tema=Numbers<br>main_groups=%{x}<br>num_act=%{y}<extra></extra>",
         "legendgroup": "Numbers",
         "marker": {
          "color": "#19d3f3",
          "pattern": {
           "shape": ""
          }
         },
         "name": "Numbers",
         "offsetgroup": "Numbers",
         "orientation": "v",
         "showlegend": true,
         "textposition": "auto",
         "type": "bar",
         "x": [
          "logic"
         ],
         "xaxis": "x",
         "y": {
          "bdata": "Hw==",
          "dtype": "i1"
         },
         "yaxis": "y"
        },
        {
         "alignmentgroup": "True",
         "hovertemplate": "tema=logica<br>main_groups=%{x}<br>num_act=%{y}<extra></extra>",
         "legendgroup": "logica",
         "marker": {
          "color": "#FF6692",
          "pattern": {
           "shape": ""
          }
         },
         "name": "logica",
         "offsetgroup": "logica",
         "orientation": "v",
         "showlegend": true,
         "textposition": "auto",
         "type": "bar",
         "x": [
          "logic"
         ],
         "xaxis": "x",
         "y": {
          "bdata": "Gw==",
          "dtype": "i1"
         },
         "yaxis": "y"
        },
        {
         "alignmentgroup": "True",
         "hovertemplate": "tema=not found<br>main_groups=%{x}<br>num_act=%{y}<extra></extra>",
         "legendgroup": "not found",
         "marker": {
          "color": "#B6E880",
          "pattern": {
           "shape": ""
          }
         },
         "name": "not found",
         "offsetgroup": "not found",
         "orientation": "v",
         "showlegend": true,
         "textposition": "auto",
         "type": "bar",
         "x": [
          "not found"
         ],
         "xaxis": "x",
         "y": {
          "bdata": "WA==",
          "dtype": "i1"
         },
         "yaxis": "y"
        },
        {
         "alignmentgroup": "True",
         "hovertemplate": "tema=reflection<br>main_groups=%{x}<br>num_act=%{y}<extra></extra>",
         "legendgroup": "reflection",
         "marker": {
          "color": "#FF97FF",
          "pattern": {
           "shape": ""
          }
         },
         "name": "reflection",
         "offsetgroup": "reflection",
         "orientation": "v",
         "showlegend": true,
         "textposition": "auto",
         "type": "bar",
         "x": [
          "reflection"
         ],
         "xaxis": "x",
         "y": {
          "bdata": "Dg==",
          "dtype": "i1"
         },
         "yaxis": "y"
        },
        {
         "alignmentgroup": "True",
         "hovertemplate": "tema=sequence<br>main_groups=%{x}<br>num_act=%{y}<extra></extra>",
         "legendgroup": "sequence",
         "marker": {
          "color": "#FECB52",
          "pattern": {
           "shape": ""
          }
         },
         "name": "sequence",
         "offsetgroup": "sequence",
         "orientation": "v",
         "showlegend": true,
         "textposition": "auto",
         "type": "bar",
         "x": [
          "sequence"
         ],
         "xaxis": "x",
         "y": {
          "bdata": "KQ==",
          "dtype": "i1"
         },
         "yaxis": "y"
        },
        {
         "alignmentgroup": "True",
         "hovertemplate": "tema=animals<br>main_groups=%{x}<br>num_act=%{y}<extra></extra>",
         "legendgroup": "animals",
         "marker": {
          "color": "#636efa",
          "pattern": {
           "shape": ""
          }
         },
         "name": "animals",
         "offsetgroup": "animals",
         "orientation": "v",
         "showlegend": true,
         "textposition": "auto",
         "type": "bar",
         "x": [
          "themes"
         ],
         "xaxis": "x",
         "y": {
          "bdata": "Fg==",
          "dtype": "i1"
         },
         "yaxis": "y"
        },
        {
         "alignmentgroup": "True",
         "hovertemplate": "tema=formas<br>main_groups=%{x}<br>num_act=%{y}<extra></extra>",
         "legendgroup": "formas",
         "marker": {
          "color": "#EF553B",
          "pattern": {
           "shape": ""
          }
         },
         "name": "formas",
         "offsetgroup": "formas",
         "orientation": "v",
         "showlegend": true,
         "textposition": "auto",
         "type": "bar",
         "x": [
          "themes"
         ],
         "xaxis": "x",
         "y": {
          "bdata": "DQ==",
          "dtype": "i1"
         },
         "yaxis": "y"
        },
        {
         "alignmentgroup": "True",
         "hovertemplate": "tema=money<br>main_groups=%{x}<br>num_act=%{y}<extra></extra>",
         "legendgroup": "money",
         "marker": {
          "color": "#00cc96",
          "pattern": {
           "shape": ""
          }
         },
         "name": "money",
         "offsetgroup": "money",
         "orientation": "v",
         "showlegend": true,
         "textposition": "auto",
         "type": "bar",
         "x": [
          "themes"
         ],
         "xaxis": "x",
         "y": {
          "bdata": "BA==",
          "dtype": "i1"
         },
         "yaxis": "y"
        },
        {
         "alignmentgroup": "True",
         "hovertemplate": "tema=people<br>main_groups=%{x}<br>num_act=%{y}<extra></extra>",
         "legendgroup": "people",
         "marker": {
          "color": "#ab63fa",
          "pattern": {
           "shape": ""
          }
         },
         "name": "people",
         "offsetgroup": "people",
         "orientation": "v",
         "showlegend": true,
         "textposition": "auto",
         "type": "bar",
         "x": [
          "themes"
         ],
         "xaxis": "x",
         "y": {
          "bdata": "FQ==",
          "dtype": "i1"
         },
         "yaxis": "y"
        },
        {
         "alignmentgroup": "True",
         "hovertemplate": "tema=sport<br>main_groups=%{x}<br>num_act=%{y}<extra></extra>",
         "legendgroup": "sport",
         "marker": {
          "color": "#FFA15A",
          "pattern": {
           "shape": ""
          }
         },
         "name": "sport",
         "offsetgroup": "sport",
         "orientation": "v",
         "showlegend": true,
         "textposition": "auto",
         "type": "bar",
         "x": [
          "themes"
         ],
         "xaxis": "x",
         "y": {
          "bdata": "CA==",
          "dtype": "i1"
         },
         "yaxis": "y"
        },
        {
         "alignmentgroup": "True",
         "hovertemplate": "tema=transport<br>main_groups=%{x}<br>num_act=%{y}<extra></extra>",
         "legendgroup": "transport",
         "marker": {
          "color": "#19d3f3",
          "pattern": {
           "shape": ""
          }
         },
         "name": "transport",
         "offsetgroup": "transport",
         "orientation": "v",
         "showlegend": true,
         "textposition": "auto",
         "type": "bar",
         "x": [
          "themes"
         ],
         "xaxis": "x",
         "y": {
          "bdata": "BA==",
          "dtype": "i1"
         },
         "yaxis": "y"
        },
        {
         "alignmentgroup": "True",
         "hovertemplate": "tema=vida diaria<br>main_groups=%{x}<br>num_act=%{y}<extra></extra>",
         "legendgroup": "vida diaria",
         "marker": {
          "color": "#FF6692",
          "pattern": {
           "shape": ""
          }
         },
         "name": "vida diaria",
         "offsetgroup": "vida diaria",
         "orientation": "v",
         "showlegend": true,
         "textposition": "auto",
         "type": "bar",
         "x": [
          "themes"
         ],
         "xaxis": "x",
         "y": {
          "bdata": "Aw==",
          "dtype": "i1"
         },
         "yaxis": "y"
        }
       ],
       "layout": {
        "barmode": "group",
        "legend": {
         "title": {
          "text": "tema"
         },
         "tracegroupgap": 0
        },
        "margin": {
         "t": 60
        },
        "template": {
         "data": {
          "bar": [
           {
            "error_x": {
             "color": "#2a3f5f"
            },
            "error_y": {
             "color": "#2a3f5f"
            },
            "marker": {
             "line": {
              "color": "#E5ECF6",
              "width": 0.5
             },
             "pattern": {
              "fillmode": "overlay",
              "size": 10,
              "solidity": 0.2
             }
            },
            "type": "bar"
           }
          ],
          "barpolar": [
           {
            "marker": {
             "line": {
              "color": "#E5ECF6",
              "width": 0.5
             },
             "pattern": {
              "fillmode": "overlay",
              "size": 10,
              "solidity": 0.2
             }
            },
            "type": "barpolar"
           }
          ],
          "carpet": [
           {
            "aaxis": {
             "endlinecolor": "#2a3f5f",
             "gridcolor": "white",
             "linecolor": "white",
             "minorgridcolor": "white",
             "startlinecolor": "#2a3f5f"
            },
            "baxis": {
             "endlinecolor": "#2a3f5f",
             "gridcolor": "white",
             "linecolor": "white",
             "minorgridcolor": "white",
             "startlinecolor": "#2a3f5f"
            },
            "type": "carpet"
           }
          ],
          "choropleth": [
           {
            "colorbar": {
             "outlinewidth": 0,
             "ticks": ""
            },
            "type": "choropleth"
           }
          ],
          "contour": [
           {
            "colorbar": {
             "outlinewidth": 0,
             "ticks": ""
            },
            "colorscale": [
             [
              0,
              "#0d0887"
             ],
             [
              0.1111111111111111,
              "#46039f"
             ],
             [
              0.2222222222222222,
              "#7201a8"
             ],
             [
              0.3333333333333333,
              "#9c179e"
             ],
             [
              0.4444444444444444,
              "#bd3786"
             ],
             [
              0.5555555555555556,
              "#d8576b"
             ],
             [
              0.6666666666666666,
              "#ed7953"
             ],
             [
              0.7777777777777778,
              "#fb9f3a"
             ],
             [
              0.8888888888888888,
              "#fdca26"
             ],
             [
              1,
              "#f0f921"
             ]
            ],
            "type": "contour"
           }
          ],
          "contourcarpet": [
           {
            "colorbar": {
             "outlinewidth": 0,
             "ticks": ""
            },
            "type": "contourcarpet"
           }
          ],
          "heatmap": [
           {
            "colorbar": {
             "outlinewidth": 0,
             "ticks": ""
            },
            "colorscale": [
             [
              0,
              "#0d0887"
             ],
             [
              0.1111111111111111,
              "#46039f"
             ],
             [
              0.2222222222222222,
              "#7201a8"
             ],
             [
              0.3333333333333333,
              "#9c179e"
             ],
             [
              0.4444444444444444,
              "#bd3786"
             ],
             [
              0.5555555555555556,
              "#d8576b"
             ],
             [
              0.6666666666666666,
              "#ed7953"
             ],
             [
              0.7777777777777778,
              "#fb9f3a"
             ],
             [
              0.8888888888888888,
              "#fdca26"
             ],
             [
              1,
              "#f0f921"
             ]
            ],
            "type": "heatmap"
           }
          ],
          "histogram": [
           {
            "marker": {
             "pattern": {
              "fillmode": "overlay",
              "size": 10,
              "solidity": 0.2
             }
            },
            "type": "histogram"
           }
          ],
          "histogram2d": [
           {
            "colorbar": {
             "outlinewidth": 0,
             "ticks": ""
            },
            "colorscale": [
             [
              0,
              "#0d0887"
             ],
             [
              0.1111111111111111,
              "#46039f"
             ],
             [
              0.2222222222222222,
              "#7201a8"
             ],
             [
              0.3333333333333333,
              "#9c179e"
             ],
             [
              0.4444444444444444,
              "#bd3786"
             ],
             [
              0.5555555555555556,
              "#d8576b"
             ],
             [
              0.6666666666666666,
              "#ed7953"
             ],
             [
              0.7777777777777778,
              "#fb9f3a"
             ],
             [
              0.8888888888888888,
              "#fdca26"
             ],
             [
              1,
              "#f0f921"
             ]
            ],
            "type": "histogram2d"
           }
          ],
          "histogram2dcontour": [
           {
            "colorbar": {
             "outlinewidth": 0,
             "ticks": ""
            },
            "colorscale": [
             [
              0,
              "#0d0887"
             ],
             [
              0.1111111111111111,
              "#46039f"
             ],
             [
              0.2222222222222222,
              "#7201a8"
             ],
             [
              0.3333333333333333,
              "#9c179e"
             ],
             [
              0.4444444444444444,
              "#bd3786"
             ],
             [
              0.5555555555555556,
              "#d8576b"
             ],
             [
              0.6666666666666666,
              "#ed7953"
             ],
             [
              0.7777777777777778,
              "#fb9f3a"
             ],
             [
              0.8888888888888888,
              "#fdca26"
             ],
             [
              1,
              "#f0f921"
             ]
            ],
            "type": "histogram2dcontour"
           }
          ],
          "mesh3d": [
           {
            "colorbar": {
             "outlinewidth": 0,
             "ticks": ""
            },
            "type": "mesh3d"
           }
          ],
          "parcoords": [
           {
            "line": {
             "colorbar": {
              "outlinewidth": 0,
              "ticks": ""
             }
            },
            "type": "parcoords"
           }
          ],
          "pie": [
           {
            "automargin": true,
            "type": "pie"
           }
          ],
          "scatter": [
           {
            "fillpattern": {
             "fillmode": "overlay",
             "size": 10,
             "solidity": 0.2
            },
            "type": "scatter"
           }
          ],
          "scatter3d": [
           {
            "line": {
             "colorbar": {
              "outlinewidth": 0,
              "ticks": ""
             }
            },
            "marker": {
             "colorbar": {
              "outlinewidth": 0,
              "ticks": ""
             }
            },
            "type": "scatter3d"
           }
          ],
          "scattercarpet": [
           {
            "marker": {
             "colorbar": {
              "outlinewidth": 0,
              "ticks": ""
             }
            },
            "type": "scattercarpet"
           }
          ],
          "scattergeo": [
           {
            "marker": {
             "colorbar": {
              "outlinewidth": 0,
              "ticks": ""
             }
            },
            "type": "scattergeo"
           }
          ],
          "scattergl": [
           {
            "marker": {
             "colorbar": {
              "outlinewidth": 0,
              "ticks": ""
             }
            },
            "type": "scattergl"
           }
          ],
          "scattermap": [
           {
            "marker": {
             "colorbar": {
              "outlinewidth": 0,
              "ticks": ""
             }
            },
            "type": "scattermap"
           }
          ],
          "scattermapbox": [
           {
            "marker": {
             "colorbar": {
              "outlinewidth": 0,
              "ticks": ""
             }
            },
            "type": "scattermapbox"
           }
          ],
          "scatterpolar": [
           {
            "marker": {
             "colorbar": {
              "outlinewidth": 0,
              "ticks": ""
             }
            },
            "type": "scatterpolar"
           }
          ],
          "scatterpolargl": [
           {
            "marker": {
             "colorbar": {
              "outlinewidth": 0,
              "ticks": ""
             }
            },
            "type": "scatterpolargl"
           }
          ],
          "scatterternary": [
           {
            "marker": {
             "colorbar": {
              "outlinewidth": 0,
              "ticks": ""
             }
            },
            "type": "scatterternary"
           }
          ],
          "surface": [
           {
            "colorbar": {
             "outlinewidth": 0,
             "ticks": ""
            },
            "colorscale": [
             [
              0,
              "#0d0887"
             ],
             [
              0.1111111111111111,
              "#46039f"
             ],
             [
              0.2222222222222222,
              "#7201a8"
             ],
             [
              0.3333333333333333,
              "#9c179e"
             ],
             [
              0.4444444444444444,
              "#bd3786"
             ],
             [
              0.5555555555555556,
              "#d8576b"
             ],
             [
              0.6666666666666666,
              "#ed7953"
             ],
             [
              0.7777777777777778,
              "#fb9f3a"
             ],
             [
              0.8888888888888888,
              "#fdca26"
             ],
             [
              1,
              "#f0f921"
             ]
            ],
            "type": "surface"
           }
          ],
          "table": [
           {
            "cells": {
             "fill": {
              "color": "#EBF0F8"
             },
             "line": {
              "color": "white"
             }
            },
            "header": {
             "fill": {
              "color": "#C8D4E3"
             },
             "line": {
              "color": "white"
             }
            },
            "type": "table"
           }
          ]
         },
         "layout": {
          "annotationdefaults": {
           "arrowcolor": "#2a3f5f",
           "arrowhead": 0,
           "arrowwidth": 1
          },
          "autotypenumbers": "strict",
          "coloraxis": {
           "colorbar": {
            "outlinewidth": 0,
            "ticks": ""
           }
          },
          "colorscale": {
           "diverging": [
            [
             0,
             "#8e0152"
            ],
            [
             0.1,
             "#c51b7d"
            ],
            [
             0.2,
             "#de77ae"
            ],
            [
             0.3,
             "#f1b6da"
            ],
            [
             0.4,
             "#fde0ef"
            ],
            [
             0.5,
             "#f7f7f7"
            ],
            [
             0.6,
             "#e6f5d0"
            ],
            [
             0.7,
             "#b8e186"
            ],
            [
             0.8,
             "#7fbc41"
            ],
            [
             0.9,
             "#4d9221"
            ],
            [
             1,
             "#276419"
            ]
           ],
           "sequential": [
            [
             0,
             "#0d0887"
            ],
            [
             0.1111111111111111,
             "#46039f"
            ],
            [
             0.2222222222222222,
             "#7201a8"
            ],
            [
             0.3333333333333333,
             "#9c179e"
            ],
            [
             0.4444444444444444,
             "#bd3786"
            ],
            [
             0.5555555555555556,
             "#d8576b"
            ],
            [
             0.6666666666666666,
             "#ed7953"
            ],
            [
             0.7777777777777778,
             "#fb9f3a"
            ],
            [
             0.8888888888888888,
             "#fdca26"
            ],
            [
             1,
             "#f0f921"
            ]
           ],
           "sequentialminus": [
            [
             0,
             "#0d0887"
            ],
            [
             0.1111111111111111,
             "#46039f"
            ],
            [
             0.2222222222222222,
             "#7201a8"
            ],
            [
             0.3333333333333333,
             "#9c179e"
            ],
            [
             0.4444444444444444,
             "#bd3786"
            ],
            [
             0.5555555555555556,
             "#d8576b"
            ],
            [
             0.6666666666666666,
             "#ed7953"
            ],
            [
             0.7777777777777778,
             "#fb9f3a"
            ],
            [
             0.8888888888888888,
             "#fdca26"
            ],
            [
             1,
             "#f0f921"
            ]
           ]
          },
          "colorway": [
           "#636efa",
           "#EF553B",
           "#00cc96",
           "#ab63fa",
           "#FFA15A",
           "#19d3f3",
           "#FF6692",
           "#B6E880",
           "#FF97FF",
           "#FECB52"
          ],
          "font": {
           "color": "#2a3f5f"
          },
          "geo": {
           "bgcolor": "white",
           "lakecolor": "white",
           "landcolor": "#E5ECF6",
           "showlakes": true,
           "showland": true,
           "subunitcolor": "white"
          },
          "hoverlabel": {
           "align": "left"
          },
          "hovermode": "closest",
          "mapbox": {
           "style": "light"
          },
          "paper_bgcolor": "white",
          "plot_bgcolor": "#E5ECF6",
          "polar": {
           "angularaxis": {
            "gridcolor": "white",
            "linecolor": "white",
            "ticks": ""
           },
           "bgcolor": "#E5ECF6",
           "radialaxis": {
            "gridcolor": "white",
            "linecolor": "white",
            "ticks": ""
           }
          },
          "scene": {
           "xaxis": {
            "backgroundcolor": "#E5ECF6",
            "gridcolor": "white",
            "gridwidth": 2,
            "linecolor": "white",
            "showbackground": true,
            "ticks": "",
            "zerolinecolor": "white"
           },
           "yaxis": {
            "backgroundcolor": "#E5ECF6",
            "gridcolor": "white",
            "gridwidth": 2,
            "linecolor": "white",
            "showbackground": true,
            "ticks": "",
            "zerolinecolor": "white"
           },
           "zaxis": {
            "backgroundcolor": "#E5ECF6",
            "gridcolor": "white",
            "gridwidth": 2,
            "linecolor": "white",
            "showbackground": true,
            "ticks": "",
            "zerolinecolor": "white"
           }
          },
          "shapedefaults": {
           "line": {
            "color": "#2a3f5f"
           }
          },
          "ternary": {
           "aaxis": {
            "gridcolor": "white",
            "linecolor": "white",
            "ticks": ""
           },
           "baxis": {
            "gridcolor": "white",
            "linecolor": "white",
            "ticks": ""
           },
           "bgcolor": "#E5ECF6",
           "caxis": {
            "gridcolor": "white",
            "linecolor": "white",
            "ticks": ""
           }
          },
          "title": {
           "x": 0.05
          },
          "xaxis": {
           "automargin": true,
           "gridcolor": "white",
           "linecolor": "white",
           "ticks": "",
           "title": {
            "standoff": 15
           },
           "zerolinecolor": "white",
           "zerolinewidth": 2
          },
          "yaxis": {
           "automargin": true,
           "gridcolor": "white",
           "linecolor": "white",
           "ticks": "",
           "title": {
            "standoff": 15
           },
           "zerolinecolor": "white",
           "zerolinewidth": 2
          }
         }
        },
        "xaxis": {
         "anchor": "y",
         "domain": [
          0,
          1
         ],
         "title": {
          "text": "main_groups"
         }
        },
        "yaxis": {
         "anchor": "x",
         "domain": [
          0,
          1
         ],
         "title": {
          "text": "num_act"
         }
        }
       }
      }
     },
     "metadata": {},
     "output_type": "display_data"
    }
   ],
   "source": [
    "import plotly.express as px\n",
    "clf_df[\"main_groups\"] = clf_df[\"tema\"].apply(classify)\n",
    "px.bar(\n",
    "    data_frame = clf_df.groupby([\"main_groups\", \"tema\"])[\"activity_id\"].nunique().reset_index(name = \"num_act\"),\n",
    "    x = \"main_groups\",\n",
    "    y = \"num_act\",\n",
    "    color = \"tema\",\n",
    "    barmode = \"group\",\n",
    ")"
   ]
  },
  {
   "cell_type": "code",
   "execution_count": 23,
   "id": "729b3f5c",
   "metadata": {},
   "outputs": [
    {
     "data": {
      "text/html": [
       "<div>\n",
       "<style scoped>\n",
       "    .dataframe tbody tr th:only-of-type {\n",
       "        vertical-align: middle;\n",
       "    }\n",
       "\n",
       "    .dataframe tbody tr th {\n",
       "        vertical-align: top;\n",
       "    }\n",
       "\n",
       "    .dataframe thead th {\n",
       "        text-align: right;\n",
       "    }\n",
       "</style>\n",
       "<table border=\"1\" class=\"dataframe\">\n",
       "  <thead>\n",
       "    <tr style=\"text-align: right;\">\n",
       "      <th></th>\n",
       "      <th>activity_id</th>\n",
       "      <th>name</th>\n",
       "      <th>code</th>\n",
       "      <th>text</th>\n",
       "      <th>temas</th>\n",
       "      <th>similitud</th>\n",
       "    </tr>\n",
       "  </thead>\n",
       "  <tbody>\n",
       "    <tr>\n",
       "      <th>13</th>\n",
       "      <td>379</td>\n",
       "      <td>Nombrar objetos con pistas fonológicas</td>\n",
       "      <td>LN1</td>\n",
       "      <td>nombrar objetos con pistas fonológicas nombrar...</td>\n",
       "      <td>[Lingüístico, people, formas, Auditivos, logic...</td>\n",
       "      <td>[0.52, 0.5, 0.4, 0.38, 0.3, 0.21]</td>\n",
       "    </tr>\n",
       "  </tbody>\n",
       "</table>\n",
       "</div>"
      ],
      "text/plain": [
       "    activity_id                                    name code  \\\n",
       "13          379  Nombrar objetos con pistas fonológicas  LN1   \n",
       "\n",
       "                                                 text  \\\n",
       "13  nombrar objetos con pistas fonológicas nombrar...   \n",
       "\n",
       "                                                temas  \\\n",
       "13  [Lingüístico, people, formas, Auditivos, logic...   \n",
       "\n",
       "                            similitud  \n",
       "13  [0.52, 0.5, 0.4, 0.38, 0.3, 0.21]  "
      ]
     },
     "execution_count": 23,
     "metadata": {},
     "output_type": "execute_result"
    }
   ],
   "source": [
    "result_df[result_df[\"code\"] == \"LN1\"]"
   ]
  },
  {
   "cell_type": "code",
   "execution_count": 41,
   "id": "fbfdb9c3",
   "metadata": {},
   "outputs": [],
   "source": [
    "comments = {\n",
    "    \"LN1\": \"remove Audiotivos and pistas fonológicas from DB\",\n",
    "}\n",
    "\n",
    "new_tags = {\n",
    "    \"vida diaria\": [\"OP2\", \"GV12\", \"EP5\", \"EP65\", \"EP61\"],\n",
    "    \n",
    "    \"people\": [\"EP5\", \"EP65\"],\n",
    "    \"ilustrations\": [\n",
    "        \"EP65\", \"SG-PVC30-K\", \"EWM64\", \"ASE65\", \"J_aleteo\", \"J_ubiE\", \"J_plazas\",\n",
    "        \"J_puzzleRota\", \"J_copia\", \"J_coco\", \"J_dispara\", \"SG-EP33-K\", \"SG-VSR33-K\", \"SG-ASU31-A\", \"GME71\",\"J_baul\"\n",
    "    ],\n",
    "    \"animals\": [\"J_aleteo\", \"J_bichos\", \"J_copia\",\"J_baul\"], \n",
    "    \"formas\": [\"J_ubiE\", \"J_coco\"],\n",
    "    \"sequence\": [\"J_ultVent\", \"J_entrevista_child\", \"GME71\", \"J_en_orden\"],\n",
    "    \"logica\": [\"J_puzzleRota\", \"J_coco\", \"GEP68\", \"SG-PVC30-K\"],\n",
    "    \"reflection\": [\"J_copia\",\"J_robot_children\", \"J_copia_adult\", \"SG-VSR33-K\", \"SG-ASU31-A\", \"SG-ASU32-K\"],\n",
    "    \"people\": [\"J_entrevista_child\", ],\n",
    "    \"sport\" : [\"J_pararPunto\", \"J_pararPunto_child\", \"SG-VSR32-K\"],\n",
    "    \n",
    "    # \"OP2\": \"vida diaria\",\n",
    "    # \"GV12\": \"vida diaria\", \n",
    "    # \"J_ultVent\":[ \"sequence\"],\n",
    "    # \"J_aleteo\": [\"animals\", \"dibujos\"],\n",
    "    # \"J_ubiE\": [\"figures\", \"dibujos\"],\n",
    "    # \"J_bichos\": [\"animals\",],\n",
    "    # \"J_plazas\": \"dibujos\",\n",
    "    # \"J_piramide\": \"cartas - game\",\n",
    "    # \"J_piramide_poker\": \"cartas - game\",\n",
    "    # \"EWM64\": \"dibujos\",\n",
    "    # \"ASE65\": \"dibujos\",\n",
    "    # \"J_puzzleRota\": [\"logica\", \"dibujos\"],\n",
    "    # \"J_copia\": [\"dibujos\", \"animals\", \"reflection\"],\n",
    "    # \"J_robot_children\" : \"reflection\",\n",
    "    # \"J_coco\": [\"figures\", \"logica\", \"dibujos\"],\n",
    "    # \"J_dispara\": \"dibujos\",\n",
    "    # \"J_copia_adult\":\"reflection\",\n",
    "    # \"GEP68\": \"laberinto\",\n",
    "    # \"J_entrevista_child\": [\"people\", \"sequence\"],\n",
    "    # \"SG-EP33-K\": \"dibujos\",\n",
    "    # \"SG-VSR33-K\":[\"reflection\", \"dibujos\"],\n",
    "    # \"SG-ASU31-A\": [\"reflection\",\"dibujos\"],\n",
    "    # \"SG-ASU32-K\":\"reflection\",\n",
    "    \n",
    "    # clock\n",
    "#    \"J_pararPunto\":\"conducir\",\n",
    "#    \"J_pararPunto_child\": \"conducir\",\n",
    "#    \"SG-VSR32-K\": \"conducir\",\n",
    "#    \"EP5\": [\"people\", \"vida diaria\"],\n",
    "#    \"EP65\": [\"people\", \"dibujos\", \"vida diaria\"],\n",
    "#    \"EP61\": [\"vida diaria\"],\n",
    "#    \"GME71\": [\"sequecne\", \"dibujos\",],\n",
    "#    \"J_en_orden\": [\"sequence\", ],\n",
    "#    \"J_baul\": [\"animals\", \"dibujos\"],\n",
    "#    \"SG-PVC30-K\": [\"dibujos\"],\n",
    "   \n",
    "}"
   ]
  },
  {
   "cell_type": "markdown",
   "id": "143ba736",
   "metadata": {},
   "source": [
    "1. Auditivos - ✅\n",
    "fix descripton of LN1 (pistas fonológicas)\n",
    "2. clock  - ✅\n",
    "- J_pararPunto, J_pararPunto_child, SG-VSR32-A, SG-VSR32-K (change cat, conducir, dibujos)\n",
    "\n",
    "3. formas - ✅\n",
    "<!-- -SG-EI30-K\t-Explota los globos assign dibujos -->\n",
    "\n",
    "4. calculo - ✅\n",
    "- VSR3, VSR2, J_memoria, J_memoria_adult  - remove from calculo\n",
    "- APS66 - assign dibujos and remove from calculo\n",
    "- SG-VSR32-A - \tassign dibujos / sport and remove from calculo\n",
    "- SG-VSR32-K -  assign dibujos / conducir / sport and remove from calculo\n",
    "- J_contarAudios, SG-ASU40-A - remove from calculo\n",
    "\n",
    "5. Numbers \n",
    "- APS7, GAPS67, J_contarAudios, SG-ASU40-A- remove from numbers\n",
    "6. Logica - add more labirints\n",
    "7. reflection - super ✅\n",
    "\n",
    "8. sequence\n",
    "- remove: APS3,EP5, DES, EWM10, J_palabras, GAPS3,J_DES, EP65, GER10, MS76, MS7, GEWM21, ASU1-K, SG-LEX30-A\t\n",
    "\n",
    "9. animals\n",
    "remove: ASE62,  GASE77, SG-PVC30-K\t\n",
    "\n",
    "10. money - super ✅\n",
    "\n",
    "11. people\n",
    "\n",
    "remove: LD1, LV10, LD4, LV70\n",
    "\n",
    "12. sport \n",
    "remove: J_ranas, SG-VSR35-K\t\n",
    "\n",
    "13. transport\n",
    "not many.. check a few more tiems\n"
   ]
  },
  {
   "cell_type": "code",
   "execution_count": 36,
   "id": "ae6b414c",
   "metadata": {},
   "outputs": [],
   "source": [
    "to_drop = [\n",
    "    172, 223, 377, 385, 38, 40, 154, 252, 306, 317, 378, 386,\n",
    "    412, 20, 157, 251, 411,21, 54, 62, 91, 111, 134, 145, 161, \n",
    "    194, 211, 271, 283, 357, 406, 149, 267, 369,8, 209, 237, 277,\n",
    "    143, 387\n",
    "]"
   ]
  },
  {
   "cell_type": "code",
   "execution_count": 33,
   "id": "216fa86c",
   "metadata": {},
   "outputs": [
    {
     "data": {
      "text/plain": [
       "Index([143, 387], dtype='int64')"
      ]
     },
     "execution_count": 33,
     "metadata": {},
     "output_type": "execute_result"
    }
   ],
   "source": [
    "clf_df[\n",
    "    (clf_df[\"code\"].isin([\"J_ranas\", \"SG-VSR35-K\"]))\n",
    "    & (clf_df[\"tema\"] == \"sport\") \n",
    "].index"
   ]
  },
  {
   "cell_type": "code",
   "execution_count": 38,
   "id": "ec169c92",
   "metadata": {},
   "outputs": [],
   "source": [
    "clf_f1=  clf_df.drop(to_drop)"
   ]
  },
  {
   "cell_type": "code",
   "execution_count": 39,
   "id": "fad07d54",
   "metadata": {},
   "outputs": [
    {
     "data": {
      "text/html": [
       "<div>\n",
       "<style scoped>\n",
       "    .dataframe tbody tr th:only-of-type {\n",
       "        vertical-align: middle;\n",
       "    }\n",
       "\n",
       "    .dataframe tbody tr th {\n",
       "        vertical-align: top;\n",
       "    }\n",
       "\n",
       "    .dataframe thead th {\n",
       "        text-align: right;\n",
       "    }\n",
       "</style>\n",
       "<table border=\"1\" class=\"dataframe\">\n",
       "  <thead>\n",
       "    <tr style=\"text-align: right;\">\n",
       "      <th></th>\n",
       "      <th>activity_id</th>\n",
       "      <th>name</th>\n",
       "      <th>code</th>\n",
       "      <th>text</th>\n",
       "      <th>tema</th>\n",
       "      <th>similitud</th>\n",
       "      <th>main_groups</th>\n",
       "    </tr>\n",
       "  </thead>\n",
       "  <tbody>\n",
       "    <tr>\n",
       "      <th>170</th>\n",
       "      <td>814</td>\n",
       "      <td>Imágenes revueltas</td>\n",
       "      <td>J_puzzleRota</td>\n",
       "      <td>imágenes revueltas mover bloques de una manera...</td>\n",
       "      <td>not found</td>\n",
       "      <td>0.0</td>\n",
       "      <td>not found</td>\n",
       "    </tr>\n",
       "  </tbody>\n",
       "</table>\n",
       "</div>"
      ],
      "text/plain": [
       "     activity_id                name          code  \\\n",
       "170          814  Imágenes revueltas  J_puzzleRota   \n",
       "\n",
       "                                                  text       tema  similitud  \\\n",
       "170  imágenes revueltas mover bloques de una manera...  not found        0.0   \n",
       "\n",
       "    main_groups  \n",
       "170   not found  "
      ]
     },
     "execution_count": 39,
     "metadata": {},
     "output_type": "execute_result"
    }
   ],
   "source": [
    "clf_f1[clf_f1[\"code\"] == \"J_puzzleRota\"]"
   ]
  },
  {
   "cell_type": "code",
   "execution_count": 42,
   "id": "9b083148",
   "metadata": {},
   "outputs": [
    {
     "data": {
      "text/html": [
       "<div>\n",
       "<style scoped>\n",
       "    .dataframe tbody tr th:only-of-type {\n",
       "        vertical-align: middle;\n",
       "    }\n",
       "\n",
       "    .dataframe tbody tr th {\n",
       "        vertical-align: top;\n",
       "    }\n",
       "\n",
       "    .dataframe thead th {\n",
       "        text-align: right;\n",
       "    }\n",
       "</style>\n",
       "<table border=\"1\" class=\"dataframe\">\n",
       "  <thead>\n",
       "    <tr style=\"text-align: right;\">\n",
       "      <th></th>\n",
       "      <th>activity_id</th>\n",
       "      <th>name</th>\n",
       "      <th>code</th>\n",
       "      <th>text</th>\n",
       "      <th>tema</th>\n",
       "      <th>similitud</th>\n",
       "      <th>main_groups</th>\n",
       "    </tr>\n",
       "  </thead>\n",
       "  <tbody>\n",
       "    <tr>\n",
       "      <th>29</th>\n",
       "      <td>389</td>\n",
       "      <td>Objetos, establecimientos y profesionales</td>\n",
       "      <td>OP2</td>\n",
       "      <td>objetos establecimientos y profesionales relac...</td>\n",
       "      <td>not found</td>\n",
       "      <td>0.00</td>\n",
       "      <td>not found</td>\n",
       "    </tr>\n",
       "    <tr>\n",
       "      <th>53</th>\n",
       "      <td>485</td>\n",
       "      <td>Ordenar pasos de actividades (imágenes)</td>\n",
       "      <td>EP5</td>\n",
       "      <td>ordenar pasos de actividades (imágenes) poner ...</td>\n",
       "      <td>Lingüístico</td>\n",
       "      <td>0.27</td>\n",
       "      <td>Lingüístico</td>\n",
       "    </tr>\n",
       "    <tr>\n",
       "      <th>56</th>\n",
       "      <td>492</td>\n",
       "      <td>Objetos tapados</td>\n",
       "      <td>GV12</td>\n",
       "      <td>objetos tapados reconocer objetos tapados parc...</td>\n",
       "      <td>not found</td>\n",
       "      <td>0.00</td>\n",
       "      <td>not found</td>\n",
       "    </tr>\n",
       "    <tr>\n",
       "      <th>160</th>\n",
       "      <td>806</td>\n",
       "      <td>Pasito a pasito (dibujos)</td>\n",
       "      <td>EP65</td>\n",
       "      <td>pasito a pasito (dibujos) poner en orden los d...</td>\n",
       "      <td>Lingüístico</td>\n",
       "      <td>0.26</td>\n",
       "      <td>Lingüístico</td>\n",
       "    </tr>\n",
       "    <tr>\n",
       "      <th>162</th>\n",
       "      <td>807</td>\n",
       "      <td>Pasito a pasito (texto)</td>\n",
       "      <td>EP61</td>\n",
       "      <td>pasito a pasito (texto) poner en orden los dif...</td>\n",
       "      <td>sequence</td>\n",
       "      <td>0.27</td>\n",
       "      <td>sequence</td>\n",
       "    </tr>\n",
       "  </tbody>\n",
       "</table>\n",
       "</div>"
      ],
      "text/plain": [
       "     activity_id                                       name  code  \\\n",
       "29           389  Objetos, establecimientos y profesionales   OP2   \n",
       "53           485    Ordenar pasos de actividades (imágenes)   EP5   \n",
       "56           492                            Objetos tapados  GV12   \n",
       "160          806                  Pasito a pasito (dibujos)  EP65   \n",
       "162          807                    Pasito a pasito (texto)  EP61   \n",
       "\n",
       "                                                  text         tema  \\\n",
       "29   objetos establecimientos y profesionales relac...    not found   \n",
       "53   ordenar pasos de actividades (imágenes) poner ...  Lingüístico   \n",
       "56   objetos tapados reconocer objetos tapados parc...    not found   \n",
       "160  pasito a pasito (dibujos) poner en orden los d...  Lingüístico   \n",
       "162  pasito a pasito (texto) poner en orden los dif...     sequence   \n",
       "\n",
       "     similitud  main_groups  \n",
       "29        0.00    not found  \n",
       "53        0.27  Lingüístico  \n",
       "56        0.00    not found  \n",
       "160       0.26  Lingüístico  \n",
       "162       0.27     sequence  "
      ]
     },
     "execution_count": 42,
     "metadata": {},
     "output_type": "execute_result"
    }
   ],
   "source": [
    "clf_f1[clf_f1[\"code\"].isin(new_tags[\"vida diaria\"])]"
   ]
  },
  {
   "cell_type": "code",
   "execution_count": 43,
   "id": "6f926089",
   "metadata": {},
   "outputs": [
    {
     "data": {
      "text/plain": [
       "['OP2', 'GV12', 'EP5', 'EP65', 'EP61']"
      ]
     },
     "execution_count": 43,
     "metadata": {},
     "output_type": "execute_result"
    }
   ],
   "source": [
    "new_tags[\"vida diaria\"]"
   ]
  },
  {
   "cell_type": "code",
   "execution_count": 45,
   "id": "1b02100e",
   "metadata": {},
   "outputs": [],
   "source": [
    "test_df = clf_f1.copy()"
   ]
  },
  {
   "cell_type": "code",
   "execution_count": 46,
   "id": "f9217a93",
   "metadata": {},
   "outputs": [
    {
     "name": "stdout",
     "output_type": "stream",
     "text": [
      "['OP2', 'GV12', 'EP5', 'EP65', 'EP61']\n",
      "['J_entrevista_child']\n",
      "['EP65', 'SG-PVC30-K', 'EWM64', 'ASE65', 'J_aleteo', 'J_ubiE', 'J_plazas', 'J_puzzleRota', 'J_copia', 'J_coco', 'J_dispara', 'SG-EP33-K', 'SG-VSR33-K', 'SG-ASU31-A', 'GME71', 'J_baul']\n",
      "['J_aleteo', 'J_bichos', 'J_copia', 'J_baul']\n",
      "['J_ubiE', 'J_coco']\n",
      "['J_ultVent', 'J_entrevista_child', 'GME71', 'J_en_orden']\n",
      "['J_puzzleRota', 'J_coco', 'GEP68', 'SG-PVC30-K']\n",
      "['J_copia', 'J_robot_children', 'J_copia_adult', 'SG-VSR33-K', 'SG-ASU31-A', 'SG-ASU32-K']\n",
      "['J_pararPunto', 'J_pararPunto_child', 'SG-VSR32-K']\n"
     ]
    }
   ],
   "source": [
    "for key, codes in new_tags.items():\n",
    "    print(codes)"
   ]
  },
  {
   "cell_type": "code",
   "execution_count": 47,
   "id": "e5cc0811",
   "metadata": {},
   "outputs": [],
   "source": [
    "rows_to_concat = []\n",
    "\n",
    "for key, codes in new_tags.items():\n",
    "    df = clf_f1[clf_f1[\"code\"].isin(codes)]\n",
    "\n",
    "    for i, row in df.iterrows():\n",
    "        if row[\"tema\"] == \"not found\":\n",
    "            clf_f1.loc[row.name, \"tema\"] = key\n",
    "            \n",
    "        else:\n",
    "            copied_row = row.copy()\n",
    "            copied_row[\"tema\"] = key\n",
    "            rows_to_concat.append(pd.DataFrame([copied_row]))\n",
    "rows_df = pd.concat(rows_to_concat)\n",
    "clf_f2 = pd.concat([clf_f1, rows_df])\n",
    "\n",
    "clf_f2[\"main_groups\"] = clf_f2[\"tema\"].apply(classify)"
   ]
  },
  {
   "cell_type": "code",
   "execution_count": 2,
   "id": "0680e61e",
   "metadata": {},
   "outputs": [
    {
     "ename": "NameError",
     "evalue": "name 'clf_f2' is not defined",
     "output_type": "error",
     "traceback": [
      "\u001b[31m---------------------------------------------------------------------------\u001b[39m",
      "\u001b[31mNameError\u001b[39m                                 Traceback (most recent call last)",
      "\u001b[36mCell\u001b[39m\u001b[36m \u001b[39m\u001b[32mIn[2]\u001b[39m\u001b[32m, line 3\u001b[39m\n\u001b[32m      1\u001b[39m \u001b[38;5;28;01mimport\u001b[39;00m\u001b[38;5;250m \u001b[39m\u001b[34;01mplotly\u001b[39;00m\u001b[34;01m.\u001b[39;00m\u001b[34;01mexpress\u001b[39;00m\u001b[38;5;250m \u001b[39m\u001b[38;5;28;01mas\u001b[39;00m\u001b[38;5;250m \u001b[39m\u001b[34;01mpx\u001b[39;00m\n\u001b[32m      2\u001b[39m px.bar(\n\u001b[32m----> \u001b[39m\u001b[32m3\u001b[39m     data_frame = \u001b[43mclf_f2\u001b[49m.groupby([\u001b[33m\"\u001b[39m\u001b[33mmain_groups\u001b[39m\u001b[33m\"\u001b[39m, \u001b[33m\"\u001b[39m\u001b[33mtema\u001b[39m\u001b[33m\"\u001b[39m])[\u001b[33m\"\u001b[39m\u001b[33mactivity_id\u001b[39m\u001b[33m\"\u001b[39m].nunique().reset_index(name = \u001b[33m\"\u001b[39m\u001b[33mnum_act\u001b[39m\u001b[33m\"\u001b[39m),\n\u001b[32m      4\u001b[39m     x = \u001b[33m\"\u001b[39m\u001b[33mmain_groups\u001b[39m\u001b[33m\"\u001b[39m,\n\u001b[32m      5\u001b[39m     y = \u001b[33m\"\u001b[39m\u001b[33mnum_act\u001b[39m\u001b[33m\"\u001b[39m,\n\u001b[32m      6\u001b[39m     color = \u001b[33m\"\u001b[39m\u001b[33mtema\u001b[39m\u001b[33m\"\u001b[39m,\n\u001b[32m      7\u001b[39m     barmode = \u001b[33m\"\u001b[39m\u001b[33mgroup\u001b[39m\u001b[33m\"\u001b[39m,\n\u001b[32m      8\u001b[39m )\n",
      "\u001b[31mNameError\u001b[39m: name 'clf_f2' is not defined"
     ]
    }
   ],
   "source": [
    "import plotly.express as px\n",
    "px.bar(\n",
    "    data_frame = clf_f2.groupby([\"main_groups\", \"tema\"])[\"activity_id\"].nunique().reset_index(name = \"num_act\"),\n",
    "    x = \"main_groups\",\n",
    "    y = \"num_act\",\n",
    "    color = \"tema\",\n",
    "    barmode = \"group\",\n",
    ")"
   ]
  },
  {
   "cell_type": "code",
   "execution_count": null,
   "id": "756d8d68",
   "metadata": {},
   "outputs": [],
   "source": []
  },
  {
   "cell_type": "code",
   "execution_count": 49,
   "id": "5d696636",
   "metadata": {},
   "outputs": [
    {
     "data": {
      "text/html": [
       "<div>\n",
       "<style scoped>\n",
       "    .dataframe tbody tr th:only-of-type {\n",
       "        vertical-align: middle;\n",
       "    }\n",
       "\n",
       "    .dataframe tbody tr th {\n",
       "        vertical-align: top;\n",
       "    }\n",
       "\n",
       "    .dataframe thead th {\n",
       "        text-align: right;\n",
       "    }\n",
       "</style>\n",
       "<table border=\"1\" class=\"dataframe\">\n",
       "  <thead>\n",
       "    <tr style=\"text-align: right;\">\n",
       "      <th></th>\n",
       "      <th>activity_id</th>\n",
       "      <th>name</th>\n",
       "      <th>code</th>\n",
       "      <th>text</th>\n",
       "      <th>tema</th>\n",
       "      <th>similitud</th>\n",
       "      <th>main_groups</th>\n",
       "    </tr>\n",
       "  </thead>\n",
       "  <tbody>\n",
       "    <tr>\n",
       "      <th>1</th>\n",
       "      <td>352</td>\n",
       "      <td>Búsqueda de estímulos consecutivos</td>\n",
       "      <td>ASE3</td>\n",
       "      <td>búsqueda de estímulos consecutivos buscar entr...</td>\n",
       "      <td>not found</td>\n",
       "      <td>0.0</td>\n",
       "      <td>not found</td>\n",
       "    </tr>\n",
       "    <tr>\n",
       "      <th>9</th>\n",
       "      <td>356</td>\n",
       "      <td>Objetos en el hogar</td>\n",
       "      <td>OP3</td>\n",
       "      <td>objetos en el hogar ubicar en qué lugares de l...</td>\n",
       "      <td>not found</td>\n",
       "      <td>0.0</td>\n",
       "      <td>not found</td>\n",
       "    </tr>\n",
       "    <tr>\n",
       "      <th>10</th>\n",
       "      <td>356</td>\n",
       "      <td>Objetos en el hogar</td>\n",
       "      <td>OP3</td>\n",
       "      <td>objetos en el hogar ubicar en qué lugares de l...</td>\n",
       "      <td>not found</td>\n",
       "      <td>0.0</td>\n",
       "      <td>not found</td>\n",
       "    </tr>\n",
       "    <tr>\n",
       "      <th>15</th>\n",
       "      <td>362</td>\n",
       "      <td>Señalar la imagen diferente</td>\n",
       "      <td>APS6</td>\n",
       "      <td>señalar la imagen diferente señalar la imagen ...</td>\n",
       "      <td>not found</td>\n",
       "      <td>0.0</td>\n",
       "      <td>not found</td>\n",
       "    </tr>\n",
       "    <tr>\n",
       "      <th>41</th>\n",
       "      <td>476</td>\n",
       "      <td>Imágenes incompletas</td>\n",
       "      <td>GV4</td>\n",
       "      <td>imágenes incompletas seleccionar la opción que...</td>\n",
       "      <td>not found</td>\n",
       "      <td>0.0</td>\n",
       "      <td>not found</td>\n",
       "    </tr>\n",
       "    <tr>\n",
       "      <th>...</th>\n",
       "      <td>...</td>\n",
       "      <td>...</td>\n",
       "      <td>...</td>\n",
       "      <td>...</td>\n",
       "      <td>...</td>\n",
       "      <td>...</td>\n",
       "      <td>...</td>\n",
       "    </tr>\n",
       "    <tr>\n",
       "      <th>422</th>\n",
       "      <td>1830</td>\n",
       "      <td>Encuentra el monumento</td>\n",
       "      <td>SG-APS31-A</td>\n",
       "      <td>encuentra el monumento seguir las indicaciones...</td>\n",
       "      <td>not found</td>\n",
       "      <td>0.0</td>\n",
       "      <td>not found</td>\n",
       "    </tr>\n",
       "    <tr>\n",
       "      <th>424</th>\n",
       "      <td>1839</td>\n",
       "      <td>Teje la bufanda</td>\n",
       "      <td>SG-APS35-A</td>\n",
       "      <td>teje la bufanda recoger todos los ovillos que ...</td>\n",
       "      <td>not found</td>\n",
       "      <td>0.0</td>\n",
       "      <td>not found</td>\n",
       "    </tr>\n",
       "    <tr>\n",
       "      <th>435</th>\n",
       "      <td>1860</td>\n",
       "      <td>El mejor organizador</td>\n",
       "      <td>SG-EFX32-K</td>\n",
       "      <td>el mejor organizador organizar diversos elemen...</td>\n",
       "      <td>not found</td>\n",
       "      <td>0.0</td>\n",
       "      <td>not found</td>\n",
       "    </tr>\n",
       "    <tr>\n",
       "      <th>436</th>\n",
       "      <td>1863</td>\n",
       "      <td>Emparejamientos veloces</td>\n",
       "      <td>SG-APS34-A</td>\n",
       "      <td>emparejamientos veloces asociar los elementos ...</td>\n",
       "      <td>not found</td>\n",
       "      <td>0.0</td>\n",
       "      <td>not found</td>\n",
       "    </tr>\n",
       "    <tr>\n",
       "      <th>437</th>\n",
       "      <td>1866</td>\n",
       "      <td>Parejas a la carrera</td>\n",
       "      <td>SG-APS34-K</td>\n",
       "      <td>parejas a la carrera asociar los elementos mos...</td>\n",
       "      <td>not found</td>\n",
       "      <td>0.0</td>\n",
       "      <td>not found</td>\n",
       "    </tr>\n",
       "  </tbody>\n",
       "</table>\n",
       "<p>74 rows × 7 columns</p>\n",
       "</div>"
      ],
      "text/plain": [
       "     activity_id                                name        code  \\\n",
       "1            352  Búsqueda de estímulos consecutivos        ASE3   \n",
       "9            356                 Objetos en el hogar         OP3   \n",
       "10           356                 Objetos en el hogar         OP3   \n",
       "15           362         Señalar la imagen diferente        APS6   \n",
       "41           476                Imágenes incompletas         GV4   \n",
       "..           ...                                 ...         ...   \n",
       "422         1830              Encuentra el monumento  SG-APS31-A   \n",
       "424         1839                     Teje la bufanda  SG-APS35-A   \n",
       "435         1860                El mejor organizador  SG-EFX32-K   \n",
       "436         1863             Emparejamientos veloces  SG-APS34-A   \n",
       "437         1866                Parejas a la carrera  SG-APS34-K   \n",
       "\n",
       "                                                  text       tema  similitud  \\\n",
       "1    búsqueda de estímulos consecutivos buscar entr...  not found        0.0   \n",
       "9    objetos en el hogar ubicar en qué lugares de l...  not found        0.0   \n",
       "10   objetos en el hogar ubicar en qué lugares de l...  not found        0.0   \n",
       "15   señalar la imagen diferente señalar la imagen ...  not found        0.0   \n",
       "41   imágenes incompletas seleccionar la opción que...  not found        0.0   \n",
       "..                                                 ...        ...        ...   \n",
       "422  encuentra el monumento seguir las indicaciones...  not found        0.0   \n",
       "424  teje la bufanda recoger todos los ovillos que ...  not found        0.0   \n",
       "435  el mejor organizador organizar diversos elemen...  not found        0.0   \n",
       "436  emparejamientos veloces asociar los elementos ...  not found        0.0   \n",
       "437  parejas a la carrera asociar los elementos mos...  not found        0.0   \n",
       "\n",
       "    main_groups  \n",
       "1     not found  \n",
       "9     not found  \n",
       "10    not found  \n",
       "15    not found  \n",
       "41    not found  \n",
       "..          ...  \n",
       "422   not found  \n",
       "424   not found  \n",
       "435   not found  \n",
       "436   not found  \n",
       "437   not found  \n",
       "\n",
       "[74 rows x 7 columns]"
      ]
     },
     "execution_count": 49,
     "metadata": {},
     "output_type": "execute_result"
    }
   ],
   "source": [
    "clf_f2[clf_f2[\"tema\"] == \"not found\"]"
   ]
  },
  {
   "cell_type": "code",
   "execution_count": 50,
   "id": "ff83c892",
   "metadata": {},
   "outputs": [],
   "source": [
    "result_df = classify_activities_df(clf_f2[clf_f2[\"tema\"] == \"not found\"], \"text\", topic_vectors, model, threshold=0.15)\n",
    "clf_f3 = explode_topics_df(result_df)"
   ]
  },
  {
   "cell_type": "code",
   "execution_count": 51,
   "id": "3800b8d2",
   "metadata": {},
   "outputs": [],
   "source": [
    "clf_f3[\"main_groups\"] = clf_f3[\"tema\"].apply(classify)"
   ]
  },
  {
   "cell_type": "code",
   "execution_count": 52,
   "id": "ba2f5389",
   "metadata": {},
   "outputs": [
    {
     "data": {
      "application/vnd.plotly.v1+json": {
       "config": {
        "plotlyServerURL": "https://plot.ly"
       },
       "data": [
        {
         "alignmentgroup": "True",
         "hovertemplate": "tema=Auditivos<br>main_groups=%{x}<br>num_act=%{y}<extra></extra>",
         "legendgroup": "Auditivos",
         "marker": {
          "color": "#636efa",
          "pattern": {
           "shape": ""
          }
         },
         "name": "Auditivos",
         "offsetgroup": "Auditivos",
         "orientation": "v",
         "showlegend": true,
         "textposition": "auto",
         "type": "bar",
         "x": [
          "Auditivos"
         ],
         "xaxis": "x",
         "y": {
          "bdata": "BQ==",
          "dtype": "i1"
         },
         "yaxis": "y"
        },
        {
         "alignmentgroup": "True",
         "hovertemplate": "tema=Lingüístico<br>main_groups=%{x}<br>num_act=%{y}<extra></extra>",
         "legendgroup": "Lingüístico",
         "marker": {
          "color": "#EF553B",
          "pattern": {
           "shape": ""
          }
         },
         "name": "Lingüístico",
         "offsetgroup": "Lingüístico",
         "orientation": "v",
         "showlegend": true,
         "textposition": "auto",
         "type": "bar",
         "x": [
          "Lingüístico"
         ],
         "xaxis": "x",
         "y": {
          "bdata": "DA==",
          "dtype": "i1"
         },
         "yaxis": "y"
        },
        {
         "alignmentgroup": "True",
         "hovertemplate": "tema=clock<br>main_groups=%{x}<br>num_act=%{y}<extra></extra>",
         "legendgroup": "clock",
         "marker": {
          "color": "#00cc96",
          "pattern": {
           "shape": ""
          }
         },
         "name": "clock",
         "offsetgroup": "clock",
         "orientation": "v",
         "showlegend": true,
         "textposition": "auto",
         "type": "bar",
         "x": [
          "clock"
         ],
         "xaxis": "x",
         "y": {
          "bdata": "Aw==",
          "dtype": "i1"
         },
         "yaxis": "y"
        },
        {
         "alignmentgroup": "True",
         "hovertemplate": "tema=ilustrations<br>main_groups=%{x}<br>num_act=%{y}<extra></extra>",
         "legendgroup": "ilustrations",
         "marker": {
          "color": "#ab63fa",
          "pattern": {
           "shape": ""
          }
         },
         "name": "ilustrations",
         "offsetgroup": "ilustrations",
         "orientation": "v",
         "showlegend": true,
         "textposition": "auto",
         "type": "bar",
         "x": [
          "ilustrations"
         ],
         "xaxis": "x",
         "y": {
          "bdata": "Ew==",
          "dtype": "i1"
         },
         "yaxis": "y"
        },
        {
         "alignmentgroup": "True",
         "hovertemplate": "tema=Calculo<br>main_groups=%{x}<br>num_act=%{y}<extra></extra>",
         "legendgroup": "Calculo",
         "marker": {
          "color": "#FFA15A",
          "pattern": {
           "shape": ""
          }
         },
         "name": "Calculo",
         "offsetgroup": "Calculo",
         "orientation": "v",
         "showlegend": true,
         "textposition": "auto",
         "type": "bar",
         "x": [
          "logic"
         ],
         "xaxis": "x",
         "y": {
          "bdata": "Dg==",
          "dtype": "i1"
         },
         "yaxis": "y"
        },
        {
         "alignmentgroup": "True",
         "hovertemplate": "tema=Numbers<br>main_groups=%{x}<br>num_act=%{y}<extra></extra>",
         "legendgroup": "Numbers",
         "marker": {
          "color": "#19d3f3",
          "pattern": {
           "shape": ""
          }
         },
         "name": "Numbers",
         "offsetgroup": "Numbers",
         "orientation": "v",
         "showlegend": true,
         "textposition": "auto",
         "type": "bar",
         "x": [
          "logic"
         ],
         "xaxis": "x",
         "y": {
          "bdata": "BQ==",
          "dtype": "i1"
         },
         "yaxis": "y"
        },
        {
         "alignmentgroup": "True",
         "hovertemplate": "tema=logica<br>main_groups=%{x}<br>num_act=%{y}<extra></extra>",
         "legendgroup": "logica",
         "marker": {
          "color": "#FF6692",
          "pattern": {
           "shape": ""
          }
         },
         "name": "logica",
         "offsetgroup": "logica",
         "orientation": "v",
         "showlegend": true,
         "textposition": "auto",
         "type": "bar",
         "x": [
          "logic"
         ],
         "xaxis": "x",
         "y": {
          "bdata": "Eg==",
          "dtype": "i1"
         },
         "yaxis": "y"
        },
        {
         "alignmentgroup": "True",
         "hovertemplate": "tema=not found<br>main_groups=%{x}<br>num_act=%{y}<extra></extra>",
         "legendgroup": "not found",
         "marker": {
          "color": "#B6E880",
          "pattern": {
           "shape": ""
          }
         },
         "name": "not found",
         "offsetgroup": "not found",
         "orientation": "v",
         "showlegend": true,
         "textposition": "auto",
         "type": "bar",
         "x": [
          "not found"
         ],
         "xaxis": "x",
         "y": {
          "bdata": "BA==",
          "dtype": "i1"
         },
         "yaxis": "y"
        },
        {
         "alignmentgroup": "True",
         "hovertemplate": "tema=reflection<br>main_groups=%{x}<br>num_act=%{y}<extra></extra>",
         "legendgroup": "reflection",
         "marker": {
          "color": "#FF97FF",
          "pattern": {
           "shape": ""
          }
         },
         "name": "reflection",
         "offsetgroup": "reflection",
         "orientation": "v",
         "showlegend": true,
         "textposition": "auto",
         "type": "bar",
         "x": [
          "reflection"
         ],
         "xaxis": "x",
         "y": {
          "bdata": "Cw==",
          "dtype": "i1"
         },
         "yaxis": "y"
        },
        {
         "alignmentgroup": "True",
         "hovertemplate": "tema=sequence<br>main_groups=%{x}<br>num_act=%{y}<extra></extra>",
         "legendgroup": "sequence",
         "marker": {
          "color": "#FECB52",
          "pattern": {
           "shape": ""
          }
         },
         "name": "sequence",
         "offsetgroup": "sequence",
         "orientation": "v",
         "showlegend": true,
         "textposition": "auto",
         "type": "bar",
         "x": [
          "sequence"
         ],
         "xaxis": "x",
         "y": {
          "bdata": "DQ==",
          "dtype": "i1"
         },
         "yaxis": "y"
        },
        {
         "alignmentgroup": "True",
         "hovertemplate": "tema=animals<br>main_groups=%{x}<br>num_act=%{y}<extra></extra>",
         "legendgroup": "animals",
         "marker": {
          "color": "#636efa",
          "pattern": {
           "shape": ""
          }
         },
         "name": "animals",
         "offsetgroup": "animals",
         "orientation": "v",
         "showlegend": true,
         "textposition": "auto",
         "type": "bar",
         "x": [
          "themes"
         ],
         "xaxis": "x",
         "y": {
          "bdata": "Fg==",
          "dtype": "i1"
         },
         "yaxis": "y"
        },
        {
         "alignmentgroup": "True",
         "hovertemplate": "tema=formas<br>main_groups=%{x}<br>num_act=%{y}<extra></extra>",
         "legendgroup": "formas",
         "marker": {
          "color": "#EF553B",
          "pattern": {
           "shape": ""
          }
         },
         "name": "formas",
         "offsetgroup": "formas",
         "orientation": "v",
         "showlegend": true,
         "textposition": "auto",
         "type": "bar",
         "x": [
          "themes"
         ],
         "xaxis": "x",
         "y": {
          "bdata": "FQ==",
          "dtype": "i1"
         },
         "yaxis": "y"
        },
        {
         "alignmentgroup": "True",
         "hovertemplate": "tema=money<br>main_groups=%{x}<br>num_act=%{y}<extra></extra>",
         "legendgroup": "money",
         "marker": {
          "color": "#00cc96",
          "pattern": {
           "shape": ""
          }
         },
         "name": "money",
         "offsetgroup": "money",
         "orientation": "v",
         "showlegend": true,
         "textposition": "auto",
         "type": "bar",
         "x": [
          "themes"
         ],
         "xaxis": "x",
         "y": {
          "bdata": "Dw==",
          "dtype": "i1"
         },
         "yaxis": "y"
        },
        {
         "alignmentgroup": "True",
         "hovertemplate": "tema=people<br>main_groups=%{x}<br>num_act=%{y}<extra></extra>",
         "legendgroup": "people",
         "marker": {
          "color": "#ab63fa",
          "pattern": {
           "shape": ""
          }
         },
         "name": "people",
         "offsetgroup": "people",
         "orientation": "v",
         "showlegend": true,
         "textposition": "auto",
         "type": "bar",
         "x": [
          "themes"
         ],
         "xaxis": "x",
         "y": {
          "bdata": "Cg==",
          "dtype": "i1"
         },
         "yaxis": "y"
        },
        {
         "alignmentgroup": "True",
         "hovertemplate": "tema=sport<br>main_groups=%{x}<br>num_act=%{y}<extra></extra>",
         "legendgroup": "sport",
         "marker": {
          "color": "#FFA15A",
          "pattern": {
           "shape": ""
          }
         },
         "name": "sport",
         "offsetgroup": "sport",
         "orientation": "v",
         "showlegend": true,
         "textposition": "auto",
         "type": "bar",
         "x": [
          "themes"
         ],
         "xaxis": "x",
         "y": {
          "bdata": "BQ==",
          "dtype": "i1"
         },
         "yaxis": "y"
        },
        {
         "alignmentgroup": "True",
         "hovertemplate": "tema=transport<br>main_groups=%{x}<br>num_act=%{y}<extra></extra>",
         "legendgroup": "transport",
         "marker": {
          "color": "#19d3f3",
          "pattern": {
           "shape": ""
          }
         },
         "name": "transport",
         "offsetgroup": "transport",
         "orientation": "v",
         "showlegend": true,
         "textposition": "auto",
         "type": "bar",
         "x": [
          "themes"
         ],
         "xaxis": "x",
         "y": {
          "bdata": "Bg==",
          "dtype": "i1"
         },
         "yaxis": "y"
        },
        {
         "alignmentgroup": "True",
         "hovertemplate": "tema=vida diaria<br>main_groups=%{x}<br>num_act=%{y}<extra></extra>",
         "legendgroup": "vida diaria",
         "marker": {
          "color": "#FF6692",
          "pattern": {
           "shape": ""
          }
         },
         "name": "vida diaria",
         "offsetgroup": "vida diaria",
         "orientation": "v",
         "showlegend": true,
         "textposition": "auto",
         "type": "bar",
         "x": [
          "themes"
         ],
         "xaxis": "x",
         "y": {
          "bdata": "Ew==",
          "dtype": "i1"
         },
         "yaxis": "y"
        }
       ],
       "layout": {
        "barmode": "group",
        "legend": {
         "title": {
          "text": "tema"
         },
         "tracegroupgap": 0
        },
        "margin": {
         "t": 60
        },
        "template": {
         "data": {
          "bar": [
           {
            "error_x": {
             "color": "#2a3f5f"
            },
            "error_y": {
             "color": "#2a3f5f"
            },
            "marker": {
             "line": {
              "color": "#E5ECF6",
              "width": 0.5
             },
             "pattern": {
              "fillmode": "overlay",
              "size": 10,
              "solidity": 0.2
             }
            },
            "type": "bar"
           }
          ],
          "barpolar": [
           {
            "marker": {
             "line": {
              "color": "#E5ECF6",
              "width": 0.5
             },
             "pattern": {
              "fillmode": "overlay",
              "size": 10,
              "solidity": 0.2
             }
            },
            "type": "barpolar"
           }
          ],
          "carpet": [
           {
            "aaxis": {
             "endlinecolor": "#2a3f5f",
             "gridcolor": "white",
             "linecolor": "white",
             "minorgridcolor": "white",
             "startlinecolor": "#2a3f5f"
            },
            "baxis": {
             "endlinecolor": "#2a3f5f",
             "gridcolor": "white",
             "linecolor": "white",
             "minorgridcolor": "white",
             "startlinecolor": "#2a3f5f"
            },
            "type": "carpet"
           }
          ],
          "choropleth": [
           {
            "colorbar": {
             "outlinewidth": 0,
             "ticks": ""
            },
            "type": "choropleth"
           }
          ],
          "contour": [
           {
            "colorbar": {
             "outlinewidth": 0,
             "ticks": ""
            },
            "colorscale": [
             [
              0,
              "#0d0887"
             ],
             [
              0.1111111111111111,
              "#46039f"
             ],
             [
              0.2222222222222222,
              "#7201a8"
             ],
             [
              0.3333333333333333,
              "#9c179e"
             ],
             [
              0.4444444444444444,
              "#bd3786"
             ],
             [
              0.5555555555555556,
              "#d8576b"
             ],
             [
              0.6666666666666666,
              "#ed7953"
             ],
             [
              0.7777777777777778,
              "#fb9f3a"
             ],
             [
              0.8888888888888888,
              "#fdca26"
             ],
             [
              1,
              "#f0f921"
             ]
            ],
            "type": "contour"
           }
          ],
          "contourcarpet": [
           {
            "colorbar": {
             "outlinewidth": 0,
             "ticks": ""
            },
            "type": "contourcarpet"
           }
          ],
          "heatmap": [
           {
            "colorbar": {
             "outlinewidth": 0,
             "ticks": ""
            },
            "colorscale": [
             [
              0,
              "#0d0887"
             ],
             [
              0.1111111111111111,
              "#46039f"
             ],
             [
              0.2222222222222222,
              "#7201a8"
             ],
             [
              0.3333333333333333,
              "#9c179e"
             ],
             [
              0.4444444444444444,
              "#bd3786"
             ],
             [
              0.5555555555555556,
              "#d8576b"
             ],
             [
              0.6666666666666666,
              "#ed7953"
             ],
             [
              0.7777777777777778,
              "#fb9f3a"
             ],
             [
              0.8888888888888888,
              "#fdca26"
             ],
             [
              1,
              "#f0f921"
             ]
            ],
            "type": "heatmap"
           }
          ],
          "histogram": [
           {
            "marker": {
             "pattern": {
              "fillmode": "overlay",
              "size": 10,
              "solidity": 0.2
             }
            },
            "type": "histogram"
           }
          ],
          "histogram2d": [
           {
            "colorbar": {
             "outlinewidth": 0,
             "ticks": ""
            },
            "colorscale": [
             [
              0,
              "#0d0887"
             ],
             [
              0.1111111111111111,
              "#46039f"
             ],
             [
              0.2222222222222222,
              "#7201a8"
             ],
             [
              0.3333333333333333,
              "#9c179e"
             ],
             [
              0.4444444444444444,
              "#bd3786"
             ],
             [
              0.5555555555555556,
              "#d8576b"
             ],
             [
              0.6666666666666666,
              "#ed7953"
             ],
             [
              0.7777777777777778,
              "#fb9f3a"
             ],
             [
              0.8888888888888888,
              "#fdca26"
             ],
             [
              1,
              "#f0f921"
             ]
            ],
            "type": "histogram2d"
           }
          ],
          "histogram2dcontour": [
           {
            "colorbar": {
             "outlinewidth": 0,
             "ticks": ""
            },
            "colorscale": [
             [
              0,
              "#0d0887"
             ],
             [
              0.1111111111111111,
              "#46039f"
             ],
             [
              0.2222222222222222,
              "#7201a8"
             ],
             [
              0.3333333333333333,
              "#9c179e"
             ],
             [
              0.4444444444444444,
              "#bd3786"
             ],
             [
              0.5555555555555556,
              "#d8576b"
             ],
             [
              0.6666666666666666,
              "#ed7953"
             ],
             [
              0.7777777777777778,
              "#fb9f3a"
             ],
             [
              0.8888888888888888,
              "#fdca26"
             ],
             [
              1,
              "#f0f921"
             ]
            ],
            "type": "histogram2dcontour"
           }
          ],
          "mesh3d": [
           {
            "colorbar": {
             "outlinewidth": 0,
             "ticks": ""
            },
            "type": "mesh3d"
           }
          ],
          "parcoords": [
           {
            "line": {
             "colorbar": {
              "outlinewidth": 0,
              "ticks": ""
             }
            },
            "type": "parcoords"
           }
          ],
          "pie": [
           {
            "automargin": true,
            "type": "pie"
           }
          ],
          "scatter": [
           {
            "fillpattern": {
             "fillmode": "overlay",
             "size": 10,
             "solidity": 0.2
            },
            "type": "scatter"
           }
          ],
          "scatter3d": [
           {
            "line": {
             "colorbar": {
              "outlinewidth": 0,
              "ticks": ""
             }
            },
            "marker": {
             "colorbar": {
              "outlinewidth": 0,
              "ticks": ""
             }
            },
            "type": "scatter3d"
           }
          ],
          "scattercarpet": [
           {
            "marker": {
             "colorbar": {
              "outlinewidth": 0,
              "ticks": ""
             }
            },
            "type": "scattercarpet"
           }
          ],
          "scattergeo": [
           {
            "marker": {
             "colorbar": {
              "outlinewidth": 0,
              "ticks": ""
             }
            },
            "type": "scattergeo"
           }
          ],
          "scattergl": [
           {
            "marker": {
             "colorbar": {
              "outlinewidth": 0,
              "ticks": ""
             }
            },
            "type": "scattergl"
           }
          ],
          "scattermap": [
           {
            "marker": {
             "colorbar": {
              "outlinewidth": 0,
              "ticks": ""
             }
            },
            "type": "scattermap"
           }
          ],
          "scattermapbox": [
           {
            "marker": {
             "colorbar": {
              "outlinewidth": 0,
              "ticks": ""
             }
            },
            "type": "scattermapbox"
           }
          ],
          "scatterpolar": [
           {
            "marker": {
             "colorbar": {
              "outlinewidth": 0,
              "ticks": ""
             }
            },
            "type": "scatterpolar"
           }
          ],
          "scatterpolargl": [
           {
            "marker": {
             "colorbar": {
              "outlinewidth": 0,
              "ticks": ""
             }
            },
            "type": "scatterpolargl"
           }
          ],
          "scatterternary": [
           {
            "marker": {
             "colorbar": {
              "outlinewidth": 0,
              "ticks": ""
             }
            },
            "type": "scatterternary"
           }
          ],
          "surface": [
           {
            "colorbar": {
             "outlinewidth": 0,
             "ticks": ""
            },
            "colorscale": [
             [
              0,
              "#0d0887"
             ],
             [
              0.1111111111111111,
              "#46039f"
             ],
             [
              0.2222222222222222,
              "#7201a8"
             ],
             [
              0.3333333333333333,
              "#9c179e"
             ],
             [
              0.4444444444444444,
              "#bd3786"
             ],
             [
              0.5555555555555556,
              "#d8576b"
             ],
             [
              0.6666666666666666,
              "#ed7953"
             ],
             [
              0.7777777777777778,
              "#fb9f3a"
             ],
             [
              0.8888888888888888,
              "#fdca26"
             ],
             [
              1,
              "#f0f921"
             ]
            ],
            "type": "surface"
           }
          ],
          "table": [
           {
            "cells": {
             "fill": {
              "color": "#EBF0F8"
             },
             "line": {
              "color": "white"
             }
            },
            "header": {
             "fill": {
              "color": "#C8D4E3"
             },
             "line": {
              "color": "white"
             }
            },
            "type": "table"
           }
          ]
         },
         "layout": {
          "annotationdefaults": {
           "arrowcolor": "#2a3f5f",
           "arrowhead": 0,
           "arrowwidth": 1
          },
          "autotypenumbers": "strict",
          "coloraxis": {
           "colorbar": {
            "outlinewidth": 0,
            "ticks": ""
           }
          },
          "colorscale": {
           "diverging": [
            [
             0,
             "#8e0152"
            ],
            [
             0.1,
             "#c51b7d"
            ],
            [
             0.2,
             "#de77ae"
            ],
            [
             0.3,
             "#f1b6da"
            ],
            [
             0.4,
             "#fde0ef"
            ],
            [
             0.5,
             "#f7f7f7"
            ],
            [
             0.6,
             "#e6f5d0"
            ],
            [
             0.7,
             "#b8e186"
            ],
            [
             0.8,
             "#7fbc41"
            ],
            [
             0.9,
             "#4d9221"
            ],
            [
             1,
             "#276419"
            ]
           ],
           "sequential": [
            [
             0,
             "#0d0887"
            ],
            [
             0.1111111111111111,
             "#46039f"
            ],
            [
             0.2222222222222222,
             "#7201a8"
            ],
            [
             0.3333333333333333,
             "#9c179e"
            ],
            [
             0.4444444444444444,
             "#bd3786"
            ],
            [
             0.5555555555555556,
             "#d8576b"
            ],
            [
             0.6666666666666666,
             "#ed7953"
            ],
            [
             0.7777777777777778,
             "#fb9f3a"
            ],
            [
             0.8888888888888888,
             "#fdca26"
            ],
            [
             1,
             "#f0f921"
            ]
           ],
           "sequentialminus": [
            [
             0,
             "#0d0887"
            ],
            [
             0.1111111111111111,
             "#46039f"
            ],
            [
             0.2222222222222222,
             "#7201a8"
            ],
            [
             0.3333333333333333,
             "#9c179e"
            ],
            [
             0.4444444444444444,
             "#bd3786"
            ],
            [
             0.5555555555555556,
             "#d8576b"
            ],
            [
             0.6666666666666666,
             "#ed7953"
            ],
            [
             0.7777777777777778,
             "#fb9f3a"
            ],
            [
             0.8888888888888888,
             "#fdca26"
            ],
            [
             1,
             "#f0f921"
            ]
           ]
          },
          "colorway": [
           "#636efa",
           "#EF553B",
           "#00cc96",
           "#ab63fa",
           "#FFA15A",
           "#19d3f3",
           "#FF6692",
           "#B6E880",
           "#FF97FF",
           "#FECB52"
          ],
          "font": {
           "color": "#2a3f5f"
          },
          "geo": {
           "bgcolor": "white",
           "lakecolor": "white",
           "landcolor": "#E5ECF6",
           "showlakes": true,
           "showland": true,
           "subunitcolor": "white"
          },
          "hoverlabel": {
           "align": "left"
          },
          "hovermode": "closest",
          "mapbox": {
           "style": "light"
          },
          "paper_bgcolor": "white",
          "plot_bgcolor": "#E5ECF6",
          "polar": {
           "angularaxis": {
            "gridcolor": "white",
            "linecolor": "white",
            "ticks": ""
           },
           "bgcolor": "#E5ECF6",
           "radialaxis": {
            "gridcolor": "white",
            "linecolor": "white",
            "ticks": ""
           }
          },
          "scene": {
           "xaxis": {
            "backgroundcolor": "#E5ECF6",
            "gridcolor": "white",
            "gridwidth": 2,
            "linecolor": "white",
            "showbackground": true,
            "ticks": "",
            "zerolinecolor": "white"
           },
           "yaxis": {
            "backgroundcolor": "#E5ECF6",
            "gridcolor": "white",
            "gridwidth": 2,
            "linecolor": "white",
            "showbackground": true,
            "ticks": "",
            "zerolinecolor": "white"
           },
           "zaxis": {
            "backgroundcolor": "#E5ECF6",
            "gridcolor": "white",
            "gridwidth": 2,
            "linecolor": "white",
            "showbackground": true,
            "ticks": "",
            "zerolinecolor": "white"
           }
          },
          "shapedefaults": {
           "line": {
            "color": "#2a3f5f"
           }
          },
          "ternary": {
           "aaxis": {
            "gridcolor": "white",
            "linecolor": "white",
            "ticks": ""
           },
           "baxis": {
            "gridcolor": "white",
            "linecolor": "white",
            "ticks": ""
           },
           "bgcolor": "#E5ECF6",
           "caxis": {
            "gridcolor": "white",
            "linecolor": "white",
            "ticks": ""
           }
          },
          "title": {
           "x": 0.05
          },
          "xaxis": {
           "automargin": true,
           "gridcolor": "white",
           "linecolor": "white",
           "ticks": "",
           "title": {
            "standoff": 15
           },
           "zerolinecolor": "white",
           "zerolinewidth": 2
          },
          "yaxis": {
           "automargin": true,
           "gridcolor": "white",
           "linecolor": "white",
           "ticks": "",
           "title": {
            "standoff": 15
           },
           "zerolinecolor": "white",
           "zerolinewidth": 2
          }
         }
        },
        "xaxis": {
         "anchor": "y",
         "domain": [
          0,
          1
         ],
         "title": {
          "text": "main_groups"
         }
        },
        "yaxis": {
         "anchor": "x",
         "domain": [
          0,
          1
         ],
         "title": {
          "text": "num_act"
         }
        }
       }
      }
     },
     "metadata": {},
     "output_type": "display_data"
    }
   ],
   "source": [
    "import plotly.express as px\n",
    "px.bar(\n",
    "    data_frame = clf_f3.groupby([\"main_groups\", \"tema\"])[\"activity_id\"].nunique().reset_index(name = \"num_act\"),\n",
    "    x = \"main_groups\",\n",
    "    y = \"num_act\",\n",
    "    color = \"tema\",\n",
    "    barmode = \"group\",\n",
    ")"
   ]
  },
  {
   "cell_type": "code",
   "execution_count": 53,
   "id": "e8a2683b",
   "metadata": {},
   "outputs": [],
   "source": [
    "new_tags = {\n",
    "    \"vida diaria\": [\"ETE62\",\"OP3\" ],    \n",
    "    # \"people\": [\"\"],\n",
    "    \"ilustrations\": [\"ASE7-K\", \"AA65\", \"ME73\", \"J_loteria_child\",\"J_pairs\", \"ASE7-K\"],\n",
    "    \"clock\" : [\"ETE62\",\" ETE62\", \"ETE2\", ],\n",
    "    # \"animals\": [\"\"], \n",
    "    \"Calculo\": [\"ASE8\", \"ASE7\", \"ASE7-K\"],\n",
    "    \"formas\": [\"APS6\", \"VSV3\",\"APS8\", \"AA3\", \"J_matrix_colores\", \"J_croma\", \"J_entre\", \"SG-VSV30-A\", \"VSV3\"],\n",
    "    # \"sequence\": [\"\"],\n",
    "    \"logica\": [\"ME73\", \"SG-EFX32-K\", \"AA63\", \"SG-EFX32-K\"],\n",
    "    \"reflection\": [\"SG-VSR33-A\"],\n",
    "    \"people\": [\"J_entrevista\", ],\n",
    "    # \"sport\" : [\"\"],\n",
    "    \"Lingüístico\": [\"ASE3\",\"GMS14\", \"GASE76\", \"GVSR4-K\", ]\n",
    "    }"
   ]
  },
  {
   "cell_type": "markdown",
   "id": "b2827fa2",
   "metadata": {},
   "source": [
    "### consider adding:\n",
    "\n",
    "- scales / angles, from the left from the right, obsticuls "
   ]
  },
  {
   "cell_type": "code",
   "execution_count": 54,
   "id": "f38cafe0",
   "metadata": {},
   "outputs": [],
   "source": [
    "rows_to_concat = []\n",
    "\n",
    "for key, codes in new_tags.items():\n",
    "    df = clf_f2[clf_f2[\"code\"].isin(codes)]\n",
    "\n",
    "    for i, row in df.iterrows():\n",
    "        if row[\"tema\"] == \"not found\":\n",
    "            clf_f2.loc[row.name, \"tema\"] = key\n",
    "            \n",
    "        else:\n",
    "            copied_row = row.copy()\n",
    "            copied_row[\"tema\"] = key\n",
    "            rows_to_concat.append(pd.DataFrame([copied_row]))\n",
    "rows_df = pd.concat(rows_to_concat)\n",
    "clf_f3 = pd.concat([clf_f2, rows_df])\n",
    "\n",
    "clf_f3[\"main_groups\"] = clf_f3[\"tema\"].apply(classify)"
   ]
  },
  {
   "cell_type": "code",
   "execution_count": 55,
   "id": "cf39e6cd",
   "metadata": {},
   "outputs": [
    {
     "data": {
      "application/vnd.plotly.v1+json": {
       "config": {
        "plotlyServerURL": "https://plot.ly"
       },
       "data": [
        {
         "alignmentgroup": "True",
         "hovertemplate": "tema=Auditivos<br>main_groups=%{x}<br>num_act=%{y}<extra></extra>",
         "legendgroup": "Auditivos",
         "marker": {
          "color": "#636efa",
          "pattern": {
           "shape": ""
          }
         },
         "name": "Auditivos",
         "offsetgroup": "Auditivos",
         "orientation": "v",
         "showlegend": true,
         "textposition": "auto",
         "type": "bar",
         "x": [
          "Auditivos"
         ],
         "xaxis": "x",
         "y": {
          "bdata": "Dw==",
          "dtype": "i1"
         },
         "yaxis": "y"
        },
        {
         "alignmentgroup": "True",
         "hovertemplate": "tema=Lingüístico<br>main_groups=%{x}<br>num_act=%{y}<extra></extra>",
         "legendgroup": "Lingüístico",
         "marker": {
          "color": "#EF553B",
          "pattern": {
           "shape": ""
          }
         },
         "name": "Lingüístico",
         "offsetgroup": "Lingüístico",
         "orientation": "v",
         "showlegend": true,
         "textposition": "auto",
         "type": "bar",
         "x": [
          "Lingüístico"
         ],
         "xaxis": "x",
         "y": {
          "bdata": "Rg==",
          "dtype": "i1"
         },
         "yaxis": "y"
        },
        {
         "alignmentgroup": "True",
         "hovertemplate": "tema=clock<br>main_groups=%{x}<br>num_act=%{y}<extra></extra>",
         "legendgroup": "clock",
         "marker": {
          "color": "#00cc96",
          "pattern": {
           "shape": ""
          }
         },
         "name": "clock",
         "offsetgroup": "clock",
         "orientation": "v",
         "showlegend": true,
         "textposition": "auto",
         "type": "bar",
         "x": [
          "clock"
         ],
         "xaxis": "x",
         "y": {
          "bdata": "Bw==",
          "dtype": "i1"
         },
         "yaxis": "y"
        },
        {
         "alignmentgroup": "True",
         "hovertemplate": "tema=ilustrations<br>main_groups=%{x}<br>num_act=%{y}<extra></extra>",
         "legendgroup": "ilustrations",
         "marker": {
          "color": "#ab63fa",
          "pattern": {
           "shape": ""
          }
         },
         "name": "ilustrations",
         "offsetgroup": "ilustrations",
         "orientation": "v",
         "showlegend": true,
         "textposition": "auto",
         "type": "bar",
         "x": [
          "ilustrations"
         ],
         "xaxis": "x",
         "y": {
          "bdata": "Ig==",
          "dtype": "i1"
         },
         "yaxis": "y"
        },
        {
         "alignmentgroup": "True",
         "hovertemplate": "tema=Calculo<br>main_groups=%{x}<br>num_act=%{y}<extra></extra>",
         "legendgroup": "Calculo",
         "marker": {
          "color": "#FFA15A",
          "pattern": {
           "shape": ""
          }
         },
         "name": "Calculo",
         "offsetgroup": "Calculo",
         "orientation": "v",
         "showlegend": true,
         "textposition": "auto",
         "type": "bar",
         "x": [
          "logic"
         ],
         "xaxis": "x",
         "y": {
          "bdata": "MA==",
          "dtype": "i1"
         },
         "yaxis": "y"
        },
        {
         "alignmentgroup": "True",
         "hovertemplate": "tema=Numbers<br>main_groups=%{x}<br>num_act=%{y}<extra></extra>",
         "legendgroup": "Numbers",
         "marker": {
          "color": "#19d3f3",
          "pattern": {
           "shape": ""
          }
         },
         "name": "Numbers",
         "offsetgroup": "Numbers",
         "orientation": "v",
         "showlegend": true,
         "textposition": "auto",
         "type": "bar",
         "x": [
          "logic"
         ],
         "xaxis": "x",
         "y": {
          "bdata": "Gw==",
          "dtype": "i1"
         },
         "yaxis": "y"
        },
        {
         "alignmentgroup": "True",
         "hovertemplate": "tema=logica<br>main_groups=%{x}<br>num_act=%{y}<extra></extra>",
         "legendgroup": "logica",
         "marker": {
          "color": "#FF6692",
          "pattern": {
           "shape": ""
          }
         },
         "name": "logica",
         "offsetgroup": "logica",
         "orientation": "v",
         "showlegend": true,
         "textposition": "auto",
         "type": "bar",
         "x": [
          "logic"
         ],
         "xaxis": "x",
         "y": {
          "bdata": "IQ==",
          "dtype": "i1"
         },
         "yaxis": "y"
        },
        {
         "alignmentgroup": "True",
         "hovertemplate": "tema=not found<br>main_groups=%{x}<br>num_act=%{y}<extra></extra>",
         "legendgroup": "not found",
         "marker": {
          "color": "#B6E880",
          "pattern": {
           "shape": ""
          }
         },
         "name": "not found",
         "offsetgroup": "not found",
         "orientation": "v",
         "showlegend": true,
         "textposition": "auto",
         "type": "bar",
         "x": [
          "not found"
         ],
         "xaxis": "x",
         "y": {
          "bdata": "Lw==",
          "dtype": "i1"
         },
         "yaxis": "y"
        },
        {
         "alignmentgroup": "True",
         "hovertemplate": "tema=reflection<br>main_groups=%{x}<br>num_act=%{y}<extra></extra>",
         "legendgroup": "reflection",
         "marker": {
          "color": "#FF97FF",
          "pattern": {
           "shape": ""
          }
         },
         "name": "reflection",
         "offsetgroup": "reflection",
         "orientation": "v",
         "showlegend": true,
         "textposition": "auto",
         "type": "bar",
         "x": [
          "reflection"
         ],
         "xaxis": "x",
         "y": {
          "bdata": "Eg==",
          "dtype": "i1"
         },
         "yaxis": "y"
        },
        {
         "alignmentgroup": "True",
         "hovertemplate": "tema=sequence<br>main_groups=%{x}<br>num_act=%{y}<extra></extra>",
         "legendgroup": "sequence",
         "marker": {
          "color": "#FECB52",
          "pattern": {
           "shape": ""
          }
         },
         "name": "sequence",
         "offsetgroup": "sequence",
         "orientation": "v",
         "showlegend": true,
         "textposition": "auto",
         "type": "bar",
         "x": [
          "sequence"
         ],
         "xaxis": "x",
         "y": {
          "bdata": "HQ==",
          "dtype": "i1"
         },
         "yaxis": "y"
        },
        {
         "alignmentgroup": "True",
         "hovertemplate": "tema=animals<br>main_groups=%{x}<br>num_act=%{y}<extra></extra>",
         "legendgroup": "animals",
         "marker": {
          "color": "#636efa",
          "pattern": {
           "shape": ""
          }
         },
         "name": "animals",
         "offsetgroup": "animals",
         "orientation": "v",
         "showlegend": true,
         "textposition": "auto",
         "type": "bar",
         "x": [
          "themes"
         ],
         "xaxis": "x",
         "y": {
          "bdata": "Fg==",
          "dtype": "i1"
         },
         "yaxis": "y"
        },
        {
         "alignmentgroup": "True",
         "hovertemplate": "tema=formas<br>main_groups=%{x}<br>num_act=%{y}<extra></extra>",
         "legendgroup": "formas",
         "marker": {
          "color": "#EF553B",
          "pattern": {
           "shape": ""
          }
         },
         "name": "formas",
         "offsetgroup": "formas",
         "orientation": "v",
         "showlegend": true,
         "textposition": "auto",
         "type": "bar",
         "x": [
          "themes"
         ],
         "xaxis": "x",
         "y": {
          "bdata": "Fw==",
          "dtype": "i1"
         },
         "yaxis": "y"
        },
        {
         "alignmentgroup": "True",
         "hovertemplate": "tema=money<br>main_groups=%{x}<br>num_act=%{y}<extra></extra>",
         "legendgroup": "money",
         "marker": {
          "color": "#00cc96",
          "pattern": {
           "shape": ""
          }
         },
         "name": "money",
         "offsetgroup": "money",
         "orientation": "v",
         "showlegend": true,
         "textposition": "auto",
         "type": "bar",
         "x": [
          "themes"
         ],
         "xaxis": "x",
         "y": {
          "bdata": "BA==",
          "dtype": "i1"
         },
         "yaxis": "y"
        },
        {
         "alignmentgroup": "True",
         "hovertemplate": "tema=people<br>main_groups=%{x}<br>num_act=%{y}<extra></extra>",
         "legendgroup": "people",
         "marker": {
          "color": "#ab63fa",
          "pattern": {
           "shape": ""
          }
         },
         "name": "people",
         "offsetgroup": "people",
         "orientation": "v",
         "showlegend": true,
         "textposition": "auto",
         "type": "bar",
         "x": [
          "themes"
         ],
         "xaxis": "x",
         "y": {
          "bdata": "Ew==",
          "dtype": "i1"
         },
         "yaxis": "y"
        },
        {
         "alignmentgroup": "True",
         "hovertemplate": "tema=sport<br>main_groups=%{x}<br>num_act=%{y}<extra></extra>",
         "legendgroup": "sport",
         "marker": {
          "color": "#FFA15A",
          "pattern": {
           "shape": ""
          }
         },
         "name": "sport",
         "offsetgroup": "sport",
         "orientation": "v",
         "showlegend": true,
         "textposition": "auto",
         "type": "bar",
         "x": [
          "themes"
         ],
         "xaxis": "x",
         "y": {
          "bdata": "Bg==",
          "dtype": "i1"
         },
         "yaxis": "y"
        },
        {
         "alignmentgroup": "True",
         "hovertemplate": "tema=transport<br>main_groups=%{x}<br>num_act=%{y}<extra></extra>",
         "legendgroup": "transport",
         "marker": {
          "color": "#19d3f3",
          "pattern": {
           "shape": ""
          }
         },
         "name": "transport",
         "offsetgroup": "transport",
         "orientation": "v",
         "showlegend": true,
         "textposition": "auto",
         "type": "bar",
         "x": [
          "themes"
         ],
         "xaxis": "x",
         "y": {
          "bdata": "BA==",
          "dtype": "i1"
         },
         "yaxis": "y"
        },
        {
         "alignmentgroup": "True",
         "hovertemplate": "tema=vida diaria<br>main_groups=%{x}<br>num_act=%{y}<extra></extra>",
         "legendgroup": "vida diaria",
         "marker": {
          "color": "#FF6692",
          "pattern": {
           "shape": ""
          }
         },
         "name": "vida diaria",
         "offsetgroup": "vida diaria",
         "orientation": "v",
         "showlegend": true,
         "textposition": "auto",
         "type": "bar",
         "x": [
          "themes"
         ],
         "xaxis": "x",
         "y": {
          "bdata": "Cg==",
          "dtype": "i1"
         },
         "yaxis": "y"
        }
       ],
       "layout": {
        "barmode": "group",
        "legend": {
         "title": {
          "text": "tema"
         },
         "tracegroupgap": 0
        },
        "margin": {
         "t": 60
        },
        "template": {
         "data": {
          "bar": [
           {
            "error_x": {
             "color": "#2a3f5f"
            },
            "error_y": {
             "color": "#2a3f5f"
            },
            "marker": {
             "line": {
              "color": "#E5ECF6",
              "width": 0.5
             },
             "pattern": {
              "fillmode": "overlay",
              "size": 10,
              "solidity": 0.2
             }
            },
            "type": "bar"
           }
          ],
          "barpolar": [
           {
            "marker": {
             "line": {
              "color": "#E5ECF6",
              "width": 0.5
             },
             "pattern": {
              "fillmode": "overlay",
              "size": 10,
              "solidity": 0.2
             }
            },
            "type": "barpolar"
           }
          ],
          "carpet": [
           {
            "aaxis": {
             "endlinecolor": "#2a3f5f",
             "gridcolor": "white",
             "linecolor": "white",
             "minorgridcolor": "white",
             "startlinecolor": "#2a3f5f"
            },
            "baxis": {
             "endlinecolor": "#2a3f5f",
             "gridcolor": "white",
             "linecolor": "white",
             "minorgridcolor": "white",
             "startlinecolor": "#2a3f5f"
            },
            "type": "carpet"
           }
          ],
          "choropleth": [
           {
            "colorbar": {
             "outlinewidth": 0,
             "ticks": ""
            },
            "type": "choropleth"
           }
          ],
          "contour": [
           {
            "colorbar": {
             "outlinewidth": 0,
             "ticks": ""
            },
            "colorscale": [
             [
              0,
              "#0d0887"
             ],
             [
              0.1111111111111111,
              "#46039f"
             ],
             [
              0.2222222222222222,
              "#7201a8"
             ],
             [
              0.3333333333333333,
              "#9c179e"
             ],
             [
              0.4444444444444444,
              "#bd3786"
             ],
             [
              0.5555555555555556,
              "#d8576b"
             ],
             [
              0.6666666666666666,
              "#ed7953"
             ],
             [
              0.7777777777777778,
              "#fb9f3a"
             ],
             [
              0.8888888888888888,
              "#fdca26"
             ],
             [
              1,
              "#f0f921"
             ]
            ],
            "type": "contour"
           }
          ],
          "contourcarpet": [
           {
            "colorbar": {
             "outlinewidth": 0,
             "ticks": ""
            },
            "type": "contourcarpet"
           }
          ],
          "heatmap": [
           {
            "colorbar": {
             "outlinewidth": 0,
             "ticks": ""
            },
            "colorscale": [
             [
              0,
              "#0d0887"
             ],
             [
              0.1111111111111111,
              "#46039f"
             ],
             [
              0.2222222222222222,
              "#7201a8"
             ],
             [
              0.3333333333333333,
              "#9c179e"
             ],
             [
              0.4444444444444444,
              "#bd3786"
             ],
             [
              0.5555555555555556,
              "#d8576b"
             ],
             [
              0.6666666666666666,
              "#ed7953"
             ],
             [
              0.7777777777777778,
              "#fb9f3a"
             ],
             [
              0.8888888888888888,
              "#fdca26"
             ],
             [
              1,
              "#f0f921"
             ]
            ],
            "type": "heatmap"
           }
          ],
          "histogram": [
           {
            "marker": {
             "pattern": {
              "fillmode": "overlay",
              "size": 10,
              "solidity": 0.2
             }
            },
            "type": "histogram"
           }
          ],
          "histogram2d": [
           {
            "colorbar": {
             "outlinewidth": 0,
             "ticks": ""
            },
            "colorscale": [
             [
              0,
              "#0d0887"
             ],
             [
              0.1111111111111111,
              "#46039f"
             ],
             [
              0.2222222222222222,
              "#7201a8"
             ],
             [
              0.3333333333333333,
              "#9c179e"
             ],
             [
              0.4444444444444444,
              "#bd3786"
             ],
             [
              0.5555555555555556,
              "#d8576b"
             ],
             [
              0.6666666666666666,
              "#ed7953"
             ],
             [
              0.7777777777777778,
              "#fb9f3a"
             ],
             [
              0.8888888888888888,
              "#fdca26"
             ],
             [
              1,
              "#f0f921"
             ]
            ],
            "type": "histogram2d"
           }
          ],
          "histogram2dcontour": [
           {
            "colorbar": {
             "outlinewidth": 0,
             "ticks": ""
            },
            "colorscale": [
             [
              0,
              "#0d0887"
             ],
             [
              0.1111111111111111,
              "#46039f"
             ],
             [
              0.2222222222222222,
              "#7201a8"
             ],
             [
              0.3333333333333333,
              "#9c179e"
             ],
             [
              0.4444444444444444,
              "#bd3786"
             ],
             [
              0.5555555555555556,
              "#d8576b"
             ],
             [
              0.6666666666666666,
              "#ed7953"
             ],
             [
              0.7777777777777778,
              "#fb9f3a"
             ],
             [
              0.8888888888888888,
              "#fdca26"
             ],
             [
              1,
              "#f0f921"
             ]
            ],
            "type": "histogram2dcontour"
           }
          ],
          "mesh3d": [
           {
            "colorbar": {
             "outlinewidth": 0,
             "ticks": ""
            },
            "type": "mesh3d"
           }
          ],
          "parcoords": [
           {
            "line": {
             "colorbar": {
              "outlinewidth": 0,
              "ticks": ""
             }
            },
            "type": "parcoords"
           }
          ],
          "pie": [
           {
            "automargin": true,
            "type": "pie"
           }
          ],
          "scatter": [
           {
            "fillpattern": {
             "fillmode": "overlay",
             "size": 10,
             "solidity": 0.2
            },
            "type": "scatter"
           }
          ],
          "scatter3d": [
           {
            "line": {
             "colorbar": {
              "outlinewidth": 0,
              "ticks": ""
             }
            },
            "marker": {
             "colorbar": {
              "outlinewidth": 0,
              "ticks": ""
             }
            },
            "type": "scatter3d"
           }
          ],
          "scattercarpet": [
           {
            "marker": {
             "colorbar": {
              "outlinewidth": 0,
              "ticks": ""
             }
            },
            "type": "scattercarpet"
           }
          ],
          "scattergeo": [
           {
            "marker": {
             "colorbar": {
              "outlinewidth": 0,
              "ticks": ""
             }
            },
            "type": "scattergeo"
           }
          ],
          "scattergl": [
           {
            "marker": {
             "colorbar": {
              "outlinewidth": 0,
              "ticks": ""
             }
            },
            "type": "scattergl"
           }
          ],
          "scattermap": [
           {
            "marker": {
             "colorbar": {
              "outlinewidth": 0,
              "ticks": ""
             }
            },
            "type": "scattermap"
           }
          ],
          "scattermapbox": [
           {
            "marker": {
             "colorbar": {
              "outlinewidth": 0,
              "ticks": ""
             }
            },
            "type": "scattermapbox"
           }
          ],
          "scatterpolar": [
           {
            "marker": {
             "colorbar": {
              "outlinewidth": 0,
              "ticks": ""
             }
            },
            "type": "scatterpolar"
           }
          ],
          "scatterpolargl": [
           {
            "marker": {
             "colorbar": {
              "outlinewidth": 0,
              "ticks": ""
             }
            },
            "type": "scatterpolargl"
           }
          ],
          "scatterternary": [
           {
            "marker": {
             "colorbar": {
              "outlinewidth": 0,
              "ticks": ""
             }
            },
            "type": "scatterternary"
           }
          ],
          "surface": [
           {
            "colorbar": {
             "outlinewidth": 0,
             "ticks": ""
            },
            "colorscale": [
             [
              0,
              "#0d0887"
             ],
             [
              0.1111111111111111,
              "#46039f"
             ],
             [
              0.2222222222222222,
              "#7201a8"
             ],
             [
              0.3333333333333333,
              "#9c179e"
             ],
             [
              0.4444444444444444,
              "#bd3786"
             ],
             [
              0.5555555555555556,
              "#d8576b"
             ],
             [
              0.6666666666666666,
              "#ed7953"
             ],
             [
              0.7777777777777778,
              "#fb9f3a"
             ],
             [
              0.8888888888888888,
              "#fdca26"
             ],
             [
              1,
              "#f0f921"
             ]
            ],
            "type": "surface"
           }
          ],
          "table": [
           {
            "cells": {
             "fill": {
              "color": "#EBF0F8"
             },
             "line": {
              "color": "white"
             }
            },
            "header": {
             "fill": {
              "color": "#C8D4E3"
             },
             "line": {
              "color": "white"
             }
            },
            "type": "table"
           }
          ]
         },
         "layout": {
          "annotationdefaults": {
           "arrowcolor": "#2a3f5f",
           "arrowhead": 0,
           "arrowwidth": 1
          },
          "autotypenumbers": "strict",
          "coloraxis": {
           "colorbar": {
            "outlinewidth": 0,
            "ticks": ""
           }
          },
          "colorscale": {
           "diverging": [
            [
             0,
             "#8e0152"
            ],
            [
             0.1,
             "#c51b7d"
            ],
            [
             0.2,
             "#de77ae"
            ],
            [
             0.3,
             "#f1b6da"
            ],
            [
             0.4,
             "#fde0ef"
            ],
            [
             0.5,
             "#f7f7f7"
            ],
            [
             0.6,
             "#e6f5d0"
            ],
            [
             0.7,
             "#b8e186"
            ],
            [
             0.8,
             "#7fbc41"
            ],
            [
             0.9,
             "#4d9221"
            ],
            [
             1,
             "#276419"
            ]
           ],
           "sequential": [
            [
             0,
             "#0d0887"
            ],
            [
             0.1111111111111111,
             "#46039f"
            ],
            [
             0.2222222222222222,
             "#7201a8"
            ],
            [
             0.3333333333333333,
             "#9c179e"
            ],
            [
             0.4444444444444444,
             "#bd3786"
            ],
            [
             0.5555555555555556,
             "#d8576b"
            ],
            [
             0.6666666666666666,
             "#ed7953"
            ],
            [
             0.7777777777777778,
             "#fb9f3a"
            ],
            [
             0.8888888888888888,
             "#fdca26"
            ],
            [
             1,
             "#f0f921"
            ]
           ],
           "sequentialminus": [
            [
             0,
             "#0d0887"
            ],
            [
             0.1111111111111111,
             "#46039f"
            ],
            [
             0.2222222222222222,
             "#7201a8"
            ],
            [
             0.3333333333333333,
             "#9c179e"
            ],
            [
             0.4444444444444444,
             "#bd3786"
            ],
            [
             0.5555555555555556,
             "#d8576b"
            ],
            [
             0.6666666666666666,
             "#ed7953"
            ],
            [
             0.7777777777777778,
             "#fb9f3a"
            ],
            [
             0.8888888888888888,
             "#fdca26"
            ],
            [
             1,
             "#f0f921"
            ]
           ]
          },
          "colorway": [
           "#636efa",
           "#EF553B",
           "#00cc96",
           "#ab63fa",
           "#FFA15A",
           "#19d3f3",
           "#FF6692",
           "#B6E880",
           "#FF97FF",
           "#FECB52"
          ],
          "font": {
           "color": "#2a3f5f"
          },
          "geo": {
           "bgcolor": "white",
           "lakecolor": "white",
           "landcolor": "#E5ECF6",
           "showlakes": true,
           "showland": true,
           "subunitcolor": "white"
          },
          "hoverlabel": {
           "align": "left"
          },
          "hovermode": "closest",
          "mapbox": {
           "style": "light"
          },
          "paper_bgcolor": "white",
          "plot_bgcolor": "#E5ECF6",
          "polar": {
           "angularaxis": {
            "gridcolor": "white",
            "linecolor": "white",
            "ticks": ""
           },
           "bgcolor": "#E5ECF6",
           "radialaxis": {
            "gridcolor": "white",
            "linecolor": "white",
            "ticks": ""
           }
          },
          "scene": {
           "xaxis": {
            "backgroundcolor": "#E5ECF6",
            "gridcolor": "white",
            "gridwidth": 2,
            "linecolor": "white",
            "showbackground": true,
            "ticks": "",
            "zerolinecolor": "white"
           },
           "yaxis": {
            "backgroundcolor": "#E5ECF6",
            "gridcolor": "white",
            "gridwidth": 2,
            "linecolor": "white",
            "showbackground": true,
            "ticks": "",
            "zerolinecolor": "white"
           },
           "zaxis": {
            "backgroundcolor": "#E5ECF6",
            "gridcolor": "white",
            "gridwidth": 2,
            "linecolor": "white",
            "showbackground": true,
            "ticks": "",
            "zerolinecolor": "white"
           }
          },
          "shapedefaults": {
           "line": {
            "color": "#2a3f5f"
           }
          },
          "ternary": {
           "aaxis": {
            "gridcolor": "white",
            "linecolor": "white",
            "ticks": ""
           },
           "baxis": {
            "gridcolor": "white",
            "linecolor": "white",
            "ticks": ""
           },
           "bgcolor": "#E5ECF6",
           "caxis": {
            "gridcolor": "white",
            "linecolor": "white",
            "ticks": ""
           }
          },
          "title": {
           "x": 0.05
          },
          "xaxis": {
           "automargin": true,
           "gridcolor": "white",
           "linecolor": "white",
           "ticks": "",
           "title": {
            "standoff": 15
           },
           "zerolinecolor": "white",
           "zerolinewidth": 2
          },
          "yaxis": {
           "automargin": true,
           "gridcolor": "white",
           "linecolor": "white",
           "ticks": "",
           "title": {
            "standoff": 15
           },
           "zerolinecolor": "white",
           "zerolinewidth": 2
          }
         }
        },
        "xaxis": {
         "anchor": "y",
         "domain": [
          0,
          1
         ],
         "title": {
          "text": "main_groups"
         }
        },
        "yaxis": {
         "anchor": "x",
         "domain": [
          0,
          1
         ],
         "title": {
          "text": "num_act"
         }
        }
       }
      }
     },
     "metadata": {},
     "output_type": "display_data"
    }
   ],
   "source": [
    "import plotly.express as px\n",
    "px.bar(\n",
    "    data_frame = clf_f3.groupby([\"main_groups\", \"tema\"])[\"activity_id\"].nunique().reset_index(name = \"num_act\"),\n",
    "    x = \"main_groups\",\n",
    "    y = \"num_act\",\n",
    "    color = \"tema\",\n",
    "    barmode = \"group\",\n",
    ")"
   ]
  },
  {
   "cell_type": "code",
   "execution_count": 57,
   "id": "98aea192",
   "metadata": {},
   "outputs": [],
   "source": [
    "clf_f3.to_csv(\"classified_v1.csv\")"
   ]
  },
  {
   "cell_type": "code",
   "execution_count": 2,
   "id": "9dd2ca99",
   "metadata": {},
   "outputs": [],
   "source": [
    "import pandas as pd"
   ]
  },
  {
   "cell_type": "code",
   "execution_count": 3,
   "id": "450e6d52",
   "metadata": {},
   "outputs": [],
   "source": [
    "clf = pd.read_csv(\"classified_v1.csv\")"
   ]
  },
  {
   "cell_type": "code",
   "execution_count": 4,
   "id": "21f38349",
   "metadata": {},
   "outputs": [],
   "source": [
    "# clf.to_csv(\"classified_v1.csv\", index = False)"
   ]
  },
  {
   "cell_type": "code",
   "execution_count": 5,
   "id": "16b6c63e",
   "metadata": {},
   "outputs": [],
   "source": [
    "# data_clf_neuros = pd.read_csv(\"data_clf_neuros.csv\")"
   ]
  },
  {
   "cell_type": "code",
   "execution_count": 7,
   "id": "fe293801",
   "metadata": {},
   "outputs": [
    {
     "data": {
      "application/vnd.plotly.v1+json": {
       "config": {
        "plotlyServerURL": "https://plot.ly"
       },
       "data": [
        {
         "alignmentgroup": "True",
         "hovertemplate": "tema=Auditivos<br>main_groups=%{x}<br>num_act=%{y}<extra></extra>",
         "legendgroup": "Auditivos",
         "marker": {
          "color": "#636efa",
          "pattern": {
           "shape": ""
          }
         },
         "name": "Auditivos",
         "offsetgroup": "Auditivos",
         "orientation": "v",
         "showlegend": true,
         "textposition": "auto",
         "type": "bar",
         "x": [
          "Auditivos"
         ],
         "xaxis": "x",
         "y": {
          "bdata": "Dw==",
          "dtype": "i1"
         },
         "yaxis": "y"
        },
        {
         "alignmentgroup": "True",
         "hovertemplate": "tema=Lingüístico<br>main_groups=%{x}<br>num_act=%{y}<extra></extra>",
         "legendgroup": "Lingüístico",
         "marker": {
          "color": "#EF553B",
          "pattern": {
           "shape": ""
          }
         },
         "name": "Lingüístico",
         "offsetgroup": "Lingüístico",
         "orientation": "v",
         "showlegend": true,
         "textposition": "auto",
         "type": "bar",
         "x": [
          "Lingüístico"
         ],
         "xaxis": "x",
         "y": {
          "bdata": "Rg==",
          "dtype": "i1"
         },
         "yaxis": "y"
        },
        {
         "alignmentgroup": "True",
         "hovertemplate": "tema=clock<br>main_groups=%{x}<br>num_act=%{y}<extra></extra>",
         "legendgroup": "clock",
         "marker": {
          "color": "#00cc96",
          "pattern": {
           "shape": ""
          }
         },
         "name": "clock",
         "offsetgroup": "clock",
         "orientation": "v",
         "showlegend": true,
         "textposition": "auto",
         "type": "bar",
         "x": [
          "clock"
         ],
         "xaxis": "x",
         "y": {
          "bdata": "Bw==",
          "dtype": "i1"
         },
         "yaxis": "y"
        },
        {
         "alignmentgroup": "True",
         "hovertemplate": "tema=ilustrations<br>main_groups=%{x}<br>num_act=%{y}<extra></extra>",
         "legendgroup": "ilustrations",
         "marker": {
          "color": "#ab63fa",
          "pattern": {
           "shape": ""
          }
         },
         "name": "ilustrations",
         "offsetgroup": "ilustrations",
         "orientation": "v",
         "showlegend": true,
         "textposition": "auto",
         "type": "bar",
         "x": [
          "ilustrations"
         ],
         "xaxis": "x",
         "y": {
          "bdata": "Ig==",
          "dtype": "i1"
         },
         "yaxis": "y"
        },
        {
         "alignmentgroup": "True",
         "hovertemplate": "tema=Calculo<br>main_groups=%{x}<br>num_act=%{y}<extra></extra>",
         "legendgroup": "Calculo",
         "marker": {
          "color": "#FFA15A",
          "pattern": {
           "shape": ""
          }
         },
         "name": "Calculo",
         "offsetgroup": "Calculo",
         "orientation": "v",
         "showlegend": true,
         "textposition": "auto",
         "type": "bar",
         "x": [
          "logic"
         ],
         "xaxis": "x",
         "y": {
          "bdata": "MA==",
          "dtype": "i1"
         },
         "yaxis": "y"
        },
        {
         "alignmentgroup": "True",
         "hovertemplate": "tema=Numbers<br>main_groups=%{x}<br>num_act=%{y}<extra></extra>",
         "legendgroup": "Numbers",
         "marker": {
          "color": "#19d3f3",
          "pattern": {
           "shape": ""
          }
         },
         "name": "Numbers",
         "offsetgroup": "Numbers",
         "orientation": "v",
         "showlegend": true,
         "textposition": "auto",
         "type": "bar",
         "x": [
          "logic"
         ],
         "xaxis": "x",
         "y": {
          "bdata": "Gw==",
          "dtype": "i1"
         },
         "yaxis": "y"
        },
        {
         "alignmentgroup": "True",
         "hovertemplate": "tema=logica<br>main_groups=%{x}<br>num_act=%{y}<extra></extra>",
         "legendgroup": "logica",
         "marker": {
          "color": "#FF6692",
          "pattern": {
           "shape": ""
          }
         },
         "name": "logica",
         "offsetgroup": "logica",
         "orientation": "v",
         "showlegend": true,
         "textposition": "auto",
         "type": "bar",
         "x": [
          "logic"
         ],
         "xaxis": "x",
         "y": {
          "bdata": "IQ==",
          "dtype": "i1"
         },
         "yaxis": "y"
        },
        {
         "alignmentgroup": "True",
         "hovertemplate": "tema=not found<br>main_groups=%{x}<br>num_act=%{y}<extra></extra>",
         "legendgroup": "not found",
         "marker": {
          "color": "#B6E880",
          "pattern": {
           "shape": ""
          }
         },
         "name": "not found",
         "offsetgroup": "not found",
         "orientation": "v",
         "showlegend": true,
         "textposition": "auto",
         "type": "bar",
         "x": [
          "not found"
         ],
         "xaxis": "x",
         "y": {
          "bdata": "Lw==",
          "dtype": "i1"
         },
         "yaxis": "y"
        },
        {
         "alignmentgroup": "True",
         "hovertemplate": "tema=reflection<br>main_groups=%{x}<br>num_act=%{y}<extra></extra>",
         "legendgroup": "reflection",
         "marker": {
          "color": "#FF97FF",
          "pattern": {
           "shape": ""
          }
         },
         "name": "reflection",
         "offsetgroup": "reflection",
         "orientation": "v",
         "showlegend": true,
         "textposition": "auto",
         "type": "bar",
         "x": [
          "reflection"
         ],
         "xaxis": "x",
         "y": {
          "bdata": "Eg==",
          "dtype": "i1"
         },
         "yaxis": "y"
        },
        {
         "alignmentgroup": "True",
         "hovertemplate": "tema=sequence<br>main_groups=%{x}<br>num_act=%{y}<extra></extra>",
         "legendgroup": "sequence",
         "marker": {
          "color": "#FECB52",
          "pattern": {
           "shape": ""
          }
         },
         "name": "sequence",
         "offsetgroup": "sequence",
         "orientation": "v",
         "showlegend": true,
         "textposition": "auto",
         "type": "bar",
         "x": [
          "sequence"
         ],
         "xaxis": "x",
         "y": {
          "bdata": "HQ==",
          "dtype": "i1"
         },
         "yaxis": "y"
        },
        {
         "alignmentgroup": "True",
         "hovertemplate": "tema=animals<br>main_groups=%{x}<br>num_act=%{y}<extra></extra>",
         "legendgroup": "animals",
         "marker": {
          "color": "#636efa",
          "pattern": {
           "shape": ""
          }
         },
         "name": "animals",
         "offsetgroup": "animals",
         "orientation": "v",
         "showlegend": true,
         "textposition": "auto",
         "type": "bar",
         "x": [
          "themes"
         ],
         "xaxis": "x",
         "y": {
          "bdata": "Fg==",
          "dtype": "i1"
         },
         "yaxis": "y"
        },
        {
         "alignmentgroup": "True",
         "hovertemplate": "tema=formas<br>main_groups=%{x}<br>num_act=%{y}<extra></extra>",
         "legendgroup": "formas",
         "marker": {
          "color": "#EF553B",
          "pattern": {
           "shape": ""
          }
         },
         "name": "formas",
         "offsetgroup": "formas",
         "orientation": "v",
         "showlegend": true,
         "textposition": "auto",
         "type": "bar",
         "x": [
          "themes"
         ],
         "xaxis": "x",
         "y": {
          "bdata": "Fw==",
          "dtype": "i1"
         },
         "yaxis": "y"
        },
        {
         "alignmentgroup": "True",
         "hovertemplate": "tema=money<br>main_groups=%{x}<br>num_act=%{y}<extra></extra>",
         "legendgroup": "money",
         "marker": {
          "color": "#00cc96",
          "pattern": {
           "shape": ""
          }
         },
         "name": "money",
         "offsetgroup": "money",
         "orientation": "v",
         "showlegend": true,
         "textposition": "auto",
         "type": "bar",
         "x": [
          "themes"
         ],
         "xaxis": "x",
         "y": {
          "bdata": "BA==",
          "dtype": "i1"
         },
         "yaxis": "y"
        },
        {
         "alignmentgroup": "True",
         "hovertemplate": "tema=people<br>main_groups=%{x}<br>num_act=%{y}<extra></extra>",
         "legendgroup": "people",
         "marker": {
          "color": "#ab63fa",
          "pattern": {
           "shape": ""
          }
         },
         "name": "people",
         "offsetgroup": "people",
         "orientation": "v",
         "showlegend": true,
         "textposition": "auto",
         "type": "bar",
         "x": [
          "themes"
         ],
         "xaxis": "x",
         "y": {
          "bdata": "Ew==",
          "dtype": "i1"
         },
         "yaxis": "y"
        },
        {
         "alignmentgroup": "True",
         "hovertemplate": "tema=sport<br>main_groups=%{x}<br>num_act=%{y}<extra></extra>",
         "legendgroup": "sport",
         "marker": {
          "color": "#FFA15A",
          "pattern": {
           "shape": ""
          }
         },
         "name": "sport",
         "offsetgroup": "sport",
         "orientation": "v",
         "showlegend": true,
         "textposition": "auto",
         "type": "bar",
         "x": [
          "themes"
         ],
         "xaxis": "x",
         "y": {
          "bdata": "Bg==",
          "dtype": "i1"
         },
         "yaxis": "y"
        },
        {
         "alignmentgroup": "True",
         "hovertemplate": "tema=transport<br>main_groups=%{x}<br>num_act=%{y}<extra></extra>",
         "legendgroup": "transport",
         "marker": {
          "color": "#19d3f3",
          "pattern": {
           "shape": ""
          }
         },
         "name": "transport",
         "offsetgroup": "transport",
         "orientation": "v",
         "showlegend": true,
         "textposition": "auto",
         "type": "bar",
         "x": [
          "themes"
         ],
         "xaxis": "x",
         "y": {
          "bdata": "BA==",
          "dtype": "i1"
         },
         "yaxis": "y"
        },
        {
         "alignmentgroup": "True",
         "hovertemplate": "tema=vida diaria<br>main_groups=%{x}<br>num_act=%{y}<extra></extra>",
         "legendgroup": "vida diaria",
         "marker": {
          "color": "#FF6692",
          "pattern": {
           "shape": ""
          }
         },
         "name": "vida diaria",
         "offsetgroup": "vida diaria",
         "orientation": "v",
         "showlegend": true,
         "textposition": "auto",
         "type": "bar",
         "x": [
          "themes"
         ],
         "xaxis": "x",
         "y": {
          "bdata": "Cg==",
          "dtype": "i1"
         },
         "yaxis": "y"
        }
       ],
       "layout": {
        "barmode": "group",
        "height": 500,
        "legend": {
         "title": {
          "text": "tema"
         },
         "tracegroupgap": 0
        },
        "margin": {
         "t": 60
        },
        "template": {
         "data": {
          "bar": [
           {
            "error_x": {
             "color": "#2a3f5f"
            },
            "error_y": {
             "color": "#2a3f5f"
            },
            "marker": {
             "line": {
              "color": "#E5ECF6",
              "width": 0.5
             },
             "pattern": {
              "fillmode": "overlay",
              "size": 10,
              "solidity": 0.2
             }
            },
            "type": "bar"
           }
          ],
          "barpolar": [
           {
            "marker": {
             "line": {
              "color": "#E5ECF6",
              "width": 0.5
             },
             "pattern": {
              "fillmode": "overlay",
              "size": 10,
              "solidity": 0.2
             }
            },
            "type": "barpolar"
           }
          ],
          "carpet": [
           {
            "aaxis": {
             "endlinecolor": "#2a3f5f",
             "gridcolor": "white",
             "linecolor": "white",
             "minorgridcolor": "white",
             "startlinecolor": "#2a3f5f"
            },
            "baxis": {
             "endlinecolor": "#2a3f5f",
             "gridcolor": "white",
             "linecolor": "white",
             "minorgridcolor": "white",
             "startlinecolor": "#2a3f5f"
            },
            "type": "carpet"
           }
          ],
          "choropleth": [
           {
            "colorbar": {
             "outlinewidth": 0,
             "ticks": ""
            },
            "type": "choropleth"
           }
          ],
          "contour": [
           {
            "colorbar": {
             "outlinewidth": 0,
             "ticks": ""
            },
            "colorscale": [
             [
              0,
              "#0d0887"
             ],
             [
              0.1111111111111111,
              "#46039f"
             ],
             [
              0.2222222222222222,
              "#7201a8"
             ],
             [
              0.3333333333333333,
              "#9c179e"
             ],
             [
              0.4444444444444444,
              "#bd3786"
             ],
             [
              0.5555555555555556,
              "#d8576b"
             ],
             [
              0.6666666666666666,
              "#ed7953"
             ],
             [
              0.7777777777777778,
              "#fb9f3a"
             ],
             [
              0.8888888888888888,
              "#fdca26"
             ],
             [
              1,
              "#f0f921"
             ]
            ],
            "type": "contour"
           }
          ],
          "contourcarpet": [
           {
            "colorbar": {
             "outlinewidth": 0,
             "ticks": ""
            },
            "type": "contourcarpet"
           }
          ],
          "heatmap": [
           {
            "colorbar": {
             "outlinewidth": 0,
             "ticks": ""
            },
            "colorscale": [
             [
              0,
              "#0d0887"
             ],
             [
              0.1111111111111111,
              "#46039f"
             ],
             [
              0.2222222222222222,
              "#7201a8"
             ],
             [
              0.3333333333333333,
              "#9c179e"
             ],
             [
              0.4444444444444444,
              "#bd3786"
             ],
             [
              0.5555555555555556,
              "#d8576b"
             ],
             [
              0.6666666666666666,
              "#ed7953"
             ],
             [
              0.7777777777777778,
              "#fb9f3a"
             ],
             [
              0.8888888888888888,
              "#fdca26"
             ],
             [
              1,
              "#f0f921"
             ]
            ],
            "type": "heatmap"
           }
          ],
          "histogram": [
           {
            "marker": {
             "pattern": {
              "fillmode": "overlay",
              "size": 10,
              "solidity": 0.2
             }
            },
            "type": "histogram"
           }
          ],
          "histogram2d": [
           {
            "colorbar": {
             "outlinewidth": 0,
             "ticks": ""
            },
            "colorscale": [
             [
              0,
              "#0d0887"
             ],
             [
              0.1111111111111111,
              "#46039f"
             ],
             [
              0.2222222222222222,
              "#7201a8"
             ],
             [
              0.3333333333333333,
              "#9c179e"
             ],
             [
              0.4444444444444444,
              "#bd3786"
             ],
             [
              0.5555555555555556,
              "#d8576b"
             ],
             [
              0.6666666666666666,
              "#ed7953"
             ],
             [
              0.7777777777777778,
              "#fb9f3a"
             ],
             [
              0.8888888888888888,
              "#fdca26"
             ],
             [
              1,
              "#f0f921"
             ]
            ],
            "type": "histogram2d"
           }
          ],
          "histogram2dcontour": [
           {
            "colorbar": {
             "outlinewidth": 0,
             "ticks": ""
            },
            "colorscale": [
             [
              0,
              "#0d0887"
             ],
             [
              0.1111111111111111,
              "#46039f"
             ],
             [
              0.2222222222222222,
              "#7201a8"
             ],
             [
              0.3333333333333333,
              "#9c179e"
             ],
             [
              0.4444444444444444,
              "#bd3786"
             ],
             [
              0.5555555555555556,
              "#d8576b"
             ],
             [
              0.6666666666666666,
              "#ed7953"
             ],
             [
              0.7777777777777778,
              "#fb9f3a"
             ],
             [
              0.8888888888888888,
              "#fdca26"
             ],
             [
              1,
              "#f0f921"
             ]
            ],
            "type": "histogram2dcontour"
           }
          ],
          "mesh3d": [
           {
            "colorbar": {
             "outlinewidth": 0,
             "ticks": ""
            },
            "type": "mesh3d"
           }
          ],
          "parcoords": [
           {
            "line": {
             "colorbar": {
              "outlinewidth": 0,
              "ticks": ""
             }
            },
            "type": "parcoords"
           }
          ],
          "pie": [
           {
            "automargin": true,
            "type": "pie"
           }
          ],
          "scatter": [
           {
            "fillpattern": {
             "fillmode": "overlay",
             "size": 10,
             "solidity": 0.2
            },
            "type": "scatter"
           }
          ],
          "scatter3d": [
           {
            "line": {
             "colorbar": {
              "outlinewidth": 0,
              "ticks": ""
             }
            },
            "marker": {
             "colorbar": {
              "outlinewidth": 0,
              "ticks": ""
             }
            },
            "type": "scatter3d"
           }
          ],
          "scattercarpet": [
           {
            "marker": {
             "colorbar": {
              "outlinewidth": 0,
              "ticks": ""
             }
            },
            "type": "scattercarpet"
           }
          ],
          "scattergeo": [
           {
            "marker": {
             "colorbar": {
              "outlinewidth": 0,
              "ticks": ""
             }
            },
            "type": "scattergeo"
           }
          ],
          "scattergl": [
           {
            "marker": {
             "colorbar": {
              "outlinewidth": 0,
              "ticks": ""
             }
            },
            "type": "scattergl"
           }
          ],
          "scattermap": [
           {
            "marker": {
             "colorbar": {
              "outlinewidth": 0,
              "ticks": ""
             }
            },
            "type": "scattermap"
           }
          ],
          "scattermapbox": [
           {
            "marker": {
             "colorbar": {
              "outlinewidth": 0,
              "ticks": ""
             }
            },
            "type": "scattermapbox"
           }
          ],
          "scatterpolar": [
           {
            "marker": {
             "colorbar": {
              "outlinewidth": 0,
              "ticks": ""
             }
            },
            "type": "scatterpolar"
           }
          ],
          "scatterpolargl": [
           {
            "marker": {
             "colorbar": {
              "outlinewidth": 0,
              "ticks": ""
             }
            },
            "type": "scatterpolargl"
           }
          ],
          "scatterternary": [
           {
            "marker": {
             "colorbar": {
              "outlinewidth": 0,
              "ticks": ""
             }
            },
            "type": "scatterternary"
           }
          ],
          "surface": [
           {
            "colorbar": {
             "outlinewidth": 0,
             "ticks": ""
            },
            "colorscale": [
             [
              0,
              "#0d0887"
             ],
             [
              0.1111111111111111,
              "#46039f"
             ],
             [
              0.2222222222222222,
              "#7201a8"
             ],
             [
              0.3333333333333333,
              "#9c179e"
             ],
             [
              0.4444444444444444,
              "#bd3786"
             ],
             [
              0.5555555555555556,
              "#d8576b"
             ],
             [
              0.6666666666666666,
              "#ed7953"
             ],
             [
              0.7777777777777778,
              "#fb9f3a"
             ],
             [
              0.8888888888888888,
              "#fdca26"
             ],
             [
              1,
              "#f0f921"
             ]
            ],
            "type": "surface"
           }
          ],
          "table": [
           {
            "cells": {
             "fill": {
              "color": "#EBF0F8"
             },
             "line": {
              "color": "white"
             }
            },
            "header": {
             "fill": {
              "color": "#C8D4E3"
             },
             "line": {
              "color": "white"
             }
            },
            "type": "table"
           }
          ]
         },
         "layout": {
          "annotationdefaults": {
           "arrowcolor": "#2a3f5f",
           "arrowhead": 0,
           "arrowwidth": 1
          },
          "autotypenumbers": "strict",
          "coloraxis": {
           "colorbar": {
            "outlinewidth": 0,
            "ticks": ""
           }
          },
          "colorscale": {
           "diverging": [
            [
             0,
             "#8e0152"
            ],
            [
             0.1,
             "#c51b7d"
            ],
            [
             0.2,
             "#de77ae"
            ],
            [
             0.3,
             "#f1b6da"
            ],
            [
             0.4,
             "#fde0ef"
            ],
            [
             0.5,
             "#f7f7f7"
            ],
            [
             0.6,
             "#e6f5d0"
            ],
            [
             0.7,
             "#b8e186"
            ],
            [
             0.8,
             "#7fbc41"
            ],
            [
             0.9,
             "#4d9221"
            ],
            [
             1,
             "#276419"
            ]
           ],
           "sequential": [
            [
             0,
             "#0d0887"
            ],
            [
             0.1111111111111111,
             "#46039f"
            ],
            [
             0.2222222222222222,
             "#7201a8"
            ],
            [
             0.3333333333333333,
             "#9c179e"
            ],
            [
             0.4444444444444444,
             "#bd3786"
            ],
            [
             0.5555555555555556,
             "#d8576b"
            ],
            [
             0.6666666666666666,
             "#ed7953"
            ],
            [
             0.7777777777777778,
             "#fb9f3a"
            ],
            [
             0.8888888888888888,
             "#fdca26"
            ],
            [
             1,
             "#f0f921"
            ]
           ],
           "sequentialminus": [
            [
             0,
             "#0d0887"
            ],
            [
             0.1111111111111111,
             "#46039f"
            ],
            [
             0.2222222222222222,
             "#7201a8"
            ],
            [
             0.3333333333333333,
             "#9c179e"
            ],
            [
             0.4444444444444444,
             "#bd3786"
            ],
            [
             0.5555555555555556,
             "#d8576b"
            ],
            [
             0.6666666666666666,
             "#ed7953"
            ],
            [
             0.7777777777777778,
             "#fb9f3a"
            ],
            [
             0.8888888888888888,
             "#fdca26"
            ],
            [
             1,
             "#f0f921"
            ]
           ]
          },
          "colorway": [
           "#636efa",
           "#EF553B",
           "#00cc96",
           "#ab63fa",
           "#FFA15A",
           "#19d3f3",
           "#FF6692",
           "#B6E880",
           "#FF97FF",
           "#FECB52"
          ],
          "font": {
           "color": "#2a3f5f"
          },
          "geo": {
           "bgcolor": "white",
           "lakecolor": "white",
           "landcolor": "#E5ECF6",
           "showlakes": true,
           "showland": true,
           "subunitcolor": "white"
          },
          "hoverlabel": {
           "align": "left"
          },
          "hovermode": "closest",
          "mapbox": {
           "style": "light"
          },
          "paper_bgcolor": "white",
          "plot_bgcolor": "#E5ECF6",
          "polar": {
           "angularaxis": {
            "gridcolor": "white",
            "linecolor": "white",
            "ticks": ""
           },
           "bgcolor": "#E5ECF6",
           "radialaxis": {
            "gridcolor": "white",
            "linecolor": "white",
            "ticks": ""
           }
          },
          "scene": {
           "xaxis": {
            "backgroundcolor": "#E5ECF6",
            "gridcolor": "white",
            "gridwidth": 2,
            "linecolor": "white",
            "showbackground": true,
            "ticks": "",
            "zerolinecolor": "white"
           },
           "yaxis": {
            "backgroundcolor": "#E5ECF6",
            "gridcolor": "white",
            "gridwidth": 2,
            "linecolor": "white",
            "showbackground": true,
            "ticks": "",
            "zerolinecolor": "white"
           },
           "zaxis": {
            "backgroundcolor": "#E5ECF6",
            "gridcolor": "white",
            "gridwidth": 2,
            "linecolor": "white",
            "showbackground": true,
            "ticks": "",
            "zerolinecolor": "white"
           }
          },
          "shapedefaults": {
           "line": {
            "color": "#2a3f5f"
           }
          },
          "ternary": {
           "aaxis": {
            "gridcolor": "white",
            "linecolor": "white",
            "ticks": ""
           },
           "baxis": {
            "gridcolor": "white",
            "linecolor": "white",
            "ticks": ""
           },
           "bgcolor": "#E5ECF6",
           "caxis": {
            "gridcolor": "white",
            "linecolor": "white",
            "ticks": ""
           }
          },
          "title": {
           "x": 0.05
          },
          "xaxis": {
           "automargin": true,
           "gridcolor": "white",
           "linecolor": "white",
           "ticks": "",
           "title": {
            "standoff": 15
           },
           "zerolinecolor": "white",
           "zerolinewidth": 2
          },
          "yaxis": {
           "automargin": true,
           "gridcolor": "white",
           "linecolor": "white",
           "ticks": "",
           "title": {
            "standoff": 15
           },
           "zerolinecolor": "white",
           "zerolinewidth": 2
          }
         }
        },
        "width": 1500,
        "xaxis": {
         "anchor": "y",
         "domain": [
          0,
          1
         ],
         "title": {
          "text": "main_groups"
         }
        },
        "yaxis": {
         "anchor": "x",
         "domain": [
          0,
          1
         ],
         "title": {
          "text": "num_act"
         }
        }
       }
      }
     },
     "metadata": {},
     "output_type": "display_data"
    }
   ],
   "source": [
    "data = pd.read_csv(\"classified_v1.csv\")\n",
    "import plotly.express as px\n",
    "px.bar(\n",
    "    (data.groupby([\"main_groups\", \"tema\"])[\"code\"].nunique().reset_index(name= \"num_act\")),\n",
    "    x = \"main_groups\",\n",
    "    y = \"num_act\",\n",
    "    color = \"tema\",\n",
    "    barmode = \"group\",\n",
    "    width=1500,   # increase width\n",
    "    height=500\n",
    ")"
   ]
  },
  {
   "cell_type": "code",
   "execution_count": 12,
   "id": "fd5c538d",
   "metadata": {},
   "outputs": [
    {
     "data": {
      "text/plain": [
       "main_groups\n",
       "Auditivos                                             [Auditivos]\n",
       "Lingüístico                                         [Lingüístico]\n",
       "clock                                                     [clock]\n",
       "ilustrations                                       [ilustrations]\n",
       "logic                                  [Calculo, Numbers, logica]\n",
       "not found                                             [not found]\n",
       "reflection                                           [reflection]\n",
       "sequence                                               [sequence]\n",
       "themes          [formas, vida diaria, people, animals, transpo...\n",
       "Name: tema, dtype: object"
      ]
     },
     "execution_count": 12,
     "metadata": {},
     "output_type": "execute_result"
    }
   ],
   "source": [
    "data.groupby(\"main_groups\")[\"tema\"].unique()"
   ]
  },
  {
   "cell_type": "code",
   "execution_count": 28,
   "id": "e6035e22",
   "metadata": {},
   "outputs": [
    {
     "data": {
      "text/html": [
       "<div>\n",
       "<style scoped>\n",
       "    .dataframe tbody tr th:only-of-type {\n",
       "        vertical-align: middle;\n",
       "    }\n",
       "\n",
       "    .dataframe tbody tr th {\n",
       "        vertical-align: top;\n",
       "    }\n",
       "\n",
       "    .dataframe thead th {\n",
       "        text-align: right;\n",
       "    }\n",
       "</style>\n",
       "<table border=\"1\" class=\"dataframe\">\n",
       "  <thead>\n",
       "    <tr style=\"text-align: right;\">\n",
       "      <th></th>\n",
       "      <th>activity_id</th>\n",
       "      <th>name</th>\n",
       "      <th>code</th>\n",
       "      <th>text</th>\n",
       "      <th>tema</th>\n",
       "      <th>main_groups</th>\n",
       "    </tr>\n",
       "  </thead>\n",
       "  <tbody>\n",
       "    <tr>\n",
       "      <th>156</th>\n",
       "      <td>816</td>\n",
       "      <td>Para la bola</td>\n",
       "      <td>J_pararPunto</td>\n",
       "      <td>para la bola calcular el momento exacto en el ...</td>\n",
       "      <td>sport</td>\n",
       "      <td>themes</td>\n",
       "    </tr>\n",
       "    <tr>\n",
       "      <th>174</th>\n",
       "      <td>836</td>\n",
       "      <td>¡Que empiece el partido!</td>\n",
       "      <td>J_bichos_children</td>\n",
       "      <td>¡que empiece el partido! esta actividad consis...</td>\n",
       "      <td>sport</td>\n",
       "      <td>themes</td>\n",
       "    </tr>\n",
       "    <tr>\n",
       "      <th>233</th>\n",
       "      <td>1157</td>\n",
       "      <td>Golpea la pelota</td>\n",
       "      <td>J_deportes</td>\n",
       "      <td>golpea la pelota pulsar sólo cuando aparezca l...</td>\n",
       "      <td>sport</td>\n",
       "      <td>themes</td>\n",
       "    </tr>\n",
       "    <tr>\n",
       "      <th>344</th>\n",
       "      <td>1674</td>\n",
       "      <td>Para la bola</td>\n",
       "      <td>SG-VSR32-A</td>\n",
       "      <td>para la bola calcular el momento exacto en el ...</td>\n",
       "      <td>sport</td>\n",
       "      <td>themes</td>\n",
       "    </tr>\n",
       "    <tr>\n",
       "      <th>369</th>\n",
       "      <td>1758</td>\n",
       "      <td>¡Que empiece el partido!</td>\n",
       "      <td>SG-EP30-K</td>\n",
       "      <td>¡que empiece el partido! reorganizar elementos...</td>\n",
       "      <td>sport</td>\n",
       "      <td>themes</td>\n",
       "    </tr>\n",
       "    <tr>\n",
       "      <th>373</th>\n",
       "      <td>1806</td>\n",
       "      <td>Golpea la pelota</td>\n",
       "      <td>SG-EI31-K</td>\n",
       "      <td>golpea la pelota pulsar el botón solo cuando a...</td>\n",
       "      <td>sport</td>\n",
       "      <td>themes</td>\n",
       "    </tr>\n",
       "    <tr>\n",
       "      <th>427</th>\n",
       "      <td>816</td>\n",
       "      <td>Para la bola</td>\n",
       "      <td>J_pararPunto</td>\n",
       "      <td>para la bola calcular el momento exacto en el ...</td>\n",
       "      <td>sport</td>\n",
       "      <td>themes</td>\n",
       "    </tr>\n",
       "  </tbody>\n",
       "</table>\n",
       "</div>"
      ],
      "text/plain": [
       "     activity_id                      name               code  \\\n",
       "156          816              Para la bola       J_pararPunto   \n",
       "174          836  ¡Que empiece el partido!  J_bichos_children   \n",
       "233         1157          Golpea la pelota         J_deportes   \n",
       "344         1674              Para la bola         SG-VSR32-A   \n",
       "369         1758  ¡Que empiece el partido!          SG-EP30-K   \n",
       "373         1806          Golpea la pelota          SG-EI31-K   \n",
       "427          816              Para la bola       J_pararPunto   \n",
       "\n",
       "                                                  text   tema main_groups  \n",
       "156  para la bola calcular el momento exacto en el ...  sport      themes  \n",
       "174  ¡que empiece el partido! esta actividad consis...  sport      themes  \n",
       "233  golpea la pelota pulsar sólo cuando aparezca l...  sport      themes  \n",
       "344  para la bola calcular el momento exacto en el ...  sport      themes  \n",
       "369  ¡que empiece el partido! reorganizar elementos...  sport      themes  \n",
       "373  golpea la pelota pulsar el botón solo cuando a...  sport      themes  \n",
       "427  para la bola calcular el momento exacto en el ...  sport      themes  "
      ]
     },
     "execution_count": 28,
     "metadata": {},
     "output_type": "execute_result"
    }
   ],
   "source": [
    "data[(data[\"main_groups\"] == \"themes\") & (data[\"tema\"] == \"sport\")]"
   ]
  }
 ],
 "metadata": {
  "kernelspec": {
   "display_name": ".venv",
   "language": "python",
   "name": "python3"
  },
  "language_info": {
   "codemirror_mode": {
    "name": "ipython",
    "version": 3
   },
   "file_extension": ".py",
   "mimetype": "text/x-python",
   "name": "python",
   "nbconvert_exporter": "python",
   "pygments_lexer": "ipython3",
   "version": "3.12.4"
  }
 },
 "nbformat": 4,
 "nbformat_minor": 5
}
