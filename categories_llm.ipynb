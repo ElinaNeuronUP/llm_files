{
 "cells": [
  {
   "cell_type": "code",
   "execution_count": 1,
   "id": "6dd4b16f",
   "metadata": {},
   "outputs": [
    {
     "name": "stdout",
     "output_type": "stream",
     "text": [
      "C:\\Users\\elina.filatova_neuro\\Desktop\\data_base\\make_datasets\\.env\n"
     ]
    }
   ],
   "source": [
    "import bs4 as bs\n",
    "import urllib.request\n",
    "import re\n",
    "from sklearn.manifold import TSNE\n",
    "import nltk\n",
    "from nltk.corpus import stopwords\n",
    "from gensim.models import Word2Vec\n",
    "import pandas as pd\n",
    "import make_datasets as src\n",
    "from sentence_transformers import SentenceTransformer, util\n",
    "from sklearn.feature_extraction.text import TfidfVectorizer\n",
    "from sklearn.feature_extraction.text import CountVectorizer\n",
    "from sklearn.decomposition import LatentDirichletAllocation\n",
    "from sklearn.decomposition import NMF\n",
    "import matplotlib.pyplot as plt\n",
    "import numpy as np\n",
    "import numpy as np\n",
    "import matplotlib.pyplot as plt\n",
    "import warnings\n",
    "warnings.simplefilter(\"ignore\")"
   ]
  },
  {
   "cell_type": "code",
   "execution_count": 2,
   "id": "8decd637",
   "metadata": {},
   "outputs": [],
   "source": [
    "def tsne_plot(model, figsize = (16, 16)):\n",
    "    labels = []\n",
    "    tokens = []\n",
    "    \n",
    "    for word in model.wv.index_to_key:\n",
    "        tokens.append(model.wv[word])\n",
    "        labels.append(word)\n",
    "    tokens = np.array(tokens)\n",
    "    print(len(tokens))\n",
    "    \n",
    "    \n",
    "    tsne_model = TSNE(perplexity=9, n_components=2, init='pca', n_iter=2500, random_state=23)\n",
    "    new_values = tsne_model.fit_transform(tokens)\n",
    "    x = []\n",
    "    y = []\n",
    "    \n",
    "    for value in new_values:\n",
    "        x.append(value[0])\n",
    "        y.append(value[1])\n",
    "        \n",
    "    plt.figure(figsize=figsize) \n",
    "    for i in range(len(x)):\n",
    "        plt.scatter(x[i],y[i])\n",
    "        plt.annotate(labels[i],\n",
    "                     xy=(x[i], y[i]),\n",
    "                     xytext=(5, 2),\n",
    "                     textcoords='offset points',\n",
    "                     ha='right',\n",
    "                     va='bottom')\n",
    "        plt.xlabel(\"dimension 1\")\n",
    "        plt.ylabel(\"dimension 2\")\n",
    "    plt.show()"
   ]
  },
  {
   "cell_type": "code",
   "execution_count": 3,
   "id": "0a98bbc0",
   "metadata": {},
   "outputs": [],
   "source": [
    "def classify_semantic(activity:str, topic_vectors, model, threshold = 0.4):\n",
    "    act_vec = model.encode(activity)\n",
    "    matched = []\n",
    "    for topic, vec in topic_vectors.items():\n",
    "        sim = util.cos_sim(act_vec, vec).item()\n",
    "        if sim > threshold:\n",
    "            matched.append((topic, round(sim, 2)))\n",
    "    return sorted(matched, key=lambda x: -x[1])\n",
    "\n",
    "def classify_activities_df(df, text_column, topic_vectors,model, threshold=0.4):\n",
    "    results = []\n",
    "    for i, row in df.iterrows():\n",
    "        topics_with_sim = classify_semantic(row[text_column], topic_vectors, model, threshold)\n",
    "        matched_topics = [t[0] for t in topics_with_sim]\n",
    "        sims = [t[1] for t in topics_with_sim]\n",
    "        results.append({\n",
    "            \"activity_id\": row[\"activity_id\"],\n",
    "            \"name\": row[\"name\"],\n",
    "            \"code\": row[\"code\"],\n",
    "            \"text\": row[text_column],\n",
    "            \"temas\": matched_topics if matched_topics else \"not found\",\n",
    "            \"similitud\": sims if sims else 0\n",
    "        })\n",
    "    return pd.DataFrame(results)\n",
    "\n",
    "\n",
    "def explode_topics_df(df_with_topics):\n",
    "    rows = []\n",
    "\n",
    "    for _, row in df_with_topics.iterrows():\n",
    "        temas = row[\"temas\"]\n",
    "        sims = row[\"similitud\"]\n",
    "\n",
    "        if temas == \"not found\":\n",
    "            rows.append({\n",
    "                \"activity_id\": row[\"activity_id\"],\n",
    "                \"name\": row[\"name\"],\n",
    "                \"code\": row[\"code\"],\n",
    "                \"text\": row[\"text\"],\n",
    "                \"tema\": \"not found\",\n",
    "                \"similitud\": 0\n",
    "            })\n",
    "        else:\n",
    "            for tema, sim in zip(temas, sims):\n",
    "                rows.append({\n",
    "                    \"activity_id\": row[\"activity_id\"],\n",
    "                    \"name\": row[\"name\"],\n",
    "                    \"code\": row[\"code\"],\n",
    "                    \"text\": row[\"text\"],\n",
    "                    \"tema\": tema,\n",
    "                    \"similitud\": sim\n",
    "                })\n",
    "\n",
    "    return pd.DataFrame(rows)\n",
    "\n",
    "def classify(x):\n",
    "    themes = [\"money\", \"people\", \"sport\", \"vida diaria\", \"transport\", \"animals\", \"formas\"]\n",
    "    logic = [\"logica\", \"Calculo\", \"Numbers\"]\n",
    "\n",
    "    if x in themes:\n",
    "        return \"themes\"\n",
    "    elif x in logic:\n",
    "        return \"logic\"\n",
    "    else:\n",
    "        return x"
   ]
  },
  {
   "cell_type": "code",
   "execution_count": 4,
   "id": "f2c881d7",
   "metadata": {},
   "outputs": [],
   "source": [
    "topics = {\n",
    "    'transport':  [\n",
    "    \"metro\", \"parada\", \"paradas\", \"estación\", \"tráfico\", \"vuelo\", \"aeropuerto\", \"velocidad\",\n",
    "    \"tren\", \"tranvía\", \"autobús\", \"intercambiador\",\"evitar multa\",\n",
    "    \"carretera\", \"autopista\", \"avenida\", \"conducción\",  \"atasco\",\n",
    "    \"señal de tráfico\", \"vehículo\", \"auto\", \"coche\",\n",
    "    \"avión\", \"piloto\", \"despegue\", \"puerta de embarque\", \"billete de avión\",\n",
    "    \"barco\", \"ferry\", \"puerto\", \"crucero\", \"lancha\", \"navegación\",\n",
    "    \"ruta\", \"trayecto\", \"recorrido\", \"destino\", \"transporte urbano\",\"frecuencia\", \"maletas\", \"estación\", \"vuelo\", \"aeropuerto\"],\n",
    "    \n",
    "    \"people\": [\n",
    "        \"imagen\", \"foto\", \"personas\", \"caras\", \"nombre\",\"vístete (mujer)\",\n",
    "        \"rostro\", \"gente\", \"individuo\", \"figura\", \"silueta\",\n",
    "        \"retrato\", \"selfie\", \"usuario\", \"identidad\", \"modelo\",\n",
    "        \"niño\", \"niña\", \"hombre\", \"mujer\", \"persona\",\n",
    "        \"grupo\", \"multitud\", \"asistencia\", \"presencia\", \"semblante\",\n",
    "        \"expresión\", \"mirada\", \"perfil\", \"nombre completo\", \"apellido\"\n",
    "    ],\n",
    "    \n",
    "        'animals': [\"animales\", \"perro\", \"gatos\", \"bichos\", \"aleteo\", \"mariposa\",\n",
    "        \"mascotas\", \"gatito\", \"perrito\", \"animalito\", \"fauna\",\n",
    "        \"criatura\", \"insecto\", \"pájaro\",\n",
    "        \"pez\", \"caballo\", \"vaca\", \"oveja\", \"cerdo\",\n",
    "        \"conejo\", \"hamster\", \"reptil\", \"anfibio\", \"zoológico\",\"separa los bichos\",\n",
    "    ],\n",
    "    'money': [\n",
    "        \"billetes\", \"monedas\", \"cantidad\", \"dinero\",\n",
    "        \"efectivo\", \"pago\", \"precio\", \"cuenta\", \"tarjeta\",\n",
    "        \"saldo\", \"cobro\", \"gasto\", \"ahorro\", \"ingreso\",\n",
    "        \"transferencia\", \"cheque\", \"banco\", \"cartera\", \"fortuna\",\n",
    "        \"riqueza\", \"valor\", \"presupuesto\", \"divisa\", \"capital\",\n",
    "        \"interés\", \"deuda\", \"crédito\", \"retiro\", \"depósito\"\n",
    "    ],\n",
    "    \n",
    "    \"sport\": [\n",
    "        \"football\", \"balón\", \"pelota\", \"golpe\", \"basketball\",\n",
    "        \"deporte\", \"entrenamiento\", \"partido\", \"jugador\", \"equipo\",\n",
    "        \"gol\", \"pase\", \"tiro\", \"marcador\", \"victoria\",\n",
    "        \"derrota\", \"carrera\", \"salto\", \"natación\", \"ciclismo\",\n",
    "        \"boxeo\", \"tenis\", \"voley\", \"surf\", \"esquí\",\n",
    "        \"pesas\", \"gimnasio\", \"fitness\",  \"fuerza\"\n",
    "    ],\n",
    "    \"sequence\": [\"secuencia\", \"order\", ],\n",
    "    \"formas\": [\"formas\", \"dibujo\", \"figuras\", \"color\"],\n",
    "\n",
    "    \"vida diaria\": [\n",
    "        \"reciclar la basura\", \"hogar\", \"recoger la habitación\", \"ir de compras\", \"vida diaria\", \"conducir\",\n",
    "        \"comida\", \"platos\", \"cocina\", \"agua\", \"vístete (mujer)\", \n",
    "        \"lavar la ropa\", \"hacer la cama\", \"barrer\", \"fregar\", \"poner la mesa\",\n",
    "        \"quitar la mesa\", \"sacar la basura\", \"ducharse\", \"lavarse los dientes\",\n",
    "        \"despertarse\", \"desayunar\", \"almorzar\", \"cenar\", \"ir al trabajo\",\n",
    "        \"hacer la compra\", \"pagar facturas\", \"cuidar a los niños\", \"descansar\", \"organizar\",\n",
    "        \"limpiar\", \"preparar la comida\", \"planchar\", \"tiempo libre\", \"tareas domésticas\"\n",
    "    ],\n",
    "    \n",
    "    \"logica\": [\n",
    "        \"puzzle\", \"rompecabezas\", \"lógica\", \"razonamiento\", \"deducción\", \"laberinto\"\n",
    "        \"estrategia\", \"acertijo\", \"enigma\", \"problema\", \"solución\",\n",
    "        \"patrón\", \"símbolos\", \"reglas\", \"análisis\", \"inferencias\",\n",
    "        \"pensamiento crítico\", \"argumento\", \"conclusión\", \"secuencia lógica\", \"decisión\"\n",
    "    ],\n",
    "\n",
    "    \"Lingüístico\": [ \"lenguaje\", \"palabras\", \"letras\", \"sílabas\", \"phrases\", \"lingüístico\",\n",
    "        \"texto\", \"frases\", \"lectura\", \"escritura\", \"significado\",\n",
    "        \"vocabulario\", \"gramática\", \"comunicación\", \"narración\", \"cuentos\",\n",
    "        \"diálogo\", \"pronunciación\", \"discurso\", \"oración\", \"poesía\",\n",
    "        \"idioma\", \"conjugación\", \"verbo\", \"adjetivo\", \"sustantivo\", \"escrita\", \"preguntas\", \"responder\"\n",
    "    ], \n",
    "    \n",
    "    'Calculo': [ \"calcular\", \"cálculo\", \"sumar\",\"cantidad\", \"matemáticas\",\n",
    "        \"restar\", \"multiplicar\", \"dividir\", \"porcentaje\", \"ecuación\", \"medida\", \"cifra\", \"estimación\", \"valor\",\n",
    "        \"operación\", \"fracción\", \"decimal\", \"estadística\"\n",
    "    ],\n",
    "    'Auditivos': [ \"señal\", \"señales\", \"sonidos\", \"música\", \"audio\",\n",
    "        \"ruido\", \"voz\", \"melodía\", \"ritmo\", \"tono\",\n",
    "        \"volumen\", \"eco\", \"vibración\", \"frecuencia\", \"acústica\",\n",
    "        \"altavoz\", \"auriculares\", \"micrófono\", \"grabación\", \"podcast\",\n",
    "        \"susurro\", \"estruendo\", \"aplausos\", \"canción\", \"banda sonora\",\n",
    "        \"radio\", \"diálogo\", \"armonía\", \"timbre\", \"reverberación\"\n",
    "    ], #\n",
    "       \"Numbers\": [\"números\",],\n",
    "    }\n",
    "\n",
    "model = SentenceTransformer('paraphrase-multilingual-MiniLM-L12-v2')\n",
    "topic_vectors = {topic: model.encode(\" \".join(keywords)) for topic, keywords in topics.items()}"
   ]
  },
  {
   "cell_type": "code",
   "execution_count": 5,
   "id": "76f37f6c",
   "metadata": {},
   "outputs": [],
   "source": [
    "query = \"\"\"\n",
    "\tselect c.activity_id, a.code, act.name, act.description, coalesce(cg.instructions, cc.instructions, cgen.instructions) as instructions, \n",
    "\tact.keywords\n",
    "\tfrom nup_configuration c\n",
    "\tjoin nup_activity_translation act on c.activity_id = act.translatable_id and c.locale = act.locale\n",
    "\tleft join nup_activity a on a.id = c.activity_id \n",
    "\tleft join nup_configuration_option co on co.id = c.id\n",
    "\tleft join nup_configuration_game cg on cg.configuration_id = c.id\n",
    "\tleft join nup_configuration_card cc on cc.configuration_id = c.id\n",
    "\tleft join nup_configuration_generator cgen on cgen.configuration_id = c.id\n",
    "\tleft join nup_type t on t.id = c.type_id\n",
    "\twhere act.locale = 'es_ES' \n",
    "\tand c.enabled = 1 and c.kind = 1 and (c.format_id = 1 or c.format_id is null) \n",
    "\tand c.activity_id not in (select id from excluded_activities)\n",
    "\tand a.enabled = 1\n",
    "\"\"\"\n",
    "conn = src.connect_maria_db(\"empty_neuronup\")\n",
    "data = pd.read_sql(query, conn).drop_duplicates()\n",
    "data_clf_neuros = pd.read_csv(\"data_clf_neuros.csv\")"
   ]
  },
  {
   "cell_type": "code",
   "execution_count": 6,
   "id": "355a75ca",
   "metadata": {},
   "outputs": [
    {
     "data": {
      "text/html": [
       "<div>\n",
       "<style scoped>\n",
       "    .dataframe tbody tr th:only-of-type {\n",
       "        vertical-align: middle;\n",
       "    }\n",
       "\n",
       "    .dataframe tbody tr th {\n",
       "        vertical-align: top;\n",
       "    }\n",
       "\n",
       "    .dataframe thead th {\n",
       "        text-align: right;\n",
       "    }\n",
       "</style>\n",
       "<table border=\"1\" class=\"dataframe\">\n",
       "  <thead>\n",
       "    <tr style=\"text-align: right;\">\n",
       "      <th></th>\n",
       "      <th>activity_id</th>\n",
       "      <th>code</th>\n",
       "      <th>name</th>\n",
       "      <th>description</th>\n",
       "      <th>instructions</th>\n",
       "      <th>keywords</th>\n",
       "    </tr>\n",
       "  </thead>\n",
       "  <tbody>\n",
       "    <tr>\n",
       "      <th>0</th>\n",
       "      <td>351</td>\n",
       "      <td>ER1</td>\n",
       "      <td>Consecuencias</td>\n",
       "      <td>Determinar las consecuencias posibles de deter...</td>\n",
       "      <td>Elige la consecuencia posible de las siguiente...</td>\n",
       "      <td>funciones ejecutivas razonamiento valor ecológ...</td>\n",
       "    </tr>\n",
       "    <tr>\n",
       "      <th>28</th>\n",
       "      <td>352</td>\n",
       "      <td>ASE3</td>\n",
       "      <td>Búsqueda de estímulos consecutivos</td>\n",
       "      <td>Buscar entre un conjunto de estímulos la clave...</td>\n",
       "      <td>Señala los elementos indicados cada vez que ap...</td>\n",
       "      <td>atención selectiva heminegligencia búsqueda se...</td>\n",
       "    </tr>\n",
       "    <tr>\n",
       "      <th>140</th>\n",
       "      <td>353</td>\n",
       "      <td>ASU1</td>\n",
       "      <td>Encontrar los números que faltan</td>\n",
       "      <td>Encontrar en una tabla llena de números aquell...</td>\n",
       "      <td>Escribe los números que faltan en la tabla par...</td>\n",
       "      <td>atención sostenida números faltan encontrar ta...</td>\n",
       "    </tr>\n",
       "    <tr>\n",
       "      <th>176</th>\n",
       "      <td>354</td>\n",
       "      <td>GV1</td>\n",
       "      <td>Encontrar el color igual</td>\n",
       "      <td>Seleccionar el color exactamente igual al modelo.</td>\n",
       "      <td>Señala la opción que sea del mismo color.</td>\n",
       "      <td>gnosias visuales percepción identificar colore...</td>\n",
       "    </tr>\n",
       "    <tr>\n",
       "      <th>208</th>\n",
       "      <td>355</td>\n",
       "      <td>LD1</td>\n",
       "      <td>Identificar sonidos en nombres de imágenes</td>\n",
       "      <td>Identificar ciertos sonidos en los nombres de ...</td>\n",
       "      <td>Señala los elementos que cumplan la condición ...</td>\n",
       "      <td>lenguaje discriminacion fonológica imágenes im...</td>\n",
       "    </tr>\n",
       "    <tr>\n",
       "      <th>...</th>\n",
       "      <td>...</td>\n",
       "      <td>...</td>\n",
       "      <td>...</td>\n",
       "      <td>...</td>\n",
       "      <td>...</td>\n",
       "      <td>...</td>\n",
       "    </tr>\n",
       "    <tr>\n",
       "      <th>9237</th>\n",
       "      <td>1860</td>\n",
       "      <td>SG-EFX32-K</td>\n",
       "      <td>El mejor organizador</td>\n",
       "      <td>Organizar diversos elementos en grupos diferentes</td>\n",
       "      <td>Organiza los dibujos de diferentes formas.</td>\n",
       "      <td>inflexibilidad inflexible flexibles rígido rig...</td>\n",
       "    </tr>\n",
       "    <tr>\n",
       "      <th>9241</th>\n",
       "      <td>1863</td>\n",
       "      <td>SG-APS34-A</td>\n",
       "      <td>Emparejamientos veloces</td>\n",
       "      <td>Asociar los elementos mostrados lo más rápidam...</td>\n",
       "      <td>Pulsa sobre la pareja del elemento mostrado. ¡...</td>\n",
       "      <td>emparejamientos veloces parejas carrera empare...</td>\n",
       "    </tr>\n",
       "    <tr>\n",
       "      <th>9242</th>\n",
       "      <td>1866</td>\n",
       "      <td>SG-APS34-K</td>\n",
       "      <td>Parejas a la carrera</td>\n",
       "      <td>Asociar los elementos mostrados lo más rápido ...</td>\n",
       "      <td>Pulsa sobre la pareja del dibujo que ves.  ¡Ha...</td>\n",
       "      <td>parejas carreras asociar elementos mostrados r...</td>\n",
       "    </tr>\n",
       "    <tr>\n",
       "      <th>9243</th>\n",
       "      <td>1869</td>\n",
       "      <td>SG-ASU32-K</td>\n",
       "      <td>Programa el robot</td>\n",
       "      <td>Copiar en espejo la posición de las bombillas ...</td>\n",
       "      <td>Pon las luces al revés del modelo, como un esp...</td>\n",
       "      <td>lateralidad cruzada relaciones espaciales espe...</td>\n",
       "    </tr>\n",
       "    <tr>\n",
       "      <th>9245</th>\n",
       "      <td>1872</td>\n",
       "      <td>SG-ASU32-A</td>\n",
       "      <td>Ordena la estantería</td>\n",
       "      <td>Copiar en espejo la posición de los objetos de...</td>\n",
       "      <td>Pon los objetos al revés que en el modelo. ¡Fí...</td>\n",
       "      <td>lateralidad cruzada relaciones espaciales espe...</td>\n",
       "    </tr>\n",
       "  </tbody>\n",
       "</table>\n",
       "<p>318 rows × 6 columns</p>\n",
       "</div>"
      ],
      "text/plain": [
       "      activity_id        code                                        name  \\\n",
       "0             351         ER1                               Consecuencias   \n",
       "28            352        ASE3          Búsqueda de estímulos consecutivos   \n",
       "140           353        ASU1            Encontrar los números que faltan   \n",
       "176           354         GV1                    Encontrar el color igual   \n",
       "208           355         LD1  Identificar sonidos en nombres de imágenes   \n",
       "...           ...         ...                                         ...   \n",
       "9237         1860  SG-EFX32-K                        El mejor organizador   \n",
       "9241         1863  SG-APS34-A                     Emparejamientos veloces   \n",
       "9242         1866  SG-APS34-K                        Parejas a la carrera   \n",
       "9243         1869  SG-ASU32-K                           Programa el robot   \n",
       "9245         1872  SG-ASU32-A                        Ordena la estantería   \n",
       "\n",
       "                                            description  \\\n",
       "0     Determinar las consecuencias posibles de deter...   \n",
       "28    Buscar entre un conjunto de estímulos la clave...   \n",
       "140   Encontrar en una tabla llena de números aquell...   \n",
       "176   Seleccionar el color exactamente igual al modelo.   \n",
       "208   Identificar ciertos sonidos en los nombres de ...   \n",
       "...                                                 ...   \n",
       "9237  Organizar diversos elementos en grupos diferentes   \n",
       "9241  Asociar los elementos mostrados lo más rápidam...   \n",
       "9242  Asociar los elementos mostrados lo más rápido ...   \n",
       "9243  Copiar en espejo la posición de las bombillas ...   \n",
       "9245  Copiar en espejo la posición de los objetos de...   \n",
       "\n",
       "                                           instructions  \\\n",
       "0     Elige la consecuencia posible de las siguiente...   \n",
       "28    Señala los elementos indicados cada vez que ap...   \n",
       "140   Escribe los números que faltan en la tabla par...   \n",
       "176          Señala la opción que sea del mismo color.    \n",
       "208   Señala los elementos que cumplan la condición ...   \n",
       "...                                                 ...   \n",
       "9237         Organiza los dibujos de diferentes formas.   \n",
       "9241  Pulsa sobre la pareja del elemento mostrado. ¡...   \n",
       "9242  Pulsa sobre la pareja del dibujo que ves.  ¡Ha...   \n",
       "9243  Pon las luces al revés del modelo, como un esp...   \n",
       "9245  Pon los objetos al revés que en el modelo. ¡Fí...   \n",
       "\n",
       "                                               keywords  \n",
       "0     funciones ejecutivas razonamiento valor ecológ...  \n",
       "28    atención selectiva heminegligencia búsqueda se...  \n",
       "140   atención sostenida números faltan encontrar ta...  \n",
       "176   gnosias visuales percepción identificar colore...  \n",
       "208   lenguaje discriminacion fonológica imágenes im...  \n",
       "...                                                 ...  \n",
       "9237  inflexibilidad inflexible flexibles rígido rig...  \n",
       "9241  emparejamientos veloces parejas carrera empare...  \n",
       "9242  parejas carreras asociar elementos mostrados r...  \n",
       "9243  lateralidad cruzada relaciones espaciales espe...  \n",
       "9245  lateralidad cruzada relaciones espaciales espe...  \n",
       "\n",
       "[318 rows x 6 columns]"
      ]
     },
     "execution_count": 6,
     "metadata": {},
     "output_type": "execute_result"
    }
   ],
   "source": [
    "data"
   ]
  },
  {
   "cell_type": "code",
   "execution_count": 7,
   "id": "fe180be3",
   "metadata": {},
   "outputs": [],
   "source": [
    "stop_words = [\n",
    "    'esta', 'actividad', 'consiste', 'en', 'la', 'el', 'los', 'las', 'con', 'sobre',\n",
    "    'de', 'una', 'para', 'que', 'y', 'se', 'un', 'lo', 'al', 'del','hasta', 'dos', 'une', 'elementos', 'cartas',\n",
    "    'más', 'posible', 'manera', 'encontrar', 'su', 'vez', 'cada', 'dónde', 'sonidos', 'están', 'donde', 'estaban', 'ni', 'todos', 'fíjate' \n",
    "]\n",
    "\n",
    "df = data[[\"activity_id\", \"code\", \"name\", \"description\", \"instructions\", \"keywords\"]].drop_duplicates()\n",
    "selected_cols = [\"Código\",  \"Recomendaciones\", \"Contenido\", \"Temáticas\", \"Educativas\"] # \"Adaptabilidad e interacción\",\n",
    "merged_df = df.merge(data_clf_neuros[selected_cols], how = \"left\", left_on = \"code\", right_on = \"Código\").fillna(\"/\")\n",
    "\n",
    "final_cols_to_select =[x for x in [\"name\", \"description\", \"instructions\"] + selected_cols if x != \"Código\"]\n",
    "merged_df[\"text\"] = \"\"\n",
    "for col in final_cols_to_select:\n",
    "    merged_df[\"text\"] += merged_df[col].astype(str) + ' '\n",
    "    \n",
    "merged_df[\"text\"] = merged_df[\"text\"].apply(lambda x:  re.sub(r'[\\s/.,*%]+', ' ', x))\n",
    "merged_df[\"text\"] = merged_df[\"text\"].apply(lambda x: x.lower())"
   ]
  },
  {
   "cell_type": "code",
   "execution_count": 9,
   "id": "687de6ab",
   "metadata": {},
   "outputs": [
    {
     "data": {
      "text/plain": [
       "'consecuencias determinar las consecuencias posibles de determinadas situaciones elige la consecuencia posible de las siguientes situaciones recomendado para sesiones en grupo lingüístico '"
      ]
     },
     "execution_count": 9,
     "metadata": {},
     "output_type": "execute_result"
    }
   ],
   "source": [
    "merged_df.iloc[0][\"text\"]"
   ]
  },
  {
   "cell_type": "code",
   "execution_count": 10,
   "id": "ec613de7",
   "metadata": {},
   "outputs": [
    {
     "data": {
      "text/html": [
       "<div>\n",
       "<style scoped>\n",
       "    .dataframe tbody tr th:only-of-type {\n",
       "        vertical-align: middle;\n",
       "    }\n",
       "\n",
       "    .dataframe tbody tr th {\n",
       "        vertical-align: top;\n",
       "    }\n",
       "\n",
       "    .dataframe thead th {\n",
       "        text-align: right;\n",
       "    }\n",
       "</style>\n",
       "<table border=\"1\" class=\"dataframe\">\n",
       "  <thead>\n",
       "    <tr style=\"text-align: right;\">\n",
       "      <th></th>\n",
       "      <th>activity_id</th>\n",
       "      <th>code</th>\n",
       "      <th>name</th>\n",
       "      <th>description</th>\n",
       "      <th>instructions</th>\n",
       "      <th>keywords</th>\n",
       "      <th>Código</th>\n",
       "      <th>Recomendaciones</th>\n",
       "      <th>Contenido</th>\n",
       "      <th>Temáticas</th>\n",
       "      <th>Educativas</th>\n",
       "      <th>text</th>\n",
       "    </tr>\n",
       "  </thead>\n",
       "  <tbody>\n",
       "    <tr>\n",
       "      <th>0</th>\n",
       "      <td>351</td>\n",
       "      <td>ER1</td>\n",
       "      <td>Consecuencias</td>\n",
       "      <td>Determinar las consecuencias posibles de deter...</td>\n",
       "      <td>Elige la consecuencia posible de las siguiente...</td>\n",
       "      <td>funciones ejecutivas razonamiento valor ecológ...</td>\n",
       "      <td>ER1</td>\n",
       "      <td>Recomendado para sesiones en grupo</td>\n",
       "      <td>Lingüístico</td>\n",
       "      <td>/</td>\n",
       "      <td>/</td>\n",
       "      <td>consecuencias determinar las consecuencias pos...</td>\n",
       "    </tr>\n",
       "    <tr>\n",
       "      <th>1</th>\n",
       "      <td>352</td>\n",
       "      <td>ASE3</td>\n",
       "      <td>Búsqueda de estímulos consecutivos</td>\n",
       "      <td>Buscar entre un conjunto de estímulos la clave...</td>\n",
       "      <td>Señala los elementos indicados cada vez que ap...</td>\n",
       "      <td>atención selectiva heminegligencia búsqueda se...</td>\n",
       "      <td>ASE3</td>\n",
       "      <td>/</td>\n",
       "      <td>Formas, Números, Actividad con elementos dibuj...</td>\n",
       "      <td>Juegos tradicionales</td>\n",
       "      <td>/</td>\n",
       "      <td>búsqueda de estímulos consecutivos buscar entr...</td>\n",
       "    </tr>\n",
       "    <tr>\n",
       "      <th>2</th>\n",
       "      <td>353</td>\n",
       "      <td>ASU1</td>\n",
       "      <td>Encontrar los números que faltan</td>\n",
       "      <td>Encontrar en una tabla llena de números aquell...</td>\n",
       "      <td>Escribe los números que faltan en la tabla par...</td>\n",
       "      <td>atención sostenida números faltan encontrar ta...</td>\n",
       "      <td>ASU1</td>\n",
       "      <td>/</td>\n",
       "      <td>Números</td>\n",
       "      <td>/</td>\n",
       "      <td>Actividad de cálculo/matemáticas</td>\n",
       "      <td>encontrar los números que faltan encontrar en ...</td>\n",
       "    </tr>\n",
       "    <tr>\n",
       "      <th>3</th>\n",
       "      <td>354</td>\n",
       "      <td>GV1</td>\n",
       "      <td>Encontrar el color igual</td>\n",
       "      <td>Seleccionar el color exactamente igual al modelo.</td>\n",
       "      <td>Señala la opción que sea del mismo color.</td>\n",
       "      <td>gnosias visuales percepción identificar colore...</td>\n",
       "      <td>GV1</td>\n",
       "      <td>/</td>\n",
       "      <td>Colores</td>\n",
       "      <td>/</td>\n",
       "      <td>Actividad de similitud</td>\n",
       "      <td>encontrar el color igual seleccionar el color ...</td>\n",
       "    </tr>\n",
       "    <tr>\n",
       "      <th>4</th>\n",
       "      <td>355</td>\n",
       "      <td>LD1</td>\n",
       "      <td>Identificar sonidos en nombres de imágenes</td>\n",
       "      <td>Identificar ciertos sonidos en los nombres de ...</td>\n",
       "      <td>Señala los elementos que cumplan la condición ...</td>\n",
       "      <td>lenguaje discriminacion fonológica imágenes im...</td>\n",
       "      <td>LD1</td>\n",
       "      <td>/</td>\n",
       "      <td>Lingüístico, Actividad con elementos reales (f...</td>\n",
       "      <td>/</td>\n",
       "      <td>/</td>\n",
       "      <td>identificar sonidos en nombres de imágenes ide...</td>\n",
       "    </tr>\n",
       "    <tr>\n",
       "      <th>...</th>\n",
       "      <td>...</td>\n",
       "      <td>...</td>\n",
       "      <td>...</td>\n",
       "      <td>...</td>\n",
       "      <td>...</td>\n",
       "      <td>...</td>\n",
       "      <td>...</td>\n",
       "      <td>...</td>\n",
       "      <td>...</td>\n",
       "      <td>...</td>\n",
       "      <td>...</td>\n",
       "      <td>...</td>\n",
       "    </tr>\n",
       "    <tr>\n",
       "      <th>314</th>\n",
       "      <td>1860</td>\n",
       "      <td>SG-EFX32-K</td>\n",
       "      <td>El mejor organizador</td>\n",
       "      <td>Organizar diversos elementos en grupos diferentes</td>\n",
       "      <td>Organiza los dibujos de diferentes formas.</td>\n",
       "      <td>inflexibilidad inflexible flexibles rígido rig...</td>\n",
       "      <td>SG-EFX32-K</td>\n",
       "      <td>/</td>\n",
       "      <td>Objetos, Actividad con elementos reales (fotos...</td>\n",
       "      <td>/</td>\n",
       "      <td>Actividad de clasificar/ordenar elementos</td>\n",
       "      <td>el mejor organizador organizar diversos elemen...</td>\n",
       "    </tr>\n",
       "    <tr>\n",
       "      <th>315</th>\n",
       "      <td>1863</td>\n",
       "      <td>SG-APS34-A</td>\n",
       "      <td>Emparejamientos veloces</td>\n",
       "      <td>Asociar los elementos mostrados lo más rápidam...</td>\n",
       "      <td>Pulsa sobre la pareja del elemento mostrado. ¡...</td>\n",
       "      <td>emparejamientos veloces parejas carrera empare...</td>\n",
       "      <td>SG-APS34-A</td>\n",
       "      <td>/</td>\n",
       "      <td>Actividad con elementos reales (fotos), Objetos</td>\n",
       "      <td>/</td>\n",
       "      <td>Actividad de clasificar/ordenar elementos, Act...</td>\n",
       "      <td>emparejamientos veloces asociar los elementos ...</td>\n",
       "    </tr>\n",
       "    <tr>\n",
       "      <th>316</th>\n",
       "      <td>1866</td>\n",
       "      <td>SG-APS34-K</td>\n",
       "      <td>Parejas a la carrera</td>\n",
       "      <td>Asociar los elementos mostrados lo más rápido ...</td>\n",
       "      <td>Pulsa sobre la pareja del dibujo que ves.  ¡Ha...</td>\n",
       "      <td>parejas carreras asociar elementos mostrados r...</td>\n",
       "      <td>SG-APS34-K</td>\n",
       "      <td>/</td>\n",
       "      <td>Actividad con elementos reales (fotos), Objeto...</td>\n",
       "      <td>/</td>\n",
       "      <td>Actividad de clasificar/ordenar elementos, Act...</td>\n",
       "      <td>parejas a la carrera asociar los elementos mos...</td>\n",
       "    </tr>\n",
       "    <tr>\n",
       "      <th>317</th>\n",
       "      <td>1869</td>\n",
       "      <td>SG-ASU32-K</td>\n",
       "      <td>Programa el robot</td>\n",
       "      <td>Copiar en espejo la posición de las bombillas ...</td>\n",
       "      <td>Pon las luces al revés del modelo, como un esp...</td>\n",
       "      <td>lateralidad cruzada relaciones espaciales espe...</td>\n",
       "      <td>SG-ASU32-K</td>\n",
       "      <td>/</td>\n",
       "      <td>Actividad con elementos dibujados (ilustracion...</td>\n",
       "      <td>Juegos tradicionales</td>\n",
       "      <td>/</td>\n",
       "      <td>programa el robot copiar en espejo la posición...</td>\n",
       "    </tr>\n",
       "    <tr>\n",
       "      <th>318</th>\n",
       "      <td>1872</td>\n",
       "      <td>SG-ASU32-A</td>\n",
       "      <td>Ordena la estantería</td>\n",
       "      <td>Copiar en espejo la posición de los objetos de...</td>\n",
       "      <td>Pon los objetos al revés que en el modelo. ¡Fí...</td>\n",
       "      <td>lateralidad cruzada relaciones espaciales espe...</td>\n",
       "      <td>SG-ASU32-A</td>\n",
       "      <td>/</td>\n",
       "      <td>Actividad con elementos dibujados (ilustracion...</td>\n",
       "      <td>Juegos tradicionales</td>\n",
       "      <td>/</td>\n",
       "      <td>ordena la estantería copiar en espejo la posic...</td>\n",
       "    </tr>\n",
       "  </tbody>\n",
       "</table>\n",
       "<p>319 rows × 12 columns</p>\n",
       "</div>"
      ],
      "text/plain": [
       "     activity_id        code                                        name  \\\n",
       "0            351         ER1                               Consecuencias   \n",
       "1            352        ASE3          Búsqueda de estímulos consecutivos   \n",
       "2            353        ASU1            Encontrar los números que faltan   \n",
       "3            354         GV1                    Encontrar el color igual   \n",
       "4            355         LD1  Identificar sonidos en nombres de imágenes   \n",
       "..           ...         ...                                         ...   \n",
       "314         1860  SG-EFX32-K                        El mejor organizador   \n",
       "315         1863  SG-APS34-A                     Emparejamientos veloces   \n",
       "316         1866  SG-APS34-K                        Parejas a la carrera   \n",
       "317         1869  SG-ASU32-K                           Programa el robot   \n",
       "318         1872  SG-ASU32-A                        Ordena la estantería   \n",
       "\n",
       "                                           description  \\\n",
       "0    Determinar las consecuencias posibles de deter...   \n",
       "1    Buscar entre un conjunto de estímulos la clave...   \n",
       "2    Encontrar en una tabla llena de números aquell...   \n",
       "3    Seleccionar el color exactamente igual al modelo.   \n",
       "4    Identificar ciertos sonidos en los nombres de ...   \n",
       "..                                                 ...   \n",
       "314  Organizar diversos elementos en grupos diferentes   \n",
       "315  Asociar los elementos mostrados lo más rápidam...   \n",
       "316  Asociar los elementos mostrados lo más rápido ...   \n",
       "317  Copiar en espejo la posición de las bombillas ...   \n",
       "318  Copiar en espejo la posición de los objetos de...   \n",
       "\n",
       "                                          instructions  \\\n",
       "0    Elige la consecuencia posible de las siguiente...   \n",
       "1    Señala los elementos indicados cada vez que ap...   \n",
       "2    Escribe los números que faltan en la tabla par...   \n",
       "3           Señala la opción que sea del mismo color.    \n",
       "4    Señala los elementos que cumplan la condición ...   \n",
       "..                                                 ...   \n",
       "314         Organiza los dibujos de diferentes formas.   \n",
       "315  Pulsa sobre la pareja del elemento mostrado. ¡...   \n",
       "316  Pulsa sobre la pareja del dibujo que ves.  ¡Ha...   \n",
       "317  Pon las luces al revés del modelo, como un esp...   \n",
       "318  Pon los objetos al revés que en el modelo. ¡Fí...   \n",
       "\n",
       "                                              keywords      Código  \\\n",
       "0    funciones ejecutivas razonamiento valor ecológ...         ER1   \n",
       "1    atención selectiva heminegligencia búsqueda se...        ASE3   \n",
       "2    atención sostenida números faltan encontrar ta...        ASU1   \n",
       "3    gnosias visuales percepción identificar colore...         GV1   \n",
       "4    lenguaje discriminacion fonológica imágenes im...         LD1   \n",
       "..                                                 ...         ...   \n",
       "314  inflexibilidad inflexible flexibles rígido rig...  SG-EFX32-K   \n",
       "315  emparejamientos veloces parejas carrera empare...  SG-APS34-A   \n",
       "316  parejas carreras asociar elementos mostrados r...  SG-APS34-K   \n",
       "317  lateralidad cruzada relaciones espaciales espe...  SG-ASU32-K   \n",
       "318  lateralidad cruzada relaciones espaciales espe...  SG-ASU32-A   \n",
       "\n",
       "                        Recomendaciones  \\\n",
       "0    Recomendado para sesiones en grupo   \n",
       "1                                     /   \n",
       "2                                     /   \n",
       "3                                     /   \n",
       "4                                     /   \n",
       "..                                  ...   \n",
       "314                                   /   \n",
       "315                                   /   \n",
       "316                                   /   \n",
       "317                                   /   \n",
       "318                                   /   \n",
       "\n",
       "                                             Contenido             Temáticas  \\\n",
       "0                                          Lingüístico                     /   \n",
       "1    Formas, Números, Actividad con elementos dibuj...  Juegos tradicionales   \n",
       "2                                              Números                     /   \n",
       "3                                              Colores                     /   \n",
       "4    Lingüístico, Actividad con elementos reales (f...                     /   \n",
       "..                                                 ...                   ...   \n",
       "314  Objetos, Actividad con elementos reales (fotos...                     /   \n",
       "315    Actividad con elementos reales (fotos), Objetos                     /   \n",
       "316  Actividad con elementos reales (fotos), Objeto...                     /   \n",
       "317  Actividad con elementos dibujados (ilustracion...  Juegos tradicionales   \n",
       "318  Actividad con elementos dibujados (ilustracion...  Juegos tradicionales   \n",
       "\n",
       "                                            Educativas  \\\n",
       "0                                                    /   \n",
       "1                                                    /   \n",
       "2                     Actividad de cálculo/matemáticas   \n",
       "3                               Actividad de similitud   \n",
       "4                                                    /   \n",
       "..                                                 ...   \n",
       "314          Actividad de clasificar/ordenar elementos   \n",
       "315  Actividad de clasificar/ordenar elementos, Act...   \n",
       "316  Actividad de clasificar/ordenar elementos, Act...   \n",
       "317                                                  /   \n",
       "318                                                  /   \n",
       "\n",
       "                                                  text  \n",
       "0    consecuencias determinar las consecuencias pos...  \n",
       "1    búsqueda de estímulos consecutivos buscar entr...  \n",
       "2    encontrar los números que faltan encontrar en ...  \n",
       "3    encontrar el color igual seleccionar el color ...  \n",
       "4    identificar sonidos en nombres de imágenes ide...  \n",
       "..                                                 ...  \n",
       "314  el mejor organizador organizar diversos elemen...  \n",
       "315  emparejamientos veloces asociar los elementos ...  \n",
       "316  parejas a la carrera asociar los elementos mos...  \n",
       "317  programa el robot copiar en espejo la posición...  \n",
       "318  ordena la estantería copiar en espejo la posic...  \n",
       "\n",
       "[319 rows x 12 columns]"
      ]
     },
     "execution_count": 10,
     "metadata": {},
     "output_type": "execute_result"
    }
   ],
   "source": [
    "merged_df"
   ]
  },
  {
   "cell_type": "code",
   "execution_count": 11,
   "id": "72032b9b",
   "metadata": {},
   "outputs": [],
   "source": [
    "\n",
    "result_df = classify_activities_df(merged_df, \"text\", topic_vectors, model, threshold=0.4)\n",
    "clf_df = explode_topics_df(result_df)"
   ]
  },
  {
   "cell_type": "code",
   "execution_count": 17,
   "id": "c29eea00",
   "metadata": {},
   "outputs": [
    {
     "data": {
      "text/plain": [
       "'encontrar los números que faltan encontrar en una tabla llena de números aquellos que faltan escribe los números que faltan en la tabla para que la secuencia esté completa números actividad de cálculo matemáticas '"
      ]
     },
     "execution_count": 17,
     "metadata": {},
     "output_type": "execute_result"
    }
   ],
   "source": [
    "result_df.iloc[2][\"text\"]"
   ]
  },
  {
   "cell_type": "code",
   "execution_count": 16,
   "id": "3c554b45",
   "metadata": {},
   "outputs": [
    {
     "data": {
      "text/html": [
       "<div>\n",
       "<style scoped>\n",
       "    .dataframe tbody tr th:only-of-type {\n",
       "        vertical-align: middle;\n",
       "    }\n",
       "\n",
       "    .dataframe tbody tr th {\n",
       "        vertical-align: top;\n",
       "    }\n",
       "\n",
       "    .dataframe thead th {\n",
       "        text-align: right;\n",
       "    }\n",
       "</style>\n",
       "<table border=\"1\" class=\"dataframe\">\n",
       "  <thead>\n",
       "    <tr style=\"text-align: right;\">\n",
       "      <th></th>\n",
       "      <th>activity_id</th>\n",
       "      <th>name</th>\n",
       "      <th>code</th>\n",
       "      <th>text</th>\n",
       "      <th>temas</th>\n",
       "      <th>similitud</th>\n",
       "    </tr>\n",
       "  </thead>\n",
       "  <tbody>\n",
       "    <tr>\n",
       "      <th>0</th>\n",
       "      <td>351</td>\n",
       "      <td>Consecuencias</td>\n",
       "      <td>ER1</td>\n",
       "      <td>consecuencias determinar las consecuencias pos...</td>\n",
       "      <td>[Lingüístico]</td>\n",
       "      <td>[0.44]</td>\n",
       "    </tr>\n",
       "    <tr>\n",
       "      <th>1</th>\n",
       "      <td>352</td>\n",
       "      <td>Búsqueda de estímulos consecutivos</td>\n",
       "      <td>ASE3</td>\n",
       "      <td>búsqueda de estímulos consecutivos buscar entr...</td>\n",
       "      <td>not found</td>\n",
       "      <td>0</td>\n",
       "    </tr>\n",
       "    <tr>\n",
       "      <th>2</th>\n",
       "      <td>353</td>\n",
       "      <td>Encontrar los números que faltan</td>\n",
       "      <td>ASU1</td>\n",
       "      <td>encontrar los números que faltan encontrar en ...</td>\n",
       "      <td>[Calculo, Numbers]</td>\n",
       "      <td>[0.58, 0.45]</td>\n",
       "    </tr>\n",
       "    <tr>\n",
       "      <th>3</th>\n",
       "      <td>354</td>\n",
       "      <td>Encontrar el color igual</td>\n",
       "      <td>GV1</td>\n",
       "      <td>encontrar el color igual seleccionar el color ...</td>\n",
       "      <td>[formas]</td>\n",
       "      <td>[0.42]</td>\n",
       "    </tr>\n",
       "    <tr>\n",
       "      <th>4</th>\n",
       "      <td>355</td>\n",
       "      <td>Identificar sonidos en nombres de imágenes</td>\n",
       "      <td>LD1</td>\n",
       "      <td>identificar sonidos en nombres de imágenes ide...</td>\n",
       "      <td>[people, Auditivos]</td>\n",
       "      <td>[0.46, 0.44]</td>\n",
       "    </tr>\n",
       "    <tr>\n",
       "      <th>...</th>\n",
       "      <td>...</td>\n",
       "      <td>...</td>\n",
       "      <td>...</td>\n",
       "      <td>...</td>\n",
       "      <td>...</td>\n",
       "      <td>...</td>\n",
       "    </tr>\n",
       "    <tr>\n",
       "      <th>314</th>\n",
       "      <td>1860</td>\n",
       "      <td>El mejor organizador</td>\n",
       "      <td>SG-EFX32-K</td>\n",
       "      <td>el mejor organizador organizar diversos elemen...</td>\n",
       "      <td>[formas]</td>\n",
       "      <td>[0.41]</td>\n",
       "    </tr>\n",
       "    <tr>\n",
       "      <th>315</th>\n",
       "      <td>1863</td>\n",
       "      <td>Emparejamientos veloces</td>\n",
       "      <td>SG-APS34-A</td>\n",
       "      <td>emparejamientos veloces asociar los elementos ...</td>\n",
       "      <td>not found</td>\n",
       "      <td>0</td>\n",
       "    </tr>\n",
       "    <tr>\n",
       "      <th>316</th>\n",
       "      <td>1866</td>\n",
       "      <td>Parejas a la carrera</td>\n",
       "      <td>SG-APS34-K</td>\n",
       "      <td>parejas a la carrera asociar los elementos mos...</td>\n",
       "      <td>[formas]</td>\n",
       "      <td>[0.42]</td>\n",
       "    </tr>\n",
       "    <tr>\n",
       "      <th>317</th>\n",
       "      <td>1869</td>\n",
       "      <td>Programa el robot</td>\n",
       "      <td>SG-ASU32-K</td>\n",
       "      <td>programa el robot copiar en espejo la posición...</td>\n",
       "      <td>[formas]</td>\n",
       "      <td>[0.5]</td>\n",
       "    </tr>\n",
       "    <tr>\n",
       "      <th>318</th>\n",
       "      <td>1872</td>\n",
       "      <td>Ordena la estantería</td>\n",
       "      <td>SG-ASU32-A</td>\n",
       "      <td>ordena la estantería copiar en espejo la posic...</td>\n",
       "      <td>[formas]</td>\n",
       "      <td>[0.45]</td>\n",
       "    </tr>\n",
       "  </tbody>\n",
       "</table>\n",
       "<p>319 rows × 6 columns</p>\n",
       "</div>"
      ],
      "text/plain": [
       "     activity_id                                        name        code  \\\n",
       "0            351                               Consecuencias         ER1   \n",
       "1            352          Búsqueda de estímulos consecutivos        ASE3   \n",
       "2            353            Encontrar los números que faltan        ASU1   \n",
       "3            354                    Encontrar el color igual         GV1   \n",
       "4            355  Identificar sonidos en nombres de imágenes         LD1   \n",
       "..           ...                                         ...         ...   \n",
       "314         1860                        El mejor organizador  SG-EFX32-K   \n",
       "315         1863                     Emparejamientos veloces  SG-APS34-A   \n",
       "316         1866                        Parejas a la carrera  SG-APS34-K   \n",
       "317         1869                           Programa el robot  SG-ASU32-K   \n",
       "318         1872                        Ordena la estantería  SG-ASU32-A   \n",
       "\n",
       "                                                  text                temas  \\\n",
       "0    consecuencias determinar las consecuencias pos...        [Lingüístico]   \n",
       "1    búsqueda de estímulos consecutivos buscar entr...            not found   \n",
       "2    encontrar los números que faltan encontrar en ...   [Calculo, Numbers]   \n",
       "3    encontrar el color igual seleccionar el color ...             [formas]   \n",
       "4    identificar sonidos en nombres de imágenes ide...  [people, Auditivos]   \n",
       "..                                                 ...                  ...   \n",
       "314  el mejor organizador organizar diversos elemen...             [formas]   \n",
       "315  emparejamientos veloces asociar los elementos ...            not found   \n",
       "316  parejas a la carrera asociar los elementos mos...             [formas]   \n",
       "317  programa el robot copiar en espejo la posición...             [formas]   \n",
       "318  ordena la estantería copiar en espejo la posic...             [formas]   \n",
       "\n",
       "        similitud  \n",
       "0          [0.44]  \n",
       "1               0  \n",
       "2    [0.58, 0.45]  \n",
       "3          [0.42]  \n",
       "4    [0.46, 0.44]  \n",
       "..            ...  \n",
       "314        [0.41]  \n",
       "315             0  \n",
       "316        [0.42]  \n",
       "317         [0.5]  \n",
       "318        [0.45]  \n",
       "\n",
       "[319 rows x 6 columns]"
      ]
     },
     "execution_count": 16,
     "metadata": {},
     "output_type": "execute_result"
    }
   ],
   "source": [
    "result_df"
   ]
  },
  {
   "cell_type": "code",
   "execution_count": 12,
   "id": "f7306d6b",
   "metadata": {},
   "outputs": [
    {
     "name": "stdout",
     "output_type": "stream",
     "text": [
      "5\n"
     ]
    },
    {
     "ename": "ValueError",
     "evalue": "perplexity must be less than n_samples",
     "output_type": "error",
     "traceback": [
      "\u001b[31m---------------------------------------------------------------------------\u001b[39m",
      "\u001b[31mValueError\u001b[39m                                Traceback (most recent call last)",
      "\u001b[36mCell\u001b[39m\u001b[36m \u001b[39m\u001b[32mIn[12]\u001b[39m\u001b[32m, line 17\u001b[39m\n\u001b[32m     15\u001b[39m all_words = [nltk.word_tokenize(sent) \u001b[38;5;28;01mfor\u001b[39;00m sent \u001b[38;5;129;01min\u001b[39;00m all_sentences]\n\u001b[32m     16\u001b[39m word2vec = Word2Vec(all_words, min_count=\u001b[32m100\u001b[39m, workers=\u001b[32m4\u001b[39m)\n\u001b[32m---> \u001b[39m\u001b[32m17\u001b[39m \u001b[43mtsne_plot\u001b[49m\u001b[43m(\u001b[49m\u001b[43mword2vec\u001b[49m\u001b[43m,\u001b[49m\u001b[43m \u001b[49m\u001b[43m(\u001b[49m\u001b[32;43m10\u001b[39;49m\u001b[43m,\u001b[49m\u001b[43m \u001b[49m\u001b[32;43m10\u001b[39;49m\u001b[43m)\u001b[49m\u001b[43m)\u001b[49m\n",
      "\u001b[36mCell\u001b[39m\u001b[36m \u001b[39m\u001b[32mIn[2]\u001b[39m\u001b[32m, line 13\u001b[39m, in \u001b[36mtsne_plot\u001b[39m\u001b[34m(model, figsize)\u001b[39m\n\u001b[32m      9\u001b[39m \u001b[38;5;28mprint\u001b[39m(\u001b[38;5;28mlen\u001b[39m(tokens))\n\u001b[32m     12\u001b[39m tsne_model = TSNE(perplexity=\u001b[32m9\u001b[39m, n_components=\u001b[32m2\u001b[39m, init=\u001b[33m'\u001b[39m\u001b[33mpca\u001b[39m\u001b[33m'\u001b[39m, n_iter=\u001b[32m2500\u001b[39m, random_state=\u001b[32m23\u001b[39m)\n\u001b[32m---> \u001b[39m\u001b[32m13\u001b[39m new_values = \u001b[43mtsne_model\u001b[49m\u001b[43m.\u001b[49m\u001b[43mfit_transform\u001b[49m\u001b[43m(\u001b[49m\u001b[43mtokens\u001b[49m\u001b[43m)\u001b[49m\n\u001b[32m     14\u001b[39m x = []\n\u001b[32m     15\u001b[39m y = []\n",
      "\u001b[36mFile \u001b[39m\u001b[32mc:\\Users\\elina.filatova_neuro\\Desktop\\smart_search\\.venv\\Lib\\site-packages\\sklearn\\utils\\_set_output.py:319\u001b[39m, in \u001b[36m_wrap_method_output.<locals>.wrapped\u001b[39m\u001b[34m(self, X, *args, **kwargs)\u001b[39m\n\u001b[32m    317\u001b[39m \u001b[38;5;129m@wraps\u001b[39m(f)\n\u001b[32m    318\u001b[39m \u001b[38;5;28;01mdef\u001b[39;00m\u001b[38;5;250m \u001b[39m\u001b[34mwrapped\u001b[39m(\u001b[38;5;28mself\u001b[39m, X, *args, **kwargs):\n\u001b[32m--> \u001b[39m\u001b[32m319\u001b[39m     data_to_wrap = \u001b[43mf\u001b[49m\u001b[43m(\u001b[49m\u001b[38;5;28;43mself\u001b[39;49m\u001b[43m,\u001b[49m\u001b[43m \u001b[49m\u001b[43mX\u001b[49m\u001b[43m,\u001b[49m\u001b[43m \u001b[49m\u001b[43m*\u001b[49m\u001b[43margs\u001b[49m\u001b[43m,\u001b[49m\u001b[43m \u001b[49m\u001b[43m*\u001b[49m\u001b[43m*\u001b[49m\u001b[43mkwargs\u001b[49m\u001b[43m)\u001b[49m\n\u001b[32m    320\u001b[39m     \u001b[38;5;28;01mif\u001b[39;00m \u001b[38;5;28misinstance\u001b[39m(data_to_wrap, \u001b[38;5;28mtuple\u001b[39m):\n\u001b[32m    321\u001b[39m         \u001b[38;5;66;03m# only wrap the first output for cross decomposition\u001b[39;00m\n\u001b[32m    322\u001b[39m         return_tuple = (\n\u001b[32m    323\u001b[39m             _wrap_data_with_container(method, data_to_wrap[\u001b[32m0\u001b[39m], X, \u001b[38;5;28mself\u001b[39m),\n\u001b[32m    324\u001b[39m             *data_to_wrap[\u001b[32m1\u001b[39m:],\n\u001b[32m    325\u001b[39m         )\n",
      "\u001b[36mFile \u001b[39m\u001b[32mc:\\Users\\elina.filatova_neuro\\Desktop\\smart_search\\.venv\\Lib\\site-packages\\sklearn\\base.py:1389\u001b[39m, in \u001b[36m_fit_context.<locals>.decorator.<locals>.wrapper\u001b[39m\u001b[34m(estimator, *args, **kwargs)\u001b[39m\n\u001b[32m   1382\u001b[39m     estimator._validate_params()\n\u001b[32m   1384\u001b[39m \u001b[38;5;28;01mwith\u001b[39;00m config_context(\n\u001b[32m   1385\u001b[39m     skip_parameter_validation=(\n\u001b[32m   1386\u001b[39m         prefer_skip_nested_validation \u001b[38;5;129;01mor\u001b[39;00m global_skip_validation\n\u001b[32m   1387\u001b[39m     )\n\u001b[32m   1388\u001b[39m ):\n\u001b[32m-> \u001b[39m\u001b[32m1389\u001b[39m     \u001b[38;5;28;01mreturn\u001b[39;00m \u001b[43mfit_method\u001b[49m\u001b[43m(\u001b[49m\u001b[43mestimator\u001b[49m\u001b[43m,\u001b[49m\u001b[43m \u001b[49m\u001b[43m*\u001b[49m\u001b[43margs\u001b[49m\u001b[43m,\u001b[49m\u001b[43m \u001b[49m\u001b[43m*\u001b[49m\u001b[43m*\u001b[49m\u001b[43mkwargs\u001b[49m\u001b[43m)\u001b[49m\n",
      "\u001b[36mFile \u001b[39m\u001b[32mc:\\Users\\elina.filatova_neuro\\Desktop\\smart_search\\.venv\\Lib\\site-packages\\sklearn\\manifold\\_t_sne.py:1177\u001b[39m, in \u001b[36mTSNE.fit_transform\u001b[39m\u001b[34m(self, X, y)\u001b[39m\n\u001b[32m   1174\u001b[39m \u001b[38;5;28;01melse\u001b[39;00m:\n\u001b[32m   1175\u001b[39m     \u001b[38;5;28mself\u001b[39m._max_iter = \u001b[38;5;28mself\u001b[39m.max_iter\n\u001b[32m-> \u001b[39m\u001b[32m1177\u001b[39m \u001b[38;5;28;43mself\u001b[39;49m\u001b[43m.\u001b[49m\u001b[43m_check_params_vs_input\u001b[49m\u001b[43m(\u001b[49m\u001b[43mX\u001b[49m\u001b[43m)\u001b[49m\n\u001b[32m   1178\u001b[39m embedding = \u001b[38;5;28mself\u001b[39m._fit(X)\n\u001b[32m   1179\u001b[39m \u001b[38;5;28mself\u001b[39m.embedding_ = embedding\n",
      "\u001b[36mFile \u001b[39m\u001b[32mc:\\Users\\elina.filatova_neuro\\Desktop\\smart_search\\.venv\\Lib\\site-packages\\sklearn\\manifold\\_t_sne.py:862\u001b[39m, in \u001b[36mTSNE._check_params_vs_input\u001b[39m\u001b[34m(self, X)\u001b[39m\n\u001b[32m    860\u001b[39m \u001b[38;5;28;01mdef\u001b[39;00m\u001b[38;5;250m \u001b[39m\u001b[34m_check_params_vs_input\u001b[39m(\u001b[38;5;28mself\u001b[39m, X):\n\u001b[32m    861\u001b[39m     \u001b[38;5;28;01mif\u001b[39;00m \u001b[38;5;28mself\u001b[39m.perplexity >= X.shape[\u001b[32m0\u001b[39m]:\n\u001b[32m--> \u001b[39m\u001b[32m862\u001b[39m         \u001b[38;5;28;01mraise\u001b[39;00m \u001b[38;5;167;01mValueError\u001b[39;00m(\u001b[33m\"\u001b[39m\u001b[33mperplexity must be less than n_samples\u001b[39m\u001b[33m\"\u001b[39m)\n",
      "\u001b[31mValueError\u001b[39m: perplexity must be less than n_samples"
     ]
    }
   ],
   "source": [
    "cleaned_text = ''\n",
    "# cleaned_text = []\n",
    "# text = [row for row in clf_df[clf_df[\"tema\"] == \"not found\"][\"text\"]]\n",
    "text = [row for row in clf_df[\"text\"]]\n",
    "\n",
    "for row in text:\n",
    "    new_row = ''\n",
    "    for word in row.split(' '):\n",
    "        if word.lower() not in stop_words and word.lower() not in stopwords.words('spanish'):\n",
    "            \n",
    "            new_row += word.lower() + ' ' \n",
    "    cleaned_text += re.sub(r'[\\s+,*/?!)()]', ' ', new_row) + ' '\n",
    "    # cleaned_text.append(re.sub(r'\\s+', ' ', new_row))\n",
    "all_sentences = nltk.sent_tokenize(cleaned_text)\n",
    "all_words = [nltk.word_tokenize(sent) for sent in all_sentences]\n",
    "word2vec = Word2Vec(all_words, min_count=100, workers=4)\n",
    "tsne_plot(word2vec, (10, 10))"
   ]
  },
  {
   "cell_type": "code",
   "execution_count": null,
   "id": "06cec2d7",
   "metadata": {},
   "outputs": [
    {
     "data": {
      "application/vnd.plotly.v1+json": {
       "config": {
        "plotlyServerURL": "https://plot.ly"
       },
       "data": [
        {
         "alignmentgroup": "True",
         "hovertemplate": "tema=Auditivos<br>main_groups=%{x}<br>num_act=%{y}<extra></extra>",
         "legendgroup": "Auditivos",
         "marker": {
          "color": "#636efa",
          "pattern": {
           "shape": ""
          }
         },
         "name": "Auditivos",
         "offsetgroup": "Auditivos",
         "orientation": "v",
         "showlegend": true,
         "textposition": "auto",
         "type": "bar",
         "x": [
          "Auditivos"
         ],
         "xaxis": "x",
         "y": {
          "bdata": "Qw==",
          "dtype": "i1"
         },
         "yaxis": "y"
        },
        {
         "alignmentgroup": "True",
         "hovertemplate": "tema=Lingüístico<br>main_groups=%{x}<br>num_act=%{y}<extra></extra>",
         "legendgroup": "Lingüístico",
         "marker": {
          "color": "#EF553B",
          "pattern": {
           "shape": ""
          }
         },
         "name": "Lingüístico",
         "offsetgroup": "Lingüístico",
         "orientation": "v",
         "showlegend": true,
         "textposition": "auto",
         "type": "bar",
         "x": [
          "Lingüístico"
         ],
         "xaxis": "x",
         "y": {
          "bdata": "gQA=",
          "dtype": "i2"
         },
         "yaxis": "y"
        },
        {
         "alignmentgroup": "True",
         "hovertemplate": "tema=Calculo<br>main_groups=%{x}<br>num_act=%{y}<extra></extra>",
         "legendgroup": "Calculo",
         "marker": {
          "color": "#00cc96",
          "pattern": {
           "shape": ""
          }
         },
         "name": "Calculo",
         "offsetgroup": "Calculo",
         "orientation": "v",
         "showlegend": true,
         "textposition": "auto",
         "type": "bar",
         "x": [
          "logic"
         ],
         "xaxis": "x",
         "y": {
          "bdata": "wAA=",
          "dtype": "i2"
         },
         "yaxis": "y"
        },
        {
         "alignmentgroup": "True",
         "hovertemplate": "tema=Numbers<br>main_groups=%{x}<br>num_act=%{y}<extra></extra>",
         "legendgroup": "Numbers",
         "marker": {
          "color": "#ab63fa",
          "pattern": {
           "shape": ""
          }
         },
         "name": "Numbers",
         "offsetgroup": "Numbers",
         "orientation": "v",
         "showlegend": true,
         "textposition": "auto",
         "type": "bar",
         "x": [
          "logic"
         ],
         "xaxis": "x",
         "y": {
          "bdata": "Uw==",
          "dtype": "i1"
         },
         "yaxis": "y"
        },
        {
         "alignmentgroup": "True",
         "hovertemplate": "tema=logica<br>main_groups=%{x}<br>num_act=%{y}<extra></extra>",
         "legendgroup": "logica",
         "marker": {
          "color": "#FFA15A",
          "pattern": {
           "shape": ""
          }
         },
         "name": "logica",
         "offsetgroup": "logica",
         "orientation": "v",
         "showlegend": true,
         "textposition": "auto",
         "type": "bar",
         "x": [
          "logic"
         ],
         "xaxis": "x",
         "y": {
          "bdata": "+wA=",
          "dtype": "i2"
         },
         "yaxis": "y"
        },
        {
         "alignmentgroup": "True",
         "hovertemplate": "tema=sequence<br>main_groups=%{x}<br>num_act=%{y}<extra></extra>",
         "legendgroup": "sequence",
         "marker": {
          "color": "#19d3f3",
          "pattern": {
           "shape": ""
          }
         },
         "name": "sequence",
         "offsetgroup": "sequence",
         "orientation": "v",
         "showlegend": true,
         "textposition": "auto",
         "type": "bar",
         "x": [
          "sequence"
         ],
         "xaxis": "x",
         "y": {
          "bdata": "xgA=",
          "dtype": "i2"
         },
         "yaxis": "y"
        },
        {
         "alignmentgroup": "True",
         "hovertemplate": "tema=animals<br>main_groups=%{x}<br>num_act=%{y}<extra></extra>",
         "legendgroup": "animals",
         "marker": {
          "color": "#FF6692",
          "pattern": {
           "shape": ""
          }
         },
         "name": "animals",
         "offsetgroup": "animals",
         "orientation": "v",
         "showlegend": true,
         "textposition": "auto",
         "type": "bar",
         "x": [
          "themes"
         ],
         "xaxis": "x",
         "y": {
          "bdata": "RA==",
          "dtype": "i1"
         },
         "yaxis": "y"
        },
        {
         "alignmentgroup": "True",
         "hovertemplate": "tema=formas<br>main_groups=%{x}<br>num_act=%{y}<extra></extra>",
         "legendgroup": "formas",
         "marker": {
          "color": "#B6E880",
          "pattern": {
           "shape": ""
          }
         },
         "name": "formas",
         "offsetgroup": "formas",
         "orientation": "v",
         "showlegend": true,
         "textposition": "auto",
         "type": "bar",
         "x": [
          "themes"
         ],
         "xaxis": "x",
         "y": {
          "bdata": "rQA=",
          "dtype": "i2"
         },
         "yaxis": "y"
        },
        {
         "alignmentgroup": "True",
         "hovertemplate": "tema=money<br>main_groups=%{x}<br>num_act=%{y}<extra></extra>",
         "legendgroup": "money",
         "marker": {
          "color": "#FF97FF",
          "pattern": {
           "shape": ""
          }
         },
         "name": "money",
         "offsetgroup": "money",
         "orientation": "v",
         "showlegend": true,
         "textposition": "auto",
         "type": "bar",
         "x": [
          "themes"
         ],
         "xaxis": "x",
         "y": {
          "bdata": "PQ==",
          "dtype": "i1"
         },
         "yaxis": "y"
        },
        {
         "alignmentgroup": "True",
         "hovertemplate": "tema=people<br>main_groups=%{x}<br>num_act=%{y}<extra></extra>",
         "legendgroup": "people",
         "marker": {
          "color": "#FECB52",
          "pattern": {
           "shape": ""
          }
         },
         "name": "people",
         "offsetgroup": "people",
         "orientation": "v",
         "showlegend": true,
         "textposition": "auto",
         "type": "bar",
         "x": [
          "themes"
         ],
         "xaxis": "x",
         "y": {
          "bdata": "wQA=",
          "dtype": "i2"
         },
         "yaxis": "y"
        },
        {
         "alignmentgroup": "True",
         "hovertemplate": "tema=sport<br>main_groups=%{x}<br>num_act=%{y}<extra></extra>",
         "legendgroup": "sport",
         "marker": {
          "color": "#636efa",
          "pattern": {
           "shape": ""
          }
         },
         "name": "sport",
         "offsetgroup": "sport",
         "orientation": "v",
         "showlegend": true,
         "textposition": "auto",
         "type": "bar",
         "x": [
          "themes"
         ],
         "xaxis": "x",
         "y": {
          "bdata": "Lg==",
          "dtype": "i1"
         },
         "yaxis": "y"
        },
        {
         "alignmentgroup": "True",
         "hovertemplate": "tema=transport<br>main_groups=%{x}<br>num_act=%{y}<extra></extra>",
         "legendgroup": "transport",
         "marker": {
          "color": "#EF553B",
          "pattern": {
           "shape": ""
          }
         },
         "name": "transport",
         "offsetgroup": "transport",
         "orientation": "v",
         "showlegend": true,
         "textposition": "auto",
         "type": "bar",
         "x": [
          "themes"
         ],
         "xaxis": "x",
         "y": {
          "bdata": "Ew==",
          "dtype": "i1"
         },
         "yaxis": "y"
        },
        {
         "alignmentgroup": "True",
         "hovertemplate": "tema=vida diaria<br>main_groups=%{x}<br>num_act=%{y}<extra></extra>",
         "legendgroup": "vida diaria",
         "marker": {
          "color": "#00cc96",
          "pattern": {
           "shape": ""
          }
         },
         "name": "vida diaria",
         "offsetgroup": "vida diaria",
         "orientation": "v",
         "showlegend": true,
         "textposition": "auto",
         "type": "bar",
         "x": [
          "themes"
         ],
         "xaxis": "x",
         "y": {
          "bdata": "cw==",
          "dtype": "i1"
         },
         "yaxis": "y"
        }
       ],
       "layout": {
        "barmode": "group",
        "legend": {
         "title": {
          "text": "tema"
         },
         "tracegroupgap": 0
        },
        "margin": {
         "t": 60
        },
        "template": {
         "data": {
          "bar": [
           {
            "error_x": {
             "color": "#2a3f5f"
            },
            "error_y": {
             "color": "#2a3f5f"
            },
            "marker": {
             "line": {
              "color": "#E5ECF6",
              "width": 0.5
             },
             "pattern": {
              "fillmode": "overlay",
              "size": 10,
              "solidity": 0.2
             }
            },
            "type": "bar"
           }
          ],
          "barpolar": [
           {
            "marker": {
             "line": {
              "color": "#E5ECF6",
              "width": 0.5
             },
             "pattern": {
              "fillmode": "overlay",
              "size": 10,
              "solidity": 0.2
             }
            },
            "type": "barpolar"
           }
          ],
          "carpet": [
           {
            "aaxis": {
             "endlinecolor": "#2a3f5f",
             "gridcolor": "white",
             "linecolor": "white",
             "minorgridcolor": "white",
             "startlinecolor": "#2a3f5f"
            },
            "baxis": {
             "endlinecolor": "#2a3f5f",
             "gridcolor": "white",
             "linecolor": "white",
             "minorgridcolor": "white",
             "startlinecolor": "#2a3f5f"
            },
            "type": "carpet"
           }
          ],
          "choropleth": [
           {
            "colorbar": {
             "outlinewidth": 0,
             "ticks": ""
            },
            "type": "choropleth"
           }
          ],
          "contour": [
           {
            "colorbar": {
             "outlinewidth": 0,
             "ticks": ""
            },
            "colorscale": [
             [
              0,
              "#0d0887"
             ],
             [
              0.1111111111111111,
              "#46039f"
             ],
             [
              0.2222222222222222,
              "#7201a8"
             ],
             [
              0.3333333333333333,
              "#9c179e"
             ],
             [
              0.4444444444444444,
              "#bd3786"
             ],
             [
              0.5555555555555556,
              "#d8576b"
             ],
             [
              0.6666666666666666,
              "#ed7953"
             ],
             [
              0.7777777777777778,
              "#fb9f3a"
             ],
             [
              0.8888888888888888,
              "#fdca26"
             ],
             [
              1,
              "#f0f921"
             ]
            ],
            "type": "contour"
           }
          ],
          "contourcarpet": [
           {
            "colorbar": {
             "outlinewidth": 0,
             "ticks": ""
            },
            "type": "contourcarpet"
           }
          ],
          "heatmap": [
           {
            "colorbar": {
             "outlinewidth": 0,
             "ticks": ""
            },
            "colorscale": [
             [
              0,
              "#0d0887"
             ],
             [
              0.1111111111111111,
              "#46039f"
             ],
             [
              0.2222222222222222,
              "#7201a8"
             ],
             [
              0.3333333333333333,
              "#9c179e"
             ],
             [
              0.4444444444444444,
              "#bd3786"
             ],
             [
              0.5555555555555556,
              "#d8576b"
             ],
             [
              0.6666666666666666,
              "#ed7953"
             ],
             [
              0.7777777777777778,
              "#fb9f3a"
             ],
             [
              0.8888888888888888,
              "#fdca26"
             ],
             [
              1,
              "#f0f921"
             ]
            ],
            "type": "heatmap"
           }
          ],
          "histogram": [
           {
            "marker": {
             "pattern": {
              "fillmode": "overlay",
              "size": 10,
              "solidity": 0.2
             }
            },
            "type": "histogram"
           }
          ],
          "histogram2d": [
           {
            "colorbar": {
             "outlinewidth": 0,
             "ticks": ""
            },
            "colorscale": [
             [
              0,
              "#0d0887"
             ],
             [
              0.1111111111111111,
              "#46039f"
             ],
             [
              0.2222222222222222,
              "#7201a8"
             ],
             [
              0.3333333333333333,
              "#9c179e"
             ],
             [
              0.4444444444444444,
              "#bd3786"
             ],
             [
              0.5555555555555556,
              "#d8576b"
             ],
             [
              0.6666666666666666,
              "#ed7953"
             ],
             [
              0.7777777777777778,
              "#fb9f3a"
             ],
             [
              0.8888888888888888,
              "#fdca26"
             ],
             [
              1,
              "#f0f921"
             ]
            ],
            "type": "histogram2d"
           }
          ],
          "histogram2dcontour": [
           {
            "colorbar": {
             "outlinewidth": 0,
             "ticks": ""
            },
            "colorscale": [
             [
              0,
              "#0d0887"
             ],
             [
              0.1111111111111111,
              "#46039f"
             ],
             [
              0.2222222222222222,
              "#7201a8"
             ],
             [
              0.3333333333333333,
              "#9c179e"
             ],
             [
              0.4444444444444444,
              "#bd3786"
             ],
             [
              0.5555555555555556,
              "#d8576b"
             ],
             [
              0.6666666666666666,
              "#ed7953"
             ],
             [
              0.7777777777777778,
              "#fb9f3a"
             ],
             [
              0.8888888888888888,
              "#fdca26"
             ],
             [
              1,
              "#f0f921"
             ]
            ],
            "type": "histogram2dcontour"
           }
          ],
          "mesh3d": [
           {
            "colorbar": {
             "outlinewidth": 0,
             "ticks": ""
            },
            "type": "mesh3d"
           }
          ],
          "parcoords": [
           {
            "line": {
             "colorbar": {
              "outlinewidth": 0,
              "ticks": ""
             }
            },
            "type": "parcoords"
           }
          ],
          "pie": [
           {
            "automargin": true,
            "type": "pie"
           }
          ],
          "scatter": [
           {
            "fillpattern": {
             "fillmode": "overlay",
             "size": 10,
             "solidity": 0.2
            },
            "type": "scatter"
           }
          ],
          "scatter3d": [
           {
            "line": {
             "colorbar": {
              "outlinewidth": 0,
              "ticks": ""
             }
            },
            "marker": {
             "colorbar": {
              "outlinewidth": 0,
              "ticks": ""
             }
            },
            "type": "scatter3d"
           }
          ],
          "scattercarpet": [
           {
            "marker": {
             "colorbar": {
              "outlinewidth": 0,
              "ticks": ""
             }
            },
            "type": "scattercarpet"
           }
          ],
          "scattergeo": [
           {
            "marker": {
             "colorbar": {
              "outlinewidth": 0,
              "ticks": ""
             }
            },
            "type": "scattergeo"
           }
          ],
          "scattergl": [
           {
            "marker": {
             "colorbar": {
              "outlinewidth": 0,
              "ticks": ""
             }
            },
            "type": "scattergl"
           }
          ],
          "scattermap": [
           {
            "marker": {
             "colorbar": {
              "outlinewidth": 0,
              "ticks": ""
             }
            },
            "type": "scattermap"
           }
          ],
          "scattermapbox": [
           {
            "marker": {
             "colorbar": {
              "outlinewidth": 0,
              "ticks": ""
             }
            },
            "type": "scattermapbox"
           }
          ],
          "scatterpolar": [
           {
            "marker": {
             "colorbar": {
              "outlinewidth": 0,
              "ticks": ""
             }
            },
            "type": "scatterpolar"
           }
          ],
          "scatterpolargl": [
           {
            "marker": {
             "colorbar": {
              "outlinewidth": 0,
              "ticks": ""
             }
            },
            "type": "scatterpolargl"
           }
          ],
          "scatterternary": [
           {
            "marker": {
             "colorbar": {
              "outlinewidth": 0,
              "ticks": ""
             }
            },
            "type": "scatterternary"
           }
          ],
          "surface": [
           {
            "colorbar": {
             "outlinewidth": 0,
             "ticks": ""
            },
            "colorscale": [
             [
              0,
              "#0d0887"
             ],
             [
              0.1111111111111111,
              "#46039f"
             ],
             [
              0.2222222222222222,
              "#7201a8"
             ],
             [
              0.3333333333333333,
              "#9c179e"
             ],
             [
              0.4444444444444444,
              "#bd3786"
             ],
             [
              0.5555555555555556,
              "#d8576b"
             ],
             [
              0.6666666666666666,
              "#ed7953"
             ],
             [
              0.7777777777777778,
              "#fb9f3a"
             ],
             [
              0.8888888888888888,
              "#fdca26"
             ],
             [
              1,
              "#f0f921"
             ]
            ],
            "type": "surface"
           }
          ],
          "table": [
           {
            "cells": {
             "fill": {
              "color": "#EBF0F8"
             },
             "line": {
              "color": "white"
             }
            },
            "header": {
             "fill": {
              "color": "#C8D4E3"
             },
             "line": {
              "color": "white"
             }
            },
            "type": "table"
           }
          ]
         },
         "layout": {
          "annotationdefaults": {
           "arrowcolor": "#2a3f5f",
           "arrowhead": 0,
           "arrowwidth": 1
          },
          "autotypenumbers": "strict",
          "coloraxis": {
           "colorbar": {
            "outlinewidth": 0,
            "ticks": ""
           }
          },
          "colorscale": {
           "diverging": [
            [
             0,
             "#8e0152"
            ],
            [
             0.1,
             "#c51b7d"
            ],
            [
             0.2,
             "#de77ae"
            ],
            [
             0.3,
             "#f1b6da"
            ],
            [
             0.4,
             "#fde0ef"
            ],
            [
             0.5,
             "#f7f7f7"
            ],
            [
             0.6,
             "#e6f5d0"
            ],
            [
             0.7,
             "#b8e186"
            ],
            [
             0.8,
             "#7fbc41"
            ],
            [
             0.9,
             "#4d9221"
            ],
            [
             1,
             "#276419"
            ]
           ],
           "sequential": [
            [
             0,
             "#0d0887"
            ],
            [
             0.1111111111111111,
             "#46039f"
            ],
            [
             0.2222222222222222,
             "#7201a8"
            ],
            [
             0.3333333333333333,
             "#9c179e"
            ],
            [
             0.4444444444444444,
             "#bd3786"
            ],
            [
             0.5555555555555556,
             "#d8576b"
            ],
            [
             0.6666666666666666,
             "#ed7953"
            ],
            [
             0.7777777777777778,
             "#fb9f3a"
            ],
            [
             0.8888888888888888,
             "#fdca26"
            ],
            [
             1,
             "#f0f921"
            ]
           ],
           "sequentialminus": [
            [
             0,
             "#0d0887"
            ],
            [
             0.1111111111111111,
             "#46039f"
            ],
            [
             0.2222222222222222,
             "#7201a8"
            ],
            [
             0.3333333333333333,
             "#9c179e"
            ],
            [
             0.4444444444444444,
             "#bd3786"
            ],
            [
             0.5555555555555556,
             "#d8576b"
            ],
            [
             0.6666666666666666,
             "#ed7953"
            ],
            [
             0.7777777777777778,
             "#fb9f3a"
            ],
            [
             0.8888888888888888,
             "#fdca26"
            ],
            [
             1,
             "#f0f921"
            ]
           ]
          },
          "colorway": [
           "#636efa",
           "#EF553B",
           "#00cc96",
           "#ab63fa",
           "#FFA15A",
           "#19d3f3",
           "#FF6692",
           "#B6E880",
           "#FF97FF",
           "#FECB52"
          ],
          "font": {
           "color": "#2a3f5f"
          },
          "geo": {
           "bgcolor": "white",
           "lakecolor": "white",
           "landcolor": "#E5ECF6",
           "showlakes": true,
           "showland": true,
           "subunitcolor": "white"
          },
          "hoverlabel": {
           "align": "left"
          },
          "hovermode": "closest",
          "mapbox": {
           "style": "light"
          },
          "paper_bgcolor": "white",
          "plot_bgcolor": "#E5ECF6",
          "polar": {
           "angularaxis": {
            "gridcolor": "white",
            "linecolor": "white",
            "ticks": ""
           },
           "bgcolor": "#E5ECF6",
           "radialaxis": {
            "gridcolor": "white",
            "linecolor": "white",
            "ticks": ""
           }
          },
          "scene": {
           "xaxis": {
            "backgroundcolor": "#E5ECF6",
            "gridcolor": "white",
            "gridwidth": 2,
            "linecolor": "white",
            "showbackground": true,
            "ticks": "",
            "zerolinecolor": "white"
           },
           "yaxis": {
            "backgroundcolor": "#E5ECF6",
            "gridcolor": "white",
            "gridwidth": 2,
            "linecolor": "white",
            "showbackground": true,
            "ticks": "",
            "zerolinecolor": "white"
           },
           "zaxis": {
            "backgroundcolor": "#E5ECF6",
            "gridcolor": "white",
            "gridwidth": 2,
            "linecolor": "white",
            "showbackground": true,
            "ticks": "",
            "zerolinecolor": "white"
           }
          },
          "shapedefaults": {
           "line": {
            "color": "#2a3f5f"
           }
          },
          "ternary": {
           "aaxis": {
            "gridcolor": "white",
            "linecolor": "white",
            "ticks": ""
           },
           "baxis": {
            "gridcolor": "white",
            "linecolor": "white",
            "ticks": ""
           },
           "bgcolor": "#E5ECF6",
           "caxis": {
            "gridcolor": "white",
            "linecolor": "white",
            "ticks": ""
           }
          },
          "title": {
           "x": 0.05
          },
          "xaxis": {
           "automargin": true,
           "gridcolor": "white",
           "linecolor": "white",
           "ticks": "",
           "title": {
            "standoff": 15
           },
           "zerolinecolor": "white",
           "zerolinewidth": 2
          },
          "yaxis": {
           "automargin": true,
           "gridcolor": "white",
           "linecolor": "white",
           "ticks": "",
           "title": {
            "standoff": 15
           },
           "zerolinecolor": "white",
           "zerolinewidth": 2
          }
         }
        },
        "xaxis": {
         "anchor": "y",
         "domain": [
          0,
          1
         ],
         "title": {
          "text": "main_groups"
         }
        },
        "yaxis": {
         "anchor": "x",
         "domain": [
          0,
          1
         ],
         "title": {
          "text": "num_act"
         }
        }
       }
      }
     },
     "metadata": {},
     "output_type": "display_data"
    }
   ],
   "source": [
    "import plotly.express as px\n",
    "clf_df[\"main_groups\"] = clf_df[\"tema\"].apply(classify)\n",
    "px.bar(\n",
    "    data_frame = clf_df.groupby([\"main_groups\", \"tema\"])[\"activity_id\"].nunique().reset_index(name = \"num_act\"),\n",
    "    x = \"main_groups\",\n",
    "    y = \"num_act\",\n",
    "    color = \"tema\",\n",
    "    barmode = \"group\",\n",
    ")"
   ]
  },
  {
   "cell_type": "code",
   "execution_count": 47,
   "id": "e961510f",
   "metadata": {},
   "outputs": [
    {
     "data": {
      "text/html": [
       "<div>\n",
       "<style scoped>\n",
       "    .dataframe tbody tr th:only-of-type {\n",
       "        vertical-align: middle;\n",
       "    }\n",
       "\n",
       "    .dataframe tbody tr th {\n",
       "        vertical-align: top;\n",
       "    }\n",
       "\n",
       "    .dataframe thead th {\n",
       "        text-align: right;\n",
       "    }\n",
       "</style>\n",
       "<table border=\"1\" class=\"dataframe\">\n",
       "  <thead>\n",
       "    <tr style=\"text-align: right;\">\n",
       "      <th></th>\n",
       "      <th>activity_id</th>\n",
       "      <th>name</th>\n",
       "      <th>code</th>\n",
       "      <th>text</th>\n",
       "      <th>tema</th>\n",
       "      <th>similitud</th>\n",
       "    </tr>\n",
       "  </thead>\n",
       "  <tbody>\n",
       "    <tr>\n",
       "      <th>1</th>\n",
       "      <td>352</td>\n",
       "      <td>Búsqueda de estímulos consecutivos</td>\n",
       "      <td>ASE3</td>\n",
       "      <td>búsqueda de estímulos consecutivos buscar entr...</td>\n",
       "      <td>not found</td>\n",
       "      <td>0.0</td>\n",
       "    </tr>\n",
       "    <tr>\n",
       "      <th>28</th>\n",
       "      <td>388</td>\n",
       "      <td>Reacción emocional ante situaciones</td>\n",
       "      <td>SC8</td>\n",
       "      <td>reacción emocional ante situaciones establecer...</td>\n",
       "      <td>not found</td>\n",
       "      <td>0.0</td>\n",
       "    </tr>\n",
       "    <tr>\n",
       "      <th>29</th>\n",
       "      <td>389</td>\n",
       "      <td>Objetos, establecimientos y profesionales</td>\n",
       "      <td>OP2</td>\n",
       "      <td>objetos establecimientos y profesionales relac...</td>\n",
       "      <td>not found</td>\n",
       "      <td>0.0</td>\n",
       "    </tr>\n",
       "    <tr>\n",
       "      <th>37</th>\n",
       "      <td>473</td>\n",
       "      <td>Ubicación en el tiempo</td>\n",
       "      <td>OT3</td>\n",
       "      <td>ubicación en el tiempo ubicarse en la hora día...</td>\n",
       "      <td>not found</td>\n",
       "      <td>0.0</td>\n",
       "    </tr>\n",
       "    <tr>\n",
       "      <th>38</th>\n",
       "      <td>474</td>\n",
       "      <td>Relojes en hora (texto)</td>\n",
       "      <td>VSR2</td>\n",
       "      <td>relojes en hora (texto) poner las agujas de ma...</td>\n",
       "      <td>not found</td>\n",
       "      <td>0.0</td>\n",
       "    </tr>\n",
       "    <tr>\n",
       "      <th>...</th>\n",
       "      <td>...</td>\n",
       "      <td>...</td>\n",
       "      <td>...</td>\n",
       "      <td>...</td>\n",
       "      <td>...</td>\n",
       "      <td>...</td>\n",
       "    </tr>\n",
       "    <tr>\n",
       "      <th>413</th>\n",
       "      <td>1782</td>\n",
       "      <td>¿Dónde están los gatos? (tiempo de memorizació...</td>\n",
       "      <td>SG-ME31-K</td>\n",
       "      <td>¿dónde están los gatos? (tiempo de memorizació...</td>\n",
       "      <td>not found</td>\n",
       "      <td>0.0</td>\n",
       "    </tr>\n",
       "    <tr>\n",
       "      <th>422</th>\n",
       "      <td>1824</td>\n",
       "      <td>Primer aleteo</td>\n",
       "      <td>SG-ME33-A</td>\n",
       "      <td>primer aleteo memorizar cuál es la primera mar...</td>\n",
       "      <td>not found</td>\n",
       "      <td>0.0</td>\n",
       "    </tr>\n",
       "    <tr>\n",
       "      <th>423</th>\n",
       "      <td>1827</td>\n",
       "      <td>Encuentra a Toby</td>\n",
       "      <td>SG-APS31-K</td>\n",
       "      <td>encuentra a toby seguir las indicaciones lo má...</td>\n",
       "      <td>not found</td>\n",
       "      <td>0.0</td>\n",
       "    </tr>\n",
       "    <tr>\n",
       "      <th>429</th>\n",
       "      <td>1845</td>\n",
       "      <td>Código oculto</td>\n",
       "      <td>SG-ASE30-K</td>\n",
       "      <td>código oculto encontrar lo más rápidamente pos...</td>\n",
       "      <td>not found</td>\n",
       "      <td>0.0</td>\n",
       "    </tr>\n",
       "    <tr>\n",
       "      <th>436</th>\n",
       "      <td>1863</td>\n",
       "      <td>Emparejamientos veloces</td>\n",
       "      <td>SG-APS34-A</td>\n",
       "      <td>emparejamientos veloces asociar los elementos ...</td>\n",
       "      <td>not found</td>\n",
       "      <td>0.0</td>\n",
       "    </tr>\n",
       "  </tbody>\n",
       "</table>\n",
       "<p>97 rows × 6 columns</p>\n",
       "</div>"
      ],
      "text/plain": [
       "     activity_id                                               name  \\\n",
       "1            352                 Búsqueda de estímulos consecutivos   \n",
       "28           388                Reacción emocional ante situaciones   \n",
       "29           389          Objetos, establecimientos y profesionales   \n",
       "37           473                             Ubicación en el tiempo   \n",
       "38           474                            Relojes en hora (texto)   \n",
       "..           ...                                                ...   \n",
       "413         1782  ¿Dónde están los gatos? (tiempo de memorizació...   \n",
       "422         1824                                      Primer aleteo   \n",
       "423         1827                                   Encuentra a Toby   \n",
       "429         1845                                      Código oculto   \n",
       "436         1863                            Emparejamientos veloces   \n",
       "\n",
       "           code                                               text       tema  \\\n",
       "1          ASE3  búsqueda de estímulos consecutivos buscar entr...  not found   \n",
       "28          SC8  reacción emocional ante situaciones establecer...  not found   \n",
       "29          OP2  objetos establecimientos y profesionales relac...  not found   \n",
       "37          OT3  ubicación en el tiempo ubicarse en la hora día...  not found   \n",
       "38         VSR2  relojes en hora (texto) poner las agujas de ma...  not found   \n",
       "..          ...                                                ...        ...   \n",
       "413   SG-ME31-K  ¿dónde están los gatos? (tiempo de memorizació...  not found   \n",
       "422   SG-ME33-A  primer aleteo memorizar cuál es la primera mar...  not found   \n",
       "423  SG-APS31-K  encuentra a toby seguir las indicaciones lo má...  not found   \n",
       "429  SG-ASE30-K  código oculto encontrar lo más rápidamente pos...  not found   \n",
       "436  SG-APS34-A  emparejamientos veloces asociar los elementos ...  not found   \n",
       "\n",
       "     similitud  \n",
       "1          0.0  \n",
       "28         0.0  \n",
       "29         0.0  \n",
       "37         0.0  \n",
       "38         0.0  \n",
       "..         ...  \n",
       "413        0.0  \n",
       "422        0.0  \n",
       "423        0.0  \n",
       "429        0.0  \n",
       "436        0.0  \n",
       "\n",
       "[97 rows x 6 columns]"
      ]
     },
     "execution_count": 47,
     "metadata": {},
     "output_type": "execute_result"
    }
   ],
   "source": [
    "clf_df[clf_df[\"tema\"] == \"not found\"]"
   ]
  },
  {
   "cell_type": "code",
   "execution_count": 48,
   "id": "1bf60a59",
   "metadata": {},
   "outputs": [],
   "source": [
    "topics = {\n",
    "    # tematics\n",
    "    'transport':  [\n",
    "        \"equipaje\",\n",
    "        \"metro\", \"parada\", \"paradas\", \"estación\", \"tráfico\", \"vuelo\", \"aeropuerto\", \"velocidad\",\n",
    "        \"tren\", \"tranvía\", \"autobús\", \"intercambiador\",\"evitar multa\",\n",
    "        \"carretera\", \"autopista\", \"avenida\", \"conducción\",  \"atasco\",\n",
    "        \"señal de tráfico\", \"vehículo\", \"auto\", \"coche\",\n",
    "        \"avión\", \"piloto\", \"despegue\", \"puerta de embarque\", \"billete de avión\",\n",
    "        \"barco\", \"ferry\", \"puerto\", \"crucero\", \"lancha\", \"navegación\",\n",
    "        \"ruta\", \"trayecto\", \"recorrido\", \"destino\", \"transporte urbano\",\"frecuencia\", \"maletas\", \"estación\", \"vuelo\", \"aeropuerto\"\n",
    "    ],\n",
    "    \n",
    "    \"people\": [\n",
    "     \"foto de persona\", \"personas\", \"caras\", \"nombre\",\"vístete (mujer)\",\n",
    "        \"rostro\", \"gente\", \"individuo\",\n",
    "        \"niño\", \"niña\", \"hombre\", \"mujer\", \"persona\",\n",
    "    ],\n",
    "    \n",
    "    # 'food': [\"comida\", \"platos\", \"cocina\", \"agua\"],\n",
    "    'animals': [\n",
    "        \"encuentra a toby\",\"encuentra los peces\",\n",
    "        \"animales\", \"perro\", \"gatos\", \"bichos\", \"aleteo\", \"mariposa\",\n",
    "        \"mascotas\", \"gatito\", \"perrito\", \"animalito\", \"fauna\",\n",
    "        \"criatura\", \"insecto\", \"pájaro\",\n",
    "        \"pez\", \"caballo\", \"vaca\", \"oveja\", \"cerdo\",\n",
    "        \"conejo\", \"hamster\", \"reptil\", \"anfibio\", \"zoológico\",\"separa los bichos\",\n",
    "    ],\n",
    "    'money': [\n",
    "        \"billetes\", \"monedas\", \"cantidad\", \"dinero\",\n",
    "        \"efectivo\", \"pago\", \"precio\", \"cuenta\", \"tarjeta\",\n",
    "        \"saldo\", \"cobro\", \"gasto\", \"ahorro\", \"ingreso\",\n",
    "        \"transferencia\", \"cheque\", \"banco\", \"cartera\", \"fortuna\",\n",
    "        \"riqueza\", \"valor\", \"presupuesto\", \"divisa\", \"capital\",\n",
    "        \"interés\", \"deuda\", \"crédito\", \"retiro\", \"depósito\"\n",
    "    ],\n",
    "    \n",
    "    \"sport\": [\n",
    "        \"football\", \"balón\", \"pelota\", \"golpe\", \"basketball\",\n",
    "        \"deporte\", \"entrenamiento\", \"partido\", \"jugador\", \"equipo\",\n",
    "        \"gol\", \"pase\", \"tiro\", \"marcador\", \"victoria\",\n",
    "        \"derrota\", \"carrera\", \"salto\", \"natación\", \"ciclismo\",\n",
    "        \"boxeo\", \"tenis\", \"voley\", \"surf\", \"esquí\",\n",
    "        \"pesas\", \"gimnasio\", \"fitness\",  \"fuerza\"\n",
    "    ],\n",
    "    \n",
    "    \"sequence\": [\"secuencia\", \"order\",],\n",
    "    # \"emotions\": [\"emotions\", \"sad\", \"angry\", \"social\"],\n",
    "\n",
    "    \"vida diaria\": [\n",
    "        \"reciclar la basura\", \"hogar\", \"recoger la habitación\",\"evitar multa\", \"ir de compras\", \"vida diaria\", \"conducir\",\n",
    "        \"comida\", \"platos\", \"cocina\", \"agua\", \"vístete (mujer)\", \n",
    "        \"lavar la ropa\", \"hacer la cama\", \"barrer\", \"fregar\", \"poner la mesa\",\n",
    "        \"quitar la mesa\", \"sacar la basura\", \"ducharse\", \"lavarse los dientes\",\n",
    "        \"despertarse\", \"desayunar\", \"almorzar\", \"cenar\", \"ir al trabajo\",\n",
    "        \"hacer la compra\", \"pagar facturas\", \"cuidar a los niños\", \"descansar\", \"organizar\",\n",
    "        \"limpiar\", \"preparar la comida\", \"planchar\", \"tiempo libre\", \"tareas domésticas\"\n",
    "    ],\n",
    "    \n",
    "    \"logica\": [\n",
    "        \"puzzle\", \"rompecabezas\", \"laberinto\", \"laberintos\", \"laberinto\", \"combinaciones\"\n",
    "    ],\n",
    "    \"ilustrations\": [\"dibujos\", \"illustraciones\"],\n",
    "    \"formas\" : [\"formas\", \"figuras\", \"colores\"],\n",
    "    \n",
    "    # \"Computer\" : [\"teclado\",\"Teclado físico\", \"with computer mouse\"], # etc\n",
    "    # \"Tablet\": [\"Pulsar\", \"Recomendadas para tablet\", \"tablet\", \"pantalla táctil\", \"Arrastrar\", \"Pulsar\"],\n",
    "    # \"groups\": [\"Recomendado para sesiones en grupo\", \"grupos\", \"grupo\"],\n",
    "    \n",
    "    # actions\n",
    "    \"Lingüístico\": [ \"lenguaje\", \"palabras\", \"letras\", \"sílabas\", \"phrases\", \"lingüístico\",\n",
    "        \"texto\", \"frases\", \"lectura\", \"escritura\", \"significado\",\n",
    "        \"vocabulario\", \"gramática\", \"comunicación\", \"narración\", \"cuentos\",\n",
    "        \"diálogo\", \"pronunciación\", \"discurso\", \"oración\", \"poesía\",\n",
    "        \"idioma\", \"conjugación\", \"verbo\", \"adjetivo\", \"sustantivo\", \"escrita\", \"preguntas\", \"responder\"\n",
    "    ], # linguistic / read or all related to words letters frases etc\n",
    "    \n",
    "    \"Numbers\": [\"números\",],\n",
    "    \n",
    "    'Calculo': [ \"calcular\", \"cálculo\", \"sumar\",\"cantidad\", \"matemáticas\",\n",
    "        \"restar\", \"multiplicar\", \"dividir\", \"porcentaje\", \"ecuación\", \"medida\", \"cifra\", \"estimación\", \"valor\",\n",
    "        \"operación\", \"fracción\", \"decimal\", \"estadística\"\n",
    "    ],\n",
    "    'Auditivos': [ \"señal\", \"señales\", \"sonidos\", \"música\", \"audio\",\n",
    "        \"ruido\", \"voz\", \"melodía\", \"ritmo\", \"tono\",\n",
    "        \"volumen\", \"eco\", \"vibración\", \"acústica\",\n",
    "        \"altavoz\", \"auriculares\", \"micrófono\", \"grabación\", \"podcast\",\n",
    "        \"aplausos\", \"canción\",\"radio\", \"diálogo\", \n",
    "    ], #\n",
    "    \n",
    "    \"reflection\": [\"casillas\", \"igual\", \"copiar\", \"posición\", \"espejo\"],\n",
    "    \n",
    "    \"clock\" : [\"hora\", \"reloj\", \"tiempo\", \"relojes\", \"horas\", \"interpretar la hora\"],\n",
    "    \n",
    "    }\n",
    "\n",
    "model = SentenceTransformer('distiluse-base-multilingual-cased-v1')\n",
    "topic_vectors = {topic: model.encode(\" \".join(keywords)) for topic, keywords in topics.items()}"
   ]
  },
  {
   "cell_type": "code",
   "execution_count": 49,
   "id": "6fc3ecfc",
   "metadata": {},
   "outputs": [],
   "source": [
    "result_df = classify_activities_df(merged_df, \"text\", topic_vectors, model, threshold=0.25)\n",
    "clf_df = explode_topics_df(result_df)"
   ]
  },
  {
   "cell_type": "code",
   "execution_count": 50,
   "id": "b96c95d0",
   "metadata": {},
   "outputs": [
    {
     "data": {
      "application/vnd.plotly.v1+json": {
       "config": {
        "plotlyServerURL": "https://plot.ly"
       },
       "data": [
        {
         "alignmentgroup": "True",
         "hovertemplate": "tema=Auditivos<br>main_groups=%{x}<br>num_act=%{y}<extra></extra>",
         "legendgroup": "Auditivos",
         "marker": {
          "color": "#636efa",
          "pattern": {
           "shape": ""
          }
         },
         "name": "Auditivos",
         "offsetgroup": "Auditivos",
         "orientation": "v",
         "showlegend": true,
         "textposition": "auto",
         "type": "bar",
         "x": [
          "Auditivos"
         ],
         "xaxis": "x",
         "y": {
          "bdata": "Dw==",
          "dtype": "i1"
         },
         "yaxis": "y"
        },
        {
         "alignmentgroup": "True",
         "hovertemplate": "tema=Lingüístico<br>main_groups=%{x}<br>num_act=%{y}<extra></extra>",
         "legendgroup": "Lingüístico",
         "marker": {
          "color": "#EF553B",
          "pattern": {
           "shape": ""
          }
         },
         "name": "Lingüístico",
         "offsetgroup": "Lingüístico",
         "orientation": "v",
         "showlegend": true,
         "textposition": "auto",
         "type": "bar",
         "x": [
          "Lingüístico"
         ],
         "xaxis": "x",
         "y": {
          "bdata": "Qg==",
          "dtype": "i1"
         },
         "yaxis": "y"
        },
        {
         "alignmentgroup": "True",
         "hovertemplate": "tema=clock<br>main_groups=%{x}<br>num_act=%{y}<extra></extra>",
         "legendgroup": "clock",
         "marker": {
          "color": "#00cc96",
          "pattern": {
           "shape": ""
          }
         },
         "name": "clock",
         "offsetgroup": "clock",
         "orientation": "v",
         "showlegend": true,
         "textposition": "auto",
         "type": "bar",
         "x": [
          "clock"
         ],
         "xaxis": "x",
         "y": {
          "bdata": "CQ==",
          "dtype": "i1"
         },
         "yaxis": "y"
        },
        {
         "alignmentgroup": "True",
         "hovertemplate": "tema=ilustrations<br>main_groups=%{x}<br>num_act=%{y}<extra></extra>",
         "legendgroup": "ilustrations",
         "marker": {
          "color": "#ab63fa",
          "pattern": {
           "shape": ""
          }
         },
         "name": "ilustrations",
         "offsetgroup": "ilustrations",
         "orientation": "v",
         "showlegend": true,
         "textposition": "auto",
         "type": "bar",
         "x": [
          "ilustrations"
         ],
         "xaxis": "x",
         "y": {
          "bdata": "DQ==",
          "dtype": "i1"
         },
         "yaxis": "y"
        },
        {
         "alignmentgroup": "True",
         "hovertemplate": "tema=Calculo<br>main_groups=%{x}<br>num_act=%{y}<extra></extra>",
         "legendgroup": "Calculo",
         "marker": {
          "color": "#FFA15A",
          "pattern": {
           "shape": ""
          }
         },
         "name": "Calculo",
         "offsetgroup": "Calculo",
         "orientation": "v",
         "showlegend": true,
         "textposition": "auto",
         "type": "bar",
         "x": [
          "logic"
         ],
         "xaxis": "x",
         "y": {
          "bdata": "Ng==",
          "dtype": "i1"
         },
         "yaxis": "y"
        },
        {
         "alignmentgroup": "True",
         "hovertemplate": "tema=Numbers<br>main_groups=%{x}<br>num_act=%{y}<extra></extra>",
         "legendgroup": "Numbers",
         "marker": {
          "color": "#19d3f3",
          "pattern": {
           "shape": ""
          }
         },
         "name": "Numbers",
         "offsetgroup": "Numbers",
         "orientation": "v",
         "showlegend": true,
         "textposition": "auto",
         "type": "bar",
         "x": [
          "logic"
         ],
         "xaxis": "x",
         "y": {
          "bdata": "Hw==",
          "dtype": "i1"
         },
         "yaxis": "y"
        },
        {
         "alignmentgroup": "True",
         "hovertemplate": "tema=logica<br>main_groups=%{x}<br>num_act=%{y}<extra></extra>",
         "legendgroup": "logica",
         "marker": {
          "color": "#FF6692",
          "pattern": {
           "shape": ""
          }
         },
         "name": "logica",
         "offsetgroup": "logica",
         "orientation": "v",
         "showlegend": true,
         "textposition": "auto",
         "type": "bar",
         "x": [
          "logic"
         ],
         "xaxis": "x",
         "y": {
          "bdata": "Gw==",
          "dtype": "i1"
         },
         "yaxis": "y"
        },
        {
         "alignmentgroup": "True",
         "hovertemplate": "tema=not found<br>main_groups=%{x}<br>num_act=%{y}<extra></extra>",
         "legendgroup": "not found",
         "marker": {
          "color": "#B6E880",
          "pattern": {
           "shape": ""
          }
         },
         "name": "not found",
         "offsetgroup": "not found",
         "orientation": "v",
         "showlegend": true,
         "textposition": "auto",
         "type": "bar",
         "x": [
          "not found"
         ],
         "xaxis": "x",
         "y": {
          "bdata": "WA==",
          "dtype": "i1"
         },
         "yaxis": "y"
        },
        {
         "alignmentgroup": "True",
         "hovertemplate": "tema=reflection<br>main_groups=%{x}<br>num_act=%{y}<extra></extra>",
         "legendgroup": "reflection",
         "marker": {
          "color": "#FF97FF",
          "pattern": {
           "shape": ""
          }
         },
         "name": "reflection",
         "offsetgroup": "reflection",
         "orientation": "v",
         "showlegend": true,
         "textposition": "auto",
         "type": "bar",
         "x": [
          "reflection"
         ],
         "xaxis": "x",
         "y": {
          "bdata": "Dg==",
          "dtype": "i1"
         },
         "yaxis": "y"
        },
        {
         "alignmentgroup": "True",
         "hovertemplate": "tema=sequence<br>main_groups=%{x}<br>num_act=%{y}<extra></extra>",
         "legendgroup": "sequence",
         "marker": {
          "color": "#FECB52",
          "pattern": {
           "shape": ""
          }
         },
         "name": "sequence",
         "offsetgroup": "sequence",
         "orientation": "v",
         "showlegend": true,
         "textposition": "auto",
         "type": "bar",
         "x": [
          "sequence"
         ],
         "xaxis": "x",
         "y": {
          "bdata": "KQ==",
          "dtype": "i1"
         },
         "yaxis": "y"
        },
        {
         "alignmentgroup": "True",
         "hovertemplate": "tema=animals<br>main_groups=%{x}<br>num_act=%{y}<extra></extra>",
         "legendgroup": "animals",
         "marker": {
          "color": "#636efa",
          "pattern": {
           "shape": ""
          }
         },
         "name": "animals",
         "offsetgroup": "animals",
         "orientation": "v",
         "showlegend": true,
         "textposition": "auto",
         "type": "bar",
         "x": [
          "themes"
         ],
         "xaxis": "x",
         "y": {
          "bdata": "Fg==",
          "dtype": "i1"
         },
         "yaxis": "y"
        },
        {
         "alignmentgroup": "True",
         "hovertemplate": "tema=formas<br>main_groups=%{x}<br>num_act=%{y}<extra></extra>",
         "legendgroup": "formas",
         "marker": {
          "color": "#EF553B",
          "pattern": {
           "shape": ""
          }
         },
         "name": "formas",
         "offsetgroup": "formas",
         "orientation": "v",
         "showlegend": true,
         "textposition": "auto",
         "type": "bar",
         "x": [
          "themes"
         ],
         "xaxis": "x",
         "y": {
          "bdata": "DQ==",
          "dtype": "i1"
         },
         "yaxis": "y"
        },
        {
         "alignmentgroup": "True",
         "hovertemplate": "tema=money<br>main_groups=%{x}<br>num_act=%{y}<extra></extra>",
         "legendgroup": "money",
         "marker": {
          "color": "#00cc96",
          "pattern": {
           "shape": ""
          }
         },
         "name": "money",
         "offsetgroup": "money",
         "orientation": "v",
         "showlegend": true,
         "textposition": "auto",
         "type": "bar",
         "x": [
          "themes"
         ],
         "xaxis": "x",
         "y": {
          "bdata": "BA==",
          "dtype": "i1"
         },
         "yaxis": "y"
        },
        {
         "alignmentgroup": "True",
         "hovertemplate": "tema=people<br>main_groups=%{x}<br>num_act=%{y}<extra></extra>",
         "legendgroup": "people",
         "marker": {
          "color": "#ab63fa",
          "pattern": {
           "shape": ""
          }
         },
         "name": "people",
         "offsetgroup": "people",
         "orientation": "v",
         "showlegend": true,
         "textposition": "auto",
         "type": "bar",
         "x": [
          "themes"
         ],
         "xaxis": "x",
         "y": {
          "bdata": "FQ==",
          "dtype": "i1"
         },
         "yaxis": "y"
        },
        {
         "alignmentgroup": "True",
         "hovertemplate": "tema=sport<br>main_groups=%{x}<br>num_act=%{y}<extra></extra>",
         "legendgroup": "sport",
         "marker": {
          "color": "#FFA15A",
          "pattern": {
           "shape": ""
          }
         },
         "name": "sport",
         "offsetgroup": "sport",
         "orientation": "v",
         "showlegend": true,
         "textposition": "auto",
         "type": "bar",
         "x": [
          "themes"
         ],
         "xaxis": "x",
         "y": {
          "bdata": "CA==",
          "dtype": "i1"
         },
         "yaxis": "y"
        },
        {
         "alignmentgroup": "True",
         "hovertemplate": "tema=transport<br>main_groups=%{x}<br>num_act=%{y}<extra></extra>",
         "legendgroup": "transport",
         "marker": {
          "color": "#19d3f3",
          "pattern": {
           "shape": ""
          }
         },
         "name": "transport",
         "offsetgroup": "transport",
         "orientation": "v",
         "showlegend": true,
         "textposition": "auto",
         "type": "bar",
         "x": [
          "themes"
         ],
         "xaxis": "x",
         "y": {
          "bdata": "BA==",
          "dtype": "i1"
         },
         "yaxis": "y"
        },
        {
         "alignmentgroup": "True",
         "hovertemplate": "tema=vida diaria<br>main_groups=%{x}<br>num_act=%{y}<extra></extra>",
         "legendgroup": "vida diaria",
         "marker": {
          "color": "#FF6692",
          "pattern": {
           "shape": ""
          }
         },
         "name": "vida diaria",
         "offsetgroup": "vida diaria",
         "orientation": "v",
         "showlegend": true,
         "textposition": "auto",
         "type": "bar",
         "x": [
          "themes"
         ],
         "xaxis": "x",
         "y": {
          "bdata": "Aw==",
          "dtype": "i1"
         },
         "yaxis": "y"
        }
       ],
       "layout": {
        "barmode": "group",
        "legend": {
         "title": {
          "text": "tema"
         },
         "tracegroupgap": 0
        },
        "margin": {
         "t": 60
        },
        "template": {
         "data": {
          "bar": [
           {
            "error_x": {
             "color": "#2a3f5f"
            },
            "error_y": {
             "color": "#2a3f5f"
            },
            "marker": {
             "line": {
              "color": "#E5ECF6",
              "width": 0.5
             },
             "pattern": {
              "fillmode": "overlay",
              "size": 10,
              "solidity": 0.2
             }
            },
            "type": "bar"
           }
          ],
          "barpolar": [
           {
            "marker": {
             "line": {
              "color": "#E5ECF6",
              "width": 0.5
             },
             "pattern": {
              "fillmode": "overlay",
              "size": 10,
              "solidity": 0.2
             }
            },
            "type": "barpolar"
           }
          ],
          "carpet": [
           {
            "aaxis": {
             "endlinecolor": "#2a3f5f",
             "gridcolor": "white",
             "linecolor": "white",
             "minorgridcolor": "white",
             "startlinecolor": "#2a3f5f"
            },
            "baxis": {
             "endlinecolor": "#2a3f5f",
             "gridcolor": "white",
             "linecolor": "white",
             "minorgridcolor": "white",
             "startlinecolor": "#2a3f5f"
            },
            "type": "carpet"
           }
          ],
          "choropleth": [
           {
            "colorbar": {
             "outlinewidth": 0,
             "ticks": ""
            },
            "type": "choropleth"
           }
          ],
          "contour": [
           {
            "colorbar": {
             "outlinewidth": 0,
             "ticks": ""
            },
            "colorscale": [
             [
              0,
              "#0d0887"
             ],
             [
              0.1111111111111111,
              "#46039f"
             ],
             [
              0.2222222222222222,
              "#7201a8"
             ],
             [
              0.3333333333333333,
              "#9c179e"
             ],
             [
              0.4444444444444444,
              "#bd3786"
             ],
             [
              0.5555555555555556,
              "#d8576b"
             ],
             [
              0.6666666666666666,
              "#ed7953"
             ],
             [
              0.7777777777777778,
              "#fb9f3a"
             ],
             [
              0.8888888888888888,
              "#fdca26"
             ],
             [
              1,
              "#f0f921"
             ]
            ],
            "type": "contour"
           }
          ],
          "contourcarpet": [
           {
            "colorbar": {
             "outlinewidth": 0,
             "ticks": ""
            },
            "type": "contourcarpet"
           }
          ],
          "heatmap": [
           {
            "colorbar": {
             "outlinewidth": 0,
             "ticks": ""
            },
            "colorscale": [
             [
              0,
              "#0d0887"
             ],
             [
              0.1111111111111111,
              "#46039f"
             ],
             [
              0.2222222222222222,
              "#7201a8"
             ],
             [
              0.3333333333333333,
              "#9c179e"
             ],
             [
              0.4444444444444444,
              "#bd3786"
             ],
             [
              0.5555555555555556,
              "#d8576b"
             ],
             [
              0.6666666666666666,
              "#ed7953"
             ],
             [
              0.7777777777777778,
              "#fb9f3a"
             ],
             [
              0.8888888888888888,
              "#fdca26"
             ],
             [
              1,
              "#f0f921"
             ]
            ],
            "type": "heatmap"
           }
          ],
          "histogram": [
           {
            "marker": {
             "pattern": {
              "fillmode": "overlay",
              "size": 10,
              "solidity": 0.2
             }
            },
            "type": "histogram"
           }
          ],
          "histogram2d": [
           {
            "colorbar": {
             "outlinewidth": 0,
             "ticks": ""
            },
            "colorscale": [
             [
              0,
              "#0d0887"
             ],
             [
              0.1111111111111111,
              "#46039f"
             ],
             [
              0.2222222222222222,
              "#7201a8"
             ],
             [
              0.3333333333333333,
              "#9c179e"
             ],
             [
              0.4444444444444444,
              "#bd3786"
             ],
             [
              0.5555555555555556,
              "#d8576b"
             ],
             [
              0.6666666666666666,
              "#ed7953"
             ],
             [
              0.7777777777777778,
              "#fb9f3a"
             ],
             [
              0.8888888888888888,
              "#fdca26"
             ],
             [
              1,
              "#f0f921"
             ]
            ],
            "type": "histogram2d"
           }
          ],
          "histogram2dcontour": [
           {
            "colorbar": {
             "outlinewidth": 0,
             "ticks": ""
            },
            "colorscale": [
             [
              0,
              "#0d0887"
             ],
             [
              0.1111111111111111,
              "#46039f"
             ],
             [
              0.2222222222222222,
              "#7201a8"
             ],
             [
              0.3333333333333333,
              "#9c179e"
             ],
             [
              0.4444444444444444,
              "#bd3786"
             ],
             [
              0.5555555555555556,
              "#d8576b"
             ],
             [
              0.6666666666666666,
              "#ed7953"
             ],
             [
              0.7777777777777778,
              "#fb9f3a"
             ],
             [
              0.8888888888888888,
              "#fdca26"
             ],
             [
              1,
              "#f0f921"
             ]
            ],
            "type": "histogram2dcontour"
           }
          ],
          "mesh3d": [
           {
            "colorbar": {
             "outlinewidth": 0,
             "ticks": ""
            },
            "type": "mesh3d"
           }
          ],
          "parcoords": [
           {
            "line": {
             "colorbar": {
              "outlinewidth": 0,
              "ticks": ""
             }
            },
            "type": "parcoords"
           }
          ],
          "pie": [
           {
            "automargin": true,
            "type": "pie"
           }
          ],
          "scatter": [
           {
            "fillpattern": {
             "fillmode": "overlay",
             "size": 10,
             "solidity": 0.2
            },
            "type": "scatter"
           }
          ],
          "scatter3d": [
           {
            "line": {
             "colorbar": {
              "outlinewidth": 0,
              "ticks": ""
             }
            },
            "marker": {
             "colorbar": {
              "outlinewidth": 0,
              "ticks": ""
             }
            },
            "type": "scatter3d"
           }
          ],
          "scattercarpet": [
           {
            "marker": {
             "colorbar": {
              "outlinewidth": 0,
              "ticks": ""
             }
            },
            "type": "scattercarpet"
           }
          ],
          "scattergeo": [
           {
            "marker": {
             "colorbar": {
              "outlinewidth": 0,
              "ticks": ""
             }
            },
            "type": "scattergeo"
           }
          ],
          "scattergl": [
           {
            "marker": {
             "colorbar": {
              "outlinewidth": 0,
              "ticks": ""
             }
            },
            "type": "scattergl"
           }
          ],
          "scattermap": [
           {
            "marker": {
             "colorbar": {
              "outlinewidth": 0,
              "ticks": ""
             }
            },
            "type": "scattermap"
           }
          ],
          "scattermapbox": [
           {
            "marker": {
             "colorbar": {
              "outlinewidth": 0,
              "ticks": ""
             }
            },
            "type": "scattermapbox"
           }
          ],
          "scatterpolar": [
           {
            "marker": {
             "colorbar": {
              "outlinewidth": 0,
              "ticks": ""
             }
            },
            "type": "scatterpolar"
           }
          ],
          "scatterpolargl": [
           {
            "marker": {
             "colorbar": {
              "outlinewidth": 0,
              "ticks": ""
             }
            },
            "type": "scatterpolargl"
           }
          ],
          "scatterternary": [
           {
            "marker": {
             "colorbar": {
              "outlinewidth": 0,
              "ticks": ""
             }
            },
            "type": "scatterternary"
           }
          ],
          "surface": [
           {
            "colorbar": {
             "outlinewidth": 0,
             "ticks": ""
            },
            "colorscale": [
             [
              0,
              "#0d0887"
             ],
             [
              0.1111111111111111,
              "#46039f"
             ],
             [
              0.2222222222222222,
              "#7201a8"
             ],
             [
              0.3333333333333333,
              "#9c179e"
             ],
             [
              0.4444444444444444,
              "#bd3786"
             ],
             [
              0.5555555555555556,
              "#d8576b"
             ],
             [
              0.6666666666666666,
              "#ed7953"
             ],
             [
              0.7777777777777778,
              "#fb9f3a"
             ],
             [
              0.8888888888888888,
              "#fdca26"
             ],
             [
              1,
              "#f0f921"
             ]
            ],
            "type": "surface"
           }
          ],
          "table": [
           {
            "cells": {
             "fill": {
              "color": "#EBF0F8"
             },
             "line": {
              "color": "white"
             }
            },
            "header": {
             "fill": {
              "color": "#C8D4E3"
             },
             "line": {
              "color": "white"
             }
            },
            "type": "table"
           }
          ]
         },
         "layout": {
          "annotationdefaults": {
           "arrowcolor": "#2a3f5f",
           "arrowhead": 0,
           "arrowwidth": 1
          },
          "autotypenumbers": "strict",
          "coloraxis": {
           "colorbar": {
            "outlinewidth": 0,
            "ticks": ""
           }
          },
          "colorscale": {
           "diverging": [
            [
             0,
             "#8e0152"
            ],
            [
             0.1,
             "#c51b7d"
            ],
            [
             0.2,
             "#de77ae"
            ],
            [
             0.3,
             "#f1b6da"
            ],
            [
             0.4,
             "#fde0ef"
            ],
            [
             0.5,
             "#f7f7f7"
            ],
            [
             0.6,
             "#e6f5d0"
            ],
            [
             0.7,
             "#b8e186"
            ],
            [
             0.8,
             "#7fbc41"
            ],
            [
             0.9,
             "#4d9221"
            ],
            [
             1,
             "#276419"
            ]
           ],
           "sequential": [
            [
             0,
             "#0d0887"
            ],
            [
             0.1111111111111111,
             "#46039f"
            ],
            [
             0.2222222222222222,
             "#7201a8"
            ],
            [
             0.3333333333333333,
             "#9c179e"
            ],
            [
             0.4444444444444444,
             "#bd3786"
            ],
            [
             0.5555555555555556,
             "#d8576b"
            ],
            [
             0.6666666666666666,
             "#ed7953"
            ],
            [
             0.7777777777777778,
             "#fb9f3a"
            ],
            [
             0.8888888888888888,
             "#fdca26"
            ],
            [
             1,
             "#f0f921"
            ]
           ],
           "sequentialminus": [
            [
             0,
             "#0d0887"
            ],
            [
             0.1111111111111111,
             "#46039f"
            ],
            [
             0.2222222222222222,
             "#7201a8"
            ],
            [
             0.3333333333333333,
             "#9c179e"
            ],
            [
             0.4444444444444444,
             "#bd3786"
            ],
            [
             0.5555555555555556,
             "#d8576b"
            ],
            [
             0.6666666666666666,
             "#ed7953"
            ],
            [
             0.7777777777777778,
             "#fb9f3a"
            ],
            [
             0.8888888888888888,
             "#fdca26"
            ],
            [
             1,
             "#f0f921"
            ]
           ]
          },
          "colorway": [
           "#636efa",
           "#EF553B",
           "#00cc96",
           "#ab63fa",
           "#FFA15A",
           "#19d3f3",
           "#FF6692",
           "#B6E880",
           "#FF97FF",
           "#FECB52"
          ],
          "font": {
           "color": "#2a3f5f"
          },
          "geo": {
           "bgcolor": "white",
           "lakecolor": "white",
           "landcolor": "#E5ECF6",
           "showlakes": true,
           "showland": true,
           "subunitcolor": "white"
          },
          "hoverlabel": {
           "align": "left"
          },
          "hovermode": "closest",
          "mapbox": {
           "style": "light"
          },
          "paper_bgcolor": "white",
          "plot_bgcolor": "#E5ECF6",
          "polar": {
           "angularaxis": {
            "gridcolor": "white",
            "linecolor": "white",
            "ticks": ""
           },
           "bgcolor": "#E5ECF6",
           "radialaxis": {
            "gridcolor": "white",
            "linecolor": "white",
            "ticks": ""
           }
          },
          "scene": {
           "xaxis": {
            "backgroundcolor": "#E5ECF6",
            "gridcolor": "white",
            "gridwidth": 2,
            "linecolor": "white",
            "showbackground": true,
            "ticks": "",
            "zerolinecolor": "white"
           },
           "yaxis": {
            "backgroundcolor": "#E5ECF6",
            "gridcolor": "white",
            "gridwidth": 2,
            "linecolor": "white",
            "showbackground": true,
            "ticks": "",
            "zerolinecolor": "white"
           },
           "zaxis": {
            "backgroundcolor": "#E5ECF6",
            "gridcolor": "white",
            "gridwidth": 2,
            "linecolor": "white",
            "showbackground": true,
            "ticks": "",
            "zerolinecolor": "white"
           }
          },
          "shapedefaults": {
           "line": {
            "color": "#2a3f5f"
           }
          },
          "ternary": {
           "aaxis": {
            "gridcolor": "white",
            "linecolor": "white",
            "ticks": ""
           },
           "baxis": {
            "gridcolor": "white",
            "linecolor": "white",
            "ticks": ""
           },
           "bgcolor": "#E5ECF6",
           "caxis": {
            "gridcolor": "white",
            "linecolor": "white",
            "ticks": ""
           }
          },
          "title": {
           "x": 0.05
          },
          "xaxis": {
           "automargin": true,
           "gridcolor": "white",
           "linecolor": "white",
           "ticks": "",
           "title": {
            "standoff": 15
           },
           "zerolinecolor": "white",
           "zerolinewidth": 2
          },
          "yaxis": {
           "automargin": true,
           "gridcolor": "white",
           "linecolor": "white",
           "ticks": "",
           "title": {
            "standoff": 15
           },
           "zerolinecolor": "white",
           "zerolinewidth": 2
          }
         }
        },
        "xaxis": {
         "anchor": "y",
         "domain": [
          0,
          1
         ],
         "title": {
          "text": "main_groups"
         }
        },
        "yaxis": {
         "anchor": "x",
         "domain": [
          0,
          1
         ],
         "title": {
          "text": "num_act"
         }
        }
       }
      }
     },
     "metadata": {},
     "output_type": "display_data"
    }
   ],
   "source": [
    "import plotly.express as px\n",
    "clf_df[\"main_groups\"] = clf_df[\"tema\"].apply(classify)\n",
    "px.bar(\n",
    "    data_frame = clf_df.groupby([\"main_groups\", \"tema\"])[\"activity_id\"].nunique().reset_index(name = \"num_act\"),\n",
    "    x = \"main_groups\",\n",
    "    y = \"num_act\",\n",
    "    color = \"tema\",\n",
    "    barmode = \"group\",\n",
    ")"
   ]
  },
  {
   "cell_type": "code",
   "execution_count": 51,
   "id": "729b3f5c",
   "metadata": {},
   "outputs": [
    {
     "data": {
      "text/html": [
       "<div>\n",
       "<style scoped>\n",
       "    .dataframe tbody tr th:only-of-type {\n",
       "        vertical-align: middle;\n",
       "    }\n",
       "\n",
       "    .dataframe tbody tr th {\n",
       "        vertical-align: top;\n",
       "    }\n",
       "\n",
       "    .dataframe thead th {\n",
       "        text-align: right;\n",
       "    }\n",
       "</style>\n",
       "<table border=\"1\" class=\"dataframe\">\n",
       "  <thead>\n",
       "    <tr style=\"text-align: right;\">\n",
       "      <th></th>\n",
       "      <th>activity_id</th>\n",
       "      <th>name</th>\n",
       "      <th>code</th>\n",
       "      <th>text</th>\n",
       "      <th>temas</th>\n",
       "      <th>similitud</th>\n",
       "    </tr>\n",
       "  </thead>\n",
       "  <tbody>\n",
       "    <tr>\n",
       "      <th>13</th>\n",
       "      <td>379</td>\n",
       "      <td>Nombrar objetos con pistas fonológicas</td>\n",
       "      <td>LN1</td>\n",
       "      <td>nombrar objetos con pistas fonológicas nombrar...</td>\n",
       "      <td>[Lingüístico, Auditivos]</td>\n",
       "      <td>[0.37, 0.26]</td>\n",
       "    </tr>\n",
       "  </tbody>\n",
       "</table>\n",
       "</div>"
      ],
      "text/plain": [
       "    activity_id                                    name code  \\\n",
       "13          379  Nombrar objetos con pistas fonológicas  LN1   \n",
       "\n",
       "                                                 text  \\\n",
       "13  nombrar objetos con pistas fonológicas nombrar...   \n",
       "\n",
       "                       temas     similitud  \n",
       "13  [Lingüístico, Auditivos]  [0.37, 0.26]  "
      ]
     },
     "execution_count": 51,
     "metadata": {},
     "output_type": "execute_result"
    }
   ],
   "source": [
    "result_df[result_df[\"code\"] == \"LN1\"]"
   ]
  },
  {
   "cell_type": "code",
   "execution_count": 41,
   "id": "fbfdb9c3",
   "metadata": {},
   "outputs": [],
   "source": [
    "comments = {\n",
    "    \"LN1\": \"remove Audiotivos and pistas fonológicas from DB\",\n",
    "}\n",
    "\n",
    "new_tags = {\n",
    "    \"vida diaria\": [\"OP2\", \"GV12\", \"EP5\", \"EP65\", \"EP61\"],\n",
    "    \n",
    "    \"people\": [\"EP5\", \"EP65\"],\n",
    "    \"ilustrations\": [\n",
    "        \"EP65\", \"SG-PVC30-K\", \"EWM64\", \"ASE65\", \"J_aleteo\", \"J_ubiE\", \"J_plazas\",\n",
    "        \"J_puzzleRota\", \"J_copia\", \"J_coco\", \"J_dispara\", \"SG-EP33-K\", \"SG-VSR33-K\", \"SG-ASU31-A\", \"GME71\",\"J_baul\"\n",
    "    ],\n",
    "    \"animals\": [\"J_aleteo\", \"J_bichos\", \"J_copia\",\"J_baul\"], \n",
    "    \"formas\": [\"J_ubiE\", \"J_coco\"],\n",
    "    \"sequence\": [\"J_ultVent\", \"J_entrevista_child\", \"GME71\", \"J_en_orden\"],\n",
    "    \"logica\": [\"J_puzzleRota\", \"J_coco\", \"GEP68\", \"SG-PVC30-K\"],\n",
    "    \"reflection\": [\"J_copia\",\"J_robot_children\", \"J_copia_adult\", \"SG-VSR33-K\", \"SG-ASU31-A\", \"SG-ASU32-K\"],\n",
    "    \"people\": [\"J_entrevista_child\", ],\n",
    "    \"sport\" : [\"J_pararPunto\", \"J_pararPunto_child\", \"SG-VSR32-K\"],\n",
    "    \n",
    "    # \"OP2\": \"vida diaria\",\n",
    "    # \"GV12\": \"vida diaria\", \n",
    "    # \"J_ultVent\":[ \"sequence\"],\n",
    "    # \"J_aleteo\": [\"animals\", \"dibujos\"],\n",
    "    # \"J_ubiE\": [\"figures\", \"dibujos\"],\n",
    "    # \"J_bichos\": [\"animals\",],\n",
    "    # \"J_plazas\": \"dibujos\",\n",
    "    # \"J_piramide\": \"cartas - game\",\n",
    "    # \"J_piramide_poker\": \"cartas - game\",\n",
    "    # \"EWM64\": \"dibujos\",\n",
    "    # \"ASE65\": \"dibujos\",\n",
    "    # \"J_puzzleRota\": [\"logica\", \"dibujos\"],\n",
    "    # \"J_copia\": [\"dibujos\", \"animals\", \"reflection\"],\n",
    "    # \"J_robot_children\" : \"reflection\",\n",
    "    # \"J_coco\": [\"figures\", \"logica\", \"dibujos\"],\n",
    "    # \"J_dispara\": \"dibujos\",\n",
    "    # \"J_copia_adult\":\"reflection\",\n",
    "    # \"GEP68\": \"laberinto\",\n",
    "    # \"J_entrevista_child\": [\"people\", \"sequence\"],\n",
    "    # \"SG-EP33-K\": \"dibujos\",\n",
    "    # \"SG-VSR33-K\":[\"reflection\", \"dibujos\"],\n",
    "    # \"SG-ASU31-A\": [\"reflection\",\"dibujos\"],\n",
    "    # \"SG-ASU32-K\":\"reflection\",\n",
    "    \n",
    "    # clock\n",
    "#    \"J_pararPunto\":\"conducir\",\n",
    "#    \"J_pararPunto_child\": \"conducir\",\n",
    "#    \"SG-VSR32-K\": \"conducir\",\n",
    "#    \"EP5\": [\"people\", \"vida diaria\"],\n",
    "#    \"EP65\": [\"people\", \"dibujos\", \"vida diaria\"],\n",
    "#    \"EP61\": [\"vida diaria\"],\n",
    "#    \"GME71\": [\"sequecne\", \"dibujos\",],\n",
    "#    \"J_en_orden\": [\"sequence\", ],\n",
    "#    \"J_baul\": [\"animals\", \"dibujos\"],\n",
    "#    \"SG-PVC30-K\": [\"dibujos\"],\n",
    "   \n",
    "}"
   ]
  },
  {
   "cell_type": "markdown",
   "id": "143ba736",
   "metadata": {},
   "source": [
    "1. Auditivos - ✅\n",
    "fix descripton of LN1 (pistas fonológicas)\n",
    "2. clock  - ✅\n",
    "- J_pararPunto, J_pararPunto_child, SG-VSR32-A, SG-VSR32-K (change cat, conducir, dibujos)\n",
    "\n",
    "3. formas - ✅\n",
    "<!-- -SG-EI30-K\t-Explota los globos assign dibujos -->\n",
    "\n",
    "4. calculo - ✅\n",
    "- VSR3, VSR2, J_memoria, J_memoria_adult  - remove from calculo\n",
    "- APS66 - assign dibujos and remove from calculo\n",
    "- SG-VSR32-A - \tassign dibujos / sport and remove from calculo\n",
    "- SG-VSR32-K -  assign dibujos / conducir / sport and remove from calculo\n",
    "- J_contarAudios, SG-ASU40-A - remove from calculo\n",
    "\n",
    "5. Numbers \n",
    "- APS7, GAPS67, J_contarAudios, SG-ASU40-A- remove from numbers\n",
    "6. Logica - add more labirints\n",
    "7. reflection - super ✅\n",
    "\n",
    "8. sequence\n",
    "- remove: APS3,EP5, DES, EWM10, J_palabras, GAPS3,J_DES, EP65, GER10, MS76, MS7, GEWM21, ASU1-K, SG-LEX30-A\t\n",
    "\n",
    "9. animals\n",
    "remove: ASE62,  GASE77, SG-PVC30-K\t\n",
    "\n",
    "10. money - super ✅\n",
    "\n",
    "11. people\n",
    "\n",
    "remove: LD1, LV10, LD4, LV70\n",
    "\n",
    "12. sport \n",
    "remove: J_ranas, SG-VSR35-K\t\n",
    "\n",
    "13. transport\n",
    "not many.. check a few more tiems\n"
   ]
  },
  {
   "cell_type": "code",
   "execution_count": 36,
   "id": "ae6b414c",
   "metadata": {},
   "outputs": [],
   "source": [
    "to_drop = [\n",
    "    172, 223, 377, 385, 38, 40, 154, 252, 306, 317, 378, 386,\n",
    "    412, 20, 157, 251, 411,21, 54, 62, 91, 111, 134, 145, 161, \n",
    "    194, 211, 271, 283, 357, 406, 149, 267, 369,8, 209, 237, 277,\n",
    "    143, 387\n",
    "]"
   ]
  },
  {
   "cell_type": "code",
   "execution_count": 33,
   "id": "216fa86c",
   "metadata": {},
   "outputs": [
    {
     "data": {
      "text/plain": [
       "Index([143, 387], dtype='int64')"
      ]
     },
     "execution_count": 33,
     "metadata": {},
     "output_type": "execute_result"
    }
   ],
   "source": [
    "clf_df[\n",
    "    (clf_df[\"code\"].isin([\"J_ranas\", \"SG-VSR35-K\"]))\n",
    "    & (clf_df[\"tema\"] == \"sport\") \n",
    "].index"
   ]
  },
  {
   "cell_type": "code",
   "execution_count": 38,
   "id": "ec169c92",
   "metadata": {},
   "outputs": [],
   "source": [
    "clf_f1=  clf_df.drop(to_drop)"
   ]
  },
  {
   "cell_type": "code",
   "execution_count": 39,
   "id": "fad07d54",
   "metadata": {},
   "outputs": [
    {
     "data": {
      "text/html": [
       "<div>\n",
       "<style scoped>\n",
       "    .dataframe tbody tr th:only-of-type {\n",
       "        vertical-align: middle;\n",
       "    }\n",
       "\n",
       "    .dataframe tbody tr th {\n",
       "        vertical-align: top;\n",
       "    }\n",
       "\n",
       "    .dataframe thead th {\n",
       "        text-align: right;\n",
       "    }\n",
       "</style>\n",
       "<table border=\"1\" class=\"dataframe\">\n",
       "  <thead>\n",
       "    <tr style=\"text-align: right;\">\n",
       "      <th></th>\n",
       "      <th>activity_id</th>\n",
       "      <th>name</th>\n",
       "      <th>code</th>\n",
       "      <th>text</th>\n",
       "      <th>tema</th>\n",
       "      <th>similitud</th>\n",
       "      <th>main_groups</th>\n",
       "    </tr>\n",
       "  </thead>\n",
       "  <tbody>\n",
       "    <tr>\n",
       "      <th>170</th>\n",
       "      <td>814</td>\n",
       "      <td>Imágenes revueltas</td>\n",
       "      <td>J_puzzleRota</td>\n",
       "      <td>imágenes revueltas mover bloques de una manera...</td>\n",
       "      <td>not found</td>\n",
       "      <td>0.0</td>\n",
       "      <td>not found</td>\n",
       "    </tr>\n",
       "  </tbody>\n",
       "</table>\n",
       "</div>"
      ],
      "text/plain": [
       "     activity_id                name          code  \\\n",
       "170          814  Imágenes revueltas  J_puzzleRota   \n",
       "\n",
       "                                                  text       tema  similitud  \\\n",
       "170  imágenes revueltas mover bloques de una manera...  not found        0.0   \n",
       "\n",
       "    main_groups  \n",
       "170   not found  "
      ]
     },
     "execution_count": 39,
     "metadata": {},
     "output_type": "execute_result"
    }
   ],
   "source": [
    "clf_f1[clf_f1[\"code\"] == \"J_puzzleRota\"]"
   ]
  },
  {
   "cell_type": "code",
   "execution_count": 42,
   "id": "9b083148",
   "metadata": {},
   "outputs": [
    {
     "data": {
      "text/html": [
       "<div>\n",
       "<style scoped>\n",
       "    .dataframe tbody tr th:only-of-type {\n",
       "        vertical-align: middle;\n",
       "    }\n",
       "\n",
       "    .dataframe tbody tr th {\n",
       "        vertical-align: top;\n",
       "    }\n",
       "\n",
       "    .dataframe thead th {\n",
       "        text-align: right;\n",
       "    }\n",
       "</style>\n",
       "<table border=\"1\" class=\"dataframe\">\n",
       "  <thead>\n",
       "    <tr style=\"text-align: right;\">\n",
       "      <th></th>\n",
       "      <th>activity_id</th>\n",
       "      <th>name</th>\n",
       "      <th>code</th>\n",
       "      <th>text</th>\n",
       "      <th>tema</th>\n",
       "      <th>similitud</th>\n",
       "      <th>main_groups</th>\n",
       "    </tr>\n",
       "  </thead>\n",
       "  <tbody>\n",
       "    <tr>\n",
       "      <th>29</th>\n",
       "      <td>389</td>\n",
       "      <td>Objetos, establecimientos y profesionales</td>\n",
       "      <td>OP2</td>\n",
       "      <td>objetos establecimientos y profesionales relac...</td>\n",
       "      <td>not found</td>\n",
       "      <td>0.00</td>\n",
       "      <td>not found</td>\n",
       "    </tr>\n",
       "    <tr>\n",
       "      <th>53</th>\n",
       "      <td>485</td>\n",
       "      <td>Ordenar pasos de actividades (imágenes)</td>\n",
       "      <td>EP5</td>\n",
       "      <td>ordenar pasos de actividades (imágenes) poner ...</td>\n",
       "      <td>Lingüístico</td>\n",
       "      <td>0.27</td>\n",
       "      <td>Lingüístico</td>\n",
       "    </tr>\n",
       "    <tr>\n",
       "      <th>56</th>\n",
       "      <td>492</td>\n",
       "      <td>Objetos tapados</td>\n",
       "      <td>GV12</td>\n",
       "      <td>objetos tapados reconocer objetos tapados parc...</td>\n",
       "      <td>not found</td>\n",
       "      <td>0.00</td>\n",
       "      <td>not found</td>\n",
       "    </tr>\n",
       "    <tr>\n",
       "      <th>160</th>\n",
       "      <td>806</td>\n",
       "      <td>Pasito a pasito (dibujos)</td>\n",
       "      <td>EP65</td>\n",
       "      <td>pasito a pasito (dibujos) poner en orden los d...</td>\n",
       "      <td>Lingüístico</td>\n",
       "      <td>0.26</td>\n",
       "      <td>Lingüístico</td>\n",
       "    </tr>\n",
       "    <tr>\n",
       "      <th>162</th>\n",
       "      <td>807</td>\n",
       "      <td>Pasito a pasito (texto)</td>\n",
       "      <td>EP61</td>\n",
       "      <td>pasito a pasito (texto) poner en orden los dif...</td>\n",
       "      <td>sequence</td>\n",
       "      <td>0.27</td>\n",
       "      <td>sequence</td>\n",
       "    </tr>\n",
       "  </tbody>\n",
       "</table>\n",
       "</div>"
      ],
      "text/plain": [
       "     activity_id                                       name  code  \\\n",
       "29           389  Objetos, establecimientos y profesionales   OP2   \n",
       "53           485    Ordenar pasos de actividades (imágenes)   EP5   \n",
       "56           492                            Objetos tapados  GV12   \n",
       "160          806                  Pasito a pasito (dibujos)  EP65   \n",
       "162          807                    Pasito a pasito (texto)  EP61   \n",
       "\n",
       "                                                  text         tema  \\\n",
       "29   objetos establecimientos y profesionales relac...    not found   \n",
       "53   ordenar pasos de actividades (imágenes) poner ...  Lingüístico   \n",
       "56   objetos tapados reconocer objetos tapados parc...    not found   \n",
       "160  pasito a pasito (dibujos) poner en orden los d...  Lingüístico   \n",
       "162  pasito a pasito (texto) poner en orden los dif...     sequence   \n",
       "\n",
       "     similitud  main_groups  \n",
       "29        0.00    not found  \n",
       "53        0.27  Lingüístico  \n",
       "56        0.00    not found  \n",
       "160       0.26  Lingüístico  \n",
       "162       0.27     sequence  "
      ]
     },
     "execution_count": 42,
     "metadata": {},
     "output_type": "execute_result"
    }
   ],
   "source": [
    "clf_f1[clf_f1[\"code\"].isin(new_tags[\"vida diaria\"])]"
   ]
  },
  {
   "cell_type": "code",
   "execution_count": 43,
   "id": "6f926089",
   "metadata": {},
   "outputs": [
    {
     "data": {
      "text/plain": [
       "['OP2', 'GV12', 'EP5', 'EP65', 'EP61']"
      ]
     },
     "execution_count": 43,
     "metadata": {},
     "output_type": "execute_result"
    }
   ],
   "source": [
    "new_tags[\"vida diaria\"]"
   ]
  },
  {
   "cell_type": "code",
   "execution_count": 45,
   "id": "1b02100e",
   "metadata": {},
   "outputs": [],
   "source": [
    "test_df = clf_f1.copy()"
   ]
  },
  {
   "cell_type": "code",
   "execution_count": 46,
   "id": "f9217a93",
   "metadata": {},
   "outputs": [
    {
     "name": "stdout",
     "output_type": "stream",
     "text": [
      "['OP2', 'GV12', 'EP5', 'EP65', 'EP61']\n",
      "['J_entrevista_child']\n",
      "['EP65', 'SG-PVC30-K', 'EWM64', 'ASE65', 'J_aleteo', 'J_ubiE', 'J_plazas', 'J_puzzleRota', 'J_copia', 'J_coco', 'J_dispara', 'SG-EP33-K', 'SG-VSR33-K', 'SG-ASU31-A', 'GME71', 'J_baul']\n",
      "['J_aleteo', 'J_bichos', 'J_copia', 'J_baul']\n",
      "['J_ubiE', 'J_coco']\n",
      "['J_ultVent', 'J_entrevista_child', 'GME71', 'J_en_orden']\n",
      "['J_puzzleRota', 'J_coco', 'GEP68', 'SG-PVC30-K']\n",
      "['J_copia', 'J_robot_children', 'J_copia_adult', 'SG-VSR33-K', 'SG-ASU31-A', 'SG-ASU32-K']\n",
      "['J_pararPunto', 'J_pararPunto_child', 'SG-VSR32-K']\n"
     ]
    }
   ],
   "source": [
    "for key, codes in new_tags.items():\n",
    "    print(codes)"
   ]
  },
  {
   "cell_type": "code",
   "execution_count": 47,
   "id": "e5cc0811",
   "metadata": {},
   "outputs": [],
   "source": [
    "rows_to_concat = []\n",
    "\n",
    "for key, codes in new_tags.items():\n",
    "    df = clf_f1[clf_f1[\"code\"].isin(codes)]\n",
    "\n",
    "    for i, row in df.iterrows():\n",
    "        if row[\"tema\"] == \"not found\":\n",
    "            clf_f1.loc[row.name, \"tema\"] = key\n",
    "            \n",
    "        else:\n",
    "            copied_row = row.copy()\n",
    "            copied_row[\"tema\"] = key\n",
    "            rows_to_concat.append(pd.DataFrame([copied_row]))\n",
    "rows_df = pd.concat(rows_to_concat)\n",
    "clf_f2 = pd.concat([clf_f1, rows_df])\n",
    "\n",
    "clf_f2[\"main_groups\"] = clf_f2[\"tema\"].apply(classify)"
   ]
  },
  {
   "cell_type": "code",
   "execution_count": 50,
   "id": "ff83c892",
   "metadata": {},
   "outputs": [],
   "source": [
    "result_df = classify_activities_df(clf_f2[clf_f2[\"tema\"] == \"not found\"], \"text\", topic_vectors, model, threshold=0.15)\n",
    "clf_f3 = explode_topics_df(result_df)"
   ]
  },
  {
   "cell_type": "code",
   "execution_count": 51,
   "id": "3800b8d2",
   "metadata": {},
   "outputs": [],
   "source": [
    "clf_f3[\"main_groups\"] = clf_f3[\"tema\"].apply(classify)"
   ]
  },
  {
   "cell_type": "code",
   "execution_count": 52,
   "id": "ba2f5389",
   "metadata": {},
   "outputs": [
    {
     "data": {
      "application/vnd.plotly.v1+json": {
       "config": {
        "plotlyServerURL": "https://plot.ly"
       },
       "data": [
        {
         "alignmentgroup": "True",
         "hovertemplate": "tema=Auditivos<br>main_groups=%{x}<br>num_act=%{y}<extra></extra>",
         "legendgroup": "Auditivos",
         "marker": {
          "color": "#636efa",
          "pattern": {
           "shape": ""
          }
         },
         "name": "Auditivos",
         "offsetgroup": "Auditivos",
         "orientation": "v",
         "showlegend": true,
         "textposition": "auto",
         "type": "bar",
         "x": [
          "Auditivos"
         ],
         "xaxis": "x",
         "y": {
          "bdata": "BQ==",
          "dtype": "i1"
         },
         "yaxis": "y"
        },
        {
         "alignmentgroup": "True",
         "hovertemplate": "tema=Lingüístico<br>main_groups=%{x}<br>num_act=%{y}<extra></extra>",
         "legendgroup": "Lingüístico",
         "marker": {
          "color": "#EF553B",
          "pattern": {
           "shape": ""
          }
         },
         "name": "Lingüístico",
         "offsetgroup": "Lingüístico",
         "orientation": "v",
         "showlegend": true,
         "textposition": "auto",
         "type": "bar",
         "x": [
          "Lingüístico"
         ],
         "xaxis": "x",
         "y": {
          "bdata": "DA==",
          "dtype": "i1"
         },
         "yaxis": "y"
        },
        {
         "alignmentgroup": "True",
         "hovertemplate": "tema=clock<br>main_groups=%{x}<br>num_act=%{y}<extra></extra>",
         "legendgroup": "clock",
         "marker": {
          "color": "#00cc96",
          "pattern": {
           "shape": ""
          }
         },
         "name": "clock",
         "offsetgroup": "clock",
         "orientation": "v",
         "showlegend": true,
         "textposition": "auto",
         "type": "bar",
         "x": [
          "clock"
         ],
         "xaxis": "x",
         "y": {
          "bdata": "Aw==",
          "dtype": "i1"
         },
         "yaxis": "y"
        },
        {
         "alignmentgroup": "True",
         "hovertemplate": "tema=ilustrations<br>main_groups=%{x}<br>num_act=%{y}<extra></extra>",
         "legendgroup": "ilustrations",
         "marker": {
          "color": "#ab63fa",
          "pattern": {
           "shape": ""
          }
         },
         "name": "ilustrations",
         "offsetgroup": "ilustrations",
         "orientation": "v",
         "showlegend": true,
         "textposition": "auto",
         "type": "bar",
         "x": [
          "ilustrations"
         ],
         "xaxis": "x",
         "y": {
          "bdata": "Ew==",
          "dtype": "i1"
         },
         "yaxis": "y"
        },
        {
         "alignmentgroup": "True",
         "hovertemplate": "tema=Calculo<br>main_groups=%{x}<br>num_act=%{y}<extra></extra>",
         "legendgroup": "Calculo",
         "marker": {
          "color": "#FFA15A",
          "pattern": {
           "shape": ""
          }
         },
         "name": "Calculo",
         "offsetgroup": "Calculo",
         "orientation": "v",
         "showlegend": true,
         "textposition": "auto",
         "type": "bar",
         "x": [
          "logic"
         ],
         "xaxis": "x",
         "y": {
          "bdata": "Dg==",
          "dtype": "i1"
         },
         "yaxis": "y"
        },
        {
         "alignmentgroup": "True",
         "hovertemplate": "tema=Numbers<br>main_groups=%{x}<br>num_act=%{y}<extra></extra>",
         "legendgroup": "Numbers",
         "marker": {
          "color": "#19d3f3",
          "pattern": {
           "shape": ""
          }
         },
         "name": "Numbers",
         "offsetgroup": "Numbers",
         "orientation": "v",
         "showlegend": true,
         "textposition": "auto",
         "type": "bar",
         "x": [
          "logic"
         ],
         "xaxis": "x",
         "y": {
          "bdata": "BQ==",
          "dtype": "i1"
         },
         "yaxis": "y"
        },
        {
         "alignmentgroup": "True",
         "hovertemplate": "tema=logica<br>main_groups=%{x}<br>num_act=%{y}<extra></extra>",
         "legendgroup": "logica",
         "marker": {
          "color": "#FF6692",
          "pattern": {
           "shape": ""
          }
         },
         "name": "logica",
         "offsetgroup": "logica",
         "orientation": "v",
         "showlegend": true,
         "textposition": "auto",
         "type": "bar",
         "x": [
          "logic"
         ],
         "xaxis": "x",
         "y": {
          "bdata": "Eg==",
          "dtype": "i1"
         },
         "yaxis": "y"
        },
        {
         "alignmentgroup": "True",
         "hovertemplate": "tema=not found<br>main_groups=%{x}<br>num_act=%{y}<extra></extra>",
         "legendgroup": "not found",
         "marker": {
          "color": "#B6E880",
          "pattern": {
           "shape": ""
          }
         },
         "name": "not found",
         "offsetgroup": "not found",
         "orientation": "v",
         "showlegend": true,
         "textposition": "auto",
         "type": "bar",
         "x": [
          "not found"
         ],
         "xaxis": "x",
         "y": {
          "bdata": "BA==",
          "dtype": "i1"
         },
         "yaxis": "y"
        },
        {
         "alignmentgroup": "True",
         "hovertemplate": "tema=reflection<br>main_groups=%{x}<br>num_act=%{y}<extra></extra>",
         "legendgroup": "reflection",
         "marker": {
          "color": "#FF97FF",
          "pattern": {
           "shape": ""
          }
         },
         "name": "reflection",
         "offsetgroup": "reflection",
         "orientation": "v",
         "showlegend": true,
         "textposition": "auto",
         "type": "bar",
         "x": [
          "reflection"
         ],
         "xaxis": "x",
         "y": {
          "bdata": "Cw==",
          "dtype": "i1"
         },
         "yaxis": "y"
        },
        {
         "alignmentgroup": "True",
         "hovertemplate": "tema=sequence<br>main_groups=%{x}<br>num_act=%{y}<extra></extra>",
         "legendgroup": "sequence",
         "marker": {
          "color": "#FECB52",
          "pattern": {
           "shape": ""
          }
         },
         "name": "sequence",
         "offsetgroup": "sequence",
         "orientation": "v",
         "showlegend": true,
         "textposition": "auto",
         "type": "bar",
         "x": [
          "sequence"
         ],
         "xaxis": "x",
         "y": {
          "bdata": "DQ==",
          "dtype": "i1"
         },
         "yaxis": "y"
        },
        {
         "alignmentgroup": "True",
         "hovertemplate": "tema=animals<br>main_groups=%{x}<br>num_act=%{y}<extra></extra>",
         "legendgroup": "animals",
         "marker": {
          "color": "#636efa",
          "pattern": {
           "shape": ""
          }
         },
         "name": "animals",
         "offsetgroup": "animals",
         "orientation": "v",
         "showlegend": true,
         "textposition": "auto",
         "type": "bar",
         "x": [
          "themes"
         ],
         "xaxis": "x",
         "y": {
          "bdata": "Fg==",
          "dtype": "i1"
         },
         "yaxis": "y"
        },
        {
         "alignmentgroup": "True",
         "hovertemplate": "tema=formas<br>main_groups=%{x}<br>num_act=%{y}<extra></extra>",
         "legendgroup": "formas",
         "marker": {
          "color": "#EF553B",
          "pattern": {
           "shape": ""
          }
         },
         "name": "formas",
         "offsetgroup": "formas",
         "orientation": "v",
         "showlegend": true,
         "textposition": "auto",
         "type": "bar",
         "x": [
          "themes"
         ],
         "xaxis": "x",
         "y": {
          "bdata": "FQ==",
          "dtype": "i1"
         },
         "yaxis": "y"
        },
        {
         "alignmentgroup": "True",
         "hovertemplate": "tema=money<br>main_groups=%{x}<br>num_act=%{y}<extra></extra>",
         "legendgroup": "money",
         "marker": {
          "color": "#00cc96",
          "pattern": {
           "shape": ""
          }
         },
         "name": "money",
         "offsetgroup": "money",
         "orientation": "v",
         "showlegend": true,
         "textposition": "auto",
         "type": "bar",
         "x": [
          "themes"
         ],
         "xaxis": "x",
         "y": {
          "bdata": "Dw==",
          "dtype": "i1"
         },
         "yaxis": "y"
        },
        {
         "alignmentgroup": "True",
         "hovertemplate": "tema=people<br>main_groups=%{x}<br>num_act=%{y}<extra></extra>",
         "legendgroup": "people",
         "marker": {
          "color": "#ab63fa",
          "pattern": {
           "shape": ""
          }
         },
         "name": "people",
         "offsetgroup": "people",
         "orientation": "v",
         "showlegend": true,
         "textposition": "auto",
         "type": "bar",
         "x": [
          "themes"
         ],
         "xaxis": "x",
         "y": {
          "bdata": "Cg==",
          "dtype": "i1"
         },
         "yaxis": "y"
        },
        {
         "alignmentgroup": "True",
         "hovertemplate": "tema=sport<br>main_groups=%{x}<br>num_act=%{y}<extra></extra>",
         "legendgroup": "sport",
         "marker": {
          "color": "#FFA15A",
          "pattern": {
           "shape": ""
          }
         },
         "name": "sport",
         "offsetgroup": "sport",
         "orientation": "v",
         "showlegend": true,
         "textposition": "auto",
         "type": "bar",
         "x": [
          "themes"
         ],
         "xaxis": "x",
         "y": {
          "bdata": "BQ==",
          "dtype": "i1"
         },
         "yaxis": "y"
        },
        {
         "alignmentgroup": "True",
         "hovertemplate": "tema=transport<br>main_groups=%{x}<br>num_act=%{y}<extra></extra>",
         "legendgroup": "transport",
         "marker": {
          "color": "#19d3f3",
          "pattern": {
           "shape": ""
          }
         },
         "name": "transport",
         "offsetgroup": "transport",
         "orientation": "v",
         "showlegend": true,
         "textposition": "auto",
         "type": "bar",
         "x": [
          "themes"
         ],
         "xaxis": "x",
         "y": {
          "bdata": "Bg==",
          "dtype": "i1"
         },
         "yaxis": "y"
        },
        {
         "alignmentgroup": "True",
         "hovertemplate": "tema=vida diaria<br>main_groups=%{x}<br>num_act=%{y}<extra></extra>",
         "legendgroup": "vida diaria",
         "marker": {
          "color": "#FF6692",
          "pattern": {
           "shape": ""
          }
         },
         "name": "vida diaria",
         "offsetgroup": "vida diaria",
         "orientation": "v",
         "showlegend": true,
         "textposition": "auto",
         "type": "bar",
         "x": [
          "themes"
         ],
         "xaxis": "x",
         "y": {
          "bdata": "Ew==",
          "dtype": "i1"
         },
         "yaxis": "y"
        }
       ],
       "layout": {
        "barmode": "group",
        "legend": {
         "title": {
          "text": "tema"
         },
         "tracegroupgap": 0
        },
        "margin": {
         "t": 60
        },
        "template": {
         "data": {
          "bar": [
           {
            "error_x": {
             "color": "#2a3f5f"
            },
            "error_y": {
             "color": "#2a3f5f"
            },
            "marker": {
             "line": {
              "color": "#E5ECF6",
              "width": 0.5
             },
             "pattern": {
              "fillmode": "overlay",
              "size": 10,
              "solidity": 0.2
             }
            },
            "type": "bar"
           }
          ],
          "barpolar": [
           {
            "marker": {
             "line": {
              "color": "#E5ECF6",
              "width": 0.5
             },
             "pattern": {
              "fillmode": "overlay",
              "size": 10,
              "solidity": 0.2
             }
            },
            "type": "barpolar"
           }
          ],
          "carpet": [
           {
            "aaxis": {
             "endlinecolor": "#2a3f5f",
             "gridcolor": "white",
             "linecolor": "white",
             "minorgridcolor": "white",
             "startlinecolor": "#2a3f5f"
            },
            "baxis": {
             "endlinecolor": "#2a3f5f",
             "gridcolor": "white",
             "linecolor": "white",
             "minorgridcolor": "white",
             "startlinecolor": "#2a3f5f"
            },
            "type": "carpet"
           }
          ],
          "choropleth": [
           {
            "colorbar": {
             "outlinewidth": 0,
             "ticks": ""
            },
            "type": "choropleth"
           }
          ],
          "contour": [
           {
            "colorbar": {
             "outlinewidth": 0,
             "ticks": ""
            },
            "colorscale": [
             [
              0,
              "#0d0887"
             ],
             [
              0.1111111111111111,
              "#46039f"
             ],
             [
              0.2222222222222222,
              "#7201a8"
             ],
             [
              0.3333333333333333,
              "#9c179e"
             ],
             [
              0.4444444444444444,
              "#bd3786"
             ],
             [
              0.5555555555555556,
              "#d8576b"
             ],
             [
              0.6666666666666666,
              "#ed7953"
             ],
             [
              0.7777777777777778,
              "#fb9f3a"
             ],
             [
              0.8888888888888888,
              "#fdca26"
             ],
             [
              1,
              "#f0f921"
             ]
            ],
            "type": "contour"
           }
          ],
          "contourcarpet": [
           {
            "colorbar": {
             "outlinewidth": 0,
             "ticks": ""
            },
            "type": "contourcarpet"
           }
          ],
          "heatmap": [
           {
            "colorbar": {
             "outlinewidth": 0,
             "ticks": ""
            },
            "colorscale": [
             [
              0,
              "#0d0887"
             ],
             [
              0.1111111111111111,
              "#46039f"
             ],
             [
              0.2222222222222222,
              "#7201a8"
             ],
             [
              0.3333333333333333,
              "#9c179e"
             ],
             [
              0.4444444444444444,
              "#bd3786"
             ],
             [
              0.5555555555555556,
              "#d8576b"
             ],
             [
              0.6666666666666666,
              "#ed7953"
             ],
             [
              0.7777777777777778,
              "#fb9f3a"
             ],
             [
              0.8888888888888888,
              "#fdca26"
             ],
             [
              1,
              "#f0f921"
             ]
            ],
            "type": "heatmap"
           }
          ],
          "histogram": [
           {
            "marker": {
             "pattern": {
              "fillmode": "overlay",
              "size": 10,
              "solidity": 0.2
             }
            },
            "type": "histogram"
           }
          ],
          "histogram2d": [
           {
            "colorbar": {
             "outlinewidth": 0,
             "ticks": ""
            },
            "colorscale": [
             [
              0,
              "#0d0887"
             ],
             [
              0.1111111111111111,
              "#46039f"
             ],
             [
              0.2222222222222222,
              "#7201a8"
             ],
             [
              0.3333333333333333,
              "#9c179e"
             ],
             [
              0.4444444444444444,
              "#bd3786"
             ],
             [
              0.5555555555555556,
              "#d8576b"
             ],
             [
              0.6666666666666666,
              "#ed7953"
             ],
             [
              0.7777777777777778,
              "#fb9f3a"
             ],
             [
              0.8888888888888888,
              "#fdca26"
             ],
             [
              1,
              "#f0f921"
             ]
            ],
            "type": "histogram2d"
           }
          ],
          "histogram2dcontour": [
           {
            "colorbar": {
             "outlinewidth": 0,
             "ticks": ""
            },
            "colorscale": [
             [
              0,
              "#0d0887"
             ],
             [
              0.1111111111111111,
              "#46039f"
             ],
             [
              0.2222222222222222,
              "#7201a8"
             ],
             [
              0.3333333333333333,
              "#9c179e"
             ],
             [
              0.4444444444444444,
              "#bd3786"
             ],
             [
              0.5555555555555556,
              "#d8576b"
             ],
             [
              0.6666666666666666,
              "#ed7953"
             ],
             [
              0.7777777777777778,
              "#fb9f3a"
             ],
             [
              0.8888888888888888,
              "#fdca26"
             ],
             [
              1,
              "#f0f921"
             ]
            ],
            "type": "histogram2dcontour"
           }
          ],
          "mesh3d": [
           {
            "colorbar": {
             "outlinewidth": 0,
             "ticks": ""
            },
            "type": "mesh3d"
           }
          ],
          "parcoords": [
           {
            "line": {
             "colorbar": {
              "outlinewidth": 0,
              "ticks": ""
             }
            },
            "type": "parcoords"
           }
          ],
          "pie": [
           {
            "automargin": true,
            "type": "pie"
           }
          ],
          "scatter": [
           {
            "fillpattern": {
             "fillmode": "overlay",
             "size": 10,
             "solidity": 0.2
            },
            "type": "scatter"
           }
          ],
          "scatter3d": [
           {
            "line": {
             "colorbar": {
              "outlinewidth": 0,
              "ticks": ""
             }
            },
            "marker": {
             "colorbar": {
              "outlinewidth": 0,
              "ticks": ""
             }
            },
            "type": "scatter3d"
           }
          ],
          "scattercarpet": [
           {
            "marker": {
             "colorbar": {
              "outlinewidth": 0,
              "ticks": ""
             }
            },
            "type": "scattercarpet"
           }
          ],
          "scattergeo": [
           {
            "marker": {
             "colorbar": {
              "outlinewidth": 0,
              "ticks": ""
             }
            },
            "type": "scattergeo"
           }
          ],
          "scattergl": [
           {
            "marker": {
             "colorbar": {
              "outlinewidth": 0,
              "ticks": ""
             }
            },
            "type": "scattergl"
           }
          ],
          "scattermap": [
           {
            "marker": {
             "colorbar": {
              "outlinewidth": 0,
              "ticks": ""
             }
            },
            "type": "scattermap"
           }
          ],
          "scattermapbox": [
           {
            "marker": {
             "colorbar": {
              "outlinewidth": 0,
              "ticks": ""
             }
            },
            "type": "scattermapbox"
           }
          ],
          "scatterpolar": [
           {
            "marker": {
             "colorbar": {
              "outlinewidth": 0,
              "ticks": ""
             }
            },
            "type": "scatterpolar"
           }
          ],
          "scatterpolargl": [
           {
            "marker": {
             "colorbar": {
              "outlinewidth": 0,
              "ticks": ""
             }
            },
            "type": "scatterpolargl"
           }
          ],
          "scatterternary": [
           {
            "marker": {
             "colorbar": {
              "outlinewidth": 0,
              "ticks": ""
             }
            },
            "type": "scatterternary"
           }
          ],
          "surface": [
           {
            "colorbar": {
             "outlinewidth": 0,
             "ticks": ""
            },
            "colorscale": [
             [
              0,
              "#0d0887"
             ],
             [
              0.1111111111111111,
              "#46039f"
             ],
             [
              0.2222222222222222,
              "#7201a8"
             ],
             [
              0.3333333333333333,
              "#9c179e"
             ],
             [
              0.4444444444444444,
              "#bd3786"
             ],
             [
              0.5555555555555556,
              "#d8576b"
             ],
             [
              0.6666666666666666,
              "#ed7953"
             ],
             [
              0.7777777777777778,
              "#fb9f3a"
             ],
             [
              0.8888888888888888,
              "#fdca26"
             ],
             [
              1,
              "#f0f921"
             ]
            ],
            "type": "surface"
           }
          ],
          "table": [
           {
            "cells": {
             "fill": {
              "color": "#EBF0F8"
             },
             "line": {
              "color": "white"
             }
            },
            "header": {
             "fill": {
              "color": "#C8D4E3"
             },
             "line": {
              "color": "white"
             }
            },
            "type": "table"
           }
          ]
         },
         "layout": {
          "annotationdefaults": {
           "arrowcolor": "#2a3f5f",
           "arrowhead": 0,
           "arrowwidth": 1
          },
          "autotypenumbers": "strict",
          "coloraxis": {
           "colorbar": {
            "outlinewidth": 0,
            "ticks": ""
           }
          },
          "colorscale": {
           "diverging": [
            [
             0,
             "#8e0152"
            ],
            [
             0.1,
             "#c51b7d"
            ],
            [
             0.2,
             "#de77ae"
            ],
            [
             0.3,
             "#f1b6da"
            ],
            [
             0.4,
             "#fde0ef"
            ],
            [
             0.5,
             "#f7f7f7"
            ],
            [
             0.6,
             "#e6f5d0"
            ],
            [
             0.7,
             "#b8e186"
            ],
            [
             0.8,
             "#7fbc41"
            ],
            [
             0.9,
             "#4d9221"
            ],
            [
             1,
             "#276419"
            ]
           ],
           "sequential": [
            [
             0,
             "#0d0887"
            ],
            [
             0.1111111111111111,
             "#46039f"
            ],
            [
             0.2222222222222222,
             "#7201a8"
            ],
            [
             0.3333333333333333,
             "#9c179e"
            ],
            [
             0.4444444444444444,
             "#bd3786"
            ],
            [
             0.5555555555555556,
             "#d8576b"
            ],
            [
             0.6666666666666666,
             "#ed7953"
            ],
            [
             0.7777777777777778,
             "#fb9f3a"
            ],
            [
             0.8888888888888888,
             "#fdca26"
            ],
            [
             1,
             "#f0f921"
            ]
           ],
           "sequentialminus": [
            [
             0,
             "#0d0887"
            ],
            [
             0.1111111111111111,
             "#46039f"
            ],
            [
             0.2222222222222222,
             "#7201a8"
            ],
            [
             0.3333333333333333,
             "#9c179e"
            ],
            [
             0.4444444444444444,
             "#bd3786"
            ],
            [
             0.5555555555555556,
             "#d8576b"
            ],
            [
             0.6666666666666666,
             "#ed7953"
            ],
            [
             0.7777777777777778,
             "#fb9f3a"
            ],
            [
             0.8888888888888888,
             "#fdca26"
            ],
            [
             1,
             "#f0f921"
            ]
           ]
          },
          "colorway": [
           "#636efa",
           "#EF553B",
           "#00cc96",
           "#ab63fa",
           "#FFA15A",
           "#19d3f3",
           "#FF6692",
           "#B6E880",
           "#FF97FF",
           "#FECB52"
          ],
          "font": {
           "color": "#2a3f5f"
          },
          "geo": {
           "bgcolor": "white",
           "lakecolor": "white",
           "landcolor": "#E5ECF6",
           "showlakes": true,
           "showland": true,
           "subunitcolor": "white"
          },
          "hoverlabel": {
           "align": "left"
          },
          "hovermode": "closest",
          "mapbox": {
           "style": "light"
          },
          "paper_bgcolor": "white",
          "plot_bgcolor": "#E5ECF6",
          "polar": {
           "angularaxis": {
            "gridcolor": "white",
            "linecolor": "white",
            "ticks": ""
           },
           "bgcolor": "#E5ECF6",
           "radialaxis": {
            "gridcolor": "white",
            "linecolor": "white",
            "ticks": ""
           }
          },
          "scene": {
           "xaxis": {
            "backgroundcolor": "#E5ECF6",
            "gridcolor": "white",
            "gridwidth": 2,
            "linecolor": "white",
            "showbackground": true,
            "ticks": "",
            "zerolinecolor": "white"
           },
           "yaxis": {
            "backgroundcolor": "#E5ECF6",
            "gridcolor": "white",
            "gridwidth": 2,
            "linecolor": "white",
            "showbackground": true,
            "ticks": "",
            "zerolinecolor": "white"
           },
           "zaxis": {
            "backgroundcolor": "#E5ECF6",
            "gridcolor": "white",
            "gridwidth": 2,
            "linecolor": "white",
            "showbackground": true,
            "ticks": "",
            "zerolinecolor": "white"
           }
          },
          "shapedefaults": {
           "line": {
            "color": "#2a3f5f"
           }
          },
          "ternary": {
           "aaxis": {
            "gridcolor": "white",
            "linecolor": "white",
            "ticks": ""
           },
           "baxis": {
            "gridcolor": "white",
            "linecolor": "white",
            "ticks": ""
           },
           "bgcolor": "#E5ECF6",
           "caxis": {
            "gridcolor": "white",
            "linecolor": "white",
            "ticks": ""
           }
          },
          "title": {
           "x": 0.05
          },
          "xaxis": {
           "automargin": true,
           "gridcolor": "white",
           "linecolor": "white",
           "ticks": "",
           "title": {
            "standoff": 15
           },
           "zerolinecolor": "white",
           "zerolinewidth": 2
          },
          "yaxis": {
           "automargin": true,
           "gridcolor": "white",
           "linecolor": "white",
           "ticks": "",
           "title": {
            "standoff": 15
           },
           "zerolinecolor": "white",
           "zerolinewidth": 2
          }
         }
        },
        "xaxis": {
         "anchor": "y",
         "domain": [
          0,
          1
         ],
         "title": {
          "text": "main_groups"
         }
        },
        "yaxis": {
         "anchor": "x",
         "domain": [
          0,
          1
         ],
         "title": {
          "text": "num_act"
         }
        }
       }
      }
     },
     "metadata": {},
     "output_type": "display_data"
    }
   ],
   "source": [
    "import plotly.express as px\n",
    "px.bar(\n",
    "    data_frame = clf_f3.groupby([\"main_groups\", \"tema\"])[\"activity_id\"].nunique().reset_index(name = \"num_act\"),\n",
    "    x = \"main_groups\",\n",
    "    y = \"num_act\",\n",
    "    color = \"tema\",\n",
    "    barmode = \"group\",\n",
    ")"
   ]
  },
  {
   "cell_type": "code",
   "execution_count": 53,
   "id": "e8a2683b",
   "metadata": {},
   "outputs": [],
   "source": [
    "new_tags = {\n",
    "    \"vida diaria\": [\"ETE62\",\"OP3\" ],    \n",
    "    # \"people\": [\"\"],\n",
    "    \"ilustrations\": [\"ASE7-K\", \"AA65\", \"ME73\", \"J_loteria_child\",\"J_pairs\", \"ASE7-K\"],\n",
    "    \"clock\" : [\"ETE62\",\" ETE62\", \"ETE2\", ],\n",
    "    # \"animals\": [\"\"], \n",
    "    \"Calculo\": [\"ASE8\", \"ASE7\", \"ASE7-K\"],\n",
    "    \"formas\": [\"APS6\", \"VSV3\",\"APS8\", \"AA3\", \"J_matrix_colores\", \"J_croma\", \"J_entre\", \"SG-VSV30-A\", \"VSV3\"],\n",
    "    # \"sequence\": [\"\"],\n",
    "    \"logica\": [\"ME73\", \"SG-EFX32-K\", \"AA63\", \"SG-EFX32-K\"],\n",
    "    \"reflection\": [\"SG-VSR33-A\"],\n",
    "    \"people\": [\"J_entrevista\", ],\n",
    "    # \"sport\" : [\"\"],\n",
    "    \"Lingüístico\": [\"ASE3\",\"GMS14\", \"GASE76\", \"GVSR4-K\", ]\n",
    "    }"
   ]
  },
  {
   "cell_type": "markdown",
   "id": "b2827fa2",
   "metadata": {},
   "source": [
    "### consider adding:\n",
    "\n",
    "- scales / angles, from the left from the right, obsticuls "
   ]
  },
  {
   "cell_type": "code",
   "execution_count": 54,
   "id": "f38cafe0",
   "metadata": {},
   "outputs": [],
   "source": [
    "rows_to_concat = []\n",
    "\n",
    "for key, codes in new_tags.items():\n",
    "    df = clf_f2[clf_f2[\"code\"].isin(codes)]\n",
    "\n",
    "    for i, row in df.iterrows():\n",
    "        if row[\"tema\"] == \"not found\":\n",
    "            clf_f2.loc[row.name, \"tema\"] = key\n",
    "            \n",
    "        else:\n",
    "            copied_row = row.copy()\n",
    "            copied_row[\"tema\"] = key\n",
    "            rows_to_concat.append(pd.DataFrame([copied_row]))\n",
    "rows_df = pd.concat(rows_to_concat)\n",
    "clf_f3 = pd.concat([clf_f2, rows_df])\n",
    "\n",
    "clf_f3[\"main_groups\"] = clf_f3[\"tema\"].apply(classify)"
   ]
  },
  {
   "cell_type": "code",
   "execution_count": 55,
   "id": "cf39e6cd",
   "metadata": {},
   "outputs": [
    {
     "data": {
      "application/vnd.plotly.v1+json": {
       "config": {
        "plotlyServerURL": "https://plot.ly"
       },
       "data": [
        {
         "alignmentgroup": "True",
         "hovertemplate": "tema=Auditivos<br>main_groups=%{x}<br>num_act=%{y}<extra></extra>",
         "legendgroup": "Auditivos",
         "marker": {
          "color": "#636efa",
          "pattern": {
           "shape": ""
          }
         },
         "name": "Auditivos",
         "offsetgroup": "Auditivos",
         "orientation": "v",
         "showlegend": true,
         "textposition": "auto",
         "type": "bar",
         "x": [
          "Auditivos"
         ],
         "xaxis": "x",
         "y": {
          "bdata": "Dw==",
          "dtype": "i1"
         },
         "yaxis": "y"
        },
        {
         "alignmentgroup": "True",
         "hovertemplate": "tema=Lingüístico<br>main_groups=%{x}<br>num_act=%{y}<extra></extra>",
         "legendgroup": "Lingüístico",
         "marker": {
          "color": "#EF553B",
          "pattern": {
           "shape": ""
          }
         },
         "name": "Lingüístico",
         "offsetgroup": "Lingüístico",
         "orientation": "v",
         "showlegend": true,
         "textposition": "auto",
         "type": "bar",
         "x": [
          "Lingüístico"
         ],
         "xaxis": "x",
         "y": {
          "bdata": "Rg==",
          "dtype": "i1"
         },
         "yaxis": "y"
        },
        {
         "alignmentgroup": "True",
         "hovertemplate": "tema=clock<br>main_groups=%{x}<br>num_act=%{y}<extra></extra>",
         "legendgroup": "clock",
         "marker": {
          "color": "#00cc96",
          "pattern": {
           "shape": ""
          }
         },
         "name": "clock",
         "offsetgroup": "clock",
         "orientation": "v",
         "showlegend": true,
         "textposition": "auto",
         "type": "bar",
         "x": [
          "clock"
         ],
         "xaxis": "x",
         "y": {
          "bdata": "Bw==",
          "dtype": "i1"
         },
         "yaxis": "y"
        },
        {
         "alignmentgroup": "True",
         "hovertemplate": "tema=ilustrations<br>main_groups=%{x}<br>num_act=%{y}<extra></extra>",
         "legendgroup": "ilustrations",
         "marker": {
          "color": "#ab63fa",
          "pattern": {
           "shape": ""
          }
         },
         "name": "ilustrations",
         "offsetgroup": "ilustrations",
         "orientation": "v",
         "showlegend": true,
         "textposition": "auto",
         "type": "bar",
         "x": [
          "ilustrations"
         ],
         "xaxis": "x",
         "y": {
          "bdata": "Ig==",
          "dtype": "i1"
         },
         "yaxis": "y"
        },
        {
         "alignmentgroup": "True",
         "hovertemplate": "tema=Calculo<br>main_groups=%{x}<br>num_act=%{y}<extra></extra>",
         "legendgroup": "Calculo",
         "marker": {
          "color": "#FFA15A",
          "pattern": {
           "shape": ""
          }
         },
         "name": "Calculo",
         "offsetgroup": "Calculo",
         "orientation": "v",
         "showlegend": true,
         "textposition": "auto",
         "type": "bar",
         "x": [
          "logic"
         ],
         "xaxis": "x",
         "y": {
          "bdata": "MA==",
          "dtype": "i1"
         },
         "yaxis": "y"
        },
        {
         "alignmentgroup": "True",
         "hovertemplate": "tema=Numbers<br>main_groups=%{x}<br>num_act=%{y}<extra></extra>",
         "legendgroup": "Numbers",
         "marker": {
          "color": "#19d3f3",
          "pattern": {
           "shape": ""
          }
         },
         "name": "Numbers",
         "offsetgroup": "Numbers",
         "orientation": "v",
         "showlegend": true,
         "textposition": "auto",
         "type": "bar",
         "x": [
          "logic"
         ],
         "xaxis": "x",
         "y": {
          "bdata": "Gw==",
          "dtype": "i1"
         },
         "yaxis": "y"
        },
        {
         "alignmentgroup": "True",
         "hovertemplate": "tema=logica<br>main_groups=%{x}<br>num_act=%{y}<extra></extra>",
         "legendgroup": "logica",
         "marker": {
          "color": "#FF6692",
          "pattern": {
           "shape": ""
          }
         },
         "name": "logica",
         "offsetgroup": "logica",
         "orientation": "v",
         "showlegend": true,
         "textposition": "auto",
         "type": "bar",
         "x": [
          "logic"
         ],
         "xaxis": "x",
         "y": {
          "bdata": "IQ==",
          "dtype": "i1"
         },
         "yaxis": "y"
        },
        {
         "alignmentgroup": "True",
         "hovertemplate": "tema=not found<br>main_groups=%{x}<br>num_act=%{y}<extra></extra>",
         "legendgroup": "not found",
         "marker": {
          "color": "#B6E880",
          "pattern": {
           "shape": ""
          }
         },
         "name": "not found",
         "offsetgroup": "not found",
         "orientation": "v",
         "showlegend": true,
         "textposition": "auto",
         "type": "bar",
         "x": [
          "not found"
         ],
         "xaxis": "x",
         "y": {
          "bdata": "Lw==",
          "dtype": "i1"
         },
         "yaxis": "y"
        },
        {
         "alignmentgroup": "True",
         "hovertemplate": "tema=reflection<br>main_groups=%{x}<br>num_act=%{y}<extra></extra>",
         "legendgroup": "reflection",
         "marker": {
          "color": "#FF97FF",
          "pattern": {
           "shape": ""
          }
         },
         "name": "reflection",
         "offsetgroup": "reflection",
         "orientation": "v",
         "showlegend": true,
         "textposition": "auto",
         "type": "bar",
         "x": [
          "reflection"
         ],
         "xaxis": "x",
         "y": {
          "bdata": "Eg==",
          "dtype": "i1"
         },
         "yaxis": "y"
        },
        {
         "alignmentgroup": "True",
         "hovertemplate": "tema=sequence<br>main_groups=%{x}<br>num_act=%{y}<extra></extra>",
         "legendgroup": "sequence",
         "marker": {
          "color": "#FECB52",
          "pattern": {
           "shape": ""
          }
         },
         "name": "sequence",
         "offsetgroup": "sequence",
         "orientation": "v",
         "showlegend": true,
         "textposition": "auto",
         "type": "bar",
         "x": [
          "sequence"
         ],
         "xaxis": "x",
         "y": {
          "bdata": "HQ==",
          "dtype": "i1"
         },
         "yaxis": "y"
        },
        {
         "alignmentgroup": "True",
         "hovertemplate": "tema=animals<br>main_groups=%{x}<br>num_act=%{y}<extra></extra>",
         "legendgroup": "animals",
         "marker": {
          "color": "#636efa",
          "pattern": {
           "shape": ""
          }
         },
         "name": "animals",
         "offsetgroup": "animals",
         "orientation": "v",
         "showlegend": true,
         "textposition": "auto",
         "type": "bar",
         "x": [
          "themes"
         ],
         "xaxis": "x",
         "y": {
          "bdata": "Fg==",
          "dtype": "i1"
         },
         "yaxis": "y"
        },
        {
         "alignmentgroup": "True",
         "hovertemplate": "tema=formas<br>main_groups=%{x}<br>num_act=%{y}<extra></extra>",
         "legendgroup": "formas",
         "marker": {
          "color": "#EF553B",
          "pattern": {
           "shape": ""
          }
         },
         "name": "formas",
         "offsetgroup": "formas",
         "orientation": "v",
         "showlegend": true,
         "textposition": "auto",
         "type": "bar",
         "x": [
          "themes"
         ],
         "xaxis": "x",
         "y": {
          "bdata": "Fw==",
          "dtype": "i1"
         },
         "yaxis": "y"
        },
        {
         "alignmentgroup": "True",
         "hovertemplate": "tema=money<br>main_groups=%{x}<br>num_act=%{y}<extra></extra>",
         "legendgroup": "money",
         "marker": {
          "color": "#00cc96",
          "pattern": {
           "shape": ""
          }
         },
         "name": "money",
         "offsetgroup": "money",
         "orientation": "v",
         "showlegend": true,
         "textposition": "auto",
         "type": "bar",
         "x": [
          "themes"
         ],
         "xaxis": "x",
         "y": {
          "bdata": "BA==",
          "dtype": "i1"
         },
         "yaxis": "y"
        },
        {
         "alignmentgroup": "True",
         "hovertemplate": "tema=people<br>main_groups=%{x}<br>num_act=%{y}<extra></extra>",
         "legendgroup": "people",
         "marker": {
          "color": "#ab63fa",
          "pattern": {
           "shape": ""
          }
         },
         "name": "people",
         "offsetgroup": "people",
         "orientation": "v",
         "showlegend": true,
         "textposition": "auto",
         "type": "bar",
         "x": [
          "themes"
         ],
         "xaxis": "x",
         "y": {
          "bdata": "Ew==",
          "dtype": "i1"
         },
         "yaxis": "y"
        },
        {
         "alignmentgroup": "True",
         "hovertemplate": "tema=sport<br>main_groups=%{x}<br>num_act=%{y}<extra></extra>",
         "legendgroup": "sport",
         "marker": {
          "color": "#FFA15A",
          "pattern": {
           "shape": ""
          }
         },
         "name": "sport",
         "offsetgroup": "sport",
         "orientation": "v",
         "showlegend": true,
         "textposition": "auto",
         "type": "bar",
         "x": [
          "themes"
         ],
         "xaxis": "x",
         "y": {
          "bdata": "Bg==",
          "dtype": "i1"
         },
         "yaxis": "y"
        },
        {
         "alignmentgroup": "True",
         "hovertemplate": "tema=transport<br>main_groups=%{x}<br>num_act=%{y}<extra></extra>",
         "legendgroup": "transport",
         "marker": {
          "color": "#19d3f3",
          "pattern": {
           "shape": ""
          }
         },
         "name": "transport",
         "offsetgroup": "transport",
         "orientation": "v",
         "showlegend": true,
         "textposition": "auto",
         "type": "bar",
         "x": [
          "themes"
         ],
         "xaxis": "x",
         "y": {
          "bdata": "BA==",
          "dtype": "i1"
         },
         "yaxis": "y"
        },
        {
         "alignmentgroup": "True",
         "hovertemplate": "tema=vida diaria<br>main_groups=%{x}<br>num_act=%{y}<extra></extra>",
         "legendgroup": "vida diaria",
         "marker": {
          "color": "#FF6692",
          "pattern": {
           "shape": ""
          }
         },
         "name": "vida diaria",
         "offsetgroup": "vida diaria",
         "orientation": "v",
         "showlegend": true,
         "textposition": "auto",
         "type": "bar",
         "x": [
          "themes"
         ],
         "xaxis": "x",
         "y": {
          "bdata": "Cg==",
          "dtype": "i1"
         },
         "yaxis": "y"
        }
       ],
       "layout": {
        "barmode": "group",
        "legend": {
         "title": {
          "text": "tema"
         },
         "tracegroupgap": 0
        },
        "margin": {
         "t": 60
        },
        "template": {
         "data": {
          "bar": [
           {
            "error_x": {
             "color": "#2a3f5f"
            },
            "error_y": {
             "color": "#2a3f5f"
            },
            "marker": {
             "line": {
              "color": "#E5ECF6",
              "width": 0.5
             },
             "pattern": {
              "fillmode": "overlay",
              "size": 10,
              "solidity": 0.2
             }
            },
            "type": "bar"
           }
          ],
          "barpolar": [
           {
            "marker": {
             "line": {
              "color": "#E5ECF6",
              "width": 0.5
             },
             "pattern": {
              "fillmode": "overlay",
              "size": 10,
              "solidity": 0.2
             }
            },
            "type": "barpolar"
           }
          ],
          "carpet": [
           {
            "aaxis": {
             "endlinecolor": "#2a3f5f",
             "gridcolor": "white",
             "linecolor": "white",
             "minorgridcolor": "white",
             "startlinecolor": "#2a3f5f"
            },
            "baxis": {
             "endlinecolor": "#2a3f5f",
             "gridcolor": "white",
             "linecolor": "white",
             "minorgridcolor": "white",
             "startlinecolor": "#2a3f5f"
            },
            "type": "carpet"
           }
          ],
          "choropleth": [
           {
            "colorbar": {
             "outlinewidth": 0,
             "ticks": ""
            },
            "type": "choropleth"
           }
          ],
          "contour": [
           {
            "colorbar": {
             "outlinewidth": 0,
             "ticks": ""
            },
            "colorscale": [
             [
              0,
              "#0d0887"
             ],
             [
              0.1111111111111111,
              "#46039f"
             ],
             [
              0.2222222222222222,
              "#7201a8"
             ],
             [
              0.3333333333333333,
              "#9c179e"
             ],
             [
              0.4444444444444444,
              "#bd3786"
             ],
             [
              0.5555555555555556,
              "#d8576b"
             ],
             [
              0.6666666666666666,
              "#ed7953"
             ],
             [
              0.7777777777777778,
              "#fb9f3a"
             ],
             [
              0.8888888888888888,
              "#fdca26"
             ],
             [
              1,
              "#f0f921"
             ]
            ],
            "type": "contour"
           }
          ],
          "contourcarpet": [
           {
            "colorbar": {
             "outlinewidth": 0,
             "ticks": ""
            },
            "type": "contourcarpet"
           }
          ],
          "heatmap": [
           {
            "colorbar": {
             "outlinewidth": 0,
             "ticks": ""
            },
            "colorscale": [
             [
              0,
              "#0d0887"
             ],
             [
              0.1111111111111111,
              "#46039f"
             ],
             [
              0.2222222222222222,
              "#7201a8"
             ],
             [
              0.3333333333333333,
              "#9c179e"
             ],
             [
              0.4444444444444444,
              "#bd3786"
             ],
             [
              0.5555555555555556,
              "#d8576b"
             ],
             [
              0.6666666666666666,
              "#ed7953"
             ],
             [
              0.7777777777777778,
              "#fb9f3a"
             ],
             [
              0.8888888888888888,
              "#fdca26"
             ],
             [
              1,
              "#f0f921"
             ]
            ],
            "type": "heatmap"
           }
          ],
          "histogram": [
           {
            "marker": {
             "pattern": {
              "fillmode": "overlay",
              "size": 10,
              "solidity": 0.2
             }
            },
            "type": "histogram"
           }
          ],
          "histogram2d": [
           {
            "colorbar": {
             "outlinewidth": 0,
             "ticks": ""
            },
            "colorscale": [
             [
              0,
              "#0d0887"
             ],
             [
              0.1111111111111111,
              "#46039f"
             ],
             [
              0.2222222222222222,
              "#7201a8"
             ],
             [
              0.3333333333333333,
              "#9c179e"
             ],
             [
              0.4444444444444444,
              "#bd3786"
             ],
             [
              0.5555555555555556,
              "#d8576b"
             ],
             [
              0.6666666666666666,
              "#ed7953"
             ],
             [
              0.7777777777777778,
              "#fb9f3a"
             ],
             [
              0.8888888888888888,
              "#fdca26"
             ],
             [
              1,
              "#f0f921"
             ]
            ],
            "type": "histogram2d"
           }
          ],
          "histogram2dcontour": [
           {
            "colorbar": {
             "outlinewidth": 0,
             "ticks": ""
            },
            "colorscale": [
             [
              0,
              "#0d0887"
             ],
             [
              0.1111111111111111,
              "#46039f"
             ],
             [
              0.2222222222222222,
              "#7201a8"
             ],
             [
              0.3333333333333333,
              "#9c179e"
             ],
             [
              0.4444444444444444,
              "#bd3786"
             ],
             [
              0.5555555555555556,
              "#d8576b"
             ],
             [
              0.6666666666666666,
              "#ed7953"
             ],
             [
              0.7777777777777778,
              "#fb9f3a"
             ],
             [
              0.8888888888888888,
              "#fdca26"
             ],
             [
              1,
              "#f0f921"
             ]
            ],
            "type": "histogram2dcontour"
           }
          ],
          "mesh3d": [
           {
            "colorbar": {
             "outlinewidth": 0,
             "ticks": ""
            },
            "type": "mesh3d"
           }
          ],
          "parcoords": [
           {
            "line": {
             "colorbar": {
              "outlinewidth": 0,
              "ticks": ""
             }
            },
            "type": "parcoords"
           }
          ],
          "pie": [
           {
            "automargin": true,
            "type": "pie"
           }
          ],
          "scatter": [
           {
            "fillpattern": {
             "fillmode": "overlay",
             "size": 10,
             "solidity": 0.2
            },
            "type": "scatter"
           }
          ],
          "scatter3d": [
           {
            "line": {
             "colorbar": {
              "outlinewidth": 0,
              "ticks": ""
             }
            },
            "marker": {
             "colorbar": {
              "outlinewidth": 0,
              "ticks": ""
             }
            },
            "type": "scatter3d"
           }
          ],
          "scattercarpet": [
           {
            "marker": {
             "colorbar": {
              "outlinewidth": 0,
              "ticks": ""
             }
            },
            "type": "scattercarpet"
           }
          ],
          "scattergeo": [
           {
            "marker": {
             "colorbar": {
              "outlinewidth": 0,
              "ticks": ""
             }
            },
            "type": "scattergeo"
           }
          ],
          "scattergl": [
           {
            "marker": {
             "colorbar": {
              "outlinewidth": 0,
              "ticks": ""
             }
            },
            "type": "scattergl"
           }
          ],
          "scattermap": [
           {
            "marker": {
             "colorbar": {
              "outlinewidth": 0,
              "ticks": ""
             }
            },
            "type": "scattermap"
           }
          ],
          "scattermapbox": [
           {
            "marker": {
             "colorbar": {
              "outlinewidth": 0,
              "ticks": ""
             }
            },
            "type": "scattermapbox"
           }
          ],
          "scatterpolar": [
           {
            "marker": {
             "colorbar": {
              "outlinewidth": 0,
              "ticks": ""
             }
            },
            "type": "scatterpolar"
           }
          ],
          "scatterpolargl": [
           {
            "marker": {
             "colorbar": {
              "outlinewidth": 0,
              "ticks": ""
             }
            },
            "type": "scatterpolargl"
           }
          ],
          "scatterternary": [
           {
            "marker": {
             "colorbar": {
              "outlinewidth": 0,
              "ticks": ""
             }
            },
            "type": "scatterternary"
           }
          ],
          "surface": [
           {
            "colorbar": {
             "outlinewidth": 0,
             "ticks": ""
            },
            "colorscale": [
             [
              0,
              "#0d0887"
             ],
             [
              0.1111111111111111,
              "#46039f"
             ],
             [
              0.2222222222222222,
              "#7201a8"
             ],
             [
              0.3333333333333333,
              "#9c179e"
             ],
             [
              0.4444444444444444,
              "#bd3786"
             ],
             [
              0.5555555555555556,
              "#d8576b"
             ],
             [
              0.6666666666666666,
              "#ed7953"
             ],
             [
              0.7777777777777778,
              "#fb9f3a"
             ],
             [
              0.8888888888888888,
              "#fdca26"
             ],
             [
              1,
              "#f0f921"
             ]
            ],
            "type": "surface"
           }
          ],
          "table": [
           {
            "cells": {
             "fill": {
              "color": "#EBF0F8"
             },
             "line": {
              "color": "white"
             }
            },
            "header": {
             "fill": {
              "color": "#C8D4E3"
             },
             "line": {
              "color": "white"
             }
            },
            "type": "table"
           }
          ]
         },
         "layout": {
          "annotationdefaults": {
           "arrowcolor": "#2a3f5f",
           "arrowhead": 0,
           "arrowwidth": 1
          },
          "autotypenumbers": "strict",
          "coloraxis": {
           "colorbar": {
            "outlinewidth": 0,
            "ticks": ""
           }
          },
          "colorscale": {
           "diverging": [
            [
             0,
             "#8e0152"
            ],
            [
             0.1,
             "#c51b7d"
            ],
            [
             0.2,
             "#de77ae"
            ],
            [
             0.3,
             "#f1b6da"
            ],
            [
             0.4,
             "#fde0ef"
            ],
            [
             0.5,
             "#f7f7f7"
            ],
            [
             0.6,
             "#e6f5d0"
            ],
            [
             0.7,
             "#b8e186"
            ],
            [
             0.8,
             "#7fbc41"
            ],
            [
             0.9,
             "#4d9221"
            ],
            [
             1,
             "#276419"
            ]
           ],
           "sequential": [
            [
             0,
             "#0d0887"
            ],
            [
             0.1111111111111111,
             "#46039f"
            ],
            [
             0.2222222222222222,
             "#7201a8"
            ],
            [
             0.3333333333333333,
             "#9c179e"
            ],
            [
             0.4444444444444444,
             "#bd3786"
            ],
            [
             0.5555555555555556,
             "#d8576b"
            ],
            [
             0.6666666666666666,
             "#ed7953"
            ],
            [
             0.7777777777777778,
             "#fb9f3a"
            ],
            [
             0.8888888888888888,
             "#fdca26"
            ],
            [
             1,
             "#f0f921"
            ]
           ],
           "sequentialminus": [
            [
             0,
             "#0d0887"
            ],
            [
             0.1111111111111111,
             "#46039f"
            ],
            [
             0.2222222222222222,
             "#7201a8"
            ],
            [
             0.3333333333333333,
             "#9c179e"
            ],
            [
             0.4444444444444444,
             "#bd3786"
            ],
            [
             0.5555555555555556,
             "#d8576b"
            ],
            [
             0.6666666666666666,
             "#ed7953"
            ],
            [
             0.7777777777777778,
             "#fb9f3a"
            ],
            [
             0.8888888888888888,
             "#fdca26"
            ],
            [
             1,
             "#f0f921"
            ]
           ]
          },
          "colorway": [
           "#636efa",
           "#EF553B",
           "#00cc96",
           "#ab63fa",
           "#FFA15A",
           "#19d3f3",
           "#FF6692",
           "#B6E880",
           "#FF97FF",
           "#FECB52"
          ],
          "font": {
           "color": "#2a3f5f"
          },
          "geo": {
           "bgcolor": "white",
           "lakecolor": "white",
           "landcolor": "#E5ECF6",
           "showlakes": true,
           "showland": true,
           "subunitcolor": "white"
          },
          "hoverlabel": {
           "align": "left"
          },
          "hovermode": "closest",
          "mapbox": {
           "style": "light"
          },
          "paper_bgcolor": "white",
          "plot_bgcolor": "#E5ECF6",
          "polar": {
           "angularaxis": {
            "gridcolor": "white",
            "linecolor": "white",
            "ticks": ""
           },
           "bgcolor": "#E5ECF6",
           "radialaxis": {
            "gridcolor": "white",
            "linecolor": "white",
            "ticks": ""
           }
          },
          "scene": {
           "xaxis": {
            "backgroundcolor": "#E5ECF6",
            "gridcolor": "white",
            "gridwidth": 2,
            "linecolor": "white",
            "showbackground": true,
            "ticks": "",
            "zerolinecolor": "white"
           },
           "yaxis": {
            "backgroundcolor": "#E5ECF6",
            "gridcolor": "white",
            "gridwidth": 2,
            "linecolor": "white",
            "showbackground": true,
            "ticks": "",
            "zerolinecolor": "white"
           },
           "zaxis": {
            "backgroundcolor": "#E5ECF6",
            "gridcolor": "white",
            "gridwidth": 2,
            "linecolor": "white",
            "showbackground": true,
            "ticks": "",
            "zerolinecolor": "white"
           }
          },
          "shapedefaults": {
           "line": {
            "color": "#2a3f5f"
           }
          },
          "ternary": {
           "aaxis": {
            "gridcolor": "white",
            "linecolor": "white",
            "ticks": ""
           },
           "baxis": {
            "gridcolor": "white",
            "linecolor": "white",
            "ticks": ""
           },
           "bgcolor": "#E5ECF6",
           "caxis": {
            "gridcolor": "white",
            "linecolor": "white",
            "ticks": ""
           }
          },
          "title": {
           "x": 0.05
          },
          "xaxis": {
           "automargin": true,
           "gridcolor": "white",
           "linecolor": "white",
           "ticks": "",
           "title": {
            "standoff": 15
           },
           "zerolinecolor": "white",
           "zerolinewidth": 2
          },
          "yaxis": {
           "automargin": true,
           "gridcolor": "white",
           "linecolor": "white",
           "ticks": "",
           "title": {
            "standoff": 15
           },
           "zerolinecolor": "white",
           "zerolinewidth": 2
          }
         }
        },
        "xaxis": {
         "anchor": "y",
         "domain": [
          0,
          1
         ],
         "title": {
          "text": "main_groups"
         }
        },
        "yaxis": {
         "anchor": "x",
         "domain": [
          0,
          1
         ],
         "title": {
          "text": "num_act"
         }
        }
       }
      }
     },
     "metadata": {},
     "output_type": "display_data"
    }
   ],
   "source": [
    "import plotly.express as px\n",
    "px.bar(\n",
    "    data_frame = clf_f3.groupby([\"main_groups\", \"tema\"])[\"activity_id\"].nunique().reset_index(name = \"num_act\"),\n",
    "    x = \"main_groups\",\n",
    "    y = \"num_act\",\n",
    "    color = \"tema\",\n",
    "    barmode = \"group\",\n",
    ")"
   ]
  },
  {
   "cell_type": "code",
   "execution_count": 57,
   "id": "98aea192",
   "metadata": {},
   "outputs": [],
   "source": [
    "clf_f3.to_csv(\"classified_v1.csv\")"
   ]
  }
 ],
 "metadata": {
  "kernelspec": {
   "display_name": ".venv",
   "language": "python",
   "name": "python3"
  },
  "language_info": {
   "codemirror_mode": {
    "name": "ipython",
    "version": 3
   },
   "file_extension": ".py",
   "mimetype": "text/x-python",
   "name": "python",
   "nbconvert_exporter": "python",
   "pygments_lexer": "ipython3",
   "version": "3.12.4"
  }
 },
 "nbformat": 4,
 "nbformat_minor": 5
}
